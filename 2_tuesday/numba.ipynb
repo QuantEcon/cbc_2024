{
 "cells": [
  {
   "cell_type": "markdown",
   "id": "e48df6cb",
   "metadata": {},
   "source": [
    "# Accelerating Python Code with Numba\n",
    "\n",
    "### Written for the CBC Workshop (May 2024)\n",
    "\n",
    "#### John Stachurski"
   ]
  },
  {
   "cell_type": "markdown",
   "id": "5a9ed5e4",
   "metadata": {},
   "source": [
    "In the lecture on NumPy we saw that vectorization via NumPy can help accelerate our code.\n",
    "\n",
    "But\n",
    "\n",
    "* Vectorization can be very memory intensive.\n",
    "* NumPy-style vectorization cannot fully exploit parallel hardware (precompiled NumPy binaries cannot optimize on array size or over hardware accelerators).\n",
    "* Some problems cannot be vectorized --- they need to be written in loops.\n",
    "\n",
    "This notebook contains a very quick introduction to an alternative method for accelerating code, via \n",
    "[Numba](https://numba.pydata.org/).\n",
    "\n",
    "We use the following imports:"
   ]
  },
  {
   "cell_type": "code",
   "execution_count": null,
   "id": "c632a3c8",
   "metadata": {},
   "outputs": [],
   "source": [
    "import numpy as np\n",
    "from numba import vectorize, jit, float64   \n",
    "import matplotlib.pyplot as plt"
   ]
  },
  {
   "cell_type": "markdown",
   "id": "a4746be1",
   "metadata": {},
   "source": [
    "## Example: Solow-Swan dynamics\n",
    "\n",
    "\n",
    "Here we look at one example of the last case and discuss how to accelerate it.\n",
    "\n",
    "### A loop in Python\n",
    "\n",
    "Let's suppose we are interested in the long-run behavior of capital stock in the stochasic\n",
    "Solow-Swan model\n",
    "\n",
    "$$\n",
    "    k_{t+1} = a_{t+1} s k_t^\\alpha + (1-\\delta)k_t \n",
    "$$\n",
    "\n",
    "where $(a_t)$ is IID and uniform.\n",
    "\n",
    "Here's some code to generate a short time series, plus a plot."
   ]
  },
  {
   "cell_type": "code",
   "execution_count": null,
   "id": "5084077c",
   "metadata": {},
   "outputs": [],
   "source": [
    "α, s, δ, a = 0.4, 0.3, 0.1, 1.0\n",
    "n = 120\n",
    "k =  np.empty(n)\n",
    "k[0] = 0.2\n",
    "for t in range(n-1):\n",
    "    k[t+1] = np.random.rand() * s * k[t]**α + (1 - δ) * k[t]\n",
    "    \n",
    "fig, ax = plt.subplots()\n",
    "ax.plot(k, 'o-', ms=2, lw=1)\n",
    "ax.set_xlabel('time')\n",
    "ax.set_ylabel('capital')\n",
    "plt.show()"
   ]
  },
  {
   "cell_type": "markdown",
   "id": "82910e58",
   "metadata": {},
   "source": [
    "Let's say that we want to compute long-run average capital stock."
   ]
  },
  {
   "cell_type": "code",
   "execution_count": null,
   "id": "c01b24dd",
   "metadata": {},
   "outputs": [],
   "source": [
    "def solow(n=10_000_000, α=0.4, s=0.3, δ=0.1, k0=0.2):\n",
    "    k = k0\n",
    "    k_sum = k0\n",
    "    for t in range(n):\n",
    "        a = np.random.rand()\n",
    "        k = a * s * k**α + (1 - δ) * k\n",
    "        k_sum += k\n",
    "    return k_sum / n\n",
    "\n",
    "%time k = solow()\n",
    "print(f\"Steady-state capital = {k}.\")"
   ]
  },
  {
   "cell_type": "markdown",
   "id": "0114f138",
   "metadata": {},
   "source": [
    "Steady-state capital:"
   ]
  },
  {
   "cell_type": "markdown",
   "id": "faa49b3b",
   "metadata": {},
   "source": [
    "Notice that the run-time is pretty slow.\n",
    "\n",
    "Also, we can't use NumPy to accelerate it because there's no way to vectorize the loop.\n",
    "\n",
    "Let's look at some alternatives."
   ]
  },
  {
   "cell_type": "markdown",
   "id": "01000906",
   "metadata": {},
   "source": [
    "### A Fortran version\n",
    "\n",
    "We can make it fast if we rewrite it in Fortran.\n",
    "\n",
    "To execute the following Fortran code on your machine, you need \n",
    "\n",
    "* a Fortran compiler (such as the open source `gfortran` compiler) and also\n",
    "* the `fortranmagic` Jupyter extension, which can be installed by uncommenting"
   ]
  },
  {
   "cell_type": "code",
   "execution_count": null,
   "id": "0d2418f5",
   "metadata": {},
   "outputs": [],
   "source": [
    "#!pip install fortran-magic"
   ]
  },
  {
   "cell_type": "markdown",
   "id": "4cf67de6",
   "metadata": {},
   "source": [
    "Now we load the extension (skip executing this and the rest of the section if you don't have a Fortran compiler)."
   ]
  },
  {
   "cell_type": "code",
   "execution_count": null,
   "id": "29eec533",
   "metadata": {},
   "outputs": [],
   "source": [
    "%load_ext fortranmagic"
   ]
  },
  {
   "cell_type": "markdown",
   "id": "0a38ff25",
   "metadata": {},
   "source": [
    "In the following code, all parameters are the same as for the Python code above."
   ]
  },
  {
   "cell_type": "markdown",
   "id": "96aabb6f",
   "metadata": {},
   "source": [
    "Now we add the cell magic ``%%fortran`` to a cell that contains a Fortran subroutine for the Solow-Swan computation:"
   ]
  },
  {
   "cell_type": "code",
   "execution_count": null,
   "id": "70d74b25",
   "metadata": {},
   "outputs": [],
   "source": [
    "%%fortran\n",
    "\n",
    "subroutine solow_fortran(k0, s, delta, alpha, n, kt)\n",
    " implicit none\n",
    " integer, parameter :: dp=kind(0.d0) \n",
    " integer, intent(in) :: n\n",
    " real(dp), intent(in) :: k0, s, delta, alpha\n",
    " real(dp), intent(out) :: kt\n",
    " real(dp) :: k, k_sum, a\n",
    " integer :: i\n",
    " k = k0\n",
    " k_sum = k0\n",
    " call random_seed\n",
    " do i = 1, n - 1      \n",
    "  call random_number(a)\n",
    "  k = a * s * k**alpha + (1 - delta) * k\n",
    "  k_sum = k_sum + k\n",
    " end do\n",
    " kt = k_sum / real(n)\n",
    "end subroutine solow_fortran "
   ]
  },
  {
   "cell_type": "markdown",
   "id": "0bcae5c7",
   "metadata": {},
   "source": [
    "Now we can call the function `solow_fortran` from Python.\n",
    "\n",
    "(`fortranmagic` uses a program called `F2Py` to create a Python \"wrapper\" for the Fortran subroutine so we can access it from within Python.)\n",
    "\n",
    "Let's make sure it gives a reasonable answer."
   ]
  },
  {
   "cell_type": "code",
   "execution_count": null,
   "id": "7d43e545",
   "metadata": {},
   "outputs": [],
   "source": [
    "n = 10_000_000\n",
    "solow_fortran(0.2, s, δ, α, n)"
   ]
  },
  {
   "cell_type": "markdown",
   "id": "b1b02941",
   "metadata": {},
   "source": [
    "Now let's time it:"
   ]
  },
  {
   "cell_type": "code",
   "execution_count": null,
   "id": "57caa6d8",
   "metadata": {},
   "outputs": [],
   "source": [
    "%time solow_fortran(0.2, s, δ, α, n)"
   ]
  },
  {
   "cell_type": "markdown",
   "id": "760a2e77",
   "metadata": {},
   "source": [
    "Let's time it more carefully, over multiple runs:"
   ]
  },
  {
   "cell_type": "code",
   "execution_count": null,
   "id": "7fe6089d",
   "metadata": {},
   "outputs": [],
   "source": [
    "%timeit solow_fortran(0.2, s, δ, α, n)"
   ]
  },
  {
   "cell_type": "markdown",
   "id": "3c031afb",
   "metadata": {},
   "source": [
    "The speed gain is about 1 order of magnitude."
   ]
  },
  {
   "cell_type": "markdown",
   "id": "48150587",
   "metadata": {},
   "source": [
    "## Numba\n",
    "\n",
    "Now let's try the same thing in Python using Numba's JIT compilation.\n",
    "\n",
    "We recall the Python function from above."
   ]
  },
  {
   "cell_type": "code",
   "execution_count": null,
   "id": "02d2c853",
   "metadata": {},
   "outputs": [],
   "source": [
    "def solow(n=10_000_000, α=0.4, s=0.3, δ=0.1, k0=0.2):\n",
    "    k = k_sum = k0\n",
    "    for t in range(n-1):\n",
    "        a = np.random.rand()\n",
    "        k = a * s * k**α + (1 - δ) * k\n",
    "        k_sum += k\n",
    "    return k_sum / n"
   ]
  },
  {
   "cell_type": "markdown",
   "id": "f16e60e7",
   "metadata": {},
   "source": [
    "Now let's flag it for JIT-compilation:"
   ]
  },
  {
   "cell_type": "code",
   "execution_count": null,
   "id": "f375ca29",
   "metadata": {},
   "outputs": [],
   "source": [
    "solow_jitted = jit(solow)"
   ]
  },
  {
   "cell_type": "markdown",
   "id": "48aa4bc4",
   "metadata": {},
   "source": [
    "And then run it:"
   ]
  },
  {
   "cell_type": "code",
   "execution_count": null,
   "id": "34eb4b7b",
   "metadata": {},
   "outputs": [],
   "source": [
    "%time k = solow_jitted()"
   ]
  },
  {
   "cell_type": "code",
   "execution_count": null,
   "id": "07593466",
   "metadata": {},
   "outputs": [],
   "source": [
    "%time k = solow_jitted()"
   ]
  },
  {
   "cell_type": "code",
   "execution_count": null,
   "id": "88fa9b3f",
   "metadata": {},
   "outputs": [],
   "source": [
    "%timeit k = solow_jitted()"
   ]
  },
  {
   "cell_type": "markdown",
   "id": "ed12ac1e",
   "metadata": {},
   "source": [
    "Hopefully we get a similar value (about 1.95):"
   ]
  },
  {
   "cell_type": "code",
   "execution_count": null,
   "id": "c969c509",
   "metadata": {},
   "outputs": [],
   "source": [
    "k"
   ]
  },
  {
   "cell_type": "markdown",
   "id": "042359ba",
   "metadata": {},
   "source": [
    "Here's the same thing using decorator notation."
   ]
  },
  {
   "cell_type": "code",
   "execution_count": null,
   "id": "926aba58",
   "metadata": {},
   "outputs": [],
   "source": [
    "@jit\n",
    "def solow(n=10_000_000, α=0.4, s=0.3, δ=0.1, k0=0.2):\n",
    "    k = k_sum = k0\n",
    "    for t in range(n-1):\n",
    "        a = np.random.rand()\n",
    "        k = a * s * k**α + (1 - δ) * k\n",
    "        k_sum += k\n",
    "    return k_sum / n"
   ]
  },
  {
   "cell_type": "code",
   "execution_count": null,
   "id": "c2327fb3",
   "metadata": {},
   "outputs": [],
   "source": [
    "%time k = solow()"
   ]
  },
  {
   "cell_type": "code",
   "execution_count": null,
   "id": "a68f2195",
   "metadata": {},
   "outputs": [],
   "source": [
    "%time k = solow()"
   ]
  },
  {
   "cell_type": "markdown",
   "id": "48ef67ce",
   "metadata": {},
   "source": [
    "After JIT compilation, function execution speed is about the same as Fortran."
   ]
  },
  {
   "cell_type": "markdown",
   "id": "22c67c4b",
   "metadata": {},
   "source": [
    "#### How does it work?"
   ]
  },
  {
   "cell_type": "markdown",
   "id": "18759c21",
   "metadata": {},
   "source": [
    "The secret sauce is type inference inside the function body.\n",
    "\n",
    "When we call `solow_jitted` with particular arguments, Numba's compiler works\n",
    "through the function body and infers the types of the variables inside the\n",
    "function.\n",
    "\n",
    "It then produces compiled code *specialized to that type signature*\n",
    "\n",
    "For example, we called `solow_jitted` with a `float, int` pair in the cell above and the compiler produced code specialized to those types.\n",
    "\n",
    "That code runs fast because the compiler can fully specialize all operations inside the function based on that information and hence write very efficient machine code."
   ]
  },
  {
   "cell_type": "markdown",
   "id": "987f14e9",
   "metadata": {},
   "source": [
    "#### Limitations of Numba\n",
    "\n",
    "Numba is great when it works but it can't compile functions that aren't\n",
    "themselves JIT compiled."
   ]
  },
  {
   "cell_type": "markdown",
   "id": "736fd84d",
   "metadata": {},
   "source": [
    "In practice, this means we can't use most third party libraries:"
   ]
  },
  {
   "cell_type": "code",
   "execution_count": null,
   "id": "b372d4e5",
   "metadata": {},
   "outputs": [],
   "source": [
    "from scipy.integrate import quad\n",
    "\n",
    "def compute_integral(n):\n",
    "    return quad(lambda x: x**(1/n), 0, 1)"
   ]
  },
  {
   "cell_type": "markdown",
   "id": "fa3ed434",
   "metadata": {},
   "source": [
    "This works fine if we don't jit the function."
   ]
  },
  {
   "cell_type": "code",
   "execution_count": null,
   "id": "bb159ba4",
   "metadata": {},
   "outputs": [],
   "source": [
    "compute_integral(4)"
   ]
  },
  {
   "cell_type": "markdown",
   "id": "bf0769f7",
   "metadata": {},
   "source": [
    "But if we do..."
   ]
  },
  {
   "cell_type": "code",
   "execution_count": null,
   "id": "c834f613",
   "metadata": {},
   "outputs": [],
   "source": [
    "@jit\n",
    "def compute_integral(n):\n",
    "    return quad(lambda x: x**(1/n), 0, 1)\n",
    "        "
   ]
  },
  {
   "cell_type": "code",
   "execution_count": null,
   "id": "f7cfc0b0",
   "metadata": {},
   "outputs": [],
   "source": [
    "compute_integral(4)"
   ]
  },
  {
   "cell_type": "markdown",
   "id": "fcf97a0a",
   "metadata": {},
   "source": [
    "The reason is that the `quad` function is from SciPy and Numba doesn't know how\n",
    "to handle it.\n",
    "\n",
    "Key message: even though it might not be possible to JIT-compile your whole\n",
    "program, you might well be able to compile the hot loops that are eating up 99%\n",
    "of your computation time.\n",
    "\n",
    "If you can do this, you open up large speed gains, as the following sections\n",
    "make clear."
   ]
  },
  {
   "cell_type": "markdown",
   "id": "c7546a74",
   "metadata": {},
   "source": [
    "### Vectorization vs Numba"
   ]
  },
  {
   "cell_type": "markdown",
   "id": "213b4d18",
   "metadata": {},
   "source": [
    "We made the point above that some problems are hard or impossible to vectorize and, in these situations, that we can use Numba instead of NumPy to accelerate our code.\n",
    "\n",
    "However, there are also many situations where we *can* vectorize our code but Numba is still the better option.\n",
    "\n",
    "Let's look at an example."
   ]
  },
  {
   "cell_type": "markdown",
   "id": "824334b1",
   "metadata": {},
   "source": [
    "The problem is to maximize the function \n",
    "\n",
    "$$ f(x, y) = \\frac{\\cos \\left(x^2 + y^2 \\right)}{1 + x^2 + y^2} + 1$$\n",
    "\n",
    "using brute force --- searching over a grid of $(x, y)$ pairs."
   ]
  },
  {
   "cell_type": "code",
   "execution_count": null,
   "id": "0946cb09",
   "metadata": {},
   "outputs": [],
   "source": [
    "def f(x, y):\n",
    "    return np.cos(x**2 + y**2) / (1 + x**2 + y**2) + 1"
   ]
  },
  {
   "cell_type": "code",
   "execution_count": null,
   "id": "daf66533",
   "metadata": {},
   "outputs": [],
   "source": [
    "from mpl_toolkits.mplot3d.axes3d import Axes3D\n",
    "from matplotlib import cm\n",
    "\n",
    "gridsize = 50\n",
    "gmin, gmax = -3, 3\n",
    "xgrid = np.linspace(gmin, gmax, gridsize)\n",
    "ygrid = xgrid\n",
    "x, y = np.meshgrid(xgrid, ygrid)\n",
    "\n",
    "# === plot value function === #\n",
    "fig = plt.figure(figsize=(10, 8))\n",
    "ax = fig.add_subplot(111, projection='3d')\n",
    "ax.plot_surface(x,\n",
    "                y,\n",
    "                f(x, y),\n",
    "                rstride=2, cstride=2,\n",
    "                cmap=cm.jet,\n",
    "                alpha=0.4,\n",
    "                linewidth=0.05)\n",
    "\n",
    "\n",
    "ax.scatter(x, y, c='k', s=0.6)\n",
    "\n",
    "ax.scatter(x, y, f(x, y), c='k', s=0.6)\n",
    "\n",
    "ax.view_init(25, -57)\n",
    "ax.set_zlim(-0, 2.0)\n",
    "ax.set_xlim(gmin, gmax)\n",
    "ax.set_ylim(gmin, gmax)\n",
    "\n",
    "plt.show()"
   ]
  },
  {
   "cell_type": "markdown",
   "id": "276f7e12",
   "metadata": {},
   "source": [
    "#### Vectorized code"
   ]
  },
  {
   "cell_type": "code",
   "execution_count": null,
   "id": "225aea56",
   "metadata": {},
   "outputs": [],
   "source": [
    "grid = np.linspace(-3, 3, 10_000)"
   ]
  },
  {
   "cell_type": "code",
   "execution_count": null,
   "id": "c7864ac7",
   "metadata": {},
   "outputs": [],
   "source": [
    "x, y = np.meshgrid(grid, grid)"
   ]
  },
  {
   "cell_type": "code",
   "execution_count": null,
   "id": "46e16e1f",
   "metadata": {
    "nbpresent": {
     "id": "1ba9f9f9-f737-4ee1-86e6-0a33c4752188"
    }
   },
   "outputs": [],
   "source": [
    "%%time\n",
    "np.max(f(x, y))"
   ]
  },
  {
   "cell_type": "markdown",
   "id": "e7c8a47a",
   "metadata": {},
   "source": [
    "#### JITTed code"
   ]
  },
  {
   "cell_type": "markdown",
   "id": "16bc5a5a",
   "metadata": {},
   "source": [
    "A jitted version -- note the speed gain."
   ]
  },
  {
   "cell_type": "code",
   "execution_count": null,
   "id": "1dc11b1a",
   "metadata": {},
   "outputs": [],
   "source": [
    "@jit\n",
    "def compute_max():\n",
    "    m = -np.inf\n",
    "    for x in grid:\n",
    "        for y in grid:\n",
    "            z = np.cos(x**2 + y**2) / (1 + x**2 + y**2) + 1\n",
    "            if z > m:\n",
    "                m = z\n",
    "    return m"
   ]
  },
  {
   "cell_type": "code",
   "execution_count": null,
   "id": "ba41e7a1",
   "metadata": {},
   "outputs": [],
   "source": [
    "%%time\n",
    "compute_max()"
   ]
  },
  {
   "cell_type": "code",
   "execution_count": null,
   "id": "07156bcd",
   "metadata": {},
   "outputs": [],
   "source": [
    "%%time\n",
    "compute_max()"
   ]
  },
  {
   "cell_type": "markdown",
   "id": "d305be76",
   "metadata": {},
   "source": [
    "#### JITTed, parallelized code: @vectorize\n",
    "\n",
    "\n",
    "Numba for vectorization with automatic parallization - even faster:"
   ]
  },
  {
   "cell_type": "code",
   "execution_count": null,
   "id": "75c393e2",
   "metadata": {
    "nbpresent": {
     "id": "e443f7ad-f26e-4148-983e-83a5f6a2214e"
    }
   },
   "outputs": [],
   "source": [
    "signature = 'float64(float64, float64)'  # A function sending (float, float) into float\n",
    "\n",
    "@vectorize(signature, target='parallel')\n",
    "def f_par(x, y):\n",
    "    return np.cos(x**2 + y**2) / (1 + x**2 + y**2) + 1"
   ]
  },
  {
   "cell_type": "code",
   "execution_count": null,
   "id": "ea5329dc",
   "metadata": {},
   "outputs": [],
   "source": [
    "x, y = np.meshgrid(grid, grid)\n",
    "\n",
    "np.max(f_par(x, y))"
   ]
  },
  {
   "cell_type": "code",
   "execution_count": null,
   "id": "85dc5cd0",
   "metadata": {},
   "outputs": [],
   "source": [
    "%%time\n",
    "np.max(f_par(x, y))"
   ]
  },
  {
   "cell_type": "code",
   "execution_count": null,
   "id": "42bdb56c",
   "metadata": {},
   "outputs": [],
   "source": [
    "%%time\n",
    "np.max(f_par(x, y))"
   ]
  },
  {
   "cell_type": "code",
   "execution_count": null,
   "id": "ccd07946",
   "metadata": {},
   "outputs": [],
   "source": []
  },
  {
   "cell_type": "code",
   "execution_count": null,
   "id": "c76d07ec",
   "metadata": {},
   "outputs": [],
   "source": []
  }
 ],
 "metadata": {
  "kernelspec": {
   "display_name": "Python 3 (ipykernel)",
   "language": "python",
   "name": "python3"
  }
 },
 "nbformat": 4,
 "nbformat_minor": 5
}
