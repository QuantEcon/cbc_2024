{
 "cells": [
  {
   "cell_type": "markdown",
   "id": "566fcc2b",
   "metadata": {},
   "source": [
    "# Vectorization and Array Operations with NumPy\n",
    "\n",
    "-----\n",
    "#### Written for the CBC Workshop (May 2024)\n",
    "\n",
    "#### John Stachurski\n",
    "-----"
   ]
  },
  {
   "cell_type": "markdown",
   "id": "c5baa157",
   "metadata": {},
   "source": [
    "[NumPy](https://numpy.org/) is the standard library for numerical array operations in Python."
   ]
  },
  {
   "cell_type": "markdown",
   "id": "d8f8ddda",
   "metadata": {},
   "source": [
    "This notebook contains a very quick introduction to NumPy.\n",
    "\n",
    "(Although the syntax and some reference concepts differ, the basic framework is similar to Matlab.)\n",
    "\n",
    "We use the following imports"
   ]
  },
  {
   "cell_type": "code",
   "execution_count": 1,
   "id": "b3841d65",
   "metadata": {},
   "outputs": [],
   "source": [
    "import numpy as np\n",
    "import matplotlib.pyplot as plt"
   ]
  },
  {
   "cell_type": "markdown",
   "id": "614c2c5c",
   "metadata": {},
   "source": [
    "## NumPy arrays\n",
    "\n",
    "Let's review the basics of NumPy arrays.\n",
    "\n",
    "### Creating arrays\n",
    "\n",
    "Here are a few ways to create arrays:"
   ]
  },
  {
   "cell_type": "code",
   "execution_count": 4,
   "id": "09c3233d-3fc6-4684-915a-8b00ede03144",
   "metadata": {},
   "outputs": [
    {
     "data": {
      "text/plain": [
       "tuple"
      ]
     },
     "execution_count": 4,
     "metadata": {},
     "output_type": "execute_result"
    }
   ],
   "source": [
    "a = (10.0, 20.0)   # Let's start with a native Python tuple\n",
    "type(a)"
   ]
  },
  {
   "cell_type": "code",
   "execution_count": 5,
   "id": "bf51ab42-7eb6-40c1-ba95-1dc4b5bdc94b",
   "metadata": {},
   "outputs": [
    {
     "data": {
      "text/plain": [
       "numpy.ndarray"
      ]
     },
     "execution_count": 5,
     "metadata": {},
     "output_type": "execute_result"
    }
   ],
   "source": [
    "a = np.array(a)   # Create a NumPy array from Python tuple\n",
    "type(a)"
   ]
  },
  {
   "cell_type": "code",
   "execution_count": 7,
   "id": "8771e2cd",
   "metadata": {},
   "outputs": [
    {
     "data": {
      "text/plain": [
       "array([10., 20.])"
      ]
     },
     "execution_count": 7,
     "metadata": {},
     "output_type": "execute_result"
    }
   ],
   "source": [
    "a = np.array((10, 20), dtype='float64')  # Specify data type \n",
    "a"
   ]
  },
  {
   "cell_type": "code",
   "execution_count": 8,
   "id": "25831a80",
   "metadata": {},
   "outputs": [
    {
     "data": {
      "text/plain": [
       "array([ 0. ,  2.5,  5. ,  7.5, 10. ])"
      ]
     },
     "execution_count": 8,
     "metadata": {},
     "output_type": "execute_result"
    }
   ],
   "source": [
    "a = np.linspace(0, 10, 5)\n",
    "a"
   ]
  },
  {
   "cell_type": "code",
   "execution_count": 9,
   "id": "1347c475",
   "metadata": {},
   "outputs": [
    {
     "data": {
      "text/plain": [
       "array([1., 1., 1.])"
      ]
     },
     "execution_count": 9,
     "metadata": {},
     "output_type": "execute_result"
    }
   ],
   "source": [
    "a = np.ones(3)\n",
    "a"
   ]
  },
  {
   "cell_type": "code",
   "execution_count": 10,
   "id": "5713628b",
   "metadata": {},
   "outputs": [
    {
     "data": {
      "text/plain": [
       "array([0., 0., 0.])"
      ]
     },
     "execution_count": 10,
     "metadata": {},
     "output_type": "execute_result"
    }
   ],
   "source": [
    "a = np.zeros(3)\n",
    "a"
   ]
  },
  {
   "cell_type": "code",
   "execution_count": 11,
   "id": "c32ccaa2",
   "metadata": {},
   "outputs": [
    {
     "data": {
      "text/plain": [
       "array([0.86544028, 0.43743189, 0.23293253, 0.27260297])"
      ]
     },
     "execution_count": 11,
     "metadata": {},
     "output_type": "execute_result"
    }
   ],
   "source": [
    "a = np.random.randn(4)\n",
    "a"
   ]
  },
  {
   "cell_type": "code",
   "execution_count": 12,
   "id": "8c73cd73",
   "metadata": {},
   "outputs": [
    {
     "data": {
      "text/plain": [
       "array([[ 1.66311339, -1.12944551],\n",
       "       [ 0.44847964,  0.95503339]])"
      ]
     },
     "execution_count": 12,
     "metadata": {},
     "output_type": "execute_result"
    }
   ],
   "source": [
    "a = np.random.randn(2, 2)\n",
    "a"
   ]
  },
  {
   "cell_type": "code",
   "execution_count": 13,
   "id": "d921da45",
   "metadata": {},
   "outputs": [
    {
     "data": {
      "text/plain": [
       "array([[0., 0.],\n",
       "       [0., 0.]])"
      ]
     },
     "execution_count": 13,
     "metadata": {},
     "output_type": "execute_result"
    }
   ],
   "source": [
    "b = np.zeros_like(a)\n",
    "b"
   ]
  },
  {
   "cell_type": "code",
   "execution_count": 15,
   "id": "57c553ea-ca4b-4b45-b7e5-2d5dc35af7dd",
   "metadata": {},
   "outputs": [
    {
     "data": {
      "text/plain": [
       "array([[ 1.66311339, -1.12944551],\n",
       "       [ 0.44847964,  0.95503339]])"
      ]
     },
     "execution_count": 15,
     "metadata": {},
     "output_type": "execute_result"
    }
   ],
   "source": [
    "c = np.empty_like(a)\n",
    "c"
   ]
  },
  {
   "cell_type": "markdown",
   "id": "92e5c51f",
   "metadata": {},
   "source": [
    "### Reshaping"
   ]
  },
  {
   "cell_type": "code",
   "execution_count": 18,
   "id": "6e70712d",
   "metadata": {},
   "outputs": [
    {
     "data": {
      "text/plain": [
       "array([[ 0.17583754, -0.03386183],\n",
       "       [ 0.39340515,  0.2191531 ]])"
      ]
     },
     "execution_count": 18,
     "metadata": {},
     "output_type": "execute_result"
    }
   ],
   "source": [
    "a = np.random.randn(2, 2)\n",
    "a"
   ]
  },
  {
   "cell_type": "code",
   "execution_count": 19,
   "id": "74f37eb5",
   "metadata": {},
   "outputs": [
    {
     "data": {
      "text/plain": [
       "(2, 2)"
      ]
     },
     "execution_count": 19,
     "metadata": {},
     "output_type": "execute_result"
    }
   ],
   "source": [
    "a.shape"
   ]
  },
  {
   "cell_type": "code",
   "execution_count": 20,
   "id": "bdf1e63a",
   "metadata": {},
   "outputs": [
    {
     "data": {
      "text/plain": [
       "array([[ 0.17583754, -0.03386183,  0.39340515,  0.2191531 ]])"
      ]
     },
     "execution_count": 20,
     "metadata": {},
     "output_type": "execute_result"
    }
   ],
   "source": [
    "np.reshape(a, (1, 4))"
   ]
  },
  {
   "cell_type": "code",
   "execution_count": 21,
   "id": "1ef8a9a2",
   "metadata": {},
   "outputs": [
    {
     "data": {
      "text/plain": [
       "array([[ 0.17583754],\n",
       "       [-0.03386183],\n",
       "       [ 0.39340515],\n",
       "       [ 0.2191531 ]])"
      ]
     },
     "execution_count": 21,
     "metadata": {},
     "output_type": "execute_result"
    }
   ],
   "source": [
    "np.reshape(a, (4, 1))"
   ]
  },
  {
   "cell_type": "markdown",
   "id": "79809549",
   "metadata": {},
   "source": [
    "### Array operations"
   ]
  },
  {
   "cell_type": "markdown",
   "id": "76621218",
   "metadata": {},
   "source": [
    "Standard arithmetic operators are pointwise:"
   ]
  },
  {
   "cell_type": "code",
   "execution_count": 22,
   "id": "22b420a9",
   "metadata": {},
   "outputs": [
    {
     "data": {
      "text/plain": [
       "array([[ 0.17583754, -0.03386183],\n",
       "       [ 0.39340515,  0.2191531 ]])"
      ]
     },
     "execution_count": 22,
     "metadata": {},
     "output_type": "execute_result"
    }
   ],
   "source": [
    "a"
   ]
  },
  {
   "cell_type": "code",
   "execution_count": 23,
   "id": "f21452dc",
   "metadata": {},
   "outputs": [
    {
     "data": {
      "text/plain": [
       "array([[0., 0.],\n",
       "       [0., 0.]])"
      ]
     },
     "execution_count": 23,
     "metadata": {},
     "output_type": "execute_result"
    }
   ],
   "source": [
    "b"
   ]
  },
  {
   "cell_type": "code",
   "execution_count": 24,
   "id": "6df4527a",
   "metadata": {},
   "outputs": [
    {
     "data": {
      "text/plain": [
       "array([[ 0.17583754, -0.03386183],\n",
       "       [ 0.39340515,  0.2191531 ]])"
      ]
     },
     "execution_count": 24,
     "metadata": {},
     "output_type": "execute_result"
    }
   ],
   "source": [
    "a + b"
   ]
  },
  {
   "cell_type": "code",
   "execution_count": 25,
   "id": "29d1dcf0",
   "metadata": {},
   "outputs": [
    {
     "data": {
      "text/plain": [
       "array([[ 0., -0.],\n",
       "       [ 0.,  0.]])"
      ]
     },
     "execution_count": 25,
     "metadata": {},
     "output_type": "execute_result"
    }
   ],
   "source": [
    "a * b  # pointwise multiplication"
   ]
  },
  {
   "cell_type": "code",
   "execution_count": 26,
   "id": "5b3db513-f722-4cee-826d-2065d418bc90",
   "metadata": {},
   "outputs": [
    {
     "data": {
      "text/plain": [
       "array([[1., 1.],\n",
       "       [1., 1.]])"
      ]
     },
     "execution_count": 26,
     "metadata": {},
     "output_type": "execute_result"
    }
   ],
   "source": [
    "a**b"
   ]
  },
  {
   "cell_type": "markdown",
   "id": "f05c9e93",
   "metadata": {},
   "source": [
    "### Matrix multiplication"
   ]
  },
  {
   "cell_type": "code",
   "execution_count": 27,
   "id": "1e00354e",
   "metadata": {},
   "outputs": [
    {
     "data": {
      "text/plain": [
       "array([[0., 0.],\n",
       "       [0., 0.]])"
      ]
     },
     "execution_count": 27,
     "metadata": {},
     "output_type": "execute_result"
    }
   ],
   "source": [
    "a @ b  "
   ]
  },
  {
   "cell_type": "code",
   "execution_count": 28,
   "id": "d7c3d3b6",
   "metadata": {},
   "outputs": [
    {
     "data": {
      "text/plain": [
       "0.0"
      ]
     },
     "execution_count": 28,
     "metadata": {},
     "output_type": "execute_result"
    }
   ],
   "source": [
    "np.ones(3) @ np.zeros(3)  # inner product"
   ]
  },
  {
   "cell_type": "markdown",
   "id": "516779ee",
   "metadata": {},
   "source": [
    "### Reductions"
   ]
  },
  {
   "cell_type": "markdown",
   "id": "2bbe69e7",
   "metadata": {},
   "source": [
    "There are various functions for acting on arrays, such as"
   ]
  },
  {
   "cell_type": "code",
   "execution_count": 29,
   "id": "ef6bf0cd",
   "metadata": {},
   "outputs": [
    {
     "data": {
      "text/plain": [
       "0.1886334898422808"
      ]
     },
     "execution_count": 29,
     "metadata": {},
     "output_type": "execute_result"
    }
   ],
   "source": [
    "np.mean(a)"
   ]
  },
  {
   "cell_type": "code",
   "execution_count": 30,
   "id": "e3656af0",
   "metadata": {},
   "outputs": [
    {
     "data": {
      "text/plain": [
       "0.7545339593691232"
      ]
     },
     "execution_count": 30,
     "metadata": {},
     "output_type": "execute_result"
    }
   ],
   "source": [
    "np.sum(a)"
   ]
  },
  {
   "cell_type": "markdown",
   "id": "d73425a1",
   "metadata": {},
   "source": [
    "These operations have an equivalent OOP syntax, as in"
   ]
  },
  {
   "cell_type": "code",
   "execution_count": 31,
   "id": "1e4eac15",
   "metadata": {},
   "outputs": [
    {
     "data": {
      "text/plain": [
       "0.1886334898422808"
      ]
     },
     "execution_count": 31,
     "metadata": {},
     "output_type": "execute_result"
    }
   ],
   "source": [
    "a.mean()"
   ]
  },
  {
   "cell_type": "code",
   "execution_count": 32,
   "id": "ca831787",
   "metadata": {},
   "outputs": [
    {
     "data": {
      "text/plain": [
       "0.7545339593691232"
      ]
     },
     "execution_count": 32,
     "metadata": {},
     "output_type": "execute_result"
    }
   ],
   "source": [
    "a.sum()"
   ]
  },
  {
   "cell_type": "markdown",
   "id": "b4d93786",
   "metadata": {},
   "source": [
    "These operations also work on higher-dimensional arrays:"
   ]
  },
  {
   "cell_type": "code",
   "execution_count": 33,
   "id": "ae69147d",
   "metadata": {},
   "outputs": [
    {
     "data": {
      "text/plain": [
       "array([[0., 1.],\n",
       "       [2., 3.]])"
      ]
     },
     "execution_count": 33,
     "metadata": {},
     "output_type": "execute_result"
    }
   ],
   "source": [
    "a = np.linspace(0, 3, 4).reshape(2, 2)\n",
    "a"
   ]
  },
  {
   "cell_type": "code",
   "execution_count": 34,
   "id": "9517a75d",
   "metadata": {},
   "outputs": [
    {
     "data": {
      "text/plain": [
       "array([2., 4.])"
      ]
     },
     "execution_count": 34,
     "metadata": {},
     "output_type": "execute_result"
    }
   ],
   "source": [
    "a.sum(axis=0)  # sum columns"
   ]
  },
  {
   "cell_type": "code",
   "execution_count": 35,
   "id": "8d7e550f",
   "metadata": {},
   "outputs": [
    {
     "data": {
      "text/plain": [
       "array([1., 5.])"
      ]
     },
     "execution_count": 35,
     "metadata": {},
     "output_type": "execute_result"
    }
   ],
   "source": [
    "a.sum(axis=1)  # sum rows"
   ]
  },
  {
   "cell_type": "markdown",
   "id": "debf17dd",
   "metadata": {},
   "source": [
    "### Broadcasting"
   ]
  },
  {
   "cell_type": "markdown",
   "id": "7f791c66",
   "metadata": {},
   "source": [
    "When possible, arrays are \"streched\" across missing dimensions to perform array operations.\n",
    "\n",
    "For example,"
   ]
  },
  {
   "cell_type": "code",
   "execution_count": 36,
   "id": "8824d641",
   "metadata": {},
   "outputs": [
    {
     "data": {
      "text/plain": [
       "array([[0., 0., 0.],\n",
       "       [0., 0., 0.],\n",
       "       [0., 0., 0.]])"
      ]
     },
     "execution_count": 36,
     "metadata": {},
     "output_type": "execute_result"
    }
   ],
   "source": [
    "a = np.zeros((3, 3))\n",
    "a"
   ]
  },
  {
   "cell_type": "code",
   "execution_count": 37,
   "id": "f3db7ef6",
   "metadata": {},
   "outputs": [
    {
     "data": {
      "text/plain": [
       "array([[1., 2., 3.]])"
      ]
     },
     "execution_count": 37,
     "metadata": {},
     "output_type": "execute_result"
    }
   ],
   "source": [
    "b = np.array((1.0, 2.0, 3.0))\n",
    "b = np.reshape(b, (1, 3))\n",
    "b"
   ]
  },
  {
   "cell_type": "code",
   "execution_count": 38,
   "id": "c8aaf498",
   "metadata": {},
   "outputs": [
    {
     "data": {
      "text/plain": [
       "array([[1., 2., 3.],\n",
       "       [1., 2., 3.],\n",
       "       [1., 2., 3.]])"
      ]
     },
     "execution_count": 38,
     "metadata": {},
     "output_type": "execute_result"
    }
   ],
   "source": [
    "a + b"
   ]
  },
  {
   "cell_type": "code",
   "execution_count": 39,
   "id": "ee8cb53e",
   "metadata": {},
   "outputs": [
    {
     "data": {
      "text/plain": [
       "array([[1.],\n",
       "       [2.],\n",
       "       [3.]])"
      ]
     },
     "execution_count": 39,
     "metadata": {},
     "output_type": "execute_result"
    }
   ],
   "source": [
    "b = np.reshape(b, (3, 1))\n",
    "b"
   ]
  },
  {
   "cell_type": "code",
   "execution_count": 40,
   "id": "68ce456a",
   "metadata": {},
   "outputs": [
    {
     "data": {
      "text/plain": [
       "array([[1., 1., 1.],\n",
       "       [2., 2., 2.],\n",
       "       [3., 3., 3.]])"
      ]
     },
     "execution_count": 40,
     "metadata": {},
     "output_type": "execute_result"
    }
   ],
   "source": [
    "a + b"
   ]
  },
  {
   "cell_type": "markdown",
   "id": "e74d516a",
   "metadata": {},
   "source": [
    "For more on broadcasting see [this tutorial](https://jakevdp.github.io/PythonDataScienceHandbook/02.05-computation-on-arrays-broadcasting.html)."
   ]
  },
  {
   "cell_type": "markdown",
   "id": "4e8c8b00",
   "metadata": {},
   "source": [
    "### Ufuncs"
   ]
  },
  {
   "cell_type": "markdown",
   "id": "6cd6a5cb",
   "metadata": {},
   "source": [
    "Many NumPy functions can act on either scalars or arrays.\n",
    "\n",
    "When they act on arrays, they act pointwise (element-by-element).\n",
    "\n",
    "These kinds of functions are called **universal functions** or **ufuncs**."
   ]
  },
  {
   "cell_type": "code",
   "execution_count": 41,
   "id": "7d7e04f5",
   "metadata": {},
   "outputs": [
    {
     "data": {
      "text/plain": [
       "-1.0"
      ]
     },
     "execution_count": 41,
     "metadata": {},
     "output_type": "execute_result"
    }
   ],
   "source": [
    "np.cos(np.pi)"
   ]
  },
  {
   "cell_type": "code",
   "execution_count": 42,
   "id": "563347b9",
   "metadata": {},
   "outputs": [
    {
     "data": {
      "text/plain": [
       "array([[3.14159265, 0.        , 3.14159265],\n",
       "       [0.        , 3.14159265, 0.        ]])"
      ]
     },
     "execution_count": 42,
     "metadata": {},
     "output_type": "execute_result"
    }
   ],
   "source": [
    "a = np.random.choice((0, np.pi), 6).reshape(2, 3)\n",
    "a"
   ]
  },
  {
   "cell_type": "code",
   "execution_count": 43,
   "id": "d7d2bb57",
   "metadata": {},
   "outputs": [
    {
     "data": {
      "text/plain": [
       "array([[-1.,  1., -1.],\n",
       "       [ 1., -1.,  1.]])"
      ]
     },
     "execution_count": 43,
     "metadata": {},
     "output_type": "execute_result"
    }
   ],
   "source": [
    "np.cos(a)"
   ]
  },
  {
   "cell_type": "markdown",
   "id": "af0e654f",
   "metadata": {},
   "source": [
    "Some user-defined functions will be ufuncs, such as"
   ]
  },
  {
   "cell_type": "code",
   "execution_count": 44,
   "id": "14c91338",
   "metadata": {},
   "outputs": [],
   "source": [
    "def f(x):\n",
    "    return np.cos(np.sin(x))"
   ]
  },
  {
   "cell_type": "code",
   "execution_count": 45,
   "id": "de977d50",
   "metadata": {},
   "outputs": [
    {
     "data": {
      "text/plain": [
       "array([[1., 1., 1.],\n",
       "       [1., 1., 1.]])"
      ]
     },
     "execution_count": 45,
     "metadata": {},
     "output_type": "execute_result"
    }
   ],
   "source": [
    "f(a)"
   ]
  },
  {
   "cell_type": "markdown",
   "id": "2618fd23",
   "metadata": {},
   "source": [
    "But some are not:"
   ]
  },
  {
   "cell_type": "code",
   "execution_count": 46,
   "id": "aa306803",
   "metadata": {},
   "outputs": [],
   "source": [
    "def f(x):\n",
    "    if x < 0:\n",
    "        return np.cos(x)\n",
    "    else:\n",
    "        return np.sin(x)"
   ]
  },
  {
   "cell_type": "code",
   "execution_count": 47,
   "id": "9cf1ab19",
   "metadata": {},
   "outputs": [
    {
     "ename": "ValueError",
     "evalue": "The truth value of an array with more than one element is ambiguous. Use a.any() or a.all()",
     "output_type": "error",
     "traceback": [
      "\u001b[0;31m---------------------------------------------------------------------------\u001b[0m",
      "\u001b[0;31mValueError\u001b[0m                                Traceback (most recent call last)",
      "Cell \u001b[0;32mIn[47], line 1\u001b[0m\n\u001b[0;32m----> 1\u001b[0m f(a)\n",
      "Cell \u001b[0;32mIn[46], line 2\u001b[0m, in \u001b[0;36mf\u001b[0;34m(x)\u001b[0m\n\u001b[1;32m      1\u001b[0m \u001b[38;5;28;01mdef\u001b[39;00m \u001b[38;5;21mf\u001b[39m(x):\n\u001b[0;32m----> 2\u001b[0m     \u001b[38;5;28;01mif\u001b[39;00m x \u001b[38;5;241m<\u001b[39m \u001b[38;5;241m0\u001b[39m:\n\u001b[1;32m      3\u001b[0m         \u001b[38;5;28;01mreturn\u001b[39;00m np\u001b[38;5;241m.\u001b[39mcos(x)\n\u001b[1;32m      4\u001b[0m     \u001b[38;5;28;01melse\u001b[39;00m:\n",
      "\u001b[0;31mValueError\u001b[0m: The truth value of an array with more than one element is ambiguous. Use a.any() or a.all()"
     ]
    }
   ],
   "source": [
    "f(a)"
   ]
  },
  {
   "cell_type": "markdown",
   "id": "9bb8bafb",
   "metadata": {},
   "source": [
    "If we want to turn this into a vectorized function we can use `np.vectorize`"
   ]
  },
  {
   "cell_type": "code",
   "execution_count": 48,
   "id": "aeb7b79c",
   "metadata": {},
   "outputs": [],
   "source": [
    "f_vec = np.vectorize(f)"
   ]
  },
  {
   "cell_type": "markdown",
   "id": "18f3791b",
   "metadata": {},
   "source": [
    "Let's test it, and also time it."
   ]
  },
  {
   "cell_type": "code",
   "execution_count": 49,
   "id": "ba5c89d5",
   "metadata": {},
   "outputs": [
    {
     "name": "stdout",
     "output_type": "stream",
     "text": [
      "CPU times: user 5.05 s, sys: 220 ms, total: 5.27 s\n",
      "Wall time: 5.28 s\n"
     ]
    },
    {
     "data": {
      "text/plain": [
       "array([0.00000000e+00, 1.00000010e-07, 2.00000020e-07, ...,\n",
       "       8.41470877e-01, 8.41470931e-01, 8.41470985e-01])"
      ]
     },
     "execution_count": 49,
     "metadata": {},
     "output_type": "execute_result"
    }
   ],
   "source": [
    "a = np.linspace(0, 1, 10_000_000)\n",
    "%time f_vec(a)"
   ]
  },
  {
   "cell_type": "markdown",
   "id": "93fe3e31",
   "metadata": {},
   "source": [
    "This is pretty slow.\n",
    "\n",
    "Here's a version of `f` that uses NumPy functions to create a more efficient ufunc."
   ]
  },
  {
   "cell_type": "code",
   "execution_count": 50,
   "id": "e4f4d392",
   "metadata": {},
   "outputs": [],
   "source": [
    "def f(x):\n",
    "    return np.where(x < 0, np.cos(x), np.sin(x))"
   ]
  },
  {
   "cell_type": "code",
   "execution_count": 51,
   "id": "e1c39868",
   "metadata": {},
   "outputs": [
    {
     "name": "stdout",
     "output_type": "stream",
     "text": [
      "CPU times: user 98.5 ms, sys: 29.1 ms, total: 128 ms\n",
      "Wall time: 126 ms\n"
     ]
    },
    {
     "data": {
      "text/plain": [
       "array([0.00000000e+00, 1.00000010e-07, 2.00000020e-07, ...,\n",
       "       8.41470877e-01, 8.41470931e-01, 8.41470985e-01])"
      ]
     },
     "execution_count": 51,
     "metadata": {},
     "output_type": "execute_result"
    }
   ],
   "source": [
    "%time f(a)"
   ]
  },
  {
   "cell_type": "markdown",
   "id": "b4d4a249",
   "metadata": {},
   "source": [
    "Moral of the story: Don't use `np.vectorize` unless you have to.\n",
    "\n",
    "(There are good alternatives, which we will discuss soon.)"
   ]
  },
  {
   "cell_type": "markdown",
   "id": "aef06ea2",
   "metadata": {},
   "source": [
    "### Mutability"
   ]
  },
  {
   "cell_type": "markdown",
   "id": "99365939",
   "metadata": {},
   "source": [
    "NumPy arrays are mutable (can be altered in memory)."
   ]
  },
  {
   "cell_type": "code",
   "execution_count": 52,
   "id": "83259869",
   "metadata": {},
   "outputs": [
    {
     "data": {
      "text/plain": [
       "array([10., 20.])"
      ]
     },
     "execution_count": 52,
     "metadata": {},
     "output_type": "execute_result"
    }
   ],
   "source": [
    "a = np.array((10.0, 20.0))\n",
    "a"
   ]
  },
  {
   "cell_type": "code",
   "execution_count": 53,
   "id": "eb115412",
   "metadata": {},
   "outputs": [],
   "source": [
    "a[0] = 1"
   ]
  },
  {
   "cell_type": "code",
   "execution_count": 54,
   "id": "8c2c01c0",
   "metadata": {},
   "outputs": [
    {
     "data": {
      "text/plain": [
       "array([ 1., 20.])"
      ]
     },
     "execution_count": 54,
     "metadata": {},
     "output_type": "execute_result"
    }
   ],
   "source": [
    "a"
   ]
  },
  {
   "cell_type": "code",
   "execution_count": 55,
   "id": "aa706812",
   "metadata": {},
   "outputs": [],
   "source": [
    "a[:] = 42"
   ]
  },
  {
   "cell_type": "code",
   "execution_count": 56,
   "id": "2f962f07",
   "metadata": {},
   "outputs": [
    {
     "data": {
      "text/plain": [
       "array([42., 42.])"
      ]
     },
     "execution_count": 56,
     "metadata": {},
     "output_type": "execute_result"
    }
   ],
   "source": [
    "a"
   ]
  },
  {
   "cell_type": "markdown",
   "id": "0c942f58",
   "metadata": {},
   "source": [
    "**All names** bound to an array have equal rights."
   ]
  },
  {
   "cell_type": "code",
   "execution_count": 57,
   "id": "5c149c7f",
   "metadata": {},
   "outputs": [
    {
     "data": {
      "text/plain": [
       "array([42., 42.])"
      ]
     },
     "execution_count": 57,
     "metadata": {},
     "output_type": "execute_result"
    }
   ],
   "source": [
    "a"
   ]
  },
  {
   "cell_type": "code",
   "execution_count": 58,
   "id": "ccae5c15",
   "metadata": {},
   "outputs": [],
   "source": [
    "b = a  # bind the name b to the same array object"
   ]
  },
  {
   "cell_type": "code",
   "execution_count": 59,
   "id": "738cd84a",
   "metadata": {},
   "outputs": [
    {
     "data": {
      "text/plain": [
       "134434427105808"
      ]
     },
     "execution_count": 59,
     "metadata": {},
     "output_type": "execute_result"
    }
   ],
   "source": [
    "id(a)"
   ]
  },
  {
   "cell_type": "code",
   "execution_count": 60,
   "id": "1dac57f3",
   "metadata": {},
   "outputs": [
    {
     "data": {
      "text/plain": [
       "134434427105808"
      ]
     },
     "execution_count": 60,
     "metadata": {},
     "output_type": "execute_result"
    }
   ],
   "source": [
    "id(b)"
   ]
  },
  {
   "cell_type": "code",
   "execution_count": 61,
   "id": "2d85f109",
   "metadata": {},
   "outputs": [],
   "source": [
    "b[0] = 1_000"
   ]
  },
  {
   "cell_type": "code",
   "execution_count": 62,
   "id": "98715ce5",
   "metadata": {},
   "outputs": [
    {
     "data": {
      "text/plain": [
       "array([1000.,   42.])"
      ]
     },
     "execution_count": 62,
     "metadata": {},
     "output_type": "execute_result"
    }
   ],
   "source": [
    "b"
   ]
  },
  {
   "cell_type": "code",
   "execution_count": 63,
   "id": "92344f27",
   "metadata": {},
   "outputs": [
    {
     "data": {
      "text/plain": [
       "array([1000.,   42.])"
      ]
     },
     "execution_count": 63,
     "metadata": {},
     "output_type": "execute_result"
    }
   ],
   "source": [
    "a"
   ]
  },
  {
   "cell_type": "markdown",
   "id": "106bf76b",
   "metadata": {},
   "source": [
    "## Vectorizing loops"
   ]
  },
  {
   "cell_type": "markdown",
   "id": "509b7e2f",
   "metadata": {},
   "source": [
    "### Accelerating slow loops\n",
    "\n",
    "In scripting languages, native loops are slow:"
   ]
  },
  {
   "cell_type": "code",
   "execution_count": 64,
   "id": "fb2ee768",
   "metadata": {},
   "outputs": [],
   "source": [
    "n = 10_000_000\n",
    "x_vec = np.linspace(0.1, 1.1, n)"
   ]
  },
  {
   "cell_type": "markdown",
   "id": "4c7506a2",
   "metadata": {},
   "source": [
    "Let's say we want to compute the sum of of $\\cos(2\\pi / x)$ over each $x$ in the array."
   ]
  },
  {
   "cell_type": "code",
   "execution_count": 66,
   "id": "6518aad0",
   "metadata": {},
   "outputs": [
    {
     "name": "stdout",
     "output_type": "stream",
     "text": [
      "CPU times: user 7.1 s, sys: 1.53 ms, total: 7.1 s\n",
      "Wall time: 7.13 s\n"
     ]
    }
   ],
   "source": [
    "%%time\n",
    "current_sum = 0.0\n",
    "for x in x_vec:\n",
    "    current_sum += np.cos(2 * np.pi / x)"
   ]
  },
  {
   "cell_type": "markdown",
   "id": "6e844b07",
   "metadata": {},
   "source": [
    "The reason is that Python, like most high level languages is dynamically typed.\n",
    "\n",
    "This means that the type of a variable can freely change.\n",
    "\n",
    "Moreover, the interpreter doesn't compile the whole program at once, so it doesn't know when types will change.\n",
    "\n",
    "So the interpreter has to check the type of variables before any operation like addition, comparison, etc.\n",
    "\n",
    "Hence there's a lot of fixed cost for each such operation"
   ]
  },
  {
   "cell_type": "markdown",
   "id": "ef06eb41",
   "metadata": {},
   "source": [
    "The code runs much faster if we use **vectorized** expressions to avoid explicit loops."
   ]
  },
  {
   "cell_type": "code",
   "execution_count": 68,
   "id": "71b51bbc",
   "metadata": {},
   "outputs": [
    {
     "name": "stdout",
     "output_type": "stream",
     "text": [
      "CPU times: user 114 ms, sys: 13 ms, total: 127 ms\n",
      "Wall time: 126 ms\n"
     ]
    },
    {
     "data": {
      "text/plain": [
       "1352487.12437786"
      ]
     },
     "execution_count": 68,
     "metadata": {},
     "output_type": "execute_result"
    }
   ],
   "source": [
    "%%time\n",
    "np.sum(np.cos(2 * np.pi / x_vec))"
   ]
  },
  {
   "cell_type": "markdown",
   "id": "f27383f0",
   "metadata": {},
   "source": [
    "Now high level overheads are paid *per array rather than per float*."
   ]
  },
  {
   "cell_type": "markdown",
   "id": "4d05e972",
   "metadata": {},
   "source": [
    "### Implict Multithreading\n",
    "\n",
    "\n",
    "Recent versions of Anaconda are compiled with Intel MKL support, which accelerates NumPy operations.\n",
    "\n",
    "Watch system resources when you run this code.  \n",
    "\n",
    "(For example, install `htop` (Linux / Mac), `perfmon` (Windows) or another system load monitor and set it running in another window.)"
   ]
  },
  {
   "cell_type": "code",
   "execution_count": 70,
   "id": "dc6ca733",
   "metadata": {},
   "outputs": [],
   "source": [
    "n = 20\n",
    "m = 1_000\n",
    "for i in range(n):\n",
    "    X = np.random.randn(m, m)\n",
    "    λ = np.linalg.eigvals(X)"
   ]
  },
  {
   "cell_type": "markdown",
   "id": "809ab93d",
   "metadata": {},
   "source": [
    "You should see all your cores light up.  With MKL, many matrix operations are automatically parallelized."
   ]
  }
 ],
 "metadata": {
  "kernelspec": {
   "display_name": "Python 3 (ipykernel)",
   "language": "python",
   "name": "python3"
  },
  "language_info": {
   "codemirror_mode": {
    "name": "ipython",
    "version": 3
   },
   "file_extension": ".py",
   "mimetype": "text/x-python",
   "name": "python",
   "nbconvert_exporter": "python",
   "pygments_lexer": "ipython3",
   "version": "3.11.7"
  }
 },
 "nbformat": 4,
 "nbformat_minor": 5
}
