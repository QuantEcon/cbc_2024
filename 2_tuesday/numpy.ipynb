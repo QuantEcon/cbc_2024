{
 "cells": [
  {
   "cell_type": "markdown",
   "id": "566fcc2b",
   "metadata": {},
   "source": [
    "# Vectorization and Array Operations with NumPy\n",
    "\n",
    "### Written for the CBC Workshop (May 2024)\n",
    "\n",
    "#### John Stachurski"
   ]
  },
  {
   "cell_type": "markdown",
   "id": "c5baa157",
   "metadata": {},
   "source": [
    "[NumPy](https://numpy.org/) is the standard library for numerical array operations in Python."
   ]
  },
  {
   "cell_type": "markdown",
   "id": "d8f8ddda",
   "metadata": {},
   "source": [
    "This notebook contains a very quick introduction to NumPy.\n",
    "\n",
    "(Although the syntax and some reference concepts differ, the basic framework is similar to Matlab.)\n",
    "\n",
    "We use the following imports"
   ]
  },
  {
   "cell_type": "code",
   "execution_count": null,
   "id": "b3841d65",
   "metadata": {},
   "outputs": [],
   "source": [
    "import numpy as np\n",
    "import matplotlib.pyplot as plt"
   ]
  },
  {
   "cell_type": "markdown",
   "id": "614c2c5c",
   "metadata": {},
   "source": [
    "## NumPy arrays\n",
    "\n",
    "Let's review the basics of NumPy arrays.\n",
    "\n",
    "### Creating arrays\n",
    "\n",
    "Here are a few ways to create arrays:"
   ]
  },
  {
   "cell_type": "code",
   "execution_count": null,
   "id": "d0f3e8fc",
   "metadata": {},
   "outputs": [],
   "source": [
    "a = (10.0, 20.0)\n",
    "print(type(a))\n",
    "a = np.array(a)   # Create array from Python tuple\n",
    "type(a)"
   ]
  },
  {
   "cell_type": "code",
   "execution_count": null,
   "id": "8771e2cd",
   "metadata": {},
   "outputs": [],
   "source": [
    "a = np.array((10, 20), dtype='float64')  # Specify data type -- must be homogeneous\n",
    "a"
   ]
  },
  {
   "cell_type": "code",
   "execution_count": null,
   "id": "25831a80",
   "metadata": {},
   "outputs": [],
   "source": [
    "a = np.linspace(0, 10, 5)\n",
    "a"
   ]
  },
  {
   "cell_type": "code",
   "execution_count": null,
   "id": "1347c475",
   "metadata": {},
   "outputs": [],
   "source": [
    "a = np.ones(3)\n",
    "a"
   ]
  },
  {
   "cell_type": "code",
   "execution_count": null,
   "id": "5713628b",
   "metadata": {},
   "outputs": [],
   "source": [
    "a = np.zeros(3)\n",
    "a"
   ]
  },
  {
   "cell_type": "code",
   "execution_count": null,
   "id": "c32ccaa2",
   "metadata": {},
   "outputs": [],
   "source": [
    "a = np.random.randn(4)\n",
    "a"
   ]
  },
  {
   "cell_type": "code",
   "execution_count": null,
   "id": "8c73cd73",
   "metadata": {},
   "outputs": [],
   "source": [
    "a = np.random.randn(2, 2)\n",
    "a"
   ]
  },
  {
   "cell_type": "code",
   "execution_count": null,
   "id": "d921da45",
   "metadata": {},
   "outputs": [],
   "source": [
    "b = np.zeros_like(a)\n",
    "b"
   ]
  },
  {
   "cell_type": "markdown",
   "id": "92e5c51f",
   "metadata": {},
   "source": [
    "### Reshaping"
   ]
  },
  {
   "cell_type": "code",
   "execution_count": null,
   "id": "6e70712d",
   "metadata": {},
   "outputs": [],
   "source": [
    "a = np.random.randn(2, 2)\n",
    "a"
   ]
  },
  {
   "cell_type": "code",
   "execution_count": null,
   "id": "74f37eb5",
   "metadata": {},
   "outputs": [],
   "source": [
    "a.shape"
   ]
  },
  {
   "cell_type": "code",
   "execution_count": null,
   "id": "bdf1e63a",
   "metadata": {},
   "outputs": [],
   "source": [
    "np.reshape(a, (1, 4))"
   ]
  },
  {
   "cell_type": "code",
   "execution_count": null,
   "id": "1ef8a9a2",
   "metadata": {},
   "outputs": [],
   "source": [
    "np.reshape(a, (4, 1))"
   ]
  },
  {
   "cell_type": "markdown",
   "id": "79809549",
   "metadata": {},
   "source": [
    "### Array operations"
   ]
  },
  {
   "cell_type": "markdown",
   "id": "76621218",
   "metadata": {},
   "source": [
    "Standard arithmetic operators are pointwise:"
   ]
  },
  {
   "cell_type": "code",
   "execution_count": null,
   "id": "22b420a9",
   "metadata": {},
   "outputs": [],
   "source": [
    "a"
   ]
  },
  {
   "cell_type": "code",
   "execution_count": null,
   "id": "f21452dc",
   "metadata": {},
   "outputs": [],
   "source": [
    "b"
   ]
  },
  {
   "cell_type": "code",
   "execution_count": null,
   "id": "6df4527a",
   "metadata": {},
   "outputs": [],
   "source": [
    "a + b"
   ]
  },
  {
   "cell_type": "code",
   "execution_count": null,
   "id": "29d1dcf0",
   "metadata": {},
   "outputs": [],
   "source": [
    "a * b  # pointwise multiplication"
   ]
  },
  {
   "cell_type": "markdown",
   "id": "f05c9e93",
   "metadata": {},
   "source": [
    "### Matrix multiplication"
   ]
  },
  {
   "cell_type": "code",
   "execution_count": null,
   "id": "1e00354e",
   "metadata": {},
   "outputs": [],
   "source": [
    "a @ b  "
   ]
  },
  {
   "cell_type": "code",
   "execution_count": null,
   "id": "d7c3d3b6",
   "metadata": {},
   "outputs": [],
   "source": [
    "np.ones(3) @ np.zeros(3)  # inner product"
   ]
  },
  {
   "cell_type": "markdown",
   "id": "516779ee",
   "metadata": {},
   "source": [
    "### Reductions"
   ]
  },
  {
   "cell_type": "markdown",
   "id": "2bbe69e7",
   "metadata": {},
   "source": [
    "There are various functions for acting on arrays, such as"
   ]
  },
  {
   "cell_type": "code",
   "execution_count": null,
   "id": "ef6bf0cd",
   "metadata": {},
   "outputs": [],
   "source": [
    "np.mean(a)"
   ]
  },
  {
   "cell_type": "code",
   "execution_count": null,
   "id": "e3656af0",
   "metadata": {},
   "outputs": [],
   "source": [
    "np.sum(a)"
   ]
  },
  {
   "cell_type": "markdown",
   "id": "d73425a1",
   "metadata": {},
   "source": [
    "These operations have an equivalent OOP syntax, as in"
   ]
  },
  {
   "cell_type": "code",
   "execution_count": null,
   "id": "1e4eac15",
   "metadata": {},
   "outputs": [],
   "source": [
    "a.mean()"
   ]
  },
  {
   "cell_type": "code",
   "execution_count": null,
   "id": "ca831787",
   "metadata": {},
   "outputs": [],
   "source": [
    "a.sum()"
   ]
  },
  {
   "cell_type": "markdown",
   "id": "b4d93786",
   "metadata": {},
   "source": [
    "These operations also work on higher-dimensional arrays:"
   ]
  },
  {
   "cell_type": "code",
   "execution_count": null,
   "id": "ae69147d",
   "metadata": {},
   "outputs": [],
   "source": [
    "a = np.linspace(0, 3, 4).reshape(2, 2)\n",
    "a"
   ]
  },
  {
   "cell_type": "code",
   "execution_count": null,
   "id": "9517a75d",
   "metadata": {},
   "outputs": [],
   "source": [
    "a.sum(axis=0)  # sum columns"
   ]
  },
  {
   "cell_type": "code",
   "execution_count": null,
   "id": "8d7e550f",
   "metadata": {},
   "outputs": [],
   "source": [
    "a.sum(axis=1)  # sum rows"
   ]
  },
  {
   "cell_type": "markdown",
   "id": "debf17dd",
   "metadata": {},
   "source": [
    "### Broadcasting"
   ]
  },
  {
   "cell_type": "markdown",
   "id": "7f791c66",
   "metadata": {},
   "source": [
    "When possible, arrays are \"streched\" across missing dimensions to perform array operations.\n",
    "\n",
    "For example,"
   ]
  },
  {
   "cell_type": "code",
   "execution_count": null,
   "id": "8824d641",
   "metadata": {},
   "outputs": [],
   "source": [
    "a = np.zeros((3, 3))\n",
    "a"
   ]
  },
  {
   "cell_type": "code",
   "execution_count": null,
   "id": "f3db7ef6",
   "metadata": {},
   "outputs": [],
   "source": [
    "b = np.array((1.0, 2.0, 3.0))\n",
    "b = np.reshape(b, (1, 3))\n",
    "b"
   ]
  },
  {
   "cell_type": "code",
   "execution_count": null,
   "id": "c8aaf498",
   "metadata": {},
   "outputs": [],
   "source": [
    "a + b"
   ]
  },
  {
   "cell_type": "code",
   "execution_count": null,
   "id": "ee8cb53e",
   "metadata": {},
   "outputs": [],
   "source": [
    "b = np.reshape(b, (3, 1))\n",
    "b"
   ]
  },
  {
   "cell_type": "code",
   "execution_count": null,
   "id": "68ce456a",
   "metadata": {},
   "outputs": [],
   "source": [
    "a + b"
   ]
  },
  {
   "cell_type": "markdown",
   "id": "e74d516a",
   "metadata": {},
   "source": [
    "For more on broadcasting see [this tutorial](https://jakevdp.github.io/PythonDataScienceHandbook/02.05-computation-on-arrays-broadcasting.html)."
   ]
  },
  {
   "cell_type": "markdown",
   "id": "4e8c8b00",
   "metadata": {},
   "source": [
    "### Ufuncs"
   ]
  },
  {
   "cell_type": "markdown",
   "id": "6cd6a5cb",
   "metadata": {},
   "source": [
    "Many NumPy functions can act on either scalars or arrays.\n",
    "\n",
    "When they act on arrays, they act pointwise (element-by-element).\n",
    "\n",
    "These kinds of functions are called **universal functions** or **ufuncs**."
   ]
  },
  {
   "cell_type": "code",
   "execution_count": null,
   "id": "7d7e04f5",
   "metadata": {},
   "outputs": [],
   "source": [
    "np.cos(np.pi)"
   ]
  },
  {
   "cell_type": "code",
   "execution_count": null,
   "id": "563347b9",
   "metadata": {},
   "outputs": [],
   "source": [
    "a = np.random.choice((0, np.pi), 6).reshape(2, 3)\n",
    "a"
   ]
  },
  {
   "cell_type": "code",
   "execution_count": null,
   "id": "d7d2bb57",
   "metadata": {},
   "outputs": [],
   "source": [
    "np.cos(a)"
   ]
  },
  {
   "cell_type": "markdown",
   "id": "af0e654f",
   "metadata": {},
   "source": [
    "Some user-defined functions will be ufuncs, such as"
   ]
  },
  {
   "cell_type": "code",
   "execution_count": null,
   "id": "14c91338",
   "metadata": {},
   "outputs": [],
   "source": [
    "def f(x):\n",
    "    return np.cos(np.sin(x))"
   ]
  },
  {
   "cell_type": "code",
   "execution_count": null,
   "id": "de977d50",
   "metadata": {},
   "outputs": [],
   "source": [
    "f(a)"
   ]
  },
  {
   "cell_type": "markdown",
   "id": "2618fd23",
   "metadata": {},
   "source": [
    "But some are not:"
   ]
  },
  {
   "cell_type": "code",
   "execution_count": null,
   "id": "aa306803",
   "metadata": {},
   "outputs": [],
   "source": [
    "def f(x):\n",
    "    if x < 0:\n",
    "        return np.cos(x)\n",
    "    else:\n",
    "        return np.sin(x)"
   ]
  },
  {
   "cell_type": "code",
   "execution_count": null,
   "id": "9cf1ab19",
   "metadata": {},
   "outputs": [],
   "source": [
    "f(a)"
   ]
  },
  {
   "cell_type": "markdown",
   "id": "9bb8bafb",
   "metadata": {},
   "source": [
    "If we want to turn this into a vectorized function we can use `np.vectorize`"
   ]
  },
  {
   "cell_type": "code",
   "execution_count": null,
   "id": "aeb7b79c",
   "metadata": {},
   "outputs": [],
   "source": [
    "f_vec = np.vectorize(f)"
   ]
  },
  {
   "cell_type": "markdown",
   "id": "18f3791b",
   "metadata": {},
   "source": [
    "Let's test it, and also time it."
   ]
  },
  {
   "cell_type": "code",
   "execution_count": null,
   "id": "ba5c89d5",
   "metadata": {},
   "outputs": [],
   "source": [
    "a = np.linspace(0, 1, 10_000_000)\n",
    "%time f_vec(a)"
   ]
  },
  {
   "cell_type": "markdown",
   "id": "93fe3e31",
   "metadata": {},
   "source": [
    "This is pretty slow.\n",
    "\n",
    "Here's a version of `f` that uses NumPy functions to create a more efficient ufunc."
   ]
  },
  {
   "cell_type": "code",
   "execution_count": null,
   "id": "e4f4d392",
   "metadata": {},
   "outputs": [],
   "source": [
    "def f(x):\n",
    "    return np.where(x < 0, np.cos(x), np.sin(x))"
   ]
  },
  {
   "cell_type": "code",
   "execution_count": null,
   "id": "e1c39868",
   "metadata": {},
   "outputs": [],
   "source": [
    "%time f(a)"
   ]
  },
  {
   "cell_type": "markdown",
   "id": "b4d4a249",
   "metadata": {},
   "source": [
    "Moral of the story: Don't use `np.vectorize` unless you have to.\n",
    "\n",
    "(There are good alternatives, which we will discuss soon.)"
   ]
  },
  {
   "cell_type": "markdown",
   "id": "aef06ea2",
   "metadata": {},
   "source": [
    "### Mutability"
   ]
  },
  {
   "cell_type": "markdown",
   "id": "99365939",
   "metadata": {},
   "source": [
    "NumPy arrays are mutable (can be altered in memory)."
   ]
  },
  {
   "cell_type": "code",
   "execution_count": null,
   "id": "83259869",
   "metadata": {},
   "outputs": [],
   "source": [
    "a = np.array((10.0, 20.0))\n",
    "a"
   ]
  },
  {
   "cell_type": "code",
   "execution_count": null,
   "id": "eb115412",
   "metadata": {},
   "outputs": [],
   "source": [
    "a[0] = 1"
   ]
  },
  {
   "cell_type": "code",
   "execution_count": null,
   "id": "8c2c01c0",
   "metadata": {},
   "outputs": [],
   "source": [
    "a"
   ]
  },
  {
   "cell_type": "code",
   "execution_count": null,
   "id": "aa706812",
   "metadata": {},
   "outputs": [],
   "source": [
    "a[:] = 42"
   ]
  },
  {
   "cell_type": "code",
   "execution_count": null,
   "id": "2f962f07",
   "metadata": {},
   "outputs": [],
   "source": [
    "a"
   ]
  },
  {
   "cell_type": "markdown",
   "id": "0c942f58",
   "metadata": {},
   "source": [
    "**All names** bound to an array have equal rights."
   ]
  },
  {
   "cell_type": "code",
   "execution_count": null,
   "id": "5c149c7f",
   "metadata": {},
   "outputs": [],
   "source": [
    "a"
   ]
  },
  {
   "cell_type": "code",
   "execution_count": null,
   "id": "ccae5c15",
   "metadata": {},
   "outputs": [],
   "source": [
    "b = a  # bind the name b to the same array object"
   ]
  },
  {
   "cell_type": "code",
   "execution_count": null,
   "id": "738cd84a",
   "metadata": {},
   "outputs": [],
   "source": [
    "id(a)"
   ]
  },
  {
   "cell_type": "code",
   "execution_count": null,
   "id": "1dac57f3",
   "metadata": {},
   "outputs": [],
   "source": [
    "id(b)"
   ]
  },
  {
   "cell_type": "code",
   "execution_count": null,
   "id": "2d85f109",
   "metadata": {},
   "outputs": [],
   "source": [
    "b[0] = 1_000"
   ]
  },
  {
   "cell_type": "code",
   "execution_count": null,
   "id": "98715ce5",
   "metadata": {},
   "outputs": [],
   "source": [
    "b"
   ]
  },
  {
   "cell_type": "code",
   "execution_count": null,
   "id": "92344f27",
   "metadata": {},
   "outputs": [],
   "source": [
    "a"
   ]
  },
  {
   "cell_type": "markdown",
   "id": "106bf76b",
   "metadata": {},
   "source": [
    "## Vectorizing loops"
   ]
  },
  {
   "cell_type": "markdown",
   "id": "509b7e2f",
   "metadata": {},
   "source": [
    "### Accelerating slow loops\n",
    "\n",
    "In scripting languages, native loops are slow:"
   ]
  },
  {
   "cell_type": "code",
   "execution_count": null,
   "id": "fb2ee768",
   "metadata": {},
   "outputs": [],
   "source": [
    "n = 10_000_000\n",
    "x_vec = np.linspace(0.1, 1.1, n)"
   ]
  },
  {
   "cell_type": "markdown",
   "id": "4c7506a2",
   "metadata": {},
   "source": [
    "Let's say we want to compute the sum of of $\\cos(2\\pi / x)$ over $x$ in"
   ]
  },
  {
   "cell_type": "code",
   "execution_count": null,
   "id": "6518aad0",
   "metadata": {},
   "outputs": [],
   "source": [
    "%%time\n",
    "current_sum = 0.0\n",
    "for x in x_vec:\n",
    "    current_sum += np.cos(2 * np.pi / x)"
   ]
  },
  {
   "cell_type": "markdown",
   "id": "6e844b07",
   "metadata": {},
   "source": [
    "The reason is that Python, like most high level languages is dynamically typed.\n",
    "\n",
    "This means that the type of a variable can freely change.\n",
    "\n",
    "Moreover, the interpreter doesn't compile the whole program at once, so it doesn't know when types will change.\n",
    "\n",
    "So the interpreter has to check the type of variables before any operation like addition, comparison, etc.\n",
    "\n",
    "Hence there's a lot of fixed cost for each such operation"
   ]
  },
  {
   "cell_type": "markdown",
   "id": "ef06eb41",
   "metadata": {},
   "source": [
    "The code runs much faster if we use **vectorized** expressions to avoid explicit loops."
   ]
  },
  {
   "cell_type": "code",
   "execution_count": null,
   "id": "71b51bbc",
   "metadata": {},
   "outputs": [],
   "source": [
    "%%time\n",
    "np.sum(np.cos(2 * np.pi / x_vec))"
   ]
  },
  {
   "cell_type": "markdown",
   "id": "f27383f0",
   "metadata": {},
   "source": [
    "Now high level overheads are paid *per array rather than per float*."
   ]
  },
  {
   "cell_type": "markdown",
   "id": "4d05e972",
   "metadata": {},
   "source": [
    "### Implict Multithreading\n",
    "\n",
    "\n",
    "Recent versions of Anaconda are compiled with Intel MKL support, which accelerates NumPy operations.\n",
    "\n",
    "Watch system resources when you run this code.  \n",
    "\n",
    "(For example, install `htop` (Linux / Mac), `perfmon` (Windows) or another system load monitor and set it running in another window.)"
   ]
  },
  {
   "cell_type": "code",
   "execution_count": null,
   "id": "dc6ca733",
   "metadata": {},
   "outputs": [],
   "source": [
    "n = 20\n",
    "m = 1000\n",
    "for i in range(n):\n",
    "    X = np.random.randn(m, m)\n",
    "    λ = np.linalg.eigvals(X)"
   ]
  },
  {
   "cell_type": "markdown",
   "id": "809ab93d",
   "metadata": {},
   "source": [
    "You should see all your cores light up.  With MKL, many matrix operations are automatically parallelized."
   ]
  }
 ],
 "metadata": {
  "kernelspec": {
   "display_name": "Python 3 (ipykernel)",
   "language": "python",
   "name": "python3"
  }
 },
 "nbformat": 4,
 "nbformat_minor": 5
}
