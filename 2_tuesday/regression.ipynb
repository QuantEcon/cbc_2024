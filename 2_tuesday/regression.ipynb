{
 "cells": [
  {
   "cell_type": "markdown",
   "id": "fc8d66d4",
   "metadata": {},
   "source": [
    "# Linear Regression with Python\n",
    "\n",
    "----\n",
    "\n",
    "#### John Stachurski\n",
    "#### Prepared for the CBC Computational Workshop (May 2024)\n",
    "\n",
    "----"
   ]
  },
  {
   "cell_type": "markdown",
   "id": "6fc0b912",
   "metadata": {},
   "source": [
    "Let's have a very quick look at linear regression in Python.\n",
    "\n",
    "We'll also show how to download some data from [FRED](https://fred.stlouisfed.org/)."
   ]
  },
  {
   "cell_type": "markdown",
   "id": "cff63b7c",
   "metadata": {},
   "source": [
    "Uncomment the next line if you don't have this library installed:"
   ]
  },
  {
   "cell_type": "code",
   "execution_count": 1,
   "id": "347c4645",
   "metadata": {},
   "outputs": [],
   "source": [
    "#!pip install pandas_datareader"
   ]
  },
  {
   "cell_type": "markdown",
   "id": "c728b0ec",
   "metadata": {},
   "source": [
    "Let's do some imports."
   ]
  },
  {
   "cell_type": "code",
   "execution_count": 2,
   "id": "1fa7d6b3",
   "metadata": {},
   "outputs": [],
   "source": [
    "import pandas_datareader.data as web\n",
    "import datetime\n",
    "import matplotlib.pyplot as plt\n",
    "import plotly.express as px\n",
    "import statsmodels.api as sm\n",
    "import statsmodels.formula.api as smf"
   ]
  },
  {
   "cell_type": "markdown",
   "id": "ad82983b",
   "metadata": {},
   "source": [
    "We use the `datetime` module from the standard library to pick start dates and end dates."
   ]
  },
  {
   "cell_type": "code",
   "execution_count": null,
   "id": "76700b1c",
   "metadata": {},
   "outputs": [],
   "source": [
    "start = datetime.datetime(1947, 1, 1)\n",
    "end = datetime.datetime(2019, 12, 1)"
   ]
  },
  {
   "cell_type": "markdown",
   "id": "e95b566c",
   "metadata": {},
   "source": [
    "Now let's read in data on GDP and unemployment from FRED."
   ]
  },
  {
   "cell_type": "code",
   "execution_count": null,
   "id": "f115ccd6",
   "metadata": {},
   "outputs": [],
   "source": [
    "series = 'GDP', 'UNRATE'  \n",
    "source = 'fred'\n",
    "data = web.DataReader(series, source, start, end)"
   ]
  },
  {
   "cell_type": "markdown",
   "id": "bd5e104d",
   "metadata": {},
   "source": [
    "Data is read in as a `pandas` dataframe."
   ]
  },
  {
   "cell_type": "code",
   "execution_count": null,
   "id": "ebb85714",
   "metadata": {},
   "outputs": [],
   "source": [
    "type(data)"
   ]
  },
  {
   "cell_type": "code",
   "execution_count": null,
   "id": "bd2f9d8f",
   "metadata": {},
   "outputs": [],
   "source": [
    "data = data.dropna()\n",
    "data"
   ]
  },
  {
   "cell_type": "markdown",
   "id": "db887181",
   "metadata": {},
   "source": [
    "We'll convert both series into rates of change."
   ]
  },
  {
   "cell_type": "code",
   "execution_count": null,
   "id": "cb097768",
   "metadata": {},
   "outputs": [],
   "source": [
    "data = data.pct_change() * 100\n",
    "data = data.reset_index().dropna()\n",
    "data"
   ]
  },
  {
   "cell_type": "markdown",
   "id": "6064ae79",
   "metadata": {},
   "source": [
    "Let's have a look at our data.\n",
    "\n",
    "Notice in the code below that Matplotlib plays well with pandas."
   ]
  },
  {
   "cell_type": "code",
   "execution_count": null,
   "id": "85eb362e",
   "metadata": {},
   "outputs": [],
   "source": [
    "fig, ax = plt.subplots()\n",
    "ax.scatter(x='UNRATE', y='GDP', data=data, color='k', alpha=0.5)\n",
    "ax.set_xlabel('% change in unemployment rate')\n",
    "ax.set_ylabel('% change in GDP')\n",
    "plt.show()"
   ]
  },
  {
   "cell_type": "markdown",
   "id": "636c40e6",
   "metadata": {},
   "source": [
    "If you want an interactive graph, you can use Plotly instead:"
   ]
  },
  {
   "cell_type": "code",
   "execution_count": null,
   "id": "96aaa58e",
   "metadata": {},
   "outputs": [],
   "source": [
    "fig = px.scatter(data, x='UNRATE', y='GDP')\n",
    "fig.update_layout(\n",
    "    showlegend=False,\n",
    "    autosize=False,\n",
    "    width=600,\n",
    "    height=400,\n",
    ")\n",
    "\n",
    "fig.show()"
   ]
  },
  {
   "cell_type": "markdown",
   "id": "32765158",
   "metadata": {},
   "source": [
    "Let's fit a regression line, which can be used to measure [Okun's law](https://en.wikipedia.org/wiki/Okun%27s_law).\n",
    "\n",
    "To do so we'll use [Statsmodels](https://www.statsmodels.org/stable/index.html)."
   ]
  },
  {
   "cell_type": "code",
   "execution_count": null,
   "id": "ef56a9ea",
   "metadata": {},
   "outputs": [],
   "source": [
    "model = smf.ols(formula='GDP ~ UNRATE', data=data)\n",
    "ols = model.fit()"
   ]
  },
  {
   "cell_type": "code",
   "execution_count": null,
   "id": "2dde7d7c",
   "metadata": {},
   "outputs": [],
   "source": [
    "ols.summary()"
   ]
  },
  {
   "cell_type": "code",
   "execution_count": null,
   "id": "dfa195a4",
   "metadata": {},
   "outputs": [],
   "source": [
    "ols.params"
   ]
  },
  {
   "cell_type": "code",
   "execution_count": null,
   "id": "1a9b70f0",
   "metadata": {},
   "outputs": [],
   "source": [
    "X = data['UNRATE']\n",
    "fig, ax = plt.subplots()\n",
    "plt.scatter(x='UNRATE', y='GDP', data=data, color='k', alpha=0.5)\n",
    "plt.plot(X, ols.fittedvalues, label='OLS')\n",
    "ax.set_xlabel('% change in unemployment rate')\n",
    "ax.set_ylabel('% change in GDP')\n",
    "plt.legend()\n",
    "plt.show()"
   ]
  },
  {
   "cell_type": "markdown",
   "id": "e2dd974e",
   "metadata": {},
   "source": [
    "Next let's try using least absolute deviations, which means that we minimize\n",
    "\n",
    "$$\n",
    "\\ell(\\alpha, \\beta) = \\sum_{i=1}^n |y_i - (\\alpha x_i + \\beta_i)|\n",
    "$$\n",
    "\n",
    "over parameters $\\alpha, \\beta$.\n",
    "\n",
    "This is a special case of quantile regression when the quantile is the median (0.5)."
   ]
  },
  {
   "cell_type": "code",
   "execution_count": null,
   "id": "f733ea4c",
   "metadata": {},
   "outputs": [],
   "source": [
    "mod = smf.quantreg(formula=\"GDP ~ UNRATE\", data=data)\n",
    "lad = mod.fit(q=0.5)   # LAD model is a special case of quantile regression when q = 0.5"
   ]
  },
  {
   "cell_type": "code",
   "execution_count": null,
   "id": "8ed98143",
   "metadata": {},
   "outputs": [],
   "source": [
    "lad.summary()"
   ]
  },
  {
   "cell_type": "code",
   "execution_count": null,
   "id": "89d6e607",
   "metadata": {},
   "outputs": [],
   "source": [
    "lad.params"
   ]
  },
  {
   "cell_type": "markdown",
   "id": "3459c349",
   "metadata": {},
   "source": [
    "Let's compare the LAD regression line to the least squares regression line."
   ]
  },
  {
   "cell_type": "code",
   "execution_count": null,
   "id": "2a22deaa",
   "metadata": {},
   "outputs": [],
   "source": [
    "fig, ax = plt.subplots()\n",
    "plt.scatter(x='UNRATE', y='GDP', data=data, color='k', alpha=0.5)\n",
    "plt.plot(X, ols.fittedvalues, label='OLS')\n",
    "plt.plot(X, lad.fittedvalues, label='LAD')\n",
    "ax.set_xlabel('% change in unemployment rate')\n",
    "ax.set_ylabel('% change in GDP')\n",
    "plt.legend()\n",
    "plt.show()"
   ]
  },
  {
   "cell_type": "code",
   "execution_count": null,
   "id": "1acce101",
   "metadata": {},
   "outputs": [],
   "source": []
  }
 ],
 "metadata": {
  "kernelspec": {
   "display_name": "Python 3 (ipykernel)",
   "language": "python",
   "name": "python3"
  },
  "language_info": {
   "codemirror_mode": {
    "name": "ipython",
    "version": 3
   },
   "file_extension": ".py",
   "mimetype": "text/x-python",
   "name": "python",
   "nbconvert_exporter": "python",
   "pygments_lexer": "ipython3",
   "version": "3.11.7"
  }
 },
 "nbformat": 4,
 "nbformat_minor": 5
}
