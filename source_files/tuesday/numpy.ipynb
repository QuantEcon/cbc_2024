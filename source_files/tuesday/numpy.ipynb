{
 "cells": [
  {
   "cell_type": "markdown",
   "id": "ef6a0a1e",
   "metadata": {},
   "source": [
    "# Vectorization and Array Operations with NumPy\n",
    "\n",
    "### Written for the CBC Workshop (May 2024)\n",
    "\n",
    "#### John Stachurski"
   ]
  },
  {
   "cell_type": "markdown",
   "id": "8886a5d7",
   "metadata": {},
   "source": [
    "This notebook contains a very quick introduction to NumPy.\n",
    "\n",
    "We use the following imports"
   ]
  },
  {
   "cell_type": "code",
   "execution_count": 1,
   "id": "7aafb7fb",
   "metadata": {},
   "outputs": [],
   "source": [
    "import numpy as np\n",
    "import matplotlib.pyplot as plt"
   ]
  },
  {
   "cell_type": "markdown",
   "id": "f8ac3ab0",
   "metadata": {},
   "source": [
    "## NumPy arrays\n",
    "\n",
    "Let's review the basics of NumPy arrays.\n",
    "\n",
    "### Creating arrays\n",
    "\n",
    "Here are a few ways to create arrays:"
   ]
  },
  {
   "cell_type": "code",
   "execution_count": 2,
   "id": "d15d6dd1",
   "metadata": {},
   "outputs": [
    {
     "data": {
      "text/plain": [
       "array([10., 20.])"
      ]
     },
     "execution_count": 2,
     "metadata": {},
     "output_type": "execute_result"
    }
   ],
   "source": [
    "a = np.array((10.0, 20.0))\n",
    "a"
   ]
  },
  {
   "cell_type": "code",
   "execution_count": 3,
   "id": "def78534",
   "metadata": {},
   "outputs": [
    {
     "data": {
      "text/plain": [
       "array([10., 20.])"
      ]
     },
     "execution_count": 3,
     "metadata": {},
     "output_type": "execute_result"
    }
   ],
   "source": [
    "a = np.array((10, 20), dtype='float64')\n",
    "a"
   ]
  },
  {
   "cell_type": "code",
   "execution_count": 4,
   "id": "b42e0b6d",
   "metadata": {},
   "outputs": [
    {
     "data": {
      "text/plain": [
       "array([ 0. ,  2.5,  5. ,  7.5, 10. ])"
      ]
     },
     "execution_count": 4,
     "metadata": {},
     "output_type": "execute_result"
    }
   ],
   "source": [
    "a = np.linspace(0, 10, 5)\n",
    "a"
   ]
  },
  {
   "cell_type": "code",
   "execution_count": 5,
   "id": "b12079fa",
   "metadata": {},
   "outputs": [
    {
     "data": {
      "text/plain": [
       "array([1., 1., 1.])"
      ]
     },
     "execution_count": 5,
     "metadata": {},
     "output_type": "execute_result"
    }
   ],
   "source": [
    "a = np.ones(3)\n",
    "a"
   ]
  },
  {
   "cell_type": "code",
   "execution_count": 6,
   "id": "39919b63",
   "metadata": {},
   "outputs": [],
   "source": [
    "a = np.zeros(3)"
   ]
  },
  {
   "cell_type": "code",
   "execution_count": 7,
   "id": "4a300d5f",
   "metadata": {},
   "outputs": [
    {
     "data": {
      "text/plain": [
       "array([ 2.64176219, -0.62023134, -1.41202575,  0.96664629])"
      ]
     },
     "execution_count": 7,
     "metadata": {},
     "output_type": "execute_result"
    }
   ],
   "source": [
    "a = np.random.randn(4)\n",
    "a"
   ]
  },
  {
   "cell_type": "code",
   "execution_count": 8,
   "id": "cdcb3e86",
   "metadata": {},
   "outputs": [
    {
     "data": {
      "text/plain": [
       "array([[-1.27709828,  1.72774515],\n",
       "       [-2.1484121 , -0.28084423]])"
      ]
     },
     "execution_count": 8,
     "metadata": {},
     "output_type": "execute_result"
    }
   ],
   "source": [
    "a = np.random.randn(2, 2)\n",
    "a"
   ]
  },
  {
   "cell_type": "code",
   "execution_count": 9,
   "id": "1ec984b6",
   "metadata": {},
   "outputs": [
    {
     "data": {
      "text/plain": [
       "array([[0., 0.],\n",
       "       [0., 0.]])"
      ]
     },
     "execution_count": 9,
     "metadata": {},
     "output_type": "execute_result"
    }
   ],
   "source": [
    "b = np.zeros_like(a)\n",
    "b"
   ]
  },
  {
   "cell_type": "markdown",
   "id": "7223ebda",
   "metadata": {},
   "source": [
    "### Reshaping"
   ]
  },
  {
   "cell_type": "code",
   "execution_count": 10,
   "id": "52f68589",
   "metadata": {},
   "outputs": [
    {
     "data": {
      "text/plain": [
       "array([[-2.39614363,  1.55054188],\n",
       "       [-1.12911018, -0.67755033]])"
      ]
     },
     "execution_count": 10,
     "metadata": {},
     "output_type": "execute_result"
    }
   ],
   "source": [
    "a = np.random.randn(2, 2)\n",
    "a"
   ]
  },
  {
   "cell_type": "code",
   "execution_count": 11,
   "id": "630e134a",
   "metadata": {},
   "outputs": [
    {
     "data": {
      "text/plain": [
       "(2, 2)"
      ]
     },
     "execution_count": 11,
     "metadata": {},
     "output_type": "execute_result"
    }
   ],
   "source": [
    "a.shape"
   ]
  },
  {
   "cell_type": "code",
   "execution_count": 12,
   "id": "4bf81eae",
   "metadata": {},
   "outputs": [
    {
     "data": {
      "text/plain": [
       "array([[-2.39614363,  1.55054188, -1.12911018, -0.67755033]])"
      ]
     },
     "execution_count": 12,
     "metadata": {},
     "output_type": "execute_result"
    }
   ],
   "source": [
    "np.reshape(a, (1, 4))"
   ]
  },
  {
   "cell_type": "code",
   "execution_count": 13,
   "id": "fc7a4fad",
   "metadata": {},
   "outputs": [
    {
     "data": {
      "text/plain": [
       "array([[-2.39614363],\n",
       "       [ 1.55054188],\n",
       "       [-1.12911018],\n",
       "       [-0.67755033]])"
      ]
     },
     "execution_count": 13,
     "metadata": {},
     "output_type": "execute_result"
    }
   ],
   "source": [
    "np.reshape(a, (4, 1))"
   ]
  },
  {
   "cell_type": "markdown",
   "id": "1ea85e6c",
   "metadata": {},
   "source": [
    "### Array operations"
   ]
  },
  {
   "cell_type": "markdown",
   "id": "4d238eb2",
   "metadata": {},
   "source": [
    "Standard arithmetic operators are pointwise:"
   ]
  },
  {
   "cell_type": "code",
   "execution_count": 14,
   "id": "168c168f",
   "metadata": {},
   "outputs": [
    {
     "data": {
      "text/plain": [
       "array([[-2.39614363,  1.55054188],\n",
       "       [-1.12911018, -0.67755033]])"
      ]
     },
     "execution_count": 14,
     "metadata": {},
     "output_type": "execute_result"
    }
   ],
   "source": [
    "a + b"
   ]
  },
  {
   "cell_type": "code",
   "execution_count": 15,
   "id": "93e4caee",
   "metadata": {},
   "outputs": [
    {
     "data": {
      "text/plain": [
       "array([[-0.,  0.],\n",
       "       [-0., -0.]])"
      ]
     },
     "execution_count": 15,
     "metadata": {},
     "output_type": "execute_result"
    }
   ],
   "source": [
    "a * b  # pointwise multiplication"
   ]
  },
  {
   "cell_type": "markdown",
   "id": "346c1afd",
   "metadata": {},
   "source": [
    "To do matrix multiplication we use `@`, as in"
   ]
  },
  {
   "cell_type": "code",
   "execution_count": 16,
   "id": "4c7c8572",
   "metadata": {},
   "outputs": [
    {
     "data": {
      "text/plain": [
       "array([[0., 0.],\n",
       "       [0., 0.]])"
      ]
     },
     "execution_count": 16,
     "metadata": {},
     "output_type": "execute_result"
    }
   ],
   "source": [
    "a @ b"
   ]
  },
  {
   "cell_type": "markdown",
   "id": "fc963ad2",
   "metadata": {},
   "source": [
    "There are various functions for acting on arrays, such as"
   ]
  },
  {
   "cell_type": "code",
   "execution_count": 17,
   "id": "674a5d71",
   "metadata": {},
   "outputs": [
    {
     "data": {
      "text/plain": [
       "-0.663065565795695"
      ]
     },
     "execution_count": 17,
     "metadata": {},
     "output_type": "execute_result"
    }
   ],
   "source": [
    "np.mean(a)"
   ]
  },
  {
   "cell_type": "markdown",
   "id": "f8fc6fe0",
   "metadata": {},
   "source": [
    "These operations have an equivalent OOP syntax, as in"
   ]
  },
  {
   "cell_type": "code",
   "execution_count": 18,
   "id": "ebfcce87",
   "metadata": {},
   "outputs": [
    {
     "data": {
      "text/plain": [
       "-0.663065565795695"
      ]
     },
     "execution_count": 18,
     "metadata": {},
     "output_type": "execute_result"
    }
   ],
   "source": [
    "a.mean()"
   ]
  },
  {
   "cell_type": "markdown",
   "id": "87759c6a",
   "metadata": {},
   "source": [
    "### Broadcasting"
   ]
  },
  {
   "cell_type": "markdown",
   "id": "17b03ce2",
   "metadata": {},
   "source": [
    "When possible, arrays are \"streched\" across missing dimensions to perform array operations.\n",
    "\n",
    "For example,"
   ]
  },
  {
   "cell_type": "code",
   "execution_count": 19,
   "id": "c818b855",
   "metadata": {},
   "outputs": [
    {
     "data": {
      "text/plain": [
       "array([[0., 0., 0.],\n",
       "       [0., 0., 0.],\n",
       "       [0., 0., 0.]])"
      ]
     },
     "execution_count": 19,
     "metadata": {},
     "output_type": "execute_result"
    }
   ],
   "source": [
    "a = np.zeros((3, 3))\n",
    "a"
   ]
  },
  {
   "cell_type": "code",
   "execution_count": 20,
   "id": "94b3b31a",
   "metadata": {},
   "outputs": [
    {
     "data": {
      "text/plain": [
       "array([[1., 2., 3.]])"
      ]
     },
     "execution_count": 20,
     "metadata": {},
     "output_type": "execute_result"
    }
   ],
   "source": [
    "b = np.array((1.0, 2.0, 3.0))\n",
    "b = np.reshape(b, (1, 3))\n",
    "b"
   ]
  },
  {
   "cell_type": "code",
   "execution_count": 21,
   "id": "cdbe633a",
   "metadata": {},
   "outputs": [
    {
     "data": {
      "text/plain": [
       "array([[1., 2., 3.],\n",
       "       [1., 2., 3.],\n",
       "       [1., 2., 3.]])"
      ]
     },
     "execution_count": 21,
     "metadata": {},
     "output_type": "execute_result"
    }
   ],
   "source": [
    "a + b"
   ]
  },
  {
   "cell_type": "code",
   "execution_count": 22,
   "id": "a7e48cb7",
   "metadata": {},
   "outputs": [
    {
     "data": {
      "text/plain": [
       "array([[1.],\n",
       "       [2.],\n",
       "       [3.]])"
      ]
     },
     "execution_count": 22,
     "metadata": {},
     "output_type": "execute_result"
    }
   ],
   "source": [
    "b = np.reshape(b, (3, 1))\n",
    "b"
   ]
  },
  {
   "cell_type": "code",
   "execution_count": 23,
   "id": "bf911ded",
   "metadata": {},
   "outputs": [
    {
     "data": {
      "text/plain": [
       "array([[1., 1., 1.],\n",
       "       [2., 2., 2.],\n",
       "       [3., 3., 3.]])"
      ]
     },
     "execution_count": 23,
     "metadata": {},
     "output_type": "execute_result"
    }
   ],
   "source": [
    "a + b"
   ]
  },
  {
   "cell_type": "markdown",
   "id": "4fb5cc3f",
   "metadata": {},
   "source": [
    "For more on broadcasting see [this tutorial](https://jakevdp.github.io/PythonDataScienceHandbook/02.05-computation-on-arrays-broadcasting.html)."
   ]
  },
  {
   "cell_type": "markdown",
   "id": "91a206ce",
   "metadata": {},
   "source": [
    "### Ufuncs"
   ]
  },
  {
   "cell_type": "markdown",
   "id": "2a47c62d",
   "metadata": {},
   "source": [
    "Many NumPy functions can act on either scalars or arrays.\n",
    "\n",
    "When they act on arrays, they act pointwise.\n",
    "\n",
    "These kinds of functions are called `universal functions` or `ufuncs`."
   ]
  },
  {
   "cell_type": "code",
   "execution_count": 24,
   "id": "115f03c8",
   "metadata": {},
   "outputs": [
    {
     "data": {
      "text/plain": [
       "0.5403023058681398"
      ]
     },
     "execution_count": 24,
     "metadata": {},
     "output_type": "execute_result"
    }
   ],
   "source": [
    "np.cos(1.0)"
   ]
  },
  {
   "cell_type": "code",
   "execution_count": 25,
   "id": "35418329",
   "metadata": {},
   "outputs": [
    {
     "data": {
      "text/plain": [
       "-1.0"
      ]
     },
     "execution_count": 25,
     "metadata": {},
     "output_type": "execute_result"
    }
   ],
   "source": [
    "np.cos(np.pi)"
   ]
  },
  {
   "cell_type": "code",
   "execution_count": 26,
   "id": "9ea4df18",
   "metadata": {},
   "outputs": [],
   "source": [
    "a = np.random.randn(3, 3)"
   ]
  },
  {
   "cell_type": "code",
   "execution_count": 27,
   "id": "0d7e6799",
   "metadata": {},
   "outputs": [
    {
     "data": {
      "text/plain": [
       "array([[0.97808486, 0.99387898, 0.9895217 ],\n",
       "       [0.17583142, 0.30397161, 0.9453401 ],\n",
       "       [0.99903351, 0.94482136, 0.91977907]])"
      ]
     },
     "execution_count": 27,
     "metadata": {},
     "output_type": "execute_result"
    }
   ],
   "source": [
    "np.cos(a)"
   ]
  },
  {
   "cell_type": "markdown",
   "id": "50fe8348",
   "metadata": {},
   "source": [
    "Some user-defined functions will be ufuncs, such as"
   ]
  },
  {
   "cell_type": "code",
   "execution_count": 28,
   "id": "fb351dc7",
   "metadata": {},
   "outputs": [],
   "source": [
    "def f(x):\n",
    "    return np.cos(np.sin(x))"
   ]
  },
  {
   "cell_type": "code",
   "execution_count": 29,
   "id": "ae1241e8",
   "metadata": {},
   "outputs": [
    {
     "data": {
      "text/plain": [
       "array([[0.97840318, 0.99390392, 0.9895947 ],\n",
       "       [0.55334608, 0.57950016, 0.94730339],\n",
       "       [0.99903414, 0.94682182, 0.92397996]])"
      ]
     },
     "execution_count": 29,
     "metadata": {},
     "output_type": "execute_result"
    }
   ],
   "source": [
    "f(a)"
   ]
  },
  {
   "cell_type": "markdown",
   "id": "83aa06a0",
   "metadata": {},
   "source": [
    "But some are not:"
   ]
  },
  {
   "cell_type": "code",
   "execution_count": 30,
   "id": "6a5f9ba6",
   "metadata": {},
   "outputs": [],
   "source": [
    "def f(x):\n",
    "    if x < 0:\n",
    "        return np.cos(x)\n",
    "    else:\n",
    "        return np.sin(x)"
   ]
  },
  {
   "cell_type": "code",
   "execution_count": 31,
   "id": "39832faf",
   "metadata": {},
   "outputs": [
    {
     "ename": "ValueError",
     "evalue": "The truth value of an array with more than one element is ambiguous. Use a.any() or a.all()",
     "output_type": "error",
     "traceback": [
      "\u001b[0;31m---------------------------------------------------------------------------\u001b[0m",
      "\u001b[0;31mValueError\u001b[0m                                Traceback (most recent call last)",
      "Cell \u001b[0;32mIn[31], line 1\u001b[0m\n\u001b[0;32m----> 1\u001b[0m f(a)\n",
      "Cell \u001b[0;32mIn[30], line 2\u001b[0m, in \u001b[0;36mf\u001b[0;34m(x)\u001b[0m\n\u001b[1;32m      1\u001b[0m \u001b[38;5;28;01mdef\u001b[39;00m \u001b[38;5;21mf\u001b[39m(x):\n\u001b[0;32m----> 2\u001b[0m     \u001b[38;5;28;01mif\u001b[39;00m x \u001b[38;5;241m<\u001b[39m \u001b[38;5;241m0\u001b[39m:\n\u001b[1;32m      3\u001b[0m         \u001b[38;5;28;01mreturn\u001b[39;00m np\u001b[38;5;241m.\u001b[39mcos(x)\n\u001b[1;32m      4\u001b[0m     \u001b[38;5;28;01melse\u001b[39;00m:\n",
      "\u001b[0;31mValueError\u001b[0m: The truth value of an array with more than one element is ambiguous. Use a.any() or a.all()"
     ]
    }
   ],
   "source": [
    "f(a)"
   ]
  },
  {
   "cell_type": "markdown",
   "id": "3488098c",
   "metadata": {},
   "source": [
    "If we want to turn this into a vectorized function we can use `np.vectorize`"
   ]
  },
  {
   "cell_type": "code",
   "execution_count": 32,
   "id": "9e208293",
   "metadata": {},
   "outputs": [],
   "source": [
    "f_vec = np.vectorize(f)"
   ]
  },
  {
   "cell_type": "markdown",
   "id": "84ea31b3",
   "metadata": {},
   "source": [
    "Let's test it, and also time it."
   ]
  },
  {
   "cell_type": "code",
   "execution_count": 33,
   "id": "361ae569",
   "metadata": {},
   "outputs": [
    {
     "name": "stdout",
     "output_type": "stream",
     "text": [
      "CPU times: user 4.98 s, sys: 143 ms, total: 5.12 s\n",
      "Wall time: 5.12 s\n"
     ]
    },
    {
     "data": {
      "text/plain": [
       "array([0.00000000e+00, 1.00000010e-07, 2.00000020e-07, ...,\n",
       "       8.41470877e-01, 8.41470931e-01, 8.41470985e-01])"
      ]
     },
     "execution_count": 33,
     "metadata": {},
     "output_type": "execute_result"
    }
   ],
   "source": [
    "a = np.linspace(0, 1, 10_000_000)\n",
    "%time f_vec(a)"
   ]
  },
  {
   "cell_type": "markdown",
   "id": "bd825d90",
   "metadata": {},
   "source": [
    "This is pretty slow.\n",
    "\n",
    "Here's a version of `f` that uses NumPy functions to create a more efficient ufunc."
   ]
  },
  {
   "cell_type": "code",
   "execution_count": 34,
   "id": "0b6c1a3c",
   "metadata": {},
   "outputs": [],
   "source": [
    "def f(x):\n",
    "    return np.where(x < 0, np.cos(x), np.sin(x))"
   ]
  },
  {
   "cell_type": "code",
   "execution_count": 35,
   "id": "b325efdd",
   "metadata": {},
   "outputs": [
    {
     "name": "stdout",
     "output_type": "stream",
     "text": [
      "CPU times: user 118 ms, sys: 20 ms, total: 138 ms\n",
      "Wall time: 138 ms\n"
     ]
    },
    {
     "data": {
      "text/plain": [
       "array([0.00000000e+00, 1.00000010e-07, 2.00000020e-07, ...,\n",
       "       8.41470877e-01, 8.41470931e-01, 8.41470985e-01])"
      ]
     },
     "execution_count": 35,
     "metadata": {},
     "output_type": "execute_result"
    }
   ],
   "source": [
    "%time f(a)"
   ]
  },
  {
   "cell_type": "markdown",
   "id": "4bd3bed8",
   "metadata": {},
   "source": [
    "### Mutability"
   ]
  },
  {
   "cell_type": "markdown",
   "id": "8cb29507",
   "metadata": {},
   "source": [
    "NumPy arrays are mutable (can be altered in memory by any name bound to them)."
   ]
  },
  {
   "cell_type": "code",
   "execution_count": 36,
   "id": "d82b8d4b",
   "metadata": {},
   "outputs": [
    {
     "data": {
      "text/plain": [
       "array([10., 20.])"
      ]
     },
     "execution_count": 36,
     "metadata": {},
     "output_type": "execute_result"
    }
   ],
   "source": [
    "a = np.array((10.0, 20.0))\n",
    "a"
   ]
  },
  {
   "cell_type": "code",
   "execution_count": 37,
   "id": "90d1a0fe",
   "metadata": {},
   "outputs": [],
   "source": [
    "a[0] = 1"
   ]
  },
  {
   "cell_type": "code",
   "execution_count": 38,
   "id": "e6af0dea",
   "metadata": {},
   "outputs": [
    {
     "data": {
      "text/plain": [
       "array([ 1., 20.])"
      ]
     },
     "execution_count": 38,
     "metadata": {},
     "output_type": "execute_result"
    }
   ],
   "source": [
    "a"
   ]
  },
  {
   "cell_type": "code",
   "execution_count": 39,
   "id": "f207ac36",
   "metadata": {},
   "outputs": [],
   "source": [
    "a[:] = 42"
   ]
  },
  {
   "cell_type": "code",
   "execution_count": 40,
   "id": "b6026b90",
   "metadata": {},
   "outputs": [
    {
     "data": {
      "text/plain": [
       "array([42., 42.])"
      ]
     },
     "execution_count": 40,
     "metadata": {},
     "output_type": "execute_result"
    }
   ],
   "source": [
    "a"
   ]
  },
  {
   "cell_type": "markdown",
   "id": "6c8c7a1a",
   "metadata": {},
   "source": [
    "Note that any name bound to an array can be used to mutate it."
   ]
  },
  {
   "cell_type": "code",
   "execution_count": 41,
   "id": "3d19c1e9",
   "metadata": {},
   "outputs": [
    {
     "data": {
      "text/plain": [
       "array([42., 42.])"
      ]
     },
     "execution_count": 41,
     "metadata": {},
     "output_type": "execute_result"
    }
   ],
   "source": [
    "a"
   ]
  },
  {
   "cell_type": "code",
   "execution_count": 42,
   "id": "148a2817",
   "metadata": {},
   "outputs": [],
   "source": [
    "b = a  # bind the name b to the same array object"
   ]
  },
  {
   "cell_type": "code",
   "execution_count": 43,
   "id": "0a6fca25",
   "metadata": {},
   "outputs": [
    {
     "data": {
      "text/plain": [
       "140414831797008"
      ]
     },
     "execution_count": 43,
     "metadata": {},
     "output_type": "execute_result"
    }
   ],
   "source": [
    "id(a)"
   ]
  },
  {
   "cell_type": "code",
   "execution_count": 44,
   "id": "75ee2e63",
   "metadata": {},
   "outputs": [
    {
     "data": {
      "text/plain": [
       "140414831797008"
      ]
     },
     "execution_count": 44,
     "metadata": {},
     "output_type": "execute_result"
    }
   ],
   "source": [
    "id(b)"
   ]
  },
  {
   "cell_type": "code",
   "execution_count": 45,
   "id": "0dfd522c",
   "metadata": {},
   "outputs": [],
   "source": [
    "b[0] = 1_000"
   ]
  },
  {
   "cell_type": "code",
   "execution_count": 46,
   "id": "29442fe5",
   "metadata": {},
   "outputs": [
    {
     "data": {
      "text/plain": [
       "array([1000.,   42.])"
      ]
     },
     "execution_count": 46,
     "metadata": {},
     "output_type": "execute_result"
    }
   ],
   "source": [
    "b"
   ]
  },
  {
   "cell_type": "code",
   "execution_count": 47,
   "id": "9c9368bf",
   "metadata": {},
   "outputs": [
    {
     "data": {
      "text/plain": [
       "array([1000.,   42.])"
      ]
     },
     "execution_count": 47,
     "metadata": {},
     "output_type": "execute_result"
    }
   ],
   "source": [
    "a"
   ]
  },
  {
   "cell_type": "markdown",
   "id": "7bc775f5",
   "metadata": {},
   "source": [
    "## Vectorizing loops"
   ]
  },
  {
   "cell_type": "markdown",
   "id": "3b07417d",
   "metadata": {},
   "source": [
    "### Accelerating slow loops\n",
    "\n",
    "In scripting languages, native loops are slow:"
   ]
  },
  {
   "cell_type": "code",
   "execution_count": 48,
   "id": "0cc018d2",
   "metadata": {},
   "outputs": [],
   "source": [
    "n = 10_000_000\n",
    "x_vec = np.linspace(0.1, 1.1, n)"
   ]
  },
  {
   "cell_type": "markdown",
   "id": "c6c69cc9",
   "metadata": {},
   "source": [
    "Let's say we want to compute the sum of of $\\cos(2\\pi / x)$ over $x$ in"
   ]
  },
  {
   "cell_type": "code",
   "execution_count": 49,
   "id": "6596f741",
   "metadata": {},
   "outputs": [
    {
     "name": "stdout",
     "output_type": "stream",
     "text": [
      "CPU times: user 6.51 s, sys: 0 ns, total: 6.51 s\n",
      "Wall time: 6.51 s\n"
     ]
    }
   ],
   "source": [
    "%%time\n",
    "current_sum = 0.0\n",
    "for x in x_vec:\n",
    "    current_sum += np.cos(2 * np.pi / x)"
   ]
  },
  {
   "cell_type": "markdown",
   "id": "cec8b0c3",
   "metadata": {},
   "source": [
    "The reason is that Python, like most high level languages is dynamically typed.\n",
    "\n",
    "This means that the type of a variable can freely change.\n",
    "\n",
    "Moreover, the interpreter doesn't compile the whole program at once, so it doesn't know when types will change.\n",
    "\n",
    "So the interpreter has to check the type of variables before any operation like addition, comparison, etc.\n",
    "\n",
    "Hence there's a lot of fixed cost for each such operation"
   ]
  },
  {
   "cell_type": "markdown",
   "id": "2586f532",
   "metadata": {},
   "source": [
    "The code runs much faster if we use **vectorized** expressions to avoid explicit loops."
   ]
  },
  {
   "cell_type": "code",
   "execution_count": 50,
   "id": "4f0995d7",
   "metadata": {},
   "outputs": [
    {
     "name": "stdout",
     "output_type": "stream",
     "text": [
      "CPU times: user 90.7 ms, sys: 15.8 ms, total: 106 ms\n",
      "Wall time: 105 ms\n"
     ]
    },
    {
     "data": {
      "text/plain": [
       "1352487.12437786"
      ]
     },
     "execution_count": 50,
     "metadata": {},
     "output_type": "execute_result"
    }
   ],
   "source": [
    "%%time\n",
    "np.sum(np.cos(2 * np.pi / x_vec))"
   ]
  },
  {
   "cell_type": "markdown",
   "id": "f81f4e46",
   "metadata": {},
   "source": [
    "Now high level overheads are paid per *array* rather than per float or integer."
   ]
  },
  {
   "cell_type": "markdown",
   "id": "68ae54d5",
   "metadata": {},
   "source": [
    "### Implict Multithreading\n",
    "\n",
    "\n",
    "Recent versions of Anaconda are compiled with Intel MKL support, which accelerates NumPy operations.\n",
    "\n",
    "Watch system resources when you run this code.  \n",
    "\n",
    "(For example, install `htop` (Linux / Mac), `perfmon` (Windows) or another system load monitor and set it running in another window.)"
   ]
  },
  {
   "cell_type": "code",
   "execution_count": 51,
   "id": "f96f7ba9",
   "metadata": {},
   "outputs": [],
   "source": [
    "n = 20\n",
    "m = 1000\n",
    "for i in range(n):\n",
    "    X = np.random.randn(m, m)\n",
    "    λ = np.linalg.eigvals(X)"
   ]
  },
  {
   "cell_type": "markdown",
   "id": "04377335",
   "metadata": {},
   "source": [
    "You should see all your cores light up.  With MKL, many matrix operations are automatically parallelized."
   ]
  }
 ],
 "metadata": {
  "kernelspec": {
   "display_name": "Python 3 (ipykernel)",
   "language": "python",
   "name": "python3"
  },
  "language_info": {
   "codemirror_mode": {
    "name": "ipython",
    "version": 3
   },
   "file_extension": ".py",
   "mimetype": "text/x-python",
   "name": "python",
   "nbconvert_exporter": "python",
   "pygments_lexer": "ipython3",
   "version": "3.11.7"
  }
 },
 "nbformat": 4,
 "nbformat_minor": 5
}
