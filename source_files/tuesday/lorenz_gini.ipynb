{
 "cells": [
  {
   "cell_type": "markdown",
   "id": "c667f5ce",
   "metadata": {},
   "source": [
    "# Lorenz Curves and Gini Coefficients\n",
    "\n",
    "-----\n",
    "\n",
    "#### John Stachurski\n",
    "\n",
    "#### Prepared for the CBC Computational Workshop (May 2024)\n",
    "\n",
    "-----\n",
    "\n",
    "This notebook contains some exercises related to the Lorenz curve and the Gini\n",
    "coefficient, which are often used to study inequality.\n",
    "\n",
    "Our task will be to compute and examine these curves and values.\n",
    "\n",
    "Uncomment the following if necessary"
   ]
  },
  {
   "cell_type": "code",
   "execution_count": null,
   "id": "b2970b2c",
   "metadata": {},
   "outputs": [],
   "source": [
    "#!pip install quantecon "
   ]
  },
  {
   "cell_type": "markdown",
   "id": "c355bc91",
   "metadata": {},
   "source": [
    "We use the following imports."
   ]
  },
  {
   "cell_type": "code",
   "execution_count": null,
   "id": "f3a6c868",
   "metadata": {},
   "outputs": [],
   "source": [
    "import numba\n",
    "import numpy as np\n",
    "import matplotlib.pyplot as plt\n",
    "import quantecon as qe"
   ]
  },
  {
   "cell_type": "markdown",
   "id": "09d40af7",
   "metadata": {},
   "source": [
    "## The Lorenz curve \n",
    "\n",
    "Let's start by examining the Lorenz curve.\n",
    "\n",
    "### Definition\n",
    "\n",
    "Let $w_1, \\ldots, w_n$ be a sample of observations of wealth (or income, or consumption, or firm sizes, etc.) in a population.\n",
    "\n",
    "Suppose the sample has been sorted from smallest to largest.\n",
    "\n",
    "The Lorenz curve takes this sample and produces a curve $L$.\n",
    "\n",
    "To create it we first generate data points $(x_i, y_i)_{i=0}^n$  according to\n",
    "\n",
    "\\begin{equation*}\n",
    "    x_0 = y_0 = 0\n",
    "    \\qquad \\text{and, for $i \\geq 1$,} \\quad\n",
    "    x_i = \\frac{i}{n},\n",
    "    \\qquad\n",
    "    y_i =\n",
    "       \\frac{\\sum_{j \\leq i} w_j}{\\sum_{j \\leq n} w_j}  \n",
    "\\end{equation*}\n",
    "\n",
    "Now the Lorenz curve $L$ is formed from these data points using interpolation.\n",
    "\n",
    "The meaning of the statement $y = L(x)$ is that the lowest $(100 \\times x)$\\% of\n",
    "people have $(100 \\times y)$\\% of all wealth.\n",
    "\n",
    "* if $x=0.5$ and $y=0.1$, then the bottom 50% of the population\n",
    "  owns 10% of the wealth."
   ]
  },
  {
   "cell_type": "markdown",
   "id": "5905bf47",
   "metadata": {},
   "source": [
    "### Using QuantEcon's routine\n",
    "\n",
    "Let's look at an example.\n",
    "\n",
    "First we generate $n=2000$ draws from a lognormal distribution and treat these draws as our population."
   ]
  },
  {
   "cell_type": "code",
   "execution_count": null,
   "id": "06638d1a",
   "metadata": {},
   "outputs": [],
   "source": [
    "n = 2000\n",
    "sample = np.exp(np.random.randn(n))       # Lognormal sample"
   ]
  },
  {
   "cell_type": "markdown",
   "id": "46f7503a",
   "metadata": {},
   "source": [
    "We then generate the Lorenz curve using a routine from `quantecon`."
   ]
  },
  {
   "cell_type": "code",
   "execution_count": null,
   "id": "4c9fdf64",
   "metadata": {},
   "outputs": [],
   "source": [
    "x, y = qe.lorenz_curve(sample)            # QuantEcon routine (no need to sort)"
   ]
  },
  {
   "cell_type": "markdown",
   "id": "fc8f220a",
   "metadata": {},
   "source": [
    "Now let's plot.\n",
    "\n",
    "The straight line ($x=L(x)$ for all $x$) corresponds to perfect equality.  \n",
    "\n",
    "The lognormal draws produce a less equal distribution."
   ]
  },
  {
   "cell_type": "code",
   "execution_count": null,
   "id": "35f2b2b3",
   "metadata": {},
   "outputs": [],
   "source": [
    "fig, ax = plt.subplots()\n",
    "ax.plot(x, y, label=f'lognormal sample', lw=2)\n",
    "ax.plot(x, x, label='equality', lw=2)\n",
    "ax.legend(fontsize=12)\n",
    "ax.set_ylim((0, 1))\n",
    "ax.set_xlim((0, 1))\n",
    "j = 1600  # dashed lines for j-th element\n",
    "ax.vlines(x[j], [0.0], y[j], alpha=0.5, colors='k', ls='--')\n",
    "ax.hlines(y[j], [0], x[j], alpha=0.5, colors='k', ls='--')\n",
    "plt.show()"
   ]
  },
  {
   "cell_type": "markdown",
   "id": "56ab4eca",
   "metadata": {},
   "source": [
    "For example, if we imagine these draws as being observations of wealth across a\n",
    "sample of households, then the dashed lines show that the bottom 80\\% of\n",
    "households own just over 40\\% of total wealth."
   ]
  },
  {
   "cell_type": "markdown",
   "id": "9c3f8f35",
   "metadata": {},
   "source": [
    "### Exercise: write a NumPy version\n",
    "\n",
    "Using the definition of the Lorenz curve given above and NumPy, try to write\n",
    "your own version of `qe.lorenz_curve`.  \n",
    "\n",
    "See if you can write a version without any explicity loops.\n",
    "\n",
    "Try to replicate the figure above, using the same lognormal data set."
   ]
  },
  {
   "cell_type": "code",
   "execution_count": null,
   "id": "201403f6",
   "metadata": {},
   "outputs": [],
   "source": [
    "# Put your code here"
   ]
  },
  {
   "cell_type": "code",
   "execution_count": null,
   "id": "472ebdcc",
   "metadata": {},
   "outputs": [],
   "source": [
    "for i in range(16):\n",
    "    print(\"Solution below!\")"
   ]
  },
  {
   "cell_type": "markdown",
   "id": "dcf0b1f1",
   "metadata": {},
   "source": [
    "Here's one solution:"
   ]
  },
  {
   "cell_type": "code",
   "execution_count": null,
   "id": "1187e4cc",
   "metadata": {},
   "outputs": [],
   "source": [
    "def lorenz_curve(w):\n",
    "    n = len(w)\n",
    "    w = np.sort(w)\n",
    "    x = np.arange(n + 1) / n\n",
    "    s = np.concatenate((np.zeros(1), np.cumsum(w)))\n",
    "    y = s / s[n]\n",
    "    return x, y"
   ]
  },
  {
   "cell_type": "markdown",
   "id": "29327057",
   "metadata": {},
   "source": [
    "Let's test it:"
   ]
  },
  {
   "cell_type": "code",
   "execution_count": null,
   "id": "5ad93c2e",
   "metadata": {},
   "outputs": [],
   "source": [
    "x, y = lorenz_curve(sample)    # Our routine\n",
    "\n",
    "fig, ax = plt.subplots()\n",
    "ax.plot(x, y, label=f'lognormal sample', lw=2)\n",
    "ax.plot(x, x, label='equality', lw=2)\n",
    "ax.legend(fontsize=12)\n",
    "ax.set_ylim((0, 1))\n",
    "ax.set_xlim((0, 1))\n",
    "j = 1600  # dashed lines for j-th element\n",
    "ax.vlines(x[j], [0.0], y[j], alpha=0.5, colors='k', ls='--')\n",
    "ax.hlines(y[j], [0], x[j], alpha=0.5, colors='k', ls='--')\n",
    "plt.show()"
   ]
  },
  {
   "cell_type": "markdown",
   "id": "fdf862e0",
   "metadata": {},
   "source": [
    "### A Numba version\n",
    "\n",
    "If you prefer, you can use a for loop accelerated by Numba to compute the\n",
    "Lorenz curve:"
   ]
  },
  {
   "cell_type": "code",
   "execution_count": null,
   "id": "8ee2377c",
   "metadata": {},
   "outputs": [],
   "source": [
    "@numba.jit\n",
    "def lorenz_curve(w):\n",
    "    n = len(w)\n",
    "    w = np.sort(w)\n",
    "    s = np.zeros(n + 1)\n",
    "    s[1:] = np.cumsum(w)  # s[i] = sum_{j <= i} w_j\n",
    "    x = np.zeros(n + 1)\n",
    "    y = np.zeros(n + 1)\n",
    "    for i in range(1, n + 1):\n",
    "        x[i] = i / n\n",
    "        y[i] = s[i] / s[n]\n",
    "    return x, y\n",
    "\n",
    "\n",
    "x, y = lorenz_curve(sample)    # Our routine\n",
    "\n",
    "fig, ax = plt.subplots()\n",
    "ax.plot(x, y, label=f'lognormal sample', lw=2)\n",
    "ax.plot(x, x, label='equality', lw=2)\n",
    "ax.legend(fontsize=12)\n",
    "ax.set_ylim((0, 1))\n",
    "ax.set_xlim((0, 1))\n",
    "j = 1600  # dashed lines for j-th element\n",
    "ax.vlines(x[j], [0.0], y[j], alpha=0.5, colors='k', ls='--')\n",
    "ax.hlines(y[j], [0], x[j], alpha=0.5, colors='k', ls='--')\n",
    "plt.show()"
   ]
  },
  {
   "cell_type": "markdown",
   "id": "500f427b",
   "metadata": {},
   "source": [
    "## The Gini coefficient\n",
    "\n",
    "Now let's examine the Gini coefficient.\n",
    "\n",
    "\n",
    "### Definition\n",
    "\n",
    "\n",
    "Continuing to assume that $w_1, \\ldots, w_n$ has been sorted from smallest to largest,\n",
    "the Gini coefficient of the sample is defined by\n",
    "\n",
    "\\begin{equation}\n",
    "    \\label{eq:gini}\n",
    "    G :=\n",
    "    \\frac\n",
    "        {\\sum_{i=1}^n \\sum_{j = 1}^n |w_j - w_i|}\n",
    "        {2n\\sum_{i=1}^n w_i}.\n",
    "\\end{equation}\n",
    "\n",
    "\n",
    "\n",
    "### Using QuantEcon's routine\n",
    "\n",
    "Let's study the Gini coefficient in some simulations using `gini_coefficient`\n",
    "from `quantecon`.\n",
    "\n",
    "The following code computes the Gini coefficients for five different populations.\n",
    "\n",
    "Each of these populations is generated by drawing from a lognormal distribution with parameters $\\mu$ (mean) and $\\sigma$ (standard deviation).\n",
    "\n",
    "To create the five populations, we vary $\\sigma$ over a grid of length $5$\n",
    "between $0.2$ and $4$.\n",
    "\n",
    "In each case we set $\\mu = - \\sigma^2 / 2$, so that the mean of the distribution does not change with $\\sigma$."
   ]
  },
  {
   "cell_type": "code",
   "execution_count": null,
   "id": "21e07ef8",
   "metadata": {},
   "outputs": [],
   "source": [
    "k = 5\n",
    "σ_vals = np.linspace(0.2, 4, k)\n",
    "n = 2_000\n",
    "ginis = []\n",
    "for σ in σ_vals:\n",
    "    # Generate the data\n",
    "    μ = -σ**2 / 2\n",
    "    y = np.exp(μ + σ * np.random.randn(n))\n",
    "    ginis.append(qe.gini_coefficient(y))  # Uses quantecon routine\n",
    "\n",
    "fig, ax = plt.subplots()\n",
    "ax.plot(σ_vals, ginis, marker='o')\n",
    "ax.set_xlabel('$\\sigma$', fontsize=12)\n",
    "ax.set_ylabel('Gini coefficient', fontsize=12)\n",
    "plt.show()"
   ]
  },
  {
   "cell_type": "markdown",
   "id": "be0fb83e",
   "metadata": {},
   "source": [
    "The plots show that inequality rises with $\\sigma$ (as measured by the Gini coefficient)."
   ]
  },
  {
   "cell_type": "markdown",
   "id": "1562aa92",
   "metadata": {},
   "source": [
    "### A NumPy version\n",
    "\n",
    "Let's write our own function to compute the Gini coefficient.\n",
    "\n",
    "We'll start with a NumPy version that uses vectorized code to avoid loops."
   ]
  },
  {
   "cell_type": "code",
   "execution_count": null,
   "id": "6607ac05",
   "metadata": {},
   "outputs": [],
   "source": [
    "def gini(w):\n",
    "    w_size = len(w)\n",
    "    w_1 = np.reshape(w, (w_size, 1))\n",
    "    w_2 = np.reshape(w, (1, w_size))\n",
    "    g_sum = np.sum(np.abs(w_1 - w_2))\n",
    "    return g_sum / (2 * w_size * np.sum(w))"
   ]
  },
  {
   "cell_type": "code",
   "execution_count": null,
   "id": "0d190ca1",
   "metadata": {},
   "outputs": [],
   "source": [
    "ginis = []\n",
    "for σ in σ_vals:\n",
    "    # Generate the data\n",
    "    μ = -σ**2 / 2\n",
    "    y = np.exp(μ + σ * np.random.randn(n))\n",
    "    ginis.append(gini(y))  # Use our NumPy version\n",
    "\n",
    "fig, ax = plt.subplots()\n",
    "ax.plot(σ_vals, ginis, marker='o')\n",
    "ax.set_xlabel('$\\sigma$', fontsize=12)\n",
    "ax.set_ylabel('Gini coefficient', fontsize=12)\n",
    "plt.show()"
   ]
  },
  {
   "cell_type": "markdown",
   "id": "1dc2b0f6",
   "metadata": {},
   "source": [
    "Notice, however, that the NumPy version of the Gini function is very memory intensive, since we create large intermediate arrays.\n",
    "\n",
    "For example, consider the following"
   ]
  },
  {
   "cell_type": "code",
   "execution_count": null,
   "id": "a45281b9",
   "metadata": {},
   "outputs": [],
   "source": [
    "w = np.exp(np.random.randn(1_000_000))\n",
    "w.sort()"
   ]
  },
  {
   "cell_type": "code",
   "execution_count": null,
   "id": "8c49f2d5",
   "metadata": {},
   "outputs": [],
   "source": [
    "gini(w)"
   ]
  },
  {
   "cell_type": "markdown",
   "id": "c3ae67a9",
   "metadata": {},
   "source": [
    "Unless you have massive memory, the code above gives an out-of-memory error.\n",
    "\n",
    "The next exercise asks you to write a more memory efficient version."
   ]
  },
  {
   "cell_type": "markdown",
   "id": "c50c07e9",
   "metadata": {},
   "source": [
    "### Exercise: A Numba version\n",
    "\n",
    "Try to write your own function that computes the Gini coefficient, this time\n",
    "using Numba and loops to produce effient code\n",
    "\n",
    "* Try to replicate the Gini figure above.\n",
    "* If possible, parallelize one of the loops\n",
    "* See if your code runs on `w = np.exp(np.random.randn(1_000_000))`"
   ]
  },
  {
   "cell_type": "code",
   "execution_count": null,
   "id": "62e829bb",
   "metadata": {},
   "outputs": [],
   "source": [
    "# Put your code here"
   ]
  },
  {
   "cell_type": "code",
   "execution_count": null,
   "id": "e53ecf27",
   "metadata": {},
   "outputs": [],
   "source": [
    "for i in range(18):\n",
    "    print(\"Solution below!\")"
   ]
  },
  {
   "cell_type": "markdown",
   "id": "c6edd2e1",
   "metadata": {},
   "source": [
    "Here's one solution.\n",
    "\n",
    "Notice how easy it is to parallelize the loop --- even though `s` is common across the outer loops, which violates independence, this loop is still efficiently parallelized."
   ]
  },
  {
   "cell_type": "code",
   "execution_count": null,
   "id": "7ebcb2b5",
   "metadata": {},
   "outputs": [],
   "source": [
    "@numba.jit(parallel=True)\n",
    "def gini_numba(w):\n",
    "    n = len(w)\n",
    "    s = 0.0\n",
    "    for i in numba.prange(n):\n",
    "        for j in range(n):\n",
    "            s += abs(w[i] - w[j])\n",
    "    return s / (2 * n * np.sum(w))"
   ]
  },
  {
   "cell_type": "markdown",
   "id": "82454104",
   "metadata": {},
   "source": [
    "Let's recreate the figure."
   ]
  },
  {
   "cell_type": "code",
   "execution_count": null,
   "id": "2eb6b53f",
   "metadata": {},
   "outputs": [],
   "source": [
    "ginis = []\n",
    "\n",
    "for σ in σ_vals:\n",
    "    μ = -σ**2 / 2\n",
    "    y = np.exp(μ + σ * np.random.randn(n))\n",
    "    ginis.append(gini_numba(y))  # Use Numba version\n",
    "\n",
    "\n",
    "fig, ax = plt.subplots()\n",
    "ax.plot(σ_vals, ginis, marker='o')\n",
    "ax.set_xlabel('$\\sigma$', fontsize=12)\n",
    "ax.set_ylabel('Gini coefficient', fontsize=12)\n",
    "plt.show()"
   ]
  },
  {
   "cell_type": "markdown",
   "id": "5888ab00",
   "metadata": {},
   "source": [
    "And let's see if it works on the large data set we considered above.\n",
    "\n",
    "(Note that it will take a couple of minutes to run!)"
   ]
  },
  {
   "cell_type": "code",
   "execution_count": null,
   "id": "2e12442b",
   "metadata": {},
   "outputs": [],
   "source": [
    "w = np.exp(np.random.randn(1_000_000))\n",
    "w.sort()\n",
    "gini_numba(w)"
   ]
  },
  {
   "cell_type": "code",
   "execution_count": null,
   "id": "ba81fcd2",
   "metadata": {},
   "outputs": [],
   "source": []
  }
 ],
 "metadata": {
  "kernelspec": {
   "display_name": "Python 3 (ipykernel)",
   "language": "python",
   "name": "python3"
  }
 },
 "nbformat": 4,
 "nbformat_minor": 5
}
