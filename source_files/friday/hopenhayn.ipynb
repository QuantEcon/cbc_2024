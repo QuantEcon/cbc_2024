{
 "cells": [
  {
   "cell_type": "markdown",
   "id": "6f03cdac",
   "metadata": {},
   "source": [
    "# The Hopenhayn Entry-Exit Model\n",
    "\n",
    "------\n",
    "\n",
    "#### John Stachurski\n",
    "\n",
    "#### Prepared for the CBC Workshop (May 2024)\n",
    "\n",
    "## Outline\n",
    "\n",
    "The Hopenhayn (1992, ECMA) entry-exit model is a highly influential (partial equilibrium) heterogeneous agent model where \n",
    "\n",
    "* the agents receiving idiosyncratic shocks are firms, and\n",
    "* the model produces a non-trivial firm size distribution and a range of predictions for firm dynamics.\n",
    "\n",
    "We are going to study an extension of the basic model that has unbounded productivity.\n",
    "\n",
    "Among other things, this allows us to match the heavy tail observed in the firm size distribution data.\n",
    "\n",
    "The code for computing the equilibrium will be written in Python/JAX.\n",
    "\n",
    "We will use the following imports."
   ]
  },
  {
   "cell_type": "code",
   "execution_count": 1,
   "id": "9a6ad586",
   "metadata": {},
   "outputs": [],
   "source": [
    "import numpy as np\n",
    "import jax.numpy as jnp\n",
    "import jax.random as random\n",
    "import jax\n",
    "import quantecon as qe\n",
    "import time\n",
    "import matplotlib.pyplot as plt\n",
    "from collections import namedtuple"
   ]
  },
  {
   "cell_type": "markdown",
   "id": "10a81e37",
   "metadata": {},
   "source": [
    "## The Model\n",
    "\n",
    "\n",
    "### Environment\n",
    "\n",
    "There is a single good produced by a continuum of competitive firms.\n",
    "\n",
    "The productivity $\\varphi_t = \\varphi_t^i$ of each firm evolves randomly on $\\mathbb R_+$.\n",
    "\n",
    "* the $i$ superscript indicates the $i$-th firm and we drop it in what follows\n",
    "\n",
    "A firm with productivity $\\varphi$ facing output price $p$ and wage rate $w$ earns current profits\n",
    "\n",
    "$$\n",
    "    \\pi(\\varphi, p) = p \\varphi n^\\theta - c  - wn\n",
    "$$\n",
    "\n",
    "Here \n",
    "\n",
    "- $\\theta \\in (0,1)$ is a productivity parameter, \n",
    "- $c$ is a fixed cost and \n",
    "- $n$ is labor input.\n",
    "\n",
    "Maximizing over $n$ leads to\n",
    "\n",
    "$$\n",
    "    \\pi(\\varphi, p) = (1 - \\theta) (p \\varphi)^\\eta\n",
    "    \\left(\\frac{\\theta}{w} \\right)^{\\theta / \\eta} - c\n",
    "$$\n",
    "\n",
    "where $\\eta := 1/(1-\\theta)$.\n",
    "\n",
    "Output is\n",
    "\n",
    "$$\n",
    "    q(\\varphi, p) = \\varphi^\\eta\n",
    "    \\left( \\frac{p \\theta}{w}\\right)^{\\theta / \\eta}\n",
    "$$  \n",
    "\n",
    "Productivity of incumbents is independent across firms and grows according to \n",
    "\n",
    "\n",
    "$$ \\varphi_{t+1} \\sim \\Gamma(\\varphi_t, d \\varphi') $$\n",
    "\n",
    "Here $\\Gamma$ is a Markov transition kernel, so that $\\Gamma(\\varphi, d\n",
    "                                                             \\varphi')$ is the\n",
    "distribution over $\\mathbb R_+$ given $\\varphi \\in \\mathbb R_+$.\n",
    "\n",
    "For example,\n",
    "\n",
    "$$ \n",
    "   \\int \\pi(\\varphi', p) \\Gamma(\\varphi, d \\varphi')\n",
    "    = \\mathbb E[ \\pi(\\varphi_{t+1}, p) \\,|\\, \\varphi_t = \\varphi ]\n",
    "$$\n",
    "\n",
    "New entrants obtain their productivity draw from a fixed distribution $\\gamma$.\n",
    "\n",
    "\n",
    "Demand is \n",
    "\n",
    "$$D(p) = 1/p $$"
   ]
  },
  {
   "cell_type": "markdown",
   "id": "4c27d9c9",
   "metadata": {},
   "source": [
    "### Firm decisions\n",
    "\n",
    "The intertemporal firm decision problem is choosing when to exit.\n",
    "\n",
    "The timing is:\n",
    "\n",
    "1. produce and receive current profits $\\pi(\\varphi, p)$\n",
    "2. decide whether to continue or exit.\n",
    "\n",
    "Scrap value is set to zero and the discount rate is $\\beta \\in (0, 1)$.\n",
    "\n",
    "The firm makes their stop-continue choice by first solving for the value function, which is the unique solution in a class of continuous functions $\\mathscr C$ (details omitted) to\n",
    "\n",
    "\\begin{equation}\n",
    "    v(\\varphi, p) = \\pi(\\varphi, p) + \\beta \n",
    "        \\max \\left\\{ 0, \\int v(\\varphi', p) \\Gamma(\\varphi, d \\varphi') \\right\\}.\n",
    "\\end{equation}\n",
    "\n",
    "Let $\\bar v$ be the unique solution to this functional equation."
   ]
  },
  {
   "cell_type": "markdown",
   "id": "4d534dd6",
   "metadata": {},
   "source": [
    "Given $\\bar v$, we let $\\bar \\varphi$ be the exit threshold function defined by\n",
    "%\n",
    "\\begin{equation}\n",
    "    \\bar \\varphi(p) := \n",
    "    \\min\n",
    "    \\left\\{ \n",
    "        \\varphi \\geq 0  \n",
    "        \\;\\; \\big| \\;\n",
    "        \\int \\bar v(\\varphi', p) \\, \\Gamma(\\varphi, d \\varphi') \\geq 0\n",
    "    \\right\\}.\n",
    "\\end{equation}\n",
    "%\n",
    "With the convention that incumbents who are indifferent \n",
    "remain rather than exit, an incumbent with productivity $\\varphi$ exits\n",
    "if and only if $\\varphi < \\bar \\varphi (p)$."
   ]
  },
  {
   "cell_type": "markdown",
   "id": "28197c08",
   "metadata": {},
   "source": [
    "### Equilibrium \n",
    "\n",
    "Now we describe a stationary recursive equilibrium in the model, where\n",
    "\n",
    "* the goods market clears (supply equals demand)\n",
    "* the firm size distribution is stationary over time (an invariance condition)\n",
    "* the mass of entrants equals the mass of exiting firms, and\n",
    "* entering firms satisfy a break-even condition.\n",
    "\n",
    "The break-even condition means that expected lifetime value given an initial draw from $\\gamma$ is just equal to the fixed cost of entry, which we denote by $c_e$.\n",
    "\n",
    "Let's now state this more formally\n",
    "\n",
    "To begin, let $\\mathscr B$ be the Borel subsets of $\\mathbb R_+$ and $\\mathscr M$ be all measures\n",
    "on $\\mathscr B$.  \n",
    "\n",
    "Taking $\\bar v$ and $\\bar \\varphi$ as defined in the previous\n",
    "section, a **stationary recursive equilibrium**  is a triple \n",
    "%\n",
    "\\begin{equation*}\n",
    "    (p, M, \\mu) \\quad \\text{ in } \\quad\n",
    "    \\mathscr E := (0, \\infty) \\times (0, \\infty) \\times \\mathscr M,\n",
    "\\end{equation*}\n",
    "%\n",
    "with $p$ understood as price, $M$ as mass of entrants, and $\\mu$ as a\n",
    "distribution of firms over productivity levels, such that the goods market clears, or\n",
    "%\n",
    "\\begin{equation}\n",
    "    \\int q( \\varphi, p) \\mu(d \\varphi) = D(p),\n",
    "\\end{equation}\n",
    "%\n",
    "the *invariance condition* over the firm distribution\n",
    "%\n",
    "\\begin{equation}\n",
    "    \\mu (B) \n",
    "    = \\int \\Gamma(\\varphi, B) \\, \\mathbf{1}  \\{\\varphi \\geq \\bar \\varphi(p)\\} \\,\n",
    "    \\mu(d \\varphi)\n",
    "    + M \\, \\gamma(B) \n",
    "    \\text{ for all } B \\in \\mathscr B,\n",
    "\\end{equation}\n",
    "%\n",
    "holds (see below for intuition), the *equilibrium entry condition*\n",
    "%\n",
    "\\begin{equation}\n",
    "    \\int \\bar v( \\varphi, p) \\, \\gamma(d \\varphi) = c_e\n",
    "\\end{equation}\n",
    "%\n",
    "holds, and the *balanced entry and exit condition*\n",
    "%\n",
    "\\begin{equation}\n",
    "    M = \\mu \\{ \\varphi < \\bar \\varphi(p) \\}\n",
    "\\end{equation}\n",
    "%\n",
    "is verified.\n",
    "\n",
    "The invariance condition says that, for any subset $B$ of the state space, the mass of firms with productivity in set $B$ today (the left-hand side) is equal to the mass of firms with productivity in set $B$ tomorrow (the right-hand side)."
   ]
  },
  {
   "cell_type": "markdown",
   "id": "fcff2869",
   "metadata": {},
   "source": [
    "### Computing equilibrium\n",
    "\n",
    "We compute the equilibrium as follows:\n",
    "\n",
    "For the purposes of this section, we insert balanced entry and\n",
    "exit into the time invariance condition, yielding\n",
    "%\n",
    "\\begin{equation}\n",
    "    \\mu (B) \n",
    "    = \\int \\Pi(\\varphi, B) \\mu (d \\varphi)\n",
    "    \\quad \\text{for all } B \\in \\mathscr B,\n",
    "\\end{equation}\n",
    "%\n",
    "where $\\Pi$ is the transition kernel on $\\mathbb R_+$ defined by\n",
    "%\n",
    "\\begin{equation}\n",
    "    \\Pi(\\varphi, B) \n",
    "    = \\Gamma(\\varphi, B) \\mathbf{1} \\{\\varphi \\geq \\bar \\varphi(p) \\} + \n",
    "    \\mathbf{1} \\{\\varphi < \\bar \\varphi(p)\\} \\gamma(B).\n",
    "\\end{equation}\n",
    "%\n",
    "\n",
    "Under our assumptions, for each $p > 0$, there exists a unique $\\mu$ satisfying\n",
    "this invariance law.\n",
    "\n",
    "Let $\\mathscr P$ be the probability measures on $\\mathbb R_+$.\n",
    "\n",
    "The unique stationary equilibrium can be computed as follows:\n",
    "\n",
    "1. Obtain $\\bar v$ as the unique solution to the Bellman equation, and\n",
    "        then calculate the exit threshold function $\\bar \\varphi$.\n",
    "2. Solve for the equilibrium entry price $p^*$ by solving the entry condition.\n",
    "3. Define $\\Pi$ as above, using $p^*$ as the price, and compute $\\mu$\n",
    "        as the unique solution to the invariance condition.\n",
    "4. Rescale $\\mu$ by setting $s := D(p^*)/ \\int q( \\varphi, p^*)\n",
    "        \\mu(d \\varphi)$ and then $\\mu^* := s \\, \\mu$.\n",
    "5. Obtain the mass of entrants via $M^* = \\mu^* \\{ \\varphi < \\bar \\varphi(p^*) \\}$."
   ]
  },
  {
   "cell_type": "markdown",
   "id": "1d4380e1",
   "metadata": {},
   "source": [
    "When we compute the distribution $\\mu$ in step 3, we will use the fact that it\n",
    "is the stationary distribution of the Markov transition kernel $\\Pi(\\varphi, d\n",
    "                                                                    \\varphi)$.\n",
    "\n",
    "This transition kernel turns out to be *ergodic*, which means that if we simulate a cross-section of firms according to $\\Pi$ for a large number of periods, the resulting sample (cross-section of productivities) will approach a set of IID draws from $\\mu$.  \n",
    "\n",
    "This allows us to \n",
    "\n",
    "1. compute integrals with respect to the distribution using Monte Carlo, and\n",
    "2. investigate the shape and properties of the stationary distribution."
   ]
  },
  {
   "cell_type": "markdown",
   "id": "7989d72f",
   "metadata": {},
   "source": [
    "### Specification of dynamics\n",
    "\n",
    "Before solving the model we need to specify $\\Gamma$ and $\\gamma$.\n",
    "\n",
    "We assume $\\Gamma(\\varphi, d \\varphi')$ is given by\n",
    "\n",
    "$$\n",
    "    \\varphi_{t+1} = A_{t+1} \\varphi_t \n",
    "$$\n",
    "\n",
    "We assume that $(A_t)$ is IID over time, independent across firms, and lognormal $LN(m_a, \\sigma_a)$.\n",
    "\n",
    "(This means that incumbents follow Gibrat's law, which is a reasonable assumption for medium to large firms -- and hence for incumbents.)\n",
    "\n",
    "New entrants are drawn from a lognormal distribution $LN(m_e, \\sigma_e)$."
   ]
  },
  {
   "cell_type": "markdown",
   "id": "bc978107",
   "metadata": {},
   "source": [
    "## Code"
   ]
  },
  {
   "cell_type": "markdown",
   "id": "5efc8c52",
   "metadata": {},
   "source": [
    "We use 64 bit floats for extra precision."
   ]
  },
  {
   "cell_type": "code",
   "execution_count": 2,
   "id": "fe45ab6f",
   "metadata": {},
   "outputs": [],
   "source": [
    "jax.config.update(\"jax_enable_x64\", True)"
   ]
  },
  {
   "cell_type": "markdown",
   "id": "9358f074",
   "metadata": {},
   "source": [
    "We store the parameters, grids and Monte Carlo draws in a `namedtuple`."
   ]
  },
  {
   "cell_type": "code",
   "execution_count": 3,
   "id": "c973ac54",
   "metadata": {},
   "outputs": [],
   "source": [
    "Parameters = namedtuple(\"Parameters\", \n",
    "    (\"β\",             # discount factor        \n",
    "     \"θ\",             # labor productivity\n",
    "     \"c\",             # fixed cost in production\n",
    "     \"c_e\",           # entry cost\n",
    "     \"w\",             # wages\n",
    "     \"m_a\",           # productivity shock location parameter\n",
    "     \"σ_a\",           # productivity shock scale parameter\n",
    "     \"m_e\",           # new entrant location parameter\n",
    "     \"σ_e\"))          # new entrant scale parameter"
   ]
  },
  {
   "cell_type": "code",
   "execution_count": 4,
   "id": "34168ea6",
   "metadata": {},
   "outputs": [],
   "source": [
    "Grids = namedtuple(\"Grids\",\n",
    "    (\"φ_grid\",        # productivity grid\n",
    "     \"E_draws\",       # entry size draws for Monte Carlo\n",
    "     \"A_draws\"))      # productivity shock draws for Monte Carlo"
   ]
  },
  {
   "cell_type": "code",
   "execution_count": 5,
   "id": "90e7aebe",
   "metadata": {},
   "outputs": [],
   "source": [
    "Model = namedtuple(\"Model\",\n",
    "    (\"parameters\",    # instance of Parameters\n",
    "     \"grids\"))        # instance of Grids"
   ]
  },
  {
   "cell_type": "code",
   "execution_count": 6,
   "id": "9df0327b",
   "metadata": {},
   "outputs": [],
   "source": [
    "def create_model(β=0.95,             # discount factor\n",
    "                 θ=0.3,              # labor productivity\n",
    "                 c=4.0,              # fixed cost in production\n",
    "                 c_e=1.0,            # entry cost\n",
    "                 w=1.0,              # wages\n",
    "                 m_a=-0.012,         # productivity shock location parameter\n",
    "                 σ_a=0.1,            # productivity shock scale parameter\n",
    "                 m_e=1.0,            # new entrant location parameter\n",
    "                 σ_e=0.2,            # new entrant scale parameter\n",
    "                 φ_grid_max=5,       # productivity grid max\n",
    "                 φ_grid_size=100,    # productivity grid size\n",
    "                 E_draw_size=200,    # entry MC integration size\n",
    "                 A_draw_size=200,    # prod shock MC integration size\n",
    "                 seed=1234):         # Seed for MC draws\n",
    "    \"\"\"\n",
    "    Create an instance of the `namedtuple` Model using default parameter values.\n",
    "    \"\"\"\n",
    "    \n",
    "    # Test stability\n",
    "    assert m_a + σ_a**2 / (2 * (1 - θ)) < 0, \"Stability condition fails\"\n",
    "    # Build grids and initialize random number generator\n",
    "    φ_grid = jnp.linspace(0, φ_grid_max, φ_grid_size)\n",
    "    key, subkey = random.split(random.PRNGKey(seed))\n",
    "    # Generate a sample of draws of A for Monte Carlo integration\n",
    "    A_draws = jnp.exp(m_a + σ_a * jax.random.normal(key, (A_draw_size,)))\n",
    "    # Generate a sample of draws from γ for Monte Carlo\n",
    "    E_draws = jnp.exp(m_e + σ_e * jax.random.normal(subkey, (E_draw_size,)))\n",
    "    # Build namedtuple and return\n",
    "    parameters = Parameters(β, θ, c, c_e, w, m_a, σ_a, m_e, σ_e)\n",
    "    grids = Grids(φ_grid, E_draws, A_draws)\n",
    "    model = Model(parameters, grids)\n",
    "    return model"
   ]
  },
  {
   "cell_type": "markdown",
   "id": "12f79ed0",
   "metadata": {},
   "source": [
    "Let us write down functions for profits and output."
   ]
  },
  {
   "cell_type": "code",
   "execution_count": 7,
   "id": "cb6a56de",
   "metadata": {},
   "outputs": [],
   "source": [
    "@jax.jit\n",
    "def π(φ, p, parameters):\n",
    "    \" Profits. \"\n",
    "    # Unpack\n",
    "    β, θ, c, c_e, w, m_a, σ_a, m_e, σ_e = parameters\n",
    "    # Compute profits\n",
    "    return (1 - θ) * (p * φ)**(1/(1 - θ)) * (θ/w)**(θ/(1 - θ)) - c "
   ]
  },
  {
   "cell_type": "code",
   "execution_count": 8,
   "id": "d63f5e82",
   "metadata": {},
   "outputs": [],
   "source": [
    "@jax.jit\n",
    "def q(φ, p, parameters):\n",
    "    \" Output. \"\n",
    "    # Unpack\n",
    "    β, θ, c, c_e, w, m_a, σ_a, m_e, σ_e = parameters\n",
    "    # Compute output\n",
    "    return φ**(1/(1 - θ)) * (p * θ/w)**(θ/(1 - θ)) "
   ]
  },
  {
   "cell_type": "markdown",
   "id": "44e8a5f0",
   "metadata": {},
   "source": [
    "Let's write code to simulate a cross-section of firms given a particular value for the exit threshold (rather than an exit threshold function).\n",
    "\n",
    "Firms that exit are immediately replaced by a new entrant, drawn from $\\gamma$.\n",
    "\n",
    "Our first function updates by one step"
   ]
  },
  {
   "cell_type": "code",
   "execution_count": 9,
   "id": "01fefb6b",
   "metadata": {},
   "outputs": [],
   "source": [
    "def update_cross_section(φ_bar, φ_vec, key, parameters, num_firms):\n",
    "    # Unpack\n",
    "    β, θ, c, c_e, w, m_a, σ_a, m_e, σ_e = parameters\n",
    "    # Update\n",
    "    Z = random.normal(key, (2, num_firms))  # long rows for row-major arrays\n",
    "    incumbent_draws = φ_vec * jnp.exp(m_a + σ_a * Z[0, :])\n",
    "    new_firm_draws = jnp.exp(m_e + σ_e * Z[1, :])\n",
    "    return jnp.where(φ_vec >= φ_bar, incumbent_draws, new_firm_draws)"
   ]
  },
  {
   "cell_type": "code",
   "execution_count": 10,
   "id": "83ca63ca",
   "metadata": {},
   "outputs": [],
   "source": [
    "update_cross_section = jax.jit(update_cross_section, static_argnums=(4,))"
   ]
  },
  {
   "cell_type": "markdown",
   "id": "48fd7ae9",
   "metadata": {},
   "source": [
    "Our next function runs the cross-section forward in time `sim_length` periods."
   ]
  },
  {
   "cell_type": "code",
   "execution_count": 11,
   "id": "8963d924",
   "metadata": {},
   "outputs": [],
   "source": [
    "def simulate_firms(φ_bar, parameters, grids, \n",
    "                   sim_length=200, num_firms=1_000_000, seed=12):\n",
    "    \"\"\"\n",
    "    Simulate a cross-section of firms when the exit threshold is φ_bar.\n",
    "\n",
    "    \"\"\"\n",
    "    # Set initial conditions to the threshold value\n",
    "    φ_vec = jnp.ones((num_firms,)) * φ_bar \n",
    "    key = random.PRNGKey(seed)\n",
    "    # Iterate forward in time\n",
    "    for t in range(sim_length):\n",
    "        key, subkey = random.split(key)\n",
    "        φ_vec = update_cross_section(φ_bar, φ_vec, subkey, parameters, num_firms)\n",
    "    return φ_vec"
   ]
  },
  {
   "cell_type": "markdown",
   "id": "5a18ff47",
   "metadata": {},
   "source": [
    "Here's a utility function to compute the expected value\n",
    "\n",
    "$$\n",
    "    \\int v(\\varphi') \\Gamma(\\varphi, d \\varphi') = \\mathbb E v(A_{t+1} \\varphi)\n",
    "$$\n",
    "\n",
    "given $\\varphi$"
   ]
  },
  {
   "cell_type": "code",
   "execution_count": 12,
   "id": "5ffa930f",
   "metadata": {},
   "outputs": [],
   "source": [
    "@jax.jit\n",
    "def _compute_exp_value_at_phi(v, φ, grids):\n",
    "    \"\"\"\n",
    "    Compute \n",
    "    \n",
    "        E[v(φ')| φ] = Ev(A φ) \n",
    "        \n",
    "    using linear interpolation and Monte Carlo. \n",
    "    \"\"\"\n",
    "    # Unpack\n",
    "    φ_grid, E_draws, A_draws = grids\n",
    "    # Set up V\n",
    "    Aφ = A_draws * φ \n",
    "    vAφ  = jnp.interp(Aφ, φ_grid, v)  # v(A_j φ) for all j\n",
    "    # Return mean \n",
    "    return jnp.mean(vAφ)     # (1/n) Σ_j v(A_j φ)"
   ]
  },
  {
   "cell_type": "markdown",
   "id": "ce2a11ac",
   "metadata": {},
   "source": [
    "Now let's vectorize this function in $\\varphi$ and then write another function that computes the expected value across all $\\varphi$ in `φ_grid`"
   ]
  },
  {
   "cell_type": "code",
   "execution_count": 13,
   "id": "398436c9",
   "metadata": {},
   "outputs": [],
   "source": [
    "compute_exp_value_at_phi = jax.vmap(_compute_exp_value_at_phi, (None, 0, None))"
   ]
  },
  {
   "cell_type": "code",
   "execution_count": 14,
   "id": "91dbb234",
   "metadata": {},
   "outputs": [],
   "source": [
    "@jax.jit\n",
    "def compute_exp_value(v, grids):\n",
    "    \"\"\"\n",
    "    Compute \n",
    "    \n",
    "        E[v(φ_prime)| φ] = Ev(A φ) for all φ, as a vector\n",
    "\n",
    "    \"\"\"\n",
    "    # Unpack\n",
    "    φ_grid, E_draws, A_draws = grids\n",
    "    return compute_exp_value_at_phi(v, φ_grid, grids)"
   ]
  },
  {
   "cell_type": "markdown",
   "id": "3a33c589",
   "metadata": {},
   "source": [
    "Here is the Bellman operator $T$."
   ]
  },
  {
   "cell_type": "code",
   "execution_count": 15,
   "id": "446cc0ba",
   "metadata": {},
   "outputs": [],
   "source": [
    "@jax.jit\n",
    "def T(v, p, parameters, grids):\n",
    "    \" Bellman operator. \"\n",
    "    # Unpack\n",
    "    β, θ, c, c_e, w, m_a, σ_a, m_e, σ_e = parameters\n",
    "    φ_grid, E_draws, A_draws = grids\n",
    "    # Compute Tv\n",
    "    EvAφ = compute_exp_value(v, grids)\n",
    "    return π(φ_grid, p, parameters) + β * jnp.maximum(0.0, EvAφ)"
   ]
  },
  {
   "cell_type": "markdown",
   "id": "ed853f24",
   "metadata": {},
   "source": [
    "The next function takes $v, p$ as inputs and, conditional on the value function\n",
    "$v$, computes the value $\\bar \\varphi(p)$ that corresponds to the exit value."
   ]
  },
  {
   "cell_type": "code",
   "execution_count": 16,
   "id": "dfa9c58c",
   "metadata": {},
   "outputs": [],
   "source": [
    "@jax.jit\n",
    "def get_threshold(v, grids):\n",
    "    \" Compute the exit threshold. \"\n",
    "    # Unpack\n",
    "    φ_grid, E_draws, A_draws = grids\n",
    "    # Compute exit threshold: φ such that E v(A φ) = 0\n",
    "    EvAφ = compute_exp_value(v, grids)\n",
    "    i = jnp.searchsorted(EvAφ, 0.0)\n",
    "    return φ_grid[i]"
   ]
  },
  {
   "cell_type": "markdown",
   "id": "e9d98794",
   "metadata": {},
   "source": [
    "We use value function iteration (VFI) to compute the value function $\\bar v(\\cdot, p)$, taking $p$ as given.\n",
    "\n",
    "VFI is relatively cheap and simple in this setting."
   ]
  },
  {
   "cell_type": "code",
   "execution_count": 17,
   "id": "5bc6b594",
   "metadata": {},
   "outputs": [],
   "source": [
    "@jax.jit\n",
    "def vfi(p, v_init, parameters, grids, tol=1e-6, max_iter=10_000):\n",
    "    \"\"\"\n",
    "    Implement value function iteration to solve for the value function.\n",
    "    \"\"\"\n",
    "    # Unpack\n",
    "    φ_grid, E_draws, A_draws = grids\n",
    "    # Set up\n",
    "    def cond_function(state):\n",
    "        i, v, error = state\n",
    "        return jnp.logical_and(i < max_iter, error > tol)\n",
    "    def body_function(state):\n",
    "        i, v, error = state\n",
    "        new_v = T(v, p, parameters, grids)\n",
    "        error = jnp.max(jnp.abs(v - new_v))\n",
    "        i += 1\n",
    "        return i, new_v, error\n",
    "    # Loop till convergence\n",
    "    init_state = 0, v_init, tol + 1\n",
    "    state = jax.lax.while_loop(cond_function, body_function, init_state) \n",
    "    i, v, error = state\n",
    "    return v"
   ]
  },
  {
   "cell_type": "code",
   "execution_count": 18,
   "id": "db45da7d",
   "metadata": {},
   "outputs": [],
   "source": [
    "@jax.jit\n",
    "def compute_net_entry_value(p, v_init, parameters, grids):\n",
    "    \"\"\"\n",
    "    Returns the net value of entry, which is \n",
    "        \n",
    "         \\int v_bar(φ, p) γ(d φ) - c_e\n",
    "\n",
    "    This is the break-even condition for new entrants.  The argument\n",
    "    v_init is used as an initial condition when computing v_bar for VFI.\n",
    "    \"\"\"\n",
    "    c_e = parameters.c_e\n",
    "    φ_grid = grids.φ_grid\n",
    "    E_draws = grids.E_draws\n",
    "    v_bar = vfi(p, v_init, parameters, grids)\n",
    "    v_φ = jnp.interp(E_draws, φ_grid, v_bar)\n",
    "    Ev_φ = jnp.mean(v_φ)\n",
    "    return Ev_φ - c_e, v_bar"
   ]
  },
  {
   "cell_type": "markdown",
   "id": "fe7a2528",
   "metadata": {},
   "source": [
    "We need to solve for the equilibrium price, which is the $p$ satisfying\n",
    "\n",
    "$$\n",
    "\\int \\bar v(\\varphi', p) \\gamma(d \\varphi') = c_e\n",
    "$$\n",
    "\n",
    "At each price $p$, we need to recompute $\\bar v(\\cdot, p)$ and then take the expectation.\n",
    "\n",
    "The technique we will use is bisection.\n",
    "\n",
    "We will write our own bisection routine because, when we shift to a new price, we want to update the initial condition for value function iteration to the value function from the previous price."
   ]
  },
  {
   "cell_type": "code",
   "execution_count": 19,
   "id": "4fea134f",
   "metadata": {},
   "outputs": [],
   "source": [
    "def compute_p_star(parameters, grids, p_min=1.0, p_max=2.0, tol=10e-5):\n",
    "    \"\"\"\n",
    "    Compute the equilibrium entry price p^* via bisection.\n",
    "\n",
    "    Return both p* and the corresponding value function v_bar, which is\n",
    "    computed as a byproduct.\n",
    "    \n",
    "    Implements the bisection root finding algorithm to find p_star\n",
    "\n",
    "    \"\"\"\n",
    "    φ_grid, E_draws, A_draws = grids\n",
    "    lower, upper = p_min, p_max\n",
    "    v_bar = jnp.zeros_like(φ_grid)  # Initial condition at first price guess\n",
    "\n",
    "    while upper - lower > tol:\n",
    "        mid = 0.5 * (upper + lower)\n",
    "        entry_val, v_bar = compute_net_entry_value(mid, v_bar, parameters, grids)\n",
    "        if entry_val > 0:   # Root is between lower and mid\n",
    "            lower, upper = lower, mid\n",
    "        else:               # Root is between mid and upper\n",
    "            lower, upper = mid, upper\n",
    "\n",
    "    p_star = 0.5 * (upper + lower)\n",
    "    return p_star, v_bar"
   ]
  },
  {
   "cell_type": "markdown",
   "id": "c0262b1b",
   "metadata": {},
   "source": [
    "We are now ready to compute all elements of the stationary recursive equilibrium."
   ]
  },
  {
   "cell_type": "code",
   "execution_count": 20,
   "id": "4ecb38cb",
   "metadata": {},
   "outputs": [],
   "source": [
    "def compute_equilibrium_prices_and_quantities(model):\n",
    "    \"\"\"\n",
    "    Compute \n",
    "\n",
    "        1. The equilibrium outcomes for p*, v* and φ*, where φ* is the\n",
    "           equilibrium exit threshold φ_bar(p*).\n",
    "        1. The scaling factor necessary to convert the stationary probability\n",
    "           distribution μ into the equilibrium firm distribution μ* = s μ.\n",
    "        2. The equilibrium mass of entrants M* = μ*{ φ < φ*}\n",
    "\n",
    "    \"\"\"\n",
    "    # Unpack\n",
    "    parameters, grids = model\n",
    "    # Compute prices and values\n",
    "    p_star, v_bar = compute_p_star(parameters, grids)\n",
    "    # Get φ_star = φ_bar(p_star), the equilibrium exit threshold \n",
    "    φ_star = get_threshold(v_bar, grids)\n",
    "    # Generate an array of draws from μ, the normalized stationary distribution.\n",
    "    φ_sample = simulate_firms(φ_star, parameters, grids)\n",
    "    # Compute s to scale μ\n",
    "    demand = 1 / p_star\n",
    "    pre_normalized_supply = jnp.mean(q(φ_sample, p_star, parameters))\n",
    "    s = demand / pre_normalized_supply\n",
    "    # Compute M* = μ*{ φ < φ_star}\n",
    "    m_star = s * jnp.mean(φ_sample < φ_star)\n",
    "    # return computed objects\n",
    "    return p_star, v_bar, φ_star, φ_sample, s, m_star"
   ]
  },
  {
   "cell_type": "markdown",
   "id": "df0b420a",
   "metadata": {},
   "source": [
    "## Solving the model\n",
    "\n",
    "### Preliminary calculations"
   ]
  },
  {
   "cell_type": "markdown",
   "id": "092062ac",
   "metadata": {},
   "source": [
    "Let's create an instance of the model."
   ]
  },
  {
   "cell_type": "code",
   "execution_count": 21,
   "id": "dc9f0943",
   "metadata": {},
   "outputs": [],
   "source": [
    "model = create_model()\n",
    "parameters, grids = model"
   ]
  },
  {
   "cell_type": "markdown",
   "id": "5ebddeb3",
   "metadata": {},
   "source": [
    "Let's see how long it takes to compute the value function at a given price\n",
    "from a cold start."
   ]
  },
  {
   "cell_type": "code",
   "execution_count": 22,
   "id": "c7a17225",
   "metadata": {},
   "outputs": [
    {
     "name": "stdout",
     "output_type": "stream",
     "text": [
      "CPU times: user 222 ms, sys: 4.99 ms, total: 227 ms\n",
      "Wall time: 244 ms\n"
     ]
    }
   ],
   "source": [
    "p = 2.0\n",
    "v_init = jnp.zeros_like(grids.φ_grid)            # Initial condition \n",
    "%time v_bar = vfi(p, v_init, parameters, grids) "
   ]
  },
  {
   "cell_type": "code",
   "execution_count": 23,
   "id": "7737e989",
   "metadata": {},
   "outputs": [
    {
     "name": "stdout",
     "output_type": "stream",
     "text": [
      "CPU times: user 15.8 ms, sys: 4.29 ms, total: 20.1 ms\n",
      "Wall time: 18.9 ms\n"
     ]
    }
   ],
   "source": [
    "%time v_bar = vfi(p, v_init, parameters, grids)  "
   ]
  },
  {
   "cell_type": "markdown",
   "id": "fdffdadf",
   "metadata": {},
   "source": [
    "Let's have a look at the net entry value as a function of price\n",
    "\n",
    "The root is the equilibrium price at the given parameters"
   ]
  },
  {
   "cell_type": "code",
   "execution_count": 24,
   "id": "d5206337",
   "metadata": {},
   "outputs": [
    {
     "data": {
      "image/png": "[encoded data removed]",
      "text/plain": [
       "<Figure size 640x480 with 1 Axes>"
      ]
     },
     "metadata": {},
     "output_type": "display_data"
    }
   ],
   "source": [
    "p_min, p_max, p_size = 1.0, 2.0, 20\n",
    "p_vec = jnp.linspace(p_min, p_max, p_size)\n",
    "entry_vals = np.empty_like(p_vec)\n",
    "v_bar = jnp.zeros_like(grids.φ_grid)  # Initial condition at first price guess\n",
    "for i, p in enumerate(p_vec):\n",
    "    entry_val, v_bar = compute_net_entry_value(p, v_bar, parameters, grids)\n",
    "    entry_vals[i] = entry_val\n",
    "fig, ax = plt.subplots()\n",
    "ax.plot(p_vec, entry_vals, label=\"net value of entry\")\n",
    "ax.plot(p_vec, np.zeros_like(p_vec), 'k', ls='--', label=\"break even\")\n",
    "ax.legend()\n",
    "ax.set_xlabel(\"price\")\n",
    "ax.set_ylabel(\"value\")\n",
    "plt.show()"
   ]
  },
  {
   "cell_type": "markdown",
   "id": "a29d2432",
   "metadata": {},
   "source": [
    "Below we solve for the zero of this function to calculate $p*$.\n",
    "\n",
    "From the figure it looks like $p^*$ will be close to 1.5."
   ]
  },
  {
   "cell_type": "markdown",
   "id": "22325043",
   "metadata": {},
   "source": [
    "### Computing the equilibrium"
   ]
  },
  {
   "cell_type": "markdown",
   "id": "2b28e1b2",
   "metadata": {},
   "source": [
    "Now let's try computing the equilibrium"
   ]
  },
  {
   "cell_type": "code",
   "execution_count": 25,
   "id": "55a69536",
   "metadata": {},
   "outputs": [
    {
     "name": "stdout",
     "output_type": "stream",
     "text": [
      "CPU times: user 1.53 s, sys: 97 ms, total: 1.63 s\n",
      "Wall time: 1.38 s\n"
     ]
    }
   ],
   "source": [
    "%%time\n",
    "p_star, v_bar, φ_star, φ_sample, s, m_star = \\\n",
    "        compute_equilibrium_prices_and_quantities(model)"
   ]
  },
  {
   "cell_type": "markdown",
   "id": "b15f707b",
   "metadata": {},
   "source": [
    "Let's check that $p^*$ is close to 1.5"
   ]
  },
  {
   "cell_type": "code",
   "execution_count": 26,
   "id": "6ee1650b",
   "metadata": {},
   "outputs": [
    {
     "data": {
      "text/plain": [
       "1.500213623046875"
      ]
     },
     "execution_count": 26,
     "metadata": {},
     "output_type": "execute_result"
    }
   ],
   "source": [
    "p_star"
   ]
  },
  {
   "cell_type": "markdown",
   "id": "5f60c45b",
   "metadata": {},
   "source": [
    "Here is a plot of the value function $\\bar v(\\cdot, p^*)$."
   ]
  },
  {
   "cell_type": "code",
   "execution_count": 27,
   "id": "abe9d118",
   "metadata": {},
   "outputs": [
    {
     "data": {
      "image/png": "[encoded data removed]",
      "text/plain": [
       "<Figure size 640x480 with 1 Axes>"
      ]
     },
     "metadata": {},
     "output_type": "display_data"
    }
   ],
   "source": [
    "fig, ax = plt.subplots()\n",
    "ax.plot(grids.φ_grid, v_bar, label=r'$\\varphi \\mapsto \\bar v(\\varphi, p^*)$')\n",
    "ax.set_xlabel(\"productivity\")\n",
    "ax.set_ylabel(\"firm value\")\n",
    "ax.legend()\n",
    "plt.show()"
   ]
  },
  {
   "cell_type": "markdown",
   "id": "8e409849",
   "metadata": {},
   "source": [
    "Let's have a look at the firm size distribution, with firm size measured by output."
   ]
  },
  {
   "cell_type": "code",
   "execution_count": 28,
   "id": "25cac198",
   "metadata": {},
   "outputs": [],
   "source": [
    "output_dist = q(φ_sample, p_star, parameters)"
   ]
  },
  {
   "cell_type": "code",
   "execution_count": 29,
   "id": "efe850bb",
   "metadata": {},
   "outputs": [
    {
     "data": {
      "image/png": "[encoded data removed]",
      "text/plain": [
       "<Figure size 700x400 with 1 Axes>"
      ]
     },
     "metadata": {},
     "output_type": "display_data"
    }
   ],
   "source": [
    "fig, ax = plt.subplots(figsize=(7, 4))\n",
    "ax.hist(np.log(output_dist), bins=100, density=True,\n",
    "        label=\"firm size distribution\")\n",
    "ax.set_xlabel(\"log output\")\n",
    "ax.set_ylabel(\"frequency\")\n",
    "ax.legend()\n",
    "plt.show()"
   ]
  },
  {
   "cell_type": "markdown",
   "id": "1f00b96b",
   "metadata": {},
   "source": [
    "## Pareto tails"
   ]
  },
  {
   "cell_type": "markdown",
   "id": "e8d287fe",
   "metadata": {},
   "source": [
    "The firm size distribution shown above appears to have a long right tail.\n",
    "\n",
    "This matches the observed firm size distribution.\n",
    "\n",
    "In fact the firm size distribution obeys a **power law**.\n",
    "\n",
    "More mathematically, the distribution of firm size has a Pareto right hand tail, so that there exist constants $k, \\alpha > 0$ with\n",
    "\n",
    "$$\n",
    "   \\mu((x, \\infty)) \\approx kx^{-\\alpha} \\text{ when $x$ is large}\n",
    "$$\n",
    "\n",
    "Here $\\alpha$ is called the tail index.\n",
    "\n",
    "Does the model replicate this feature?"
   ]
  },
  {
   "cell_type": "markdown",
   "id": "f3ef6397",
   "metadata": {},
   "source": [
    "One option is to look at the empirical counter CDF (cumulative distribution).\n",
    "\n",
    "The idea is as follows: The counter CDF of a random variable $X$ is \n",
    "\n",
    "$$\n",
    "   G(x) := \\mathbb P\\{X > x\\}\n",
    "$$\n",
    "\n",
    "In the case of a Pareto tailed distribution we have $\\mathbb P\\{X > x\\} \\approx k x^{-\\alpha}$ for large $x$.\n",
    "\n",
    "Hence, for large $x$,\n",
    "\n",
    "$$\n",
    "    \\ln G(x) \\approx \\ln k - \\alpha \\ln x\n",
    "$$\n",
    "\n",
    "The empirical counterpart of $G$ given sample $X_1, \\ldots, X_n$ is \n",
    "\n",
    "$$\n",
    "    G_n (x) := \\frac{1}{n} \\sum_{i=1}^n \\mathbf 1 \\{X_i > x \\}\n",
    "$$\n",
    "\n",
    "For large $k$ (implying $G_n \\approx G$) and large $x$, we expect that, for a Pareto-tailed sample, $\\ln G_n$ is approximately linear."
   ]
  },
  {
   "cell_type": "markdown",
   "id": "dffce763",
   "metadata": {},
   "source": [
    "Here's a function to compute the empirical counter CDF:"
   ]
  },
  {
   "cell_type": "code",
   "execution_count": 30,
   "id": "505d6612",
   "metadata": {},
   "outputs": [],
   "source": [
    "def ECCDF(data):\n",
    "    \"\"\"\n",
    "    Return a function that implements the ECCDF given the data.\n",
    "    \"\"\"\n",
    "    def eccdf(x):\n",
    "        return np.mean(data > x)\n",
    "    return eccdf"
   ]
  },
  {
   "cell_type": "markdown",
   "id": "5404e2cb",
   "metadata": {},
   "source": [
    "Let's plot the empirical counter CDF of the output distribution."
   ]
  },
  {
   "cell_type": "code",
   "execution_count": 31,
   "id": "afedb1d4",
   "metadata": {},
   "outputs": [
    {
     "data": {
      "image/png": "[encoded data removed]",
      "text/plain": [
       "<Figure size 640x480 with 1 Axes>"
      ]
     },
     "metadata": {},
     "output_type": "display_data"
    }
   ],
   "source": [
    "eccdf = ECCDF(output_dist)\n",
    "\n",
    "ϵ = 10e-10\n",
    "x_grid = np.linspace(output_dist.min()+ϵ, output_dist.max()-ϵ, 200)\n",
    "y = [eccdf(x) for x in x_grid]\n",
    "\n",
    "fix, ax = plt.subplots()\n",
    "ax.loglog(x_grid, y, 'o', label=\"ECCDF\")\n",
    "ax.set_xlabel(\"productivity\")\n",
    "ax.set_ylabel(\"counter CDF\")\n",
    "plt.show()"
   ]
  },
  {
   "cell_type": "markdown",
   "id": "2b0bcfce",
   "metadata": {},
   "source": [
    "**Exercise**\n",
    "\n",
    "Plot the same output distribution, but this time using a rank-size plot.\n",
    "\n",
    "If the rank-size plot is approximately linear, the data suggests a Pareto tail.\n",
    "\n",
    "You can use QuantEcon's `rank_size` function --- here's an example of usage."
   ]
  },
  {
   "cell_type": "code",
   "execution_count": 32,
   "id": "e1aacb01",
   "metadata": {},
   "outputs": [
    {
     "data": {
      "image/png": "[encoded data removed]",
      "text/plain": [
       "<Figure size 700x400 with 1 Axes>"
      ]
     },
     "metadata": {},
     "output_type": "display_data"
    }
   ],
   "source": [
    "x = np.abs(np.random.randn(1_000_000))\n",
    "rank_data, size_data = qe.rank_size(x, c=0.1)\n",
    "fig, ax = plt.subplots(figsize=(7,4))\n",
    "ax.loglog(rank_data, size_data, \"o\", markersize=3.0, alpha=0.5)\n",
    "ax.set_xlabel(\"log rank\")\n",
    "ax.set_ylabel(\"log size\")\n",
    "plt.show()"
   ]
  },
  {
   "cell_type": "markdown",
   "id": "37c2cfd4",
   "metadata": {},
   "source": [
    "This plot is not linear --- as expected, since we are using a folded normal distribution."
   ]
  },
  {
   "cell_type": "code",
   "execution_count": 33,
   "id": "017b3f0b",
   "metadata": {},
   "outputs": [
    {
     "name": "stdout",
     "output_type": "stream",
     "text": [
      "solution below.\n",
      "solution below.\n",
      "solution below.\n",
      "solution below.\n",
      "solution below.\n",
      "solution below.\n",
      "solution below.\n",
      "solution below.\n",
      "solution below.\n",
      "solution below.\n",
      "solution below.\n",
      "solution below.\n"
     ]
    }
   ],
   "source": [
    "for i in range(12):\n",
    "    print(\"solution below.\")"
   ]
  },
  {
   "cell_type": "markdown",
   "id": "9ad857c7",
   "metadata": {},
   "source": [
    "**Solution**"
   ]
  },
  {
   "cell_type": "code",
   "execution_count": 34,
   "id": "0c4eccf6",
   "metadata": {},
   "outputs": [
    {
     "data": {
      "image/png": "[encoded data removed]",
      "text/plain": [
       "<Figure size 700x400 with 1 Axes>"
      ]
     },
     "metadata": {},
     "output_type": "display_data"
    }
   ],
   "source": [
    "rank_data, size_data = qe.rank_size(output_dist, c=0.1)\n",
    "fig, ax = plt.subplots(figsize=(7,4))\n",
    "ax.loglog(rank_data, size_data, \"o\", markersize=3.0, alpha=0.5)\n",
    "ax.set_xlabel(\"log rank\")\n",
    "ax.set_ylabel(\"log size\")\n",
    "plt.show()"
   ]
  },
  {
   "cell_type": "markdown",
   "id": "7aca57ed",
   "metadata": {},
   "source": [
    "This looks very linear --- the model generates Pareto tails.\n",
    "\n",
    "(In fact it's possible to prove this.)"
   ]
  },
  {
   "cell_type": "markdown",
   "id": "373f50ef",
   "metadata": {},
   "source": [
    "**Exercise**"
   ]
  },
  {
   "cell_type": "markdown",
   "id": "b38318f9",
   "metadata": {},
   "source": [
    "As an exercise, let's look at the fixed cost paid by incumbents each period and how it relates to the equilibrium price.\n",
    "\n",
    "We expect that a higher fixed cost will reduce supply and hence increase the market price.\n",
    "\n",
    "For the fixed costs, use"
   ]
  },
  {
   "cell_type": "code",
   "execution_count": 35,
   "id": "b593e287",
   "metadata": {},
   "outputs": [],
   "source": [
    "c_values = np.linspace(2.5, 5.0, 10)"
   ]
  },
  {
   "cell_type": "code",
   "execution_count": 36,
   "id": "0487784e",
   "metadata": {},
   "outputs": [
    {
     "name": "stdout",
     "output_type": "stream",
     "text": [
      "solution below.\n",
      "solution below.\n",
      "solution below.\n",
      "solution below.\n",
      "solution below.\n",
      "solution below.\n",
      "solution below.\n",
      "solution below.\n",
      "solution below.\n",
      "solution below.\n",
      "solution below.\n",
      "solution below.\n"
     ]
    }
   ],
   "source": [
    "for i in range(12):\n",
    "    print(\"solution below.\")"
   ]
  },
  {
   "cell_type": "markdown",
   "id": "1fb2465d",
   "metadata": {},
   "source": [
    "**Solution**"
   ]
  },
  {
   "cell_type": "code",
   "execution_count": 37,
   "id": "31232a49",
   "metadata": {},
   "outputs": [
    {
     "name": "stdout",
     "output_type": "stream",
     "text": [
      "Equilibrium price when c = 2.5 is 1.1\n",
      "Equilibrium price when c = 2.8 is 1.2\n",
      "Equilibrium price when c = 3.1 is 1.3\n",
      "Equilibrium price when c = 3.3 is 1.3\n",
      "Equilibrium price when c = 3.6 is 1.4\n",
      "Equilibrium price when c = 3.9 is 1.5\n",
      "Equilibrium price when c = 4.2 is 1.5\n",
      "Equilibrium price when c = 4.4 is 1.6\n",
      "Equilibrium price when c = 4.7 is 1.7\n",
      "Equilibrium price when c = 5.0 is 1.7\n"
     ]
    },
    {
     "data": {
      "image/png": "[encoded data removed]",
      "text/plain": [
       "<Figure size 640x480 with 1 Axes>"
      ]
     },
     "metadata": {},
     "output_type": "display_data"
    }
   ],
   "source": [
    "eq_prices = np.empty_like(c_values)\n",
    "for i, c in enumerate(c_values):\n",
    "    model = create_model(c=c)\n",
    "    p_star, v_bar, φ_star, φ_sample, s, m_star = \\\n",
    "        compute_equilibrium_prices_and_quantities(model)\n",
    "    eq_prices[i] = p_star\n",
    "    print(f\"Equilibrium price when c = {c:.2} is {p_star:.2}\")\n",
    "\n",
    "fig, ax = plt.subplots()\n",
    "ax.plot(c_values, eq_prices, label=\"$p^*$\")\n",
    "ax.set_xlabel(\"fixed cost for incumbents\")\n",
    "ax.set_ylabel(\"price\")\n",
    "ax.legend()\n",
    "plt.show()"
   ]
  },
  {
   "cell_type": "code",
   "execution_count": null,
   "id": "ee297a65",
   "metadata": {},
   "outputs": [],
   "source": []
  }
 ],
 "metadata": {
  "kernelspec": {
   "display_name": "Python 3 (ipykernel)",
   "language": "python",
   "name": "python3"
  },
  "language_info": {
   "codemirror_mode": {
    "name": "ipython",
    "version": 3
   },
   "file_extension": ".py",
   "mimetype": "text/x-python",
   "name": "python",
   "nbconvert_exporter": "python",
   "pygments_lexer": "ipython3",
   "version": "3.11.7"
  }
 },
 "nbformat": 4,
 "nbformat_minor": 5
}
