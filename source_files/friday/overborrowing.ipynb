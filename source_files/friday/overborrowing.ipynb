{
 "cells": [
  {
   "cell_type": "markdown",
   "id": "1b55dc85",
   "metadata": {},
   "source": [
    "# Bianchi Overborrowing Model\n",
    "\n",
    "-----\n",
    "\n",
    "#### John Stachurski\n",
    "\n",
    "#### Prepared for the CBC Computational Workshop (May 2024)\n",
    "\n",
    "----\n",
    "\n",
    "This notebook provides a Python/JAX implementation of \"Overborrowing and Systemic Externalities\" (AER 2011) by [Javier Bianchi](http://www.javierbianchi.com/).\n",
    "\n",
    "We use the following imports."
   ]
  },
  {
   "cell_type": "code",
   "execution_count": 1,
   "id": "3f538249",
   "metadata": {},
   "outputs": [],
   "source": [
    "import time\n",
    "import jax\n",
    "import numba\n",
    "import jax.numpy as jnp\n",
    "import matplotlib.pyplot as plt\n",
    "import numpy as np\n",
    "import quantecon as qe\n",
    "import scipy as sp\n",
    "import matplotlib.pyplot as plt\n",
    "from collections import namedtuple"
   ]
  },
  {
   "cell_type": "markdown",
   "id": "f14e3590",
   "metadata": {},
   "source": [
    "## Description of the model\n",
    "\n",
    "The model seeks to explain sudden stops in emerging market economies.\n",
    "\n",
    "A representative household chooses how much to borrow on international markets and how much to consume.\n",
    "\n",
    "The household is credit constrained, with the constraint depending on both current income and the real exchange rate.\n",
    "\n",
    "Household \"overborrow\" (relative to a planner) because they do not internalize the\n",
    "effect of borrowing on the credit constraint.\n",
    "\n",
    "This overborrowing leaves them vulnerable to bad income shocks.\n",
    "\n",
    "In essence, the model works as follows\n",
    "\n",
    "1. During good times, households borrow more and consume more\n",
    "2. Increased consumption pushes up the price of nontradables and hence the real exchange rate\n",
    "3. A rising real exchange rate loosens the credit constraint and encourages more borrowing\n",
    "4. This leads to excessive borrowing relative to a planner.\n",
    "\n",
    "This overborrowing leads to vulnerability vis-a-vis bad shocks.\n",
    "\n",
    "1. When a bad shock hits, borrowing is restricted.\n",
    "2. Consumption now falls, pushing down the real exchange rate.\n",
    "3. This fall in the exchange rate further tightens the borrowing constraint, amplifying the shock"
   ]
  },
  {
   "cell_type": "markdown",
   "id": "f15d9864",
   "metadata": {},
   "source": [
    "### Decentralized equilibrium\n",
    "\n",
    "The model contains a representative household that seeks to maximize\n",
    "an expected sum of discounted utility where \n",
    "\n",
    "* the flow utility function $u$ is CRRA, with $u(c) = c^{1-\\sigma}/(1-\\sigma)$\n",
    "  and\n",
    "* $c = (\\omega c_t^{-\\eta} + (1-\\omega) c_n^{-\\eta})^{-1/\\eta}$\n",
    "\n",
    "Here $c_t$ (resp., $c_n$) is consumption of tradables (resp., nontradables)."
   ]
  },
  {
   "cell_type": "markdown",
   "id": "a0531e29",
   "metadata": {},
   "source": [
    "The household maximizes subject to the budget constraint\n",
    "\n",
    "$$\n",
    "    b' + c_t + p_n c_n = b (1+r) + y_t + p_n y_n\n",
    "$$\n",
    "\n",
    "where\n",
    "\n",
    "* $b$ is bond holdings (positive values denote assets)\n",
    "* primes denote next period values\n",
    "* the interest rate $r$ is exogenous\n",
    "* $p_n$ is the price of nontradables, while the price of tradables is normalized\n",
    "  to 1\n",
    "* $y_t$ and $y_n$ are current tradable and nontradable income\n",
    "\n",
    "The process for $y := (y_t, y_n)$ is first-order Markov."
   ]
  },
  {
   "cell_type": "markdown",
   "id": "d23473d5",
   "metadata": {},
   "source": [
    "The household also faces the credit constraint\n",
    "\n",
    "$$\n",
    "    b' \\geq - \\kappa (y_t + p_n y_n)\n",
    "$$\n",
    "\n",
    "Market clearing implies\n",
    "\n",
    "$$\n",
    "    c_n = y_n\n",
    "    \\quad \\text{and} \\quad\n",
    "    c_t = y_t + (1+r)b - b'\n",
    "$$\n",
    "\n",
    "The household takes the aggregate timepath for bonds as given by \n",
    "\n",
    "$$B' = H(B, y)$$\n",
    "\n",
    "and solves\n",
    "\n",
    "$$\n",
    "    V(b, B, y)\n",
    "    = \\max_{c, b'} \n",
    "    \\left\\{\n",
    "        u(c) + \\beta \\mathbb{E}_y v(b', B', y')\n",
    "    \\right\\}\n",
    "$$\n",
    "\n",
    "subject to the budget and credit constraints."
   ]
  },
  {
   "cell_type": "markdown",
   "id": "1478ab1a",
   "metadata": {},
   "source": [
    "Let the solution to the dynamic program be the policy $b'(b, B, y) = $ savings decision in state $(b, B, y)$.\n",
    "\n",
    "A decentralized equilibrium is a law of motion $H$ such that verifies \n",
    "\n",
    "$$\n",
    "    b'(B, B, y) = H(B, y)\n",
    "    \\quad \\text{for all } B, y\n",
    "$$"
   ]
  },
  {
   "cell_type": "markdown",
   "id": "880bea18",
   "metadata": {},
   "source": [
    "### Notation\n",
    "\n",
    "Let\n",
    "\n",
    "$$\n",
    "        w(c_t, y_n) = \\frac{c^{1 - σ}}{1 - σ}\n",
    "        \\quad \\text{where} \\quad\n",
    "        c = [ω c_t^{- η} + (1 - ω) y_n^{- η}]^{-1/η}\n",
    "$$\n",
    "\n",
    "Using the market clearing conditions, we can write the\n",
    "household problem as\n",
    "\n",
    "$$\n",
    "    V(b, B, y)\n",
    "    = \\max_{b'} \n",
    "    \\left\\{\n",
    "        w((1 + r)  b + y_t - b', y_n) + \\beta \\mathbb{E}_y v(b', H(B, y), y')\n",
    "    \\right\\}\n",
    "$$\n",
    "\n",
    "subject to \n",
    "\n",
    "$$\n",
    "    - κ (p_n y_n + y_t) \n",
    "    \\leq\n",
    "    b' \\leq (1 + r) b + y_t\n",
    "$$\n",
    "\n",
    "where $p_n$ is given by\n",
    "\n",
    "$$\n",
    "    p_n = ((1 - ω) / ω)  (C / y_n)^{η + 1}\n",
    "    \\quad \\text{with} \\quad\n",
    "    C := (1 + r) B + y_t - H(B, y)\n",
    "$$"
   ]
  },
  {
   "cell_type": "markdown",
   "id": "21998de6",
   "metadata": {},
   "source": [
    "### Constrained planner\n",
    "\n",
    "The constrained planner solves\n",
    "\n",
    "$$\n",
    "    V(b, B, y)\n",
    "    = \\max_{c, b'} \n",
    "    \\left\\{\n",
    "        u(c) + \\beta \\mathbb{E}_y v(b', B', y')\n",
    "    \\right\\}\n",
    "$$\n",
    "\n",
    "subject to the market clearing conditions and \n",
    "the same constraint\n",
    "\n",
    "$$\n",
    "     - \\kappa (y_t + p_n y_n) \\leq b' \\leq (1+r) b + y_t\n",
    "$$\n",
    "\n",
    "although the price of nontradable is now given by\n",
    "\n",
    "$$\n",
    "    p_n = ((1 - ω) / ω) (c_t / y_n)^{η + 1}\n",
    "    \\quad \\text{with} \\quad\n",
    "    c_t := (1 + r) b + y_t - b'\n",
    "$$\n",
    "\n",
    "We see that the planner internalizes the impact of the savings choice $b'$ on\n",
    "the price of nontradables and hence the credit constraint."
   ]
  },
  {
   "cell_type": "markdown",
   "id": "78c78091",
   "metadata": {},
   "source": [
    "## Markov dynamics\n",
    "\n",
    "We develop some functions for working with the VAR process\n",
    "\n",
    "$$\n",
    "   \\ln y' = A \\ln y + u'   \n",
    "   \\quad \\text{(prime indicates next period value)}\n",
    "$$\n",
    "\n",
    "where \n",
    "\n",
    "* $y = (y_t, y_n) = $ (tradables, nontradables)\n",
    "* $A$ is $2 \\times 2$\n",
    "* $u' \\sim N(0, \\Omega)$\n",
    "* the log function is applied pointwise\n",
    "\n",
    "We use the following estimated values, reported on p. 12 of [Yamada (2023)](https://jxiv.jst.go.jp/index.php/jxiv/preprint/view/514)."
   ]
  },
  {
   "cell_type": "code",
   "execution_count": 2,
   "id": "140308e0",
   "metadata": {},
   "outputs": [],
   "source": [
    "A = [[0.2425,   0.3297],\n",
    "     [-0.1984,  0.7576]]"
   ]
  },
  {
   "cell_type": "code",
   "execution_count": 3,
   "id": "25150f1a",
   "metadata": {},
   "outputs": [],
   "source": [
    "Ω = [[0.0052, 0.002],\n",
    "     [0.002,  0.0059]]"
   ]
  },
  {
   "cell_type": "markdown",
   "id": "ead141ee",
   "metadata": {},
   "source": [
    "We'll store the data in $\\Omega$ using its square root:"
   ]
  },
  {
   "cell_type": "code",
   "execution_count": 4,
   "id": "ed3a6bbb",
   "metadata": {},
   "outputs": [],
   "source": [
    "C = sp.linalg.sqrtm(Ω)\n",
    "A = np.array(A)"
   ]
  },
  {
   "cell_type": "markdown",
   "id": "8dabf027",
   "metadata": {},
   "source": [
    "Here's a function to convert the VAR process to a Markov chain evolving on a\n",
    "rectilinear grid of points in $\\mathbb R^2$.\n",
    "\n",
    "Under the hood, this function uses the QuantEcon function `discrete_var`."
   ]
  },
  {
   "cell_type": "code",
   "execution_count": 5,
   "id": "6333c412",
   "metadata": {},
   "outputs": [],
   "source": [
    "def discretize_income_var(A=A, C=C, grid_size=4, seed=1234):\n",
    "    \"\"\"\n",
    "    Discretize the VAR model, returning\n",
    "\n",
    "        y_t_nodes, a grid of y_t values\n",
    "        y_n_nodes, a grid of y_n values\n",
    "        Q, a Markov operator\n",
    "\n",
    "    Let n = grid_size. The format is that Q is n x n x n x n, with\n",
    "\n",
    "        Q[i, j, i', j'] = one step transition prob from \n",
    "        (y_t_nodes[i], y_n_nodes[j]) to (y_t_nodes[i'], y_n_nodes[j'])\n",
    "\n",
    "    \"\"\"\n",
    " \n",
    "    n = grid_size\n",
    "    rng = np.random.default_rng(seed)\n",
    "    mc = qe.markov.discrete_var(A, C, (n, n),\n",
    "                                sim_length=1_000_000,\n",
    "                                std_devs=np.sqrt(3),\n",
    "                                random_state=rng)\n",
    "    y_nodes, Q = np.exp(mc.state_values), mc.P\n",
    "    # The array y_nodes is currently an array listing all 2 x 1 state pairs\n",
    "    # (y_t, y_n), so that y_nodes[i] is the i-th such pair, while Q[l, m] \n",
    "    # is the probability of transitioning from state l to state m in one step. \n",
    "    # We switch the representation to the one described in the docstring.\n",
    "    y_t_nodes = [y_nodes[n*i, 0] for i in range(n)]  \n",
    "    y_n_nodes = y_nodes[0:4, 1]                      \n",
    "    Q = np.reshape(Q, (n, n, n, n))\n",
    "    return y_t_nodes, y_n_nodes, Q"
   ]
  },
  {
   "cell_type": "markdown",
   "id": "9541ffa9",
   "metadata": {},
   "source": [
    "Here's code for sampling from the Markov chain."
   ]
  },
  {
   "cell_type": "code",
   "execution_count": 6,
   "id": "74dfebe2",
   "metadata": {},
   "outputs": [],
   "source": [
    "def generate_discrete_var(A=A, C=C, grid_size=4, seed=1234, \n",
    "                          ts_length=1_000_000,\n",
    "                          indices=False):\n",
    "    \"\"\"\n",
    "    Generate a time series from the discretized model, returning y_t_series and\n",
    "    y_n_series.  If `indices=True`, then these series are returned as grid\n",
    "    indices.\n",
    "    \"\"\"\n",
    "    \n",
    "    \n",
    "    n = grid_size\n",
    "    rng = np.random.default_rng(seed)\n",
    "    mc = qe.markov.discrete_var(A, C, (n, n),\n",
    "                                sim_length=1_000_000,\n",
    "                                std_devs=np.sqrt(3),\n",
    "                                random_state=rng)\n",
    "    if indices:\n",
    "        y_series = mc.simulate_indices(ts_length=ts_length)\n",
    "        y_t_series, y_n_series = y_series % grid_size, y_series // grid_size\n",
    "    else:\n",
    "        y_series = np.exp(mc.simulate(ts_length=ts_length))\n",
    "        y_t_series, y_n_series = y_series[:, 0], y_series[:, 1]\n",
    "    return y_t_series, y_n_series"
   ]
  },
  {
   "cell_type": "markdown",
   "id": "dcb1a3f4",
   "metadata": {},
   "source": [
    "Here's code for generating the original VAR process, which can be used for\n",
    "testing."
   ]
  },
  {
   "cell_type": "code",
   "execution_count": 7,
   "id": "4d2c7764",
   "metadata": {},
   "outputs": [],
   "source": [
    "@numba.jit\n",
    "def generate_var_process(A=A, C=C, ts_length=1_000_000):\n",
    "    \"\"\"\n",
    "    Generate the original VAR process.\n",
    "\n",
    "    \"\"\"\n",
    "    y_series = np.empty((ts_length, 2))\n",
    "    y_series[0, :] = np.zeros(2)\n",
    "    for t in range(ts_length-1):\n",
    "        y_series[t+1, :] = A @ y_series[t, :] + C @ np.random.randn(2)\n",
    "    y_t_series = np.exp(y_series[:, 0])\n",
    "    y_n_series = np.exp(y_series[:, 1])\n",
    "    return y_t_series, y_n_series"
   ]
  },
  {
   "cell_type": "markdown",
   "id": "190bfd83",
   "metadata": {},
   "source": [
    "Let's check some statistics for both the original and the discretized processes."
   ]
  },
  {
   "cell_type": "code",
   "execution_count": 8,
   "id": "e3bc225f",
   "metadata": {},
   "outputs": [],
   "source": [
    "def corr(x, y):\n",
    "    m_x, m_y = x.mean(), y.mean()\n",
    "    s_xy = np.sqrt(np.sum((x - m_x)**2) * np.sum((y - m_y)**2))\n",
    "    return np.sum((x - m_x) * (y - m_y)) / (s_xy)"
   ]
  },
  {
   "cell_type": "code",
   "execution_count": 9,
   "id": "c0dd2096",
   "metadata": {},
   "outputs": [],
   "source": [
    "def print_stats(y_t_series, y_n_series):\n",
    "    print(f\"Std dev of y_t is {y_t_series.std()}\")\n",
    "    print(f\"Std dev of y_n is {y_n_series.std()}\")\n",
    "    print(f\"corr(y_t, y_n) is {corr(y_t_series, y_n_series)}\")\n",
    "    print(f\"auto_corr(y_t) is {corr(y_t_series[:-1], y_t_series[1:])}\")\n",
    "    print(f\"auto_corr(y_n) is {corr(y_n_series[:-1], y_n_series[1:])}\")\n",
    "    print(\"\\n\")"
   ]
  },
  {
   "cell_type": "code",
   "execution_count": 10,
   "id": "1dc43225",
   "metadata": {},
   "outputs": [
    {
     "name": "stdout",
     "output_type": "stream",
     "text": [
      "Statistics for original process.\n",
      "\n",
      "Std dev of y_t is 0.08781902789659694\n",
      "Std dev of y_n is 0.10573817059778766\n",
      "corr(y_t, y_n) is 0.5396416619861177\n",
      "auto_corr(y_t) is 0.4557883634267715\n",
      "auto_corr(y_n) is 0.6657839710291761\n",
      "\n",
      "\n"
     ]
    }
   ],
   "source": [
    "print(\"Statistics for original process.\\n\")\n",
    "print_stats(*generate_var_process())"
   ]
  },
  {
   "cell_type": "code",
   "execution_count": 11,
   "id": "4a2baba0",
   "metadata": {},
   "outputs": [
    {
     "name": "stdout",
     "output_type": "stream",
     "text": [
      "Statistics for discretized process.\n",
      "\n",
      "Std dev of y_t is 0.08755714938815917\n",
      "Std dev of y_n is 0.10546781214972041\n",
      "corr(y_t, y_n) is 0.4761793431023473\n",
      "auto_corr(y_t) is 0.4010037242084917\n",
      "auto_corr(y_n) is 0.5895118354257302\n",
      "\n",
      "\n"
     ]
    }
   ],
   "source": [
    "print(\"Statistics for discretized process.\\n\")\n",
    "print_stats(*generate_discrete_var())"
   ]
  },
  {
   "cell_type": "markdown",
   "id": "30608e3d",
   "metadata": {},
   "source": [
    "## Overborrowing Model\n",
    "\n",
    "In what follows\n",
    "\n",
    "* `y` = `(y_t, y_n)` is the exogenous state process\n",
    "\n",
    "Individual states and actions are\n",
    "\n",
    "* `c` = consumption of tradables (`c` rather than `c_t`)\n",
    "* `b` = household savings (bond holdings)\n",
    "* `bp` = household savings decision (next period bond holdings)\n",
    "\n",
    "Aggregate quantities and prices are\n",
    "\n",
    "* `p` = price of nontradables (`p` rather than `p_n`)\n",
    "* `B` = aggregate savings (bond holdings)\n",
    "* `C` = aggregate consumption \n",
    "* `H` = current guess of update rule as an array of the form $H(B, y)$\n",
    "\n",
    "Here's code to create three tuples that store model data relevant for computation."
   ]
  },
  {
   "cell_type": "code",
   "execution_count": 12,
   "id": "128e1b27",
   "metadata": {},
   "outputs": [],
   "source": [
    "Model = namedtuple('Model',\n",
    "    ('σ', 'η', 'β', 'ω', 'κ', 'r', 'b_grid', 'y_t_nodes', 'y_n_nodes', 'Q'))"
   ]
  },
  {
   "cell_type": "code",
   "execution_count": 13,
   "id": "1d61fe4f",
   "metadata": {},
   "outputs": [],
   "source": [
    "def create_overborrowing_model(\n",
    "        σ=2.0,               # CRRA utility parameter\n",
    "        η=(1 / 0.83) - 1,    # Elasticity = 0.83, η = 0.2048\n",
    "        β=0.91,              # Discount factor\n",
    "        ω=0.31,              # Aggregation constant\n",
    "        κ=0.3235,            # Constraint parameter\n",
    "        r=0.04,              # Interest rate\n",
    "        b_size=400,          # Bond grid size\n",
    "        b_grid_min=-1.02,    # Bond grid min\n",
    "        b_grid_max=-0.2      # Bond grid max (originally -0.6 to match fig)\n",
    "    ):    \n",
    "    \"\"\"\n",
    "    Creates an instance of the overborrowing model using \n",
    "\n",
    "        * default parameter values from Bianchi (2011)\n",
    "        * Markov dynamics from Yamada (2023)\n",
    "\n",
    "    The Markov kernel Q has the interpretation\n",
    "\n",
    "        Q[i, j, ip, jp] = one step prob of moving \n",
    "\n",
    "            (y_t[i], y_n[j]) -> (y_t[ip], y_n[jp])\n",
    "\n",
    "    \"\"\"\n",
    "    # Read in Markov data and shift to JAX arrays\n",
    "    data = discretize_income_var()\n",
    "    y_t_nodes, y_n_nodes, Q = tuple(map(jnp.array, data))\n",
    "    # Set up grid for bond holdings\n",
    "    b_grid = jnp.linspace(b_grid_min, b_grid_max, b_size)\n",
    "    # Pack and return\n",
    "    return Model(σ, η, β, ω, κ, r, b_grid, y_t_nodes, y_n_nodes, Q)"
   ]
  },
  {
   "cell_type": "markdown",
   "id": "9dd19924",
   "metadata": {},
   "source": [
    "Default parameter values are from Bianchi.\n",
    "\n",
    "Notice that $\\beta$ is quite small (too small?), so value function iteration will be relatively quick."
   ]
  },
  {
   "cell_type": "markdown",
   "id": "c699b4da",
   "metadata": {},
   "source": [
    "Here's flow utility."
   ]
  },
  {
   "cell_type": "code",
   "execution_count": 14,
   "id": "aec01349",
   "metadata": {},
   "outputs": [],
   "source": [
    "@jax.jit\n",
    "def w(model, c, y_n):\n",
    "    \"\"\" \n",
    "    Current utility when c_t = c and c_n = y_n.\n",
    "\n",
    "        a = [ω c^(- η) + (1 - ω) y_n^(- η)]^(-1/η)\n",
    "\n",
    "        w(c, y_n) := a^(1 - σ) / (1 - σ)\n",
    "\n",
    "    \"\"\"\n",
    "    σ, η, β, ω, κ, r, b_grid, y_t_nodes, y_n_nodes, Q = model\n",
    "    a = (ω * c**(-η) + (1 - ω) * y_n**(-η))**(-1/η)\n",
    "    return a**(1 - σ) / (1 - σ)"
   ]
  },
  {
   "cell_type": "markdown",
   "id": "d111f245",
   "metadata": {},
   "source": [
    "We need code to generate an initial guess of $H$."
   ]
  },
  {
   "cell_type": "code",
   "execution_count": 15,
   "id": "3f93866c",
   "metadata": {},
   "outputs": [],
   "source": [
    "@jax.jit\n",
    "def generate_initial_H(model, at_constraint=False):\n",
    "    \"\"\"\n",
    "    Compute an initial guess for H. Repeat the indices for b_grid over y_t and\n",
    "    y_n axes.\n",
    "\n",
    "    \"\"\"\n",
    "    σ, η, β, ω, κ, r, b_grid, y_t_nodes, y_n_nodes, Q = model\n",
    "    b_size, y_size = len(b_grid), len(y_t_nodes)\n",
    "    b_indices = jnp.arange(b_size)\n",
    "    O = jnp.ones((b_size, y_size, y_size), dtype=int)\n",
    "    return  O * jnp.reshape(b_indices, (b_size, 1, 1)) "
   ]
  },
  {
   "cell_type": "markdown",
   "id": "36d7b8d5",
   "metadata": {},
   "source": [
    "We need to construct the Bellman operator for the household.\n",
    "\n",
    "Our first function returns the (unmaximized) RHS of the Bellman equation."
   ]
  },
  {
   "cell_type": "code",
   "execution_count": 16,
   "id": "edc022ed",
   "metadata": {},
   "outputs": [],
   "source": [
    "@jax.jit\n",
    "def T_generator(v, H, model, i_b, i_B, i_y_t, i_y_n, i_bp):\n",
    "    \"\"\"\n",
    "    Given current state (b, B, y_t, y_n) with indices (i_b, i_B, i_y_t, i_y_n),\n",
    "    compute the unmaximized right hand side (RHS) of the Bellman equation as a\n",
    "    function of the next period choice bp = b', with index i_bp.  \n",
    "    \"\"\"\n",
    "    # Unpack\n",
    "    σ, η, β, ω, κ, r, b_grid, y_t_nodes, y_n_nodes, Q = model\n",
    "    # Compute next period aggregate bonds given H\n",
    "    i_Bp = H[i_B, i_y_t, i_y_n]\n",
    "    # Evaluate states and actions at indices\n",
    "    B, Bp, b, bp = b_grid[i_B], b_grid[i_Bp], b_grid[i_b], b_grid[i_bp]\n",
    "    y_t = y_t_nodes[i_y_t]\n",
    "    y_n = y_n_nodes[i_y_n]\n",
    "    # Compute price of nontradables using aggregates\n",
    "    C = (1 + r) * B + y_t - Bp\n",
    "    p = ((1 - ω) / ω) * (C / y_n)**(η + 1)\n",
    "    # Compute household flow utility\n",
    "    c = (1 + r) * b + y_t - bp\n",
    "    utility = w(model, c, y_n)\n",
    "    # Compute expected value Σ_{y'} v(b', B', y') Q(y, y')\n",
    "    EV = jnp.sum(v[i_bp, i_Bp, :, :] * Q[i_y_t, i_y_n, :, :])\n",
    "    # Set up constraints \n",
    "    credit_constraint_holds = - κ * (p * y_n + y_t) <= bp\n",
    "    budget_constraint_holds = bp <= (1 + r) * b + y_t\n",
    "    constraints_hold = jnp.logical_and(credit_constraint_holds, \n",
    "                                     budget_constraint_holds)\n",
    "    # Compute and return\n",
    "    return jnp.where(constraints_hold, utility + β * EV, -jnp.inf)"
   ]
  },
  {
   "cell_type": "markdown",
   "id": "0e5733f7",
   "metadata": {},
   "source": [
    "Let's now vectorize and jit-compile this map."
   ]
  },
  {
   "cell_type": "code",
   "execution_count": 17,
   "id": "e5bddff4",
   "metadata": {},
   "outputs": [],
   "source": [
    "# Vectorize over the control bp and all the current states\n",
    "T_generator = jax.vmap(T_generator,\n",
    "    in_axes=(None, None, None, None, None, None, None, 0))\n",
    "T_generator = jax.vmap(T_generator, \n",
    "    in_axes=(None, None, None, None, None, None, 0, None))\n",
    "T_generator = jax.vmap(T_generator, \n",
    "    in_axes=(None, None, None, None, None, 0, None, None))\n",
    "T_generator = jax.vmap(T_generator, \n",
    "    in_axes=(None, None, None, None, 0, None, None, None))\n",
    "T_generator = jax.vmap(T_generator, \n",
    "    in_axes=(None, None, None, 0, None, None, None, None))"
   ]
  },
  {
   "cell_type": "markdown",
   "id": "b50a6c54",
   "metadata": {},
   "source": [
    "Now we can set up the Bellman operator by maximizing over the choice variable\n",
    "$b'$."
   ]
  },
  {
   "cell_type": "code",
   "execution_count": 18,
   "id": "c411143f",
   "metadata": {},
   "outputs": [],
   "source": [
    "@jax.jit\n",
    "def T(model, v, H):\n",
    "    \"\"\"\n",
    "    Evaluate the RHS of the Bellman equation at all states and actions and then\n",
    "    maximize with respect to actions.\n",
    "\n",
    "    Return \n",
    "\n",
    "        * Tv as an array of shape (b_size, b_size, y_size, y_size).\n",
    "\n",
    "    \"\"\"\n",
    "    σ, η, β, ω, κ, r, b_grid, y_t_nodes, y_n_nodes, Q = model\n",
    "    b_size, y_size = len(b_grid), len(y_t_nodes)\n",
    "    b_indices, y_indices = jnp.arange(b_size), jnp.arange(y_size)\n",
    "    val = T_generator(v, H, model,\n",
    "                     b_indices, b_indices, y_indices, y_indices, b_indices)\n",
    "    # Maximize over bp\n",
    "    return jnp.max(val, axis=-1)"
   ]
  },
  {
   "cell_type": "markdown",
   "id": "00f481d5",
   "metadata": {},
   "source": [
    "Here's a function that computes a greedy policy (best response to $v$)."
   ]
  },
  {
   "cell_type": "code",
   "execution_count": 19,
   "id": "201f7646",
   "metadata": {},
   "outputs": [],
   "source": [
    "@jax.jit\n",
    "def get_greedy(model, v, H):\n",
    "    \"\"\"\n",
    "    Compute the greedy policy for the household, which maximizes the right hand\n",
    "    side of the Bellman equation given v and H.  The greedy policy is recorded\n",
    "    as an array giving the index i in b_grid such that b_grid[i] is the optimal\n",
    "    choice, for every state.\n",
    "\n",
    "    Return \n",
    "\n",
    "        * bp_policy as an array of shape (b_size, b_size, y_size, y_size).\n",
    "\n",
    "    \"\"\"\n",
    "    σ, η, β, ω, κ, r, b_grid, y_t_nodes, y_n_nodes, Q = model\n",
    "    b_size, y_size = len(b_grid), len(y_t_nodes)\n",
    "    b_indices, y_indices = jnp.arange(b_size), jnp.arange(y_size)\n",
    "    val = T_generator(v, H, model,\n",
    "                     b_indices, b_indices, y_indices, y_indices, b_indices)\n",
    "    return jnp.argmax(val, axis=-1)"
   ]
  },
  {
   "cell_type": "markdown",
   "id": "1c24d820",
   "metadata": {},
   "source": [
    "Here's some code for value function iteration (VFI)."
   ]
  },
  {
   "cell_type": "code",
   "execution_count": 20,
   "id": "0047f8ee",
   "metadata": {},
   "outputs": [],
   "source": [
    "def vfi(T, v_init, max_iter=10_000, tol=1e-5):\n",
    "    \"\"\"\n",
    "    Use successive approximation to compute the fixed point of T, starting from\n",
    "    v_init.\n",
    "\n",
    "    \"\"\"\n",
    "    v = v_init\n",
    "\n",
    "    def cond_fun(state):\n",
    "        error, i, v = state\n",
    "        return (error > tol) & (i < max_iter)\n",
    "    \n",
    "    def body_fun(state):\n",
    "        error, i, v = state\n",
    "        v_new = T(v)\n",
    "        error = jnp.max(jnp.abs(v_new - v))\n",
    "        return error, i+1, v_new\n",
    "\n",
    "    error, i, v_new = jax.lax.while_loop(cond_fun, body_fun,\n",
    "                                                    (tol+1, 0, v))\n",
    "    return v_new, i\n",
    "\n",
    "vfi = jax.jit(vfi, static_argnums=(0,))"
   ]
  },
  {
   "cell_type": "markdown",
   "id": "2d506a6e",
   "metadata": {},
   "source": [
    "This is how we update our guess of $H$, using the current policy $b'$\n",
    "and a damped fixed point iteration scheme."
   ]
  },
  {
   "cell_type": "code",
   "execution_count": 21,
   "id": "3fcad6ba",
   "metadata": {},
   "outputs": [],
   "source": [
    "@jax.jit\n",
    "def update_H(model, H, α):\n",
    "    \"\"\"\n",
    "    Update guess of the aggregate update rule.\n",
    "\n",
    "    \"\"\"\n",
    "    # Set up\n",
    "    σ, η, β, ω, κ, r, b_grid, y_t_nodes, y_n_nodes, Q = model\n",
    "    b_size, y_size = len(b_grid), len(y_t_nodes)\n",
    "    b_indices = jnp.arange(b_size)\n",
    "    # Compute household response to current guess H\n",
    "    v_init = jnp.ones((b_size, b_size, y_size, y_size))\n",
    "    _T = lambda v: T(model, v, H)\n",
    "    v, vfi_num_iter = vfi(_T, v_init)\n",
    "    bp_policy = get_greedy(model, v, H)\n",
    "    # Switch policy arrays to values rather than indices\n",
    "    H_vals = b_grid[H]\n",
    "    bp_vals = b_grid[bp_policy]\n",
    "    # Update guess\n",
    "    new_H_vals = α * bp_vals[b_indices, b_indices, :, :] + (1 - α) * H_vals\n",
    "    # Switch back to indices\n",
    "    new_H = jnp.searchsorted(b_grid, new_H_vals)\n",
    "    return new_H, vfi_num_iter"
   ]
  },
  {
   "cell_type": "markdown",
   "id": "32ced2c5",
   "metadata": {},
   "source": [
    "Now we can write code to compute an equilibrium law of motion $H$."
   ]
  },
  {
   "cell_type": "code",
   "execution_count": 22,
   "id": "9bc2439b",
   "metadata": {},
   "outputs": [],
   "source": [
    "def compute_equilibrium(model,\n",
    "                          α=0.5, tol=0.005, max_iter=500):\n",
    "    \"\"\"\n",
    "    Compute the equilibrium law of motion.\n",
    "\n",
    "    \"\"\"\n",
    "    H = generate_initial_H(model)\n",
    "    error = tol + 1\n",
    "    i = 0\n",
    "    while error > tol and i < max_iter:\n",
    "        H_new, vfi_num_iter = update_H(model, H, α)\n",
    "        print(f\"VFI terminated after {vfi_num_iter} iterations.\")\n",
    "        error = jnp.max(jnp.abs(b_grid[H] - b_grid[H_new]))\n",
    "        print(f\"Updated H at iteration {i} with error {error}.\")\n",
    "        H = H_new\n",
    "        i += 1\n",
    "    if i == max_iter:\n",
    "        print(\"Warning: Equilibrium search iteration hit upper bound.\")\n",
    "    return H"
   ]
  },
  {
   "cell_type": "markdown",
   "id": "dc407496",
   "metadata": {},
   "source": [
    "## Planner problem\n",
    "\n",
    "Now we switch to the planner problem.\n",
    "\n",
    "Our first function returns the (unmaximized) RHS of the Bellman equation."
   ]
  },
  {
   "cell_type": "code",
   "execution_count": 23,
   "id": "f7fd75d4",
   "metadata": {},
   "outputs": [],
   "source": [
    "@jax.jit\n",
    "def planner_T_generator(v, model, i_b, i_y_t, i_y_n, i_bp):\n",
    "    \"\"\"\n",
    "    Given current state (b, y_t, y_n) with indices (i_b, i_y_t, i_y_n),\n",
    "    compute the unmaximized right hand side (RHS) of the Bellman equation as a\n",
    "    function of the next period choice bp = b'.  \n",
    "    \"\"\"\n",
    "    σ, η, β, ω, κ, r, b_grid, y_t_nodes, y_n_nodes, Q = model\n",
    "    y_t = y_t_nodes[i_y_t]\n",
    "    y_n = y_n_nodes[i_y_n]\n",
    "    b, bp = b_grid[i_b], b_grid[i_bp]\n",
    "    # Compute price of nontradables using aggregates\n",
    "    c = (1 + r) * b + y_t - bp\n",
    "    p = ((1 - ω) / ω) * (c / y_n)**(η + 1)\n",
    "    # Compute household flow utility\n",
    "    utility = w(model, c, y_n)\n",
    "    # Compute expected value (continuation)\n",
    "    EV = jnp.sum(v[i_bp, :, :] * Q[i_y_t, i_y_n, :, :])\n",
    "    # Set up constraints and evaluate \n",
    "    credit_constraint_holds = - κ * (p * y_n + y_t) <= bp\n",
    "    budget_constraint_holds = bp <= (1 + r) * b + y_t\n",
    "    return jnp.where(jnp.logical_and(credit_constraint_holds, \n",
    "                                     budget_constraint_holds), \n",
    "                     utility + β * EV,\n",
    "                     -jnp.inf)"
   ]
  },
  {
   "cell_type": "code",
   "execution_count": 24,
   "id": "84bbb936",
   "metadata": {},
   "outputs": [],
   "source": [
    "# Vectorize over the control bp and all the current states\n",
    "planner_T_generator = jax.vmap(planner_T_generator,\n",
    "        in_axes=(None, None, None, None, None, 0))\n",
    "planner_T_generator = jax.vmap(planner_T_generator, \n",
    "        in_axes=(None, None, None, None, 0, None))\n",
    "planner_T_generator = jax.vmap(planner_T_generator, \n",
    "        in_axes=(None, None, None, 0, None, None))\n",
    "planner_T_generator = jax.vmap(planner_T_generator, \n",
    "        in_axes=(None, None, 0, None, None, None))"
   ]
  },
  {
   "cell_type": "markdown",
   "id": "abddaccc",
   "metadata": {},
   "source": [
    "Now we construct the Bellman operator."
   ]
  },
  {
   "cell_type": "code",
   "execution_count": 25,
   "id": "5d828cc2",
   "metadata": {},
   "outputs": [],
   "source": [
    "@jax.jit\n",
    "def planner_T(model, v):\n",
    "    σ, η, β, ω, κ, r, b_grid, y_t_nodes, y_n_nodes, Q = model\n",
    "    b_size, y_size = len(b_grid), len(y_t_nodes)\n",
    "    b_indices, y_indices = jnp.arange(b_size), jnp.arange(y_size)\n",
    "    # Evaluate RHS of Bellman equation at all states and actions\n",
    "    val = planner_T_generator(v, model,\n",
    "                     b_indices, y_indices, y_indices, b_indices)\n",
    "    # Maximize over bp\n",
    "    return jnp.max(val, axis=-1)"
   ]
  },
  {
   "cell_type": "markdown",
   "id": "d347de4b",
   "metadata": {},
   "source": [
    "Here's a function that computes a greedy policy (best response to $v$)."
   ]
  },
  {
   "cell_type": "code",
   "execution_count": 26,
   "id": "4adeeab4",
   "metadata": {},
   "outputs": [],
   "source": [
    "@jax.jit\n",
    "def planner_get_greedy(model, v):\n",
    "    σ, η, β, ω, κ, r, b_grid, y_t_nodes, y_n_nodes, Q = model\n",
    "    b_size, y_size = len(b_grid), len(y_t_nodes)\n",
    "    b_indices, y_indices = jnp.arange(b_size), jnp.arange(y_size)\n",
    "    # Evaluate RHS of Bellman equation at all states and actions\n",
    "    val = planner_T_generator(v, model,\n",
    "                     b_indices, y_indices, y_indices, b_indices)\n",
    "    # Maximize over bp\n",
    "    return jnp.argmax(val, axis=-1)"
   ]
  },
  {
   "cell_type": "markdown",
   "id": "85306af3",
   "metadata": {},
   "source": [
    "Computing the planner solution is straightforward value function iteration:"
   ]
  },
  {
   "cell_type": "code",
   "execution_count": 27,
   "id": "a512ea0a",
   "metadata": {},
   "outputs": [],
   "source": [
    "def compute_planner_solution(model):\n",
    "    \"\"\"\n",
    "    Compute the constrained planner solution.\n",
    "\n",
    "    \"\"\"\n",
    "    σ, η, β, ω, κ, r, b_grid, y_t_nodes, y_n_nodes, Q = model\n",
    "    b_size, y_size = len(b_grid), len(y_t_nodes)\n",
    "    b_indices = jnp.arange(b_size)\n",
    "    v_init = jnp.ones((b_size, y_size, y_size))\n",
    "    _T = lambda v: planner_T(model, v)\n",
    "    # Compute household response to current guess H\n",
    "    v, vfi_num_iter = vfi(_T, v_init)\n",
    "    bp_policy = planner_get_greedy(model, v)\n",
    "    return v, bp_policy, vfi_num_iter"
   ]
  },
  {
   "cell_type": "markdown",
   "id": "a864c4aa",
   "metadata": {},
   "source": [
    "## Numerical solution\n",
    "\n",
    "Let's now solve the model and compare the decentralized and planner solutions\n",
    "\n",
    "### Generating solutions\n",
    "\n",
    "Here we compute the two solutions."
   ]
  },
  {
   "cell_type": "code",
   "execution_count": 28,
   "id": "95449e98",
   "metadata": {},
   "outputs": [],
   "source": [
    "model = create_overborrowing_model()\n",
    "σ, η, β, ω, κ, r, b_grid, y_t_nodes, y_n_nodes, Q = model\n",
    "b_size, y_size = len(b_grid), len(y_t_nodes)"
   ]
  },
  {
   "cell_type": "code",
   "execution_count": 29,
   "id": "d6075c28",
   "metadata": {},
   "outputs": [
    {
     "name": "stdout",
     "output_type": "stream",
     "text": [
      "Computing decentralized solution.\n",
      "VFI terminated after 128 iterations.\n",
      "Updated H at iteration 0 with error 0.15619052946567535.\n",
      "VFI terminated after 128 iterations.\n",
      "Updated H at iteration 1 with error 0.08837097883224487.\n",
      "VFI terminated after 129 iterations.\n",
      "Updated H at iteration 2 with error 0.0780951976776123.\n",
      "VFI terminated after 128 iterations.\n",
      "Updated H at iteration 3 with error 0.06987470388412476.\n",
      "VFI terminated after 128 iterations.\n",
      "Updated H at iteration 4 with error 0.05959904193878174.\n",
      "VFI terminated after 128 iterations.\n",
      "Updated H at iteration 5 with error 0.05137842893600464.\n",
      "VFI terminated after 128 iterations.\n",
      "Updated H at iteration 6 with error 0.04315793514251709.\n",
      "VFI terminated after 128 iterations.\n",
      "Updated H at iteration 7 with error 0.03904759883880615.\n",
      "VFI terminated after 128 iterations.\n",
      "Updated H at iteration 8 with error 0.0328822135925293.\n",
      "VFI terminated after 129 iterations.\n",
      "Updated H at iteration 9 with error 0.02877199649810791.\n",
      "VFI terminated after 128 iterations.\n",
      "Updated H at iteration 10 with error 0.024661660194396973.\n",
      "VFI terminated after 128 iterations.\n",
      "Updated H at iteration 11 with error 0.020551443099975586.\n",
      "VFI terminated after 128 iterations.\n",
      "Updated H at iteration 12 with error 0.018496274948120117.\n",
      "VFI terminated after 128 iterations.\n",
      "Updated H at iteration 13 with error 0.01438605785369873.\n",
      "VFI terminated after 128 iterations.\n",
      "Updated H at iteration 14 with error 0.012330859899520874.\n",
      "VFI terminated after 129 iterations.\n",
      "Updated H at iteration 15 with error 0.010275721549987793.\n",
      "VFI terminated after 128 iterations.\n",
      "Updated H at iteration 16 with error 0.010275721549987793.\n",
      "VFI terminated after 128 iterations.\n",
      "Updated H at iteration 17 with error 0.0082206130027771.\n",
      "VFI terminated after 128 iterations.\n",
      "Updated H at iteration 18 with error 0.0082206130027771.\n",
      "VFI terminated after 128 iterations.\n",
      "Updated H at iteration 19 with error 0.0061654746532440186.\n",
      "VFI terminated after 128 iterations.\n",
      "Updated H at iteration 20 with error 0.006165444850921631.\n",
      "VFI terminated after 128 iterations.\n",
      "Updated H at iteration 21 with error 0.006165444850921631.\n",
      "VFI terminated after 128 iterations.\n",
      "Updated H at iteration 22 with error 0.0041103363037109375.\n",
      "Computed decentralized equilibrium in 19.405309677124023 seconds\n"
     ]
    }
   ],
   "source": [
    "print(\"Computing decentralized solution.\")\n",
    "in_time = time.time()\n",
    "H_eq = compute_equilibrium(model)\n",
    "out_time = time.time()\n",
    "diff = out_time - in_time\n",
    "print(f\"Computed decentralized equilibrium in {diff} seconds\")"
   ]
  },
  {
   "cell_type": "code",
   "execution_count": 30,
   "id": "d2db03d0",
   "metadata": {},
   "outputs": [
    {
     "name": "stdout",
     "output_type": "stream",
     "text": [
      "Computing planner's solution.\n",
      "Computed decentralized equilibrium in 0.6357779502868652 seconds\n"
     ]
    }
   ],
   "source": [
    "print(\"Computing planner's solution.\")\n",
    "in_time = time.time()\n",
    "planner_v, H_plan, vfi_num_iter = compute_planner_solution(model)\n",
    "out_time = time.time()\n",
    "diff = out_time - in_time\n",
    "print(f\"Computed decentralized equilibrium in {diff} seconds\")"
   ]
  },
  {
   "cell_type": "markdown",
   "id": "0fda92e0",
   "metadata": {},
   "source": [
    "### Policy plots\n",
    "\n",
    "We produce a policy plot that is similar to Figure 1 in Bianchi (2011)."
   ]
  },
  {
   "cell_type": "code",
   "execution_count": 31,
   "id": "5480855b",
   "metadata": {},
   "outputs": [
    {
     "data": {
      "image/png": "[encoded data removed]",
      "text/plain": [
       "<Figure size 640x480 with 1 Axes>"
      ]
     },
     "metadata": {},
     "output_type": "display_data"
    }
   ],
   "source": [
    "i, j = 1, 3\n",
    "y_t, y_n = y_t_nodes[i], y_n_nodes[j]\n",
    "fig, ax = plt.subplots()\n",
    "ax.plot(b_grid, b_grid[H_eq[:, i, j]], label='decentralized equilibrium')\n",
    "ax.plot(b_grid, b_grid[H_plan[:, i, j]], ls='--', label='social planner')\n",
    "ax.plot(b_grid, b_grid, color='black', lw=0.5)\n",
    "ax.set_ylim((-1.0, -0.6))\n",
    "ax.set_xlim((-1.0, -0.6))\n",
    "ax.set_xlabel(\"current bond holdings\")\n",
    "ax.set_ylabel(\"next period bond holdings\")\n",
    "ax.set_title(f\"policy when $y_t = {y_t:.2}$ and $y_n = {y_n:.2}$\")\n",
    "ax.legend()\n",
    "plt.show()"
   ]
  },
  {
   "cell_type": "markdown",
   "id": "bac0cea2",
   "metadata": {},
   "source": [
    "The match is not exact because we use a different estimate of the Markov\n",
    "dynamics for income.\n",
    "\n",
    "Nonetheless, it is qualitatively similar."
   ]
  },
  {
   "cell_type": "markdown",
   "id": "3400984c",
   "metadata": {},
   "source": [
    "## Exercise\n",
    "\n",
    "Your task is to examine the ergodic distribution of borrowing in the decentralized and\n",
    "planner equilibria.\n",
    "\n",
    "We recommend that you use simulation and a kernel density estimate.\n",
    "\n",
    "Here's a function for generating the borrowing sequence.\n",
    "\n",
    "We use Numba because we want to compile a long for loop."
   ]
  },
  {
   "cell_type": "code",
   "execution_count": 32,
   "id": "6f1869fd",
   "metadata": {},
   "outputs": [],
   "source": [
    "@numba.jit\n",
    "def generate_borrowing_sequence(H, y_t_series, y_n_series):\n",
    "    \"\"\"\n",
    "    Generate the borrowing sequence B' = H(B, y_t, y_n).\n",
    "\n",
    "    * H is a policy array\n",
    "    * y_t_series and y_n_series are simulated time paths \n",
    "\n",
    "    Both y_t_series and y_n_series are stored as indices rather than values.\n",
    "\n",
    "    \"\"\"\n",
    "    B = np.empty_like(y_t_series)\n",
    "    B[0] = 0\n",
    "    for t in range(len(y_t_series)-1):\n",
    "        B[t+1] = H[B[t], y_t_series[t], y_n_series[t]]\n",
    "    return B"
   ]
  },
  {
   "cell_type": "markdown",
   "id": "fbc08b9b",
   "metadata": {},
   "source": [
    "Note that you will have to convert JAX arrays into NumPy arrays if you want to use this function.\n",
    "\n",
    "From here you will need to \n",
    "\n",
    "* generate a time path for income $y = (y_t, y_n)$ using one of the functions provided above.\n",
    "* use the function `generate_borrowing_sequence` plus `H_eq` and `H_plan` to calculate bond holdings for the planner and the decentralized equilibrium\n",
    "* produce a kernel density plot for each of these data sets\n",
    "\n",
    "If you are successful, your plot should look something like Fig 2 of Bianchi (2011) --- although not exactly the same, due to the alternative specification of the Markov process.\n",
    "\n",
    "To generate a kernel density plot, we recommend that you use `kdeplot` from the package `seaborn`, which is included in Anaconda."
   ]
  },
  {
   "cell_type": "code",
   "execution_count": 33,
   "id": "06892e56",
   "metadata": {},
   "outputs": [
    {
     "name": "stdout",
     "output_type": "stream",
     "text": [
      "Solution below.\n",
      "Solution below.\n",
      "Solution below.\n",
      "Solution below.\n",
      "Solution below.\n",
      "Solution below.\n",
      "Solution below.\n",
      "Solution below.\n",
      "Solution below.\n",
      "Solution below.\n",
      "Solution below.\n",
      "Solution below.\n",
      "Solution below.\n",
      "Solution below.\n",
      "Solution below.\n",
      "Solution below.\n",
      "Solution below.\n",
      "Solution below.\n"
     ]
    }
   ],
   "source": [
    "for i in range(18):\n",
    "    print(\"Solution below.\")"
   ]
  },
  {
   "cell_type": "code",
   "execution_count": 34,
   "id": "17ba1007",
   "metadata": {},
   "outputs": [],
   "source": [
    "import seaborn  # For kernel density plots"
   ]
  },
  {
   "cell_type": "code",
   "execution_count": 35,
   "id": "c09635cf",
   "metadata": {},
   "outputs": [],
   "source": [
    "sim_length = 100_000\n",
    "y_t_series, y_n_series = generate_discrete_var(ts_length=sim_length,\n",
    "                                               indices=True)"
   ]
  },
  {
   "cell_type": "markdown",
   "id": "2bbb625e",
   "metadata": {},
   "source": [
    "We convert JAX arrays to NumPy arrays in order to use Numba."
   ]
  },
  {
   "cell_type": "code",
   "execution_count": 36,
   "id": "08e3cb6d",
   "metadata": {},
   "outputs": [],
   "source": [
    "y_t_series, y_n_series, H_eq, H_plan = \\\n",
    "        [np.array(v) for v in (y_t_series, y_n_series, H_eq, H_plan)]"
   ]
  },
  {
   "cell_type": "markdown",
   "id": "55dd0612",
   "metadata": {},
   "source": [
    "Now let's compute borrowing for the decentralized equilibrium and the planner."
   ]
  },
  {
   "cell_type": "code",
   "execution_count": 37,
   "id": "c78edd1a",
   "metadata": {},
   "outputs": [],
   "source": [
    "B_eq = generate_borrowing_sequence(H_eq, y_t_series, y_n_series)\n",
    "eq_b_sequence = b_grid[B_eq]\n",
    "B_plan = generate_borrowing_sequence(H_plan, y_t_series, y_n_series)\n",
    "plan_b_sequence = b_grid[B_plan]"
   ]
  },
  {
   "cell_type": "markdown",
   "id": "a452c9a4",
   "metadata": {},
   "source": [
    "We suppress some annoying warnings produced by the current version of `seaborn`"
   ]
  },
  {
   "cell_type": "code",
   "execution_count": 38,
   "id": "cd2fc9bf",
   "metadata": {},
   "outputs": [],
   "source": [
    "import warnings\n",
    "warnings.simplefilter(action='ignore', category=FutureWarning)"
   ]
  },
  {
   "cell_type": "markdown",
   "id": "a8df99c9",
   "metadata": {},
   "source": [
    "Now let's plot the distributions using a kernel density estimator."
   ]
  },
  {
   "cell_type": "code",
   "execution_count": 39,
   "id": "3eba3d69",
   "metadata": {},
   "outputs": [
    {
     "data": {
      "image/png": "[encoded data removed]",
      "text/plain": [
       "<Figure size 640x480 with 1 Axes>"
      ]
     },
     "metadata": {},
     "output_type": "display_data"
    }
   ],
   "source": [
    "fig, ax = plt.subplots()\n",
    "seaborn.kdeplot(eq_b_sequence, ax=ax, label='decentralized')\n",
    "seaborn.kdeplot(plan_b_sequence, ax=ax, label='planner')\n",
    "ax.legend()\n",
    "ax.set_xlim((-1, -0.5))\n",
    "ax.set_xlabel(\"bond holdings\")\n",
    "ax.set_ylabel(\"probability\")\n",
    "plt.show()"
   ]
  },
  {
   "cell_type": "markdown",
   "id": "f650f5d5",
   "metadata": {},
   "source": [
    "This corresponds to Figure 2 in Bianchi.\n",
    "\n",
    "Again, the match is not exact but it is qualitatively similar.\n",
    "\n",
    "Asset holding has a longer left hand tail under the decentralized equilibrium,\n",
    "leaving the economy more vulnerable to bad shocks."
   ]
  }
 ],
 "metadata": {
  "kernelspec": {
   "display_name": "Python 3 (ipykernel)",
   "language": "python",
   "name": "python3"
  },
  "language_info": {
   "codemirror_mode": {
    "name": "ipython",
    "version": 3
   },
   "file_extension": ".py",
   "mimetype": "text/x-python",
   "name": "python",
   "nbconvert_exporter": "python",
   "pygments_lexer": "ipython3",
   "version": "3.11.7"
  }
 },
 "nbformat": 4,
 "nbformat_minor": 5
}
