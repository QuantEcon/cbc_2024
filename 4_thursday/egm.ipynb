{
 "cells": [
  {
   "cell_type": "markdown",
   "id": "d056774f",
   "metadata": {},
   "source": [
    "# Endogenous Grid Method\n",
    "\n",
    "----\n",
    "\n",
    "#### John Stachurski\n",
    "#### Prepared for the CBC Computational Workshop (May 2024)\n",
    "\n",
    "----\n",
    "\n",
    "## Overview\n",
    "\n",
    "In this lecture we use the endogenous grid method (EGM) to solve a basic optimal savings problem.\n",
    "\n",
    "Our main implementation is in JAX, although we also run a Numba version for comparison.\n",
    "\n",
    "Our treatment of EGM is quite brief -- we just outline the algorithm.\n",
    "\n",
    "Readers who want more background can see [this lecture](https://python.quantecon.org/egm_policy_iter.html).\n",
    "\n",
    "\n",
    "Uncomment if necessary:"
   ]
  },
  {
   "cell_type": "code",
   "execution_count": 1,
   "id": "d1a27661",
   "metadata": {},
   "outputs": [],
   "source": [
    "#!pip install --upgrade quantecon"
   ]
  },
  {
   "cell_type": "markdown",
   "id": "0719f1e4",
   "metadata": {},
   "source": [
    "Let's run some imports"
   ]
  },
  {
   "cell_type": "code",
   "execution_count": 2,
   "id": "345d1579",
   "metadata": {},
   "outputs": [],
   "source": [
    "import quantecon as qe\n",
    "from collections import namedtuple\n",
    "import matplotlib.pyplot as plt\n",
    "import numpy as np\n",
    "import jax\n",
    "import jax.numpy as jnp\n",
    "import numba"
   ]
  },
  {
   "cell_type": "markdown",
   "id": "282f0897",
   "metadata": {},
   "source": [
    "What GPU are we running?"
   ]
  },
  {
   "cell_type": "code",
   "execution_count": 3,
   "id": "b0865a94",
   "metadata": {},
   "outputs": [
    {
     "name": "stdout",
     "output_type": "stream",
     "text": [
      "Thu May 16 09:39:51 2024       \n",
      "+-----------------------------------------------------------------------------------------+\n",
      "| NVIDIA-SMI 550.54.15              Driver Version: 550.54.15      CUDA Version: 12.4     |\n",
      "|-----------------------------------------+------------------------+----------------------+\n",
      "| GPU  Name                 Persistence-M | Bus-Id          Disp.A | Volatile Uncorr. ECC |\n",
      "| Fan  Temp   Perf          Pwr:Usage/Cap |           Memory-Usage | GPU-Util  Compute M. |\n",
      "|                                         |                        |               MIG M. |\n",
      "|=========================================+========================+======================|\n",
      "|   0  NVIDIA GeForce RTX 3080        Off |   00000000:3E:00.0 Off |                  N/A |\n",
      "| 30%   29C    P8             26W /  320W |       6MiB /  10240MiB |      0%      Default |\n",
      "|                                         |                        |                  N/A |\n",
      "+-----------------------------------------+------------------------+----------------------+\n",
      "                                                                                         \n",
      "+-----------------------------------------------------------------------------------------+\n",
      "| Processes:                                                                              |\n",
      "|  GPU   GI   CI        PID   Type   Process name                              GPU Memory |\n",
      "|        ID   ID                                                               Usage      |\n",
      "|=========================================================================================|\n",
      "|    0   N/A  N/A      1252      G   /usr/lib/xorg/Xorg                              3MiB |\n",
      "+-----------------------------------------------------------------------------------------+\n"
     ]
    },
    {
     "name": "stderr",
     "output_type": "stream",
     "text": [
      "/home/john/anaconda3/lib/python3.11/pty.py:89: RuntimeWarning: os.fork() was called. os.fork() is incompatible with multithreaded code, and JAX is multithreaded, so this will likely lead to a deadlock.\n",
      "  pid, fd = os.forkpty()\n"
     ]
    }
   ],
   "source": [
    "!nvidia-smi"
   ]
  },
  {
   "cell_type": "markdown",
   "id": "1804d338",
   "metadata": {},
   "source": [
    "We use 64 bit floating point numbers for extra precision."
   ]
  },
  {
   "cell_type": "code",
   "execution_count": 4,
   "id": "9ff659be",
   "metadata": {},
   "outputs": [],
   "source": [
    "jax.config.update(\"jax_enable_x64\", True)"
   ]
  },
  {
   "cell_type": "markdown",
   "id": "08fcc348",
   "metadata": {},
   "source": [
    "## Setup \n",
    "\n",
    "Consider a household that chooses $\\{c_t\\}_{t \\geq 0}$ to maximize\n",
    "\n",
    "$$\n",
    "    \\mathbb{E} \\, \\sum_{t=0}^{\\infty} \\beta^t u(c_t)\n",
    "$$\n",
    "\n",
    "subject to\n",
    "\n",
    "$$\n",
    "    a_{t+1} = R(a_t - c_t)  + Y_{t+1}\n",
    "    \\quad \\text{and}\n",
    "    \\quad 0 \\leq c_t \\leq a_t \\quad \\text{for } t \\geq 0\n",
    "$$\n",
    "\n",
    "Here\n",
    "\n",
    "* $\\beta \\in (0,1)$ is a discount factor\n",
    "* $R = 1 + r$ where $r$ is the interest rate\n",
    "* the income process $\\{Y_t\\}$ is a generated by stochastic matrix $P$\n",
    "\n",
    "The matrix $P$ and the grid of values taken by $Y_t$ are obtained by discretizing the AR(1) process\n",
    "\n",
    "$$\n",
    "    Y_{t+1} = \\rho Y_t + \\nu \\epsilon_{t+1}\n",
    "$$\n",
    "\n",
    "where $\\{\\epsilon_t\\}$ is IID and standard normal."
   ]
  },
  {
   "cell_type": "markdown",
   "id": "4d19898b",
   "metadata": {},
   "source": [
    "### Euler iteration (time iteration)\n",
    "\n",
    "Let $S = \\mathbb R_+ \\times \\mathsf Y$ be the set of possible values for the state $(a_t, Y_t)$.\n",
    "\n",
    "We aim to compute an optimal consumption policy $\\sigma \\colon S \\to \\mathbb R$, under which dynamics are given by\n",
    "\n",
    "$$\n",
    "    c_t = \\sigma(a_t, Y_t)\n",
    "    \\quad \\text{and} \\quad\n",
    "    a_{t+1} = R (a_t - c_t) + Y_{t+1}\n",
    "$$\n",
    "\n",
    "\n",
    "We solve for this policy via the endogenous grid method (EGM).\n",
    "\n",
    "EGM is a special case of an algorithm called either \"time iteration\" (a bad name) or \"Euler iteration\" (a better one).\n",
    "\n",
    "Euler iteration involves guessing a consumption policy $\\sigma$ and then updating it using the Euler equation.\n",
    "\n",
    "We call the update rule $K$ and think of $K$ as an operator.\n",
    "\n",
    "EGM is a technique for computing the update (computing $K\\sigma$ from $\\sigma$) via approximation that is very fast in simple settings (but often fails or does not exist in more complex ones)."
   ]
  },
  {
   "cell_type": "markdown",
   "id": "ad4f0dc7",
   "metadata": {},
   "source": [
    "## Specification\n",
    "\n",
    "Utility has the CRRA specification\n",
    "\n",
    "$$\n",
    "    u(c) = \\frac{c^{1 - \\gamma}} {1 - \\gamma}\n",
    "$$\n",
    "\n",
    "We start with a namedtuple to store parameters and arrays"
   ]
  },
  {
   "cell_type": "code",
   "execution_count": 5,
   "id": "c265b2fa",
   "metadata": {},
   "outputs": [],
   "source": [
    "Model = namedtuple('Model', ('β', 'R', 'γ', 's_grid', 'y_grid', 'P'))"
   ]
  },
  {
   "cell_type": "markdown",
   "id": "16dfaefa",
   "metadata": {},
   "source": [
    "The following function stores default parameter values for the income fluctuation problem and creates suitable arrays."
   ]
  },
  {
   "cell_type": "code",
   "execution_count": 6,
   "id": "45158cfc",
   "metadata": {},
   "outputs": [],
   "source": [
    "def ifp(R=1.01,             # Gross interest rate\n",
    "        β=0.99,             # Discount factor\n",
    "        γ=1.5,              # CRRA preference parameter\n",
    "        s_max=16,           # Savings grid max\n",
    "        s_size=200,         # Savings grid size\n",
    "        ρ=0.99,             # Income persistence\n",
    "        ν=0.02,             # Income volatility\n",
    "        y_size=25):         # Income grid size\n",
    "  \n",
    "    # require R β < 1 for convergence\n",
    "    assert R * β < 1, \"Stability condition failed.\"\n",
    "\n",
    "    # Create arrays\n",
    "    mc = qe.tauchen(y_size, ρ, ν)\n",
    "    y_grid, P = jnp.exp(mc.state_values), jnp.array(mc.P)\n",
    "    s_grid = jnp.linspace(0, s_max, s_size)\n",
    "\n",
    "    # Pack and return\n",
    "    return Model(β, R, γ, s_grid, y_grid, P)"
   ]
  },
  {
   "cell_type": "markdown",
   "id": "8da5361d",
   "metadata": {},
   "source": [
    "### The EGM algorithm\n",
    "\n",
    "\n",
    "We take as given a fixed and *exogenous* grid of saving values $s = s[i]$\n",
    "\n",
    "We begin with a pair of arrays $a[i, j]$ and $\\sigma[i, j]$, where $i$ is in `range(len(s_grid))` and $j$ is in `range(len(y_grid))`.\n",
    "\n",
    "Fixing $j$, we linearly interpolate $a[:, j]$ and $\\sigma[:, j]$ to great a consumption policy when income is in state $j$ --- let's also denote this consumption policy by  $\\sigma$. \n",
    "\n",
    "\n",
    "Next we set $a_0 = c_0 = 0$, since zero consumption is the only choice when $a=0$.\n",
    "\n",
    "Then, for $i > 0$, we compute \n",
    "\n",
    "$$\n",
    "    c[i, j]\n",
    "    = (u')^{-1}\n",
    "    \\left\\{ \n",
    "        \\beta R \\, \\mathbb \\sum_{j'} u' \n",
    "        \\left [\n",
    "        \\sigma(R s[i] + y[j'], \\, j')\n",
    "        \\right]  P[j, j']\n",
    "     \\right\\}\n",
    "$$ \n",
    "\n",
    "and we set \n",
    "\n",
    "$$\n",
    "    a[i, j] = s[i] + c[i, j] \n",
    "$$ \n",
    "\n",
    "Now we increment $j$ and then repeat over all $i$.\n",
    "\n",
    "This gives us a new pair of arrays $a = a[i, j]$ and $\\sigma = \\sigma[i, j]$.\n",
    "\n",
    "Now we repeat the whole procedure, each time updating $a$ and $\\sigma$.\n",
    "\n",
    "Once iteration finishes, $\\sigma[i, j]$ contains (approximately) optimal consumption when assets are $a[i,j]$ and income is in state $j$."
   ]
  },
  {
   "cell_type": "markdown",
   "id": "5c6903e9",
   "metadata": {},
   "source": [
    "## JAX version \n",
    "\n",
    "First we define an operator $K$ for updating consumption policies based on the EGM.\n",
    "\n",
    "We'll try a `vmap` version and then we'll try a vectorized version using reshapes.\n",
    "\n",
    "Here's a non-vectorized version of $K$ that we can apply `vmap` to:"
   ]
  },
  {
   "cell_type": "code",
   "execution_count": 7,
   "id": "cefe420a",
   "metadata": {},
   "outputs": [],
   "source": [
    "def K_jax_generator(a_vec, σ_vec, model, i, j):\n",
    "    \"\"\"\n",
    "    Computes Kσ evaluated at (a_i, y_j).\n",
    "    \n",
    "    \"\"\"\n",
    "    # Unpack\n",
    "    β, R, γ, s_grid, y_grid, P = model\n",
    "    y_grid_idx = jnp.arange(len(y_grid))\n",
    "    s_i = s_grid[i]  \n",
    "    \n",
    "    def u_prime(c):\n",
    "        return c**(-γ)\n",
    "\n",
    "    def u_prime_inv(u):\n",
    "            return u**(-1/γ)\n",
    "\n",
    "    # Evaluate σ(R s_i + y_k, y_k) over all future income states k\n",
    "    def f(k):\n",
    "        return jnp.interp(R * s_i + y_grid[k], a_vec[:, k], σ_vec[:, k])\n",
    "    consumption_vals = jax.vmap(f)(y_grid_idx)\n",
    "    \n",
    "    # Evaluate consumption choice\n",
    "    E = u_prime(consumption_vals) @ P[j, :]\n",
    "    c_i = u_prime_inv(β * R * E)\n",
    "    c_i = c_i * (i > 0)  # When s_i = 0, set c_i = 0\n",
    "    a_i = s_i + c_i\n",
    "\n",
    "    return a_i, c_i"
   ]
  },
  {
   "cell_type": "code",
   "execution_count": 8,
   "id": "148a79a8",
   "metadata": {},
   "outputs": [],
   "source": [
    "K_jax_generator = jax.vmap(K_jax_generator,\n",
    "                           in_axes=(None, None, None, None, 0))\n",
    "K_jax_generator = jax.vmap(K_jax_generator,\n",
    "                           in_axes=(None, None, None, 0, None))"
   ]
  },
  {
   "cell_type": "code",
   "execution_count": 9,
   "id": "c7c9b44f",
   "metadata": {},
   "outputs": [],
   "source": [
    "@jax.jit\n",
    "def K_jax(a_vec, σ_vec, model):\n",
    "    # Unpack\n",
    "    β, R, γ, s_grid, y_grid, P = model\n",
    "    s_size, y_size = len(s_grid), len(y_grid)\n",
    "    s_indices, y_indices = jnp.arange(s_size), jnp.arange(y_size)\n",
    "    return K_jax_generator(a_vec, σ_vec, model, s_indices, y_indices)"
   ]
  },
  {
   "cell_type": "markdown",
   "id": "17ecd5e1",
   "metadata": {},
   "source": [
    "Here's the vectorized version using reshapes."
   ]
  },
  {
   "cell_type": "code",
   "execution_count": 10,
   "id": "47a8605b",
   "metadata": {},
   "outputs": [],
   "source": [
    "@jax.jit\n",
    "def K_jax_vectorized(a_vec, σ, model):\n",
    "    \"The vectorized operator K using EGM.\"\n",
    "    \n",
    "    # Unpack\n",
    "    β, R, γ, s_grid, y_grid, P = model\n",
    "    s_size, y_size = len(s_grid), len(y_grid)\n",
    "    \n",
    "    def u_prime(c):\n",
    "        return c**(-γ)\n",
    "\n",
    "    def u_prime_inv(u):\n",
    "            return u**(-1/γ)\n",
    "\n",
    "    # Linearly interpolate σ(a, y)\n",
    "    def σ_f(a, y):\n",
    "        return jnp.interp(a, a_vec[:, y], σ[:, y])\n",
    "    σ_vec = jnp.vectorize(σ_f)\n",
    "\n",
    "    # Broadcast and vectorize\n",
    "    y_hat = jnp.reshape(y_grid, (1, 1, y_size))\n",
    "    y_hat_idx = jnp.reshape(jnp.arange(y_size), (1, 1, y_size))\n",
    "    s = jnp.reshape(s_grid, (s_size, 1, 1))\n",
    "    P = jnp.reshape(P, (1, y_size, y_size))\n",
    "    \n",
    "    # Evaluate consumption choice\n",
    "    a_next = R * s + y_hat\n",
    "    σ_next = σ_vec(a_next, y_hat_idx)\n",
    "    up = u_prime(σ_next)\n",
    "    E = jnp.sum(up * P, axis=-1)\n",
    "    c = u_prime_inv(β * R * E)\n",
    "\n",
    "    # Set up a column vector with zero in the first row and ones elsewhere\n",
    "    e_0 = jnp.ones(s_size) - jnp.identity(s_size)[:, 0]\n",
    "    e_0 = jnp.reshape(e_0, (s_size, 1))\n",
    "\n",
    "    # The policy is computed consumption with the first row set to zero\n",
    "    σ_out = c * e_0\n",
    "\n",
    "    # Compute a_out by a = s + c\n",
    "    a_out = np.reshape(s_grid, (s_size, 1)) + σ_out\n",
    "    \n",
    "    return a_out, σ_out"
   ]
  },
  {
   "cell_type": "markdown",
   "id": "ada98e84",
   "metadata": {},
   "source": [
    "Let's check that they compute the same thing."
   ]
  },
  {
   "cell_type": "code",
   "execution_count": 11,
   "id": "c646b7c4",
   "metadata": {},
   "outputs": [],
   "source": [
    "# Unpack\n",
    "model = ifp()\n",
    "β, R, γ, s_grid, y_grid, P = model\n",
    "s_size, y_size = len(s_grid), len(y_grid)"
   ]
  },
  {
   "cell_type": "code",
   "execution_count": 12,
   "id": "f507de1f",
   "metadata": {},
   "outputs": [],
   "source": [
    "# Initial condition is to consume all in every state\n",
    "σ_vec = jnp.repeat(s_grid, y_size)\n",
    "σ_vec = jnp.reshape(σ_vec, (s_size, y_size))\n",
    "a_vec = jnp.copy(σ_vec)"
   ]
  },
  {
   "cell_type": "code",
   "execution_count": 13,
   "id": "92afe552",
   "metadata": {},
   "outputs": [],
   "source": [
    "a_vmap, σ_vmap = K_jax(a_vec, σ_vec, model)"
   ]
  },
  {
   "cell_type": "code",
   "execution_count": 14,
   "id": "68cbaec9",
   "metadata": {},
   "outputs": [],
   "source": [
    "a_vectorized, σ_vectorized = K_jax_vectorized(a_vec, σ_vec, model)"
   ]
  },
  {
   "cell_type": "code",
   "execution_count": 15,
   "id": "dd55fff1",
   "metadata": {},
   "outputs": [
    {
     "data": {
      "text/plain": [
       "Array(True, dtype=bool)"
      ]
     },
     "execution_count": 15,
     "metadata": {},
     "output_type": "execute_result"
    }
   ],
   "source": [
    "jnp.allclose(a_vmap, a_vectorized)"
   ]
  },
  {
   "cell_type": "code",
   "execution_count": 16,
   "id": "203f2ed0",
   "metadata": {},
   "outputs": [
    {
     "data": {
      "text/plain": [
       "Array(True, dtype=bool)"
      ]
     },
     "execution_count": 16,
     "metadata": {},
     "output_type": "execute_result"
    }
   ],
   "source": [
    "jnp.allclose(σ_vmap, σ_vectorized)"
   ]
  },
  {
   "cell_type": "markdown",
   "id": "b1931071",
   "metadata": {},
   "source": [
    "OK, so they compute the same thing.  Now let's test timing over multiple runs via `timeit`:"
   ]
  },
  {
   "cell_type": "code",
   "execution_count": 17,
   "id": "d7fa824d",
   "metadata": {},
   "outputs": [
    {
     "name": "stdout",
     "output_type": "stream",
     "text": [
      "141 µs ± 6.23 µs per loop (mean ± std. dev. of 7 runs, 10,000 loops each)\n"
     ]
    }
   ],
   "source": [
    "%timeit _, _ = K_jax(a_vec, σ_vec, model)"
   ]
  },
  {
   "cell_type": "code",
   "execution_count": 18,
   "id": "717e4bef",
   "metadata": {},
   "outputs": [
    {
     "name": "stdout",
     "output_type": "stream",
     "text": [
      "135 µs ± 2.98 µs per loop (mean ± std. dev. of 7 runs, 10,000 loops each)\n"
     ]
    }
   ],
   "source": [
    "%timeit _, _ = K_jax_vectorized(a_vec, σ_vec, model)"
   ]
  },
  {
   "cell_type": "markdown",
   "id": "e362dd8a",
   "metadata": {},
   "source": [
    "The two versions run in about the same time.\n",
    "\n",
    "We'll use the `vmap` version in what follows."
   ]
  },
  {
   "cell_type": "markdown",
   "id": "72bb25cb",
   "metadata": {},
   "source": [
    "Next we define a successive approximator that repeatedly applies $K$."
   ]
  },
  {
   "cell_type": "code",
   "execution_count": 19,
   "id": "8207ed9f",
   "metadata": {},
   "outputs": [],
   "source": [
    "def successive_approx_jax(model,        \n",
    "                          tol=1e-5,\n",
    "                          max_iter=100_000,\n",
    "                          verbose=True,\n",
    "                          print_skip=25):\n",
    "\n",
    "    # Unpack\n",
    "    β, R, γ, s_grid, y_grid, P = model\n",
    "    s_size, y_size = len(s_grid), len(y_grid)\n",
    "    \n",
    "    # Initial condition is to consume all in every state\n",
    "    σ_init = jnp.repeat(s_grid, y_size)\n",
    "    σ_init = jnp.reshape(σ_init, (s_size, y_size))\n",
    "    a_init = jnp.copy(σ_init)\n",
    "    a_vec, σ_vec = a_init, σ_init\n",
    "    \n",
    "    i = 0\n",
    "    error = tol + 1\n",
    "\n",
    "    while i < max_iter and error > tol:\n",
    "        a_new, σ_new = K_jax(a_vec, σ_vec, model)\n",
    "        error = jnp.max(jnp.abs(σ_vec - σ_new))\n",
    "        i += 1\n",
    "        if verbose and i % print_skip == 0:\n",
    "            print(f\"Error at iteration {i} is {error}.\")\n",
    "        a_vec, σ_vec = a_new, σ_new\n",
    "\n",
    "    if error > tol:\n",
    "        print(\"Failed to converge!\")\n",
    "    else:\n",
    "        print(f\"\\nConverged in {i} iterations.\")\n",
    "\n",
    "    return a_new, σ_new"
   ]
  },
  {
   "cell_type": "markdown",
   "id": "589744aa",
   "metadata": {},
   "source": [
    "### Numba version \n",
    "\n",
    "Below we provide a second set of code, which solves the same model with Numba.\n",
    "\n",
    "The purpose of this code is to cross-check our results from the JAX version, as\n",
    "well as to do a runtime comparison.\n",
    "\n",
    "Most readers will want to skip ahead to the next section, where we solve the\n",
    "model and run the cross-check."
   ]
  },
  {
   "cell_type": "code",
   "execution_count": 20,
   "id": "1b301f04",
   "metadata": {},
   "outputs": [],
   "source": [
    "def ifp_numba(\n",
    "        R=1.01,             # Gross interest rate\n",
    "        β=0.99,             # Discount factor\n",
    "        γ=1.5,              # CRRA preference parameter\n",
    "        s_max=16,           # Savings grid max\n",
    "        s_size=200,         # Savings grid size\n",
    "        ρ=0.99,             # Income persistence\n",
    "        ν=0.02,             # Income volatility\n",
    "        y_size=25):         # Income grid size\n",
    "  \n",
    "    # require R β < 1 for convergence\n",
    "    assert R * β < 1, \"Stability condition failed.\"\n",
    "\n",
    "    # Create arrays\n",
    "    mc = qe.tauchen(y_size, ρ, ν)\n",
    "    y_grid, P = np.exp(mc.state_values), mc.P\n",
    "    s_grid = np.linspace(0, s_max, s_size)\n",
    "\n",
    "    # Pack and return\n",
    "    return Model(β, R, γ, s_grid, y_grid, P)\n",
    "\n",
    "\n",
    "@numba.jit\n",
    "def K_nb(a_vec, σ, model):\n",
    "    \"The operator K using Numba.\"\n",
    "\n",
    "    # Unpack\n",
    "    β, R, γ, s_grid, y_grid, P = model\n",
    "    s_size, y_size = len(s_grid), len(y_grid)\n",
    "\n",
    "    def u_prime(c):\n",
    "        return c**(-γ)\n",
    "\n",
    "    def u_prime_inv(u):\n",
    "        return u**(-1/γ)\n",
    "\n",
    "    # Linear interpolation of policy using endogenous grid\n",
    "    def σ_f(a, z):\n",
    "        return np.interp(a, a_vec[:, z], σ[:, z])\n",
    "    \n",
    "    # Allocate memory for new consumption array\n",
    "    σ_out = np.zeros_like(σ)\n",
    "    a_out = np.zeros_like(σ_out)\n",
    "    \n",
    "    for i, s in enumerate(s_grid[1:]):\n",
    "        i += 1\n",
    "        for z in range(y_size):\n",
    "            expect = 0.0\n",
    "            for z_hat in range(y_size):\n",
    "                expect += u_prime(σ_f(R * s + y_grid[z_hat], z_hat)) * \\\n",
    "                            P[z, z_hat]\n",
    "            c = u_prime_inv(β * R * expect)\n",
    "            σ_out[i, z] = c\n",
    "            a_out[i, z] = s + c\n",
    "    \n",
    "    return a_out, σ_out"
   ]
  },
  {
   "cell_type": "code",
   "execution_count": 21,
   "id": "2769c403",
   "metadata": {},
   "outputs": [],
   "source": [
    "def successive_approx_numba(model,        # Class with model information\n",
    "                            tol=1e-5,\n",
    "                            max_iter=100_000,\n",
    "                            verbose=True,\n",
    "                            print_skip=25):\n",
    "\n",
    "    # Unpack\n",
    "    β, R, γ, s_grid, y_grid, P = model\n",
    "    s_size, y_size = len(s_grid), len(y_grid)\n",
    "\n",
    "    # make NumPy versions of arrays\n",
    "    s_grid, y_grid, P = [np.array(x) for x in (s_grid, y_grid, P)]\n",
    "    \n",
    "    σ_init = np.repeat(s_grid, y_size)\n",
    "    σ_init = np.reshape(σ_init, (s_size, y_size))\n",
    "    a_init = np.copy(σ_init)\n",
    "    a_vec, σ_vec = a_init, σ_init\n",
    "    \n",
    "    # Set up loop\n",
    "    i = 0\n",
    "    error = tol + 1\n",
    "\n",
    "    while i < max_iter and error > tol:\n",
    "        a_new, σ_new = K_nb(a_vec, σ_vec, model)\n",
    "        error = np.max(np.abs(σ_vec - σ_new))\n",
    "        i += 1\n",
    "        if verbose and i % print_skip == 0:\n",
    "            print(f\"Error at iteration {i} is {error}.\")\n",
    "        a_vec, σ_vec = a_new, σ_new\n",
    "\n",
    "    if error > tol:\n",
    "        print(\"Failed to converge!\")\n",
    "    else:\n",
    "        print(f\"\\nConverged in {i} iterations.\")\n",
    "\n",
    "    return a_new, σ_new"
   ]
  },
  {
   "cell_type": "markdown",
   "id": "e2be0360",
   "metadata": {},
   "source": [
    "## Solutions\n",
    "\n",
    "Here we solve the IFP with JAX and Numba.\n",
    "\n",
    "We will compare both the outputs and the execution time.\n",
    "\n",
    "### Outputs\n",
    "\n",
    "\n",
    "Here's a first run of the JAX code."
   ]
  },
  {
   "cell_type": "code",
   "execution_count": 22,
   "id": "a6c56470",
   "metadata": {},
   "outputs": [
    {
     "name": "stdout",
     "output_type": "stream",
     "text": [
      "Error at iteration 100 is 0.003274240577000098.\n",
      "Error at iteration 200 is 0.0013133107388259013.\n",
      "Error at iteration 300 is 0.0006550972250753961.\n",
      "Error at iteration 400 is 0.0003800385932688499.\n",
      "Error at iteration 500 is 0.00024736616926013255.\n",
      "Error at iteration 600 is 0.00017446354504913053.\n",
      "Error at iteration 700 is 0.000129892015863442.\n",
      "Error at iteration 800 is 0.00010058769447751637.\n",
      "Error at iteration 900 is 7.993256952376626e-05.\n",
      "Error at iteration 1000 is 6.472028596182788e-05.\n",
      "Error at iteration 1100 is 5.316228631624398e-05.\n",
      "Error at iteration 1200 is 4.425450893941196e-05.\n",
      "Error at iteration 1300 is 3.726041825369286e-05.\n",
      "Error at iteration 1400 is 3.1614060126861077e-05.\n",
      "Error at iteration 1500 is 2.6984975752597506e-05.\n",
      "Error at iteration 1600 is 2.314839250949774e-05.\n",
      "Error at iteration 1700 is 1.9940474091040272e-05.\n",
      "Error at iteration 1800 is 1.7238181326817426e-05.\n",
      "Error at iteration 1900 is 1.4947303633494613e-05.\n",
      "Error at iteration 2000 is 1.2994575430580468e-05.\n",
      "Error at iteration 2100 is 1.132223596411741e-05.\n",
      "\n",
      "Converged in 2192 iterations.\n"
     ]
    }
   ],
   "source": [
    "model = ifp()\n",
    "a_star_jax, σ_star_jax = successive_approx_jax(model,\n",
    "                                               print_skip=100)"
   ]
  },
  {
   "cell_type": "markdown",
   "id": "f9f449c6",
   "metadata": {},
   "source": [
    "Here's a first run of the Numba code."
   ]
  },
  {
   "cell_type": "code",
   "execution_count": 23,
   "id": "379892d1",
   "metadata": {},
   "outputs": [
    {
     "name": "stdout",
     "output_type": "stream",
     "text": [
      "Error at iteration 100 is 0.0032742405770003202.\n",
      "Error at iteration 200 is 0.0013133107388259013.\n",
      "Error at iteration 300 is 0.0006550972250753961.\n",
      "Error at iteration 400 is 0.0003800385932688499.\n",
      "Error at iteration 500 is 0.00024736616926013255.\n",
      "Error at iteration 600 is 0.00017446354504935258.\n",
      "Error at iteration 700 is 0.000129892015863442.\n",
      "Error at iteration 800 is 0.00010058769447773841.\n",
      "Error at iteration 900 is 7.993256952354422e-05.\n",
      "Error at iteration 1000 is 6.472028596182788e-05.\n",
      "Error at iteration 1100 is 5.316228631624398e-05.\n",
      "Error at iteration 1200 is 4.425450893941196e-05.\n",
      "Error at iteration 1300 is 3.7260418253914906e-05.\n",
      "Error at iteration 1400 is 3.1614060126861077e-05.\n",
      "Error at iteration 1500 is 2.6984975752597506e-05.\n",
      "Error at iteration 1600 is 2.3148392509719784e-05.\n",
      "Error at iteration 1700 is 1.9940474091262317e-05.\n",
      "Error at iteration 1800 is 1.7238181326817426e-05.\n",
      "Error at iteration 1900 is 1.4947303633494613e-05.\n",
      "Error at iteration 2000 is 1.2994575430802513e-05.\n",
      "Error at iteration 2100 is 1.132223596411741e-05.\n",
      "\n",
      "Converged in 2192 iterations.\n"
     ]
    }
   ],
   "source": [
    "model = ifp_numba()\n",
    "a_star_nb, σ_star_nb = successive_approx_numba(model,\n",
    "                                                print_skip=100)"
   ]
  },
  {
   "cell_type": "markdown",
   "id": "bdc44966",
   "metadata": {},
   "source": [
    "Now let's check the outputs in a plot to make sure they are the same."
   ]
  },
  {
   "cell_type": "code",
   "execution_count": 24,
   "id": "ac276a52",
   "metadata": {},
   "outputs": [
    {
     "data": {
      "image/png": "[encoded data removed]",
      "text/plain": [
       "<Figure size 640x480 with 1 Axes>"
      ]
     },
     "metadata": {},
     "output_type": "display_data"
    }
   ],
   "source": [
    "fig, ax = plt.subplots()\n",
    "β, R, γ, s_grid, y_grid, P = model\n",
    "s_size, y_size = len(s_grid), len(y_grid)\n",
    "\n",
    "for z in (0, y_size-1):\n",
    "    ax.plot(a_star_nb[:, z], \n",
    "            σ_star_nb[:, z], \n",
    "            '--', lw=2,\n",
    "            label=f\"Numba EGM: consumption when $z={z}$\")\n",
    "    ax.plot(a_star_jax[:, z], \n",
    "            σ_star_jax[:, z], \n",
    "            label=f\"JAX EGM: consumption when $z={z}$\")\n",
    "\n",
    "ax.set_xlabel('asset')\n",
    "plt.legend()\n",
    "plt.show()"
   ]
  },
  {
   "cell_type": "markdown",
   "id": "51af37b2",
   "metadata": {},
   "source": [
    "### Timing\n",
    "\n",
    "Now let's compare execution time of the two methods"
   ]
  },
  {
   "cell_type": "code",
   "execution_count": 25,
   "id": "80868257",
   "metadata": {},
   "outputs": [
    {
     "name": "stdout",
     "output_type": "stream",
     "text": [
      "Error at iteration 1000 is 6.472028596182788e-05.\n",
      "Error at iteration 2000 is 1.2994575430580468e-05.\n",
      "\n",
      "Converged in 2192 iterations.\n",
      "TOC: Elapsed: 0:00:1.16\n"
     ]
    }
   ],
   "source": [
    "model = ifp()\n",
    "qe.tic()\n",
    "a_star_jax, σ_star_jax = successive_approx_jax(model,\n",
    "                                         print_skip=1000)\n",
    "jax_time = qe.toc()"
   ]
  },
  {
   "cell_type": "code",
   "execution_count": 26,
   "id": "ddca2f1f",
   "metadata": {},
   "outputs": [
    {
     "name": "stdout",
     "output_type": "stream",
     "text": [
      "Error at iteration 1000 is 6.472028596182788e-05.\n",
      "Error at iteration 2000 is 1.2994575430802513e-05.\n",
      "\n",
      "Converged in 2192 iterations.\n",
      "TOC: Elapsed: 0:00:41.61\n"
     ]
    }
   ],
   "source": [
    "model = ifp_numba()\n",
    "qe.tic()\n",
    "a_star_nb, σ_star_nb = successive_approx_numba(model,\n",
    "                                         print_skip=1000)\n",
    "numba_time = qe.toc()"
   ]
  },
  {
   "cell_type": "markdown",
   "id": "52865ad2",
   "metadata": {},
   "source": [
    "How much faster is JAX?"
   ]
  },
  {
   "cell_type": "code",
   "execution_count": 27,
   "id": "d9f85ffc",
   "metadata": {},
   "outputs": [
    {
     "data": {
      "text/plain": [
       "35.831287955063054"
      ]
     },
     "execution_count": 27,
     "metadata": {},
     "output_type": "execute_result"
    }
   ],
   "source": [
    "numba_time / jax_time"
   ]
  },
  {
   "cell_type": "markdown",
   "id": "74ce1848",
   "metadata": {},
   "source": [
    "The JAX code is significantly faster, as expected.\n",
    "\n",
    "This difference will increase when more features (and state variables) are added\n",
    "to the model."
   ]
  },
  {
   "cell_type": "markdown",
   "id": "6bff9370",
   "metadata": {},
   "source": [
    "## Exercise\n",
    "\n",
    "Try replacing `successive_approx_jax` with a jitted version (`@jax.jit` at the top) that uses `jax.lax.while_loop`.\n",
    "\n",
    "Measure the execution time (after running once to compile) and compare it with the timings above.\n",
    "\n",
    "Also plot the resulting functions using the plotting code above to make sure that you're still getting the same outputs."
   ]
  },
  {
   "cell_type": "code",
   "execution_count": 28,
   "id": "2062b373",
   "metadata": {},
   "outputs": [],
   "source": [
    "#Put your code here"
   ]
  },
  {
   "cell_type": "code",
   "execution_count": 29,
   "id": "3ccd4ecd",
   "metadata": {},
   "outputs": [
    {
     "name": "stdout",
     "output_type": "stream",
     "text": [
      "Solution below! 🐘\n",
      "Solution below! 🐘\n",
      "Solution below! 🐘\n",
      "Solution below! 🐘\n",
      "Solution below! 🐘\n",
      "Solution below! 🐘\n",
      "Solution below! 🐘\n",
      "Solution below! 🐘\n",
      "Solution below! 🐘\n",
      "Solution below! 🐘\n",
      "Solution below! 🐘\n",
      "Solution below! 🐘\n",
      "Solution below! 🐘\n",
      "Solution below! 🐘\n",
      "Solution below! 🐘\n",
      "Solution below! 🐘\n",
      "Solution below! 🐘\n",
      "Solution below! 🐘\n"
     ]
    }
   ],
   "source": [
    "for i in range(18):\n",
    "    print(\"Solution below! 🐘\")"
   ]
  },
  {
   "cell_type": "code",
   "execution_count": 30,
   "id": "9d71d6ae",
   "metadata": {},
   "outputs": [],
   "source": [
    "@jax.jit\n",
    "def successive_approx_jax_jitted(\n",
    "                          model,        \n",
    "                          tol=1e-5,\n",
    "                          max_iter=100_000,\n",
    "                          verbose=True,\n",
    "                          print_skip=25):\n",
    "\n",
    "    # Unpack\n",
    "    β, R, γ, s_grid, y_grid, P = model\n",
    "    s_size, y_size = len(s_grid), len(y_grid)\n",
    "    \n",
    "    # Initial condition is to consume all in every state\n",
    "    σ_init = jnp.repeat(s_grid, y_size)\n",
    "    σ_init = jnp.reshape(σ_init, (s_size, y_size))\n",
    "    a_init = jnp.copy(σ_init)\n",
    "\n",
    "    def update(state):\n",
    "        i, a_vec, σ_vec, error = state\n",
    "        a_new, σ_new = K_jax(a_vec, σ_vec, model) \n",
    "        error = jnp.max(jnp.abs(σ_vec - σ_new))\n",
    "        i += 1\n",
    "        return i, a_new, σ_new, error\n",
    "\n",
    "    def condition(state):\n",
    "        i, a_vec, σ_vec, error = state\n",
    "        return jnp.logical_and(i < max_iter, error > tol)\n",
    "\n",
    "    init_state = (0, a_init, σ_init, tol + 1)\n",
    "    state = jax.lax.while_loop(condition, update, init_state)\n",
    "\n",
    "    return state"
   ]
  },
  {
   "cell_type": "markdown",
   "id": "dfe64dce",
   "metadata": {},
   "source": [
    "Here's a first run."
   ]
  },
  {
   "cell_type": "code",
   "execution_count": 31,
   "id": "d045c31a",
   "metadata": {},
   "outputs": [],
   "source": [
    "model = ifp()\n",
    "i, a_star_jax_jit, σ_star_jax_jit, error = successive_approx_jax_jitted(model,\n",
    "                                                     print_skip=1000)"
   ]
  },
  {
   "cell_type": "code",
   "execution_count": 32,
   "id": "af1f113b",
   "metadata": {},
   "outputs": [
    {
     "name": "stdout",
     "output_type": "stream",
     "text": [
      "Run completed in 2192 iterations with error 9.9915e-06.\n"
     ]
    }
   ],
   "source": [
    "print(f\"Run completed in {i} iterations with error {error:.5}.\")"
   ]
  },
  {
   "cell_type": "markdown",
   "id": "055432d7",
   "metadata": {},
   "source": [
    "Now let's time it."
   ]
  },
  {
   "cell_type": "code",
   "execution_count": 33,
   "id": "beb3005a",
   "metadata": {},
   "outputs": [
    {
     "name": "stdout",
     "output_type": "stream",
     "text": [
      "TOC: Elapsed: 0:00:0.27\n"
     ]
    }
   ],
   "source": [
    "qe.tic()\n",
    "i, a_star_jax_jit, σ_star_jax_jit, error = successive_approx_jax_jitted(model,\n",
    "                                                     print_skip=1000)\n",
    "jax_jit_time = qe.toc()"
   ]
  },
  {
   "cell_type": "code",
   "execution_count": 34,
   "id": "e597dfb2",
   "metadata": {},
   "outputs": [
    {
     "data": {
      "text/plain": [
       "4.290944274354647"
      ]
     },
     "execution_count": 34,
     "metadata": {},
     "output_type": "execute_result"
    }
   ],
   "source": [
    "jax_time / jax_jit_time"
   ]
  },
  {
   "cell_type": "code",
   "execution_count": 35,
   "id": "94e352a2",
   "metadata": {},
   "outputs": [
    {
     "data": {
      "text/plain": [
       "153.75005989353045"
      ]
     },
     "execution_count": 35,
     "metadata": {},
     "output_type": "execute_result"
    }
   ],
   "source": [
    "numba_time / jax_jit_time"
   ]
  },
  {
   "cell_type": "code",
   "execution_count": 36,
   "id": "2c44eb98",
   "metadata": {},
   "outputs": [
    {
     "data": {
      "image/png": "[encoded data removed]",
      "text/plain": [
       "<Figure size 640x480 with 1 Axes>"
      ]
     },
     "metadata": {},
     "output_type": "display_data"
    }
   ],
   "source": [
    "β, R, γ, s_grid, y_grid, P = model\n",
    "s_size, y_size = len(s_grid), len(y_grid)\n",
    "\n",
    "fig, ax = plt.subplots()\n",
    "\n",
    "for z in (0, y_size-1):\n",
    "    ax.plot(a_star_jax_jit[:, z], \n",
    "            σ_star_jax_jit[:, z], \n",
    "            label=f\"JAX EGM: consumption when $z={z}$\")\n",
    "\n",
    "ax.set_xlabel('asset')\n",
    "plt.legend()\n",
    "plt.show()"
   ]
  }
 ],
 "metadata": {
  "kernelspec": {
   "display_name": "Python 3 (ipykernel)",
   "language": "python",
   "name": "python3"
  },
  "language_info": {
   "codemirror_mode": {
    "name": "ipython",
    "version": 3
   },
   "file_extension": ".py",
   "mimetype": "text/x-python",
   "name": "python",
   "nbconvert_exporter": "python",
   "pygments_lexer": "ipython3",
   "version": "3.11.7"
  }
 },
 "nbformat": 4,
 "nbformat_minor": 5
}
