{
 "cells": [
  {
   "cell_type": "markdown",
   "id": "e7eb8f0b",
   "metadata": {},
   "source": [
    "# Default Risk and Income Fluctuations\n",
    "\n",
    "----\n",
    "\n",
    "#### John Stachurski\n",
    "#### Prepared for the CBC Computational Workshop (May 2024)\n",
    "\n",
    "----\n",
    "\n",
    "Uncomment if necessary:"
   ]
  },
  {
   "cell_type": "code",
   "execution_count": 1,
   "id": "efe21ebe",
   "metadata": {},
   "outputs": [],
   "source": [
    "#!pip install quantecon"
   ]
  },
  {
   "cell_type": "markdown",
   "id": "3f111e0a",
   "metadata": {},
   "source": [
    "## Overview\n",
    "\n",
    "This lecture studies [Arellano’s 2008 model of sovereign default](https://www.aeaweb.org/articles?id=10.1257/aer.98.3.690).\n",
    "\n",
    "The model describes interactions among default risk, output, and an\n",
    "equilibrium interest rate that includes a premium for endogenous default risk.\n",
    "\n",
    "The decision maker is a government of a small open economy that borrows from\n",
    "risk-neutral foreign creditors.\n",
    "\n",
    "The foreign lenders must be compensated for default risk.\n",
    "\n",
    "The government borrows and lends abroad in order to smooth the consumption of\n",
    "its citizens.\n",
    "\n",
    "The government repays its debt only if it wants to, but declining to pay has\n",
    "adverse consequences.\n",
    "\n",
    "The interest rate on government debt adjusts in response to the\n",
    "state-dependent default probability chosen by government.\n",
    "\n",
    "Let’s start with some imports:"
   ]
  },
  {
   "cell_type": "code",
   "execution_count": 2,
   "id": "d757efd6",
   "metadata": {},
   "outputs": [],
   "source": [
    "import matplotlib.pyplot as plt\n",
    "import quantecon as qe\n",
    "import random\n",
    "import jax\n",
    "import jax.numpy as jnp\n",
    "from collections import namedtuple"
   ]
  },
  {
   "cell_type": "markdown",
   "id": "d4e5e8b5",
   "metadata": {},
   "source": [
    "We will use 64 bit floats with JAX in order to increase the precision."
   ]
  },
  {
   "cell_type": "code",
   "execution_count": 3,
   "id": "bb2ce450",
   "metadata": {},
   "outputs": [],
   "source": [
    "jax.config.update(\"jax_enable_x64\", True)"
   ]
  },
  {
   "cell_type": "markdown",
   "id": "d3cd7f51",
   "metadata": {},
   "source": [
    "## Structure\n",
    "\n",
    "In this section we describe the main features of the model."
   ]
  },
  {
   "cell_type": "markdown",
   "id": "87b12125",
   "metadata": {},
   "source": [
    "### Output, Consumption and Debt\n",
    "\n",
    "A small open economy is endowed with an exogenous stochastically fluctuating \n",
    "potential output stream $ \\{y_t\\} $.\n",
    "\n",
    "Potential output is realized only in periods in which the government honors its sovereign debt.\n",
    "\n",
    "The output good can be traded or consumed.\n",
    "\n",
    "The sequence $ \\{y_t\\} $ is described by a Markov process with stochastic density kernel\n",
    "$ p(y, y') $.\n",
    "\n",
    "Households within the country are identical and rank stochastic consumption streams according to\n",
    "\n",
    "$$\n",
    " \\mathbb E \\sum_{t=0}^{\\infty} \\beta^t u(c_t)\n",
    "$$ \n",
    "\n",
    "Here\n",
    "\n",
    "- $ 0 < \\beta < 1 $ is a time discount factor\n",
    "- $ u $ is an increasing and strictly concave utility function\n",
    "\n",
    "\n",
    "The government  aims to maximize household utility."
   ]
  },
  {
   "cell_type": "markdown",
   "id": "172dd804",
   "metadata": {},
   "source": [
    "### Asset Markets\n",
    "\n",
    "When the government is not excluded from financial markets, the one-period \n",
    "national budget constraint is\n",
    "\n",
    "$$\n",
    "c + q B' = y + B \n",
    "$$ \n",
    "\n",
    "Here and below, a prime denotes a next period value.\n",
    "\n",
    "To rule out Ponzi schemes, we also require that $ B \\geq -Z $ in every period.\n",
    "\n",
    "- $ Z $ is chosen to be sufficiently large that the constraint never binds in equilibrium."
   ]
  },
  {
   "cell_type": "markdown",
   "id": "f2f0b486",
   "metadata": {},
   "source": [
    "\n",
    "Foreign creditors are risk neutral.\n",
    "\n",
    "Their discount rate is\n",
    "\n",
    "$$\n",
    "q = \\frac{1 - \\delta}{1 + r}\n",
    "$$"
   ]
  },
  {
   "cell_type": "markdown",
   "id": "b60c2b0f",
   "metadata": {},
   "source": [
    "### Government’s Decisions\n",
    "\n",
    "At each point in time $ t $, the government chooses between defaulting and meeting its current obligations\n",
    "\n",
    "If the government defaults in the current period, then consumption equals current output.\n",
    "\n",
    "Moreover,\n",
    "\n",
    "1. Output immediately falls from $ y $ to $ h(y) $, where $ 0 \\leq h(y) \\leq y $.\n",
    "      - It returns to $ y $ only after the country regains access to international credit\n",
    "    markets.\n",
    "1. The country loses access to foreign credit markets."
   ]
  },
  {
   "cell_type": "markdown",
   "id": "f1d58f39",
   "metadata": {},
   "source": [
    "While in a state of default, the economy regains access to foreign credit \n",
    "in each subsequent period with probability $ \\theta $."
   ]
  },
  {
   "cell_type": "markdown",
   "id": "3a12d753",
   "metadata": {},
   "source": [
    "## Equilibrium\n",
    "\n",
    "The value of defaulting is\n",
    "\n",
    "$$\n",
    "v_d(y) = u(h(y)) +\n",
    "            \\beta \\int \\left\\{\n",
    "            \\theta v(0, y') + (1 - \\theta) v_d(y')\n",
    "            \\right\\}\n",
    "            p(y, y') dy'\n",
    "$$\n",
    "\n",
    "The value of paying is\n",
    "\n",
    "$$\n",
    "v_c(B, y) = \\max_{B' \\geq -Z}\n",
    "       \\left\\{\n",
    "            u(y - q(B', y) B' + B) +\n",
    "            \\beta \\int v(B', y') p(y, y') dy'\n",
    "      \\right\\}\n",
    "$$\n",
    "\n",
    "The three value functions are linked by\n",
    "\n",
    "$$\n",
    "v(B, y) = \\max\\{ v_c(B, y), v_d(y) \\}\n",
    "$$\n",
    "\n",
    "The government chooses to default when\n",
    "\n",
    "$$\n",
    "v_c(B, y) < v_d(y)\n",
    "$$\n",
    "\n",
    "and hence given $ B' $ the probability of default next period is\n",
    "\n",
    "$$\n",
    "\\delta(B', y) := \\int \\mathbb 1\\{v_c(B', y') < v_d(y') \\} p(y, y') dy'\n",
    "$$ \n",
    "\n",
    "Given zero profits for foreign creditors in equilibrium,  the bond price function is\n",
    "\n",
    "$$\n",
    "q(B', y) = \\frac{1 - \\delta(B', y)}{1 + r}\n",
    "$$"
   ]
  },
  {
   "cell_type": "markdown",
   "id": "da2a8872",
   "metadata": {},
   "source": [
    "### Definition of Equilibrium\n",
    "\n",
    "An *equilibrium* is\n",
    "\n",
    "- a pricing function $ q(B',y) $,\n",
    "- a triple of value functions $ (v_c(B, y), v_d(y), v(B,y)) $,\n",
    "- a decision rule telling the government when to default and when to pay as \n",
    "  a function of the state $ (B, y) $, and\n",
    "- an asset accumulation rule that, conditional on choosing not to default, \n",
    "  maps $ (B,y) $ into $ B' $\n",
    "\n",
    "\n",
    "such that\n",
    "\n",
    "1. The three Bellman equations for $ (v_c(B, y), v_d(y), v(B,y)) $ are satisfied\n",
    "1. Given the price function $ q(B',y) $, the default decision rule and the asset \n",
    "  accumulation decision rule attain the optimal value function  $ v(B,y) $"
   ]
  },
  {
   "cell_type": "markdown",
   "id": "7febb7d6",
   "metadata": {},
   "source": [
    "## Computation\n",
    "\n",
    "Let’s now compute an equilibrium of Arellano’s model.\n",
    "\n",
    "The equilibrium objects are the value function $ v(B, y) $, the associated\n",
    "default decision rule, and the pricing function $ q(B', y) $.\n",
    "\n",
    "\n",
    "\n",
    "We use a slightly modified version of the algorithm recommended by Arellano.\n",
    "\n",
    "- Arellano recommends value function iteration until convergence, updating the price, and then repeating.\n",
    "- Instead, we update the bond price at every value function iteration step.\n",
    "\n",
    "The second approach is faster and the two different procedures deliver similar results.\n",
    "\n",
    "We define a namedtuple to store parameters, grids and transition\n",
    "probabilities."
   ]
  },
  {
   "cell_type": "code",
   "execution_count": 4,
   "id": "eb9b6ba9",
   "metadata": {},
   "outputs": [],
   "source": [
    "ArellanoEconomy = namedtuple('ArellanoEconomy',\n",
    "    ('β',     # Time discount parameter\n",
    "    'γ',      # Utility parameter\n",
    "    'r',      # Lending rate\n",
    "    'ρ',      # Persistence in the income process\n",
    "    'η',      # Standard deviation of the income process\n",
    "    'θ',      # Prob of re-entering financial markets\n",
    "    'P',      # Markov matrix governing the income process\n",
    "    'B_grid', # Bond unit grid\n",
    "    'y_grid', # State values of the income process \n",
    "    'def_y')) # Default income process"
   ]
  },
  {
   "cell_type": "code",
   "execution_count": 5,
   "id": "b00aada1",
   "metadata": {},
   "outputs": [],
   "source": [
    "def create_arellano_model(\n",
    "    B_size=251,         # Grid size for bonds\n",
    "    B_min=-0.45,        # Smallest B value\n",
    "    B_max=0.45,         # Largest B value\n",
    "    y_size=51,          # Grid size for income\n",
    "    β=0.953,            # Time discount parameter\n",
    "    γ=2.0,              # Utility parameter\n",
    "    r=0.017,            # Lending rate\n",
    "    ρ=0.945,            # Persistence in the income process\n",
    "    η=0.025,            # Standard deviation of the income process\n",
    "    θ=0.282,            # Prob of re-entering financial markets\n",
    "    def_y_param=0.969): # Parameter governing income in default\n",
    "\n",
    "    # Set up grids\n",
    "    B_grid = jnp.linspace(B_min, B_max, B_size)\n",
    "    mc = qe.markov.tauchen(y_size, ρ, η)\n",
    "    y_grid, P = jnp.exp(mc.state_values), jnp.array(mc.P)\n",
    "    # Output received while in default, with same shape as y_grid\n",
    "    def_y = jnp.minimum(def_y_param * jnp.mean(y_grid), y_grid)\n",
    "    \n",
    "    return ArellanoEconomy(β=β, γ=γ, r=r, ρ=ρ, η=η, θ=θ, \n",
    "                           P=P, B_grid=B_grid, y_grid=y_grid, def_y=def_y)"
   ]
  },
  {
   "cell_type": "markdown",
   "id": "f121df87",
   "metadata": {},
   "source": [
    "Here is the utility function."
   ]
  },
  {
   "cell_type": "code",
   "execution_count": 6,
   "id": "1677c766",
   "metadata": {},
   "outputs": [],
   "source": [
    "@jax.jit\n",
    "def u(c, γ):\n",
    "    return c**(1-γ)/(1-γ)"
   ]
  },
  {
   "cell_type": "markdown",
   "id": "fc0768bf",
   "metadata": {},
   "source": [
    "Here is a function to compute the bond price at each state, given $ v_c $ and\n",
    "$ v_d $."
   ]
  },
  {
   "cell_type": "code",
   "execution_count": 7,
   "id": "e6d01341",
   "metadata": {},
   "outputs": [],
   "source": [
    "@jax.jit\n",
    "def compute_q(v_c, v_d, model):\n",
    "    \"\"\"\n",
    "    Compute the bond price function q(B, y) at each (B, y) pair.  The first\n",
    "    step is to calculate the default probabilities\n",
    "\n",
    "        δ(B, y) := Σ_{y'} 1{v_c(B, y') < v_d(y')} P(y, y') dy'\n",
    "\n",
    "    \"\"\"\n",
    "\n",
    "    # Unpack\n",
    "    β, γ, r, ρ, η, θ, P, B_grid, y_grid, def_y = model\n",
    "    B_size, y_size = len(B_grid), len(y_grid)\n",
    "\n",
    "    # Set up arrays with indices [i_B, i_y, i_yp]\n",
    "    v_d = jnp.reshape(v_d, (1, 1, y_size))\n",
    "    v_c = jnp.reshape(v_c, (B_size, 1, y_size))\n",
    "    P = jnp.reshape(P, (1, y_size, y_size))\n",
    "\n",
    "    # Compute δ[i_B, i_y]\n",
    "    default_states = v_c < v_d\n",
    "    delta = jnp.sum(default_states * P, axis=(-1,))\n",
    "\n",
    "    q = (1 - delta ) / (1 + r)\n",
    "    return q"
   ]
  },
  {
   "cell_type": "markdown",
   "id": "79ed5544",
   "metadata": {},
   "source": [
    "Next we introduce Bellman operators that updated $ v_d $ and $ v_c $."
   ]
  },
  {
   "cell_type": "code",
   "execution_count": 8,
   "id": "c3f0c27d",
   "metadata": {},
   "outputs": [],
   "source": [
    "@jax.jit\n",
    "def T_d(v_c, v_d, model):\n",
    "    \"\"\"\n",
    "    The RHS of the Bellman equation when income is at index y_idx and\n",
    "    the country has chosen to default.  Returns an update of v_d.\n",
    "    \"\"\"\n",
    "    # Unpack\n",
    "    β, γ, r, ρ, η, θ, P, B_grid, y_grid, def_y = model\n",
    "    B_size, y_size = len(B_grid), len(y_grid)\n",
    "\n",
    "    B0_idx = jnp.searchsorted(B_grid, 1e-10)  # Index at which B is near zero\n",
    "\n",
    "    current_utility = u(def_y, γ)\n",
    "    v = jnp.maximum(v_c[B0_idx, :], v_d)\n",
    "    w = θ * v + (1 - θ) * v_d\n",
    "    A = jnp.reshape(w, (1, y_size))\n",
    "    cont_value = jnp.sum(A * P, axis=(1,))\n",
    "\n",
    "    return current_utility + β * cont_value"
   ]
  },
  {
   "cell_type": "code",
   "execution_count": 9,
   "id": "b731808a",
   "metadata": {},
   "outputs": [],
   "source": [
    "@jax.jit\n",
    "def bellman(v_c, v_d, q, model):\n",
    "    \"\"\"\n",
    "    The RHS of the Bellman equation when the country is not in a\n",
    "    defaulted state on their debt.  That is,\n",
    "\n",
    "        bellman(B, y) =\n",
    "            u(y - q(B', y) B' + B) + β Σ_{y'} v(B', y') P(y, y')\n",
    "\n",
    "    If consumption is not positive then returns -np.inf\n",
    "    \"\"\"\n",
    "    # Unpack\n",
    "    β, γ, r, ρ, η, θ, P, B_grid, y_grid, def_y = model\n",
    "    B_size, y_size = len(B_grid), len(y_grid)\n",
    "\n",
    "    # Set up c[i_B, i_y, i_Bp]\n",
    "    y_idx = jnp.reshape(jnp.arange(y_size), (1, y_size, 1))\n",
    "    B_idx = jnp.reshape(jnp.arange(B_size), (B_size, 1, 1))\n",
    "    Bp_idx = jnp.reshape(jnp.arange(B_size), (1, 1, B_size))\n",
    "    c = y_grid[y_idx] - q[Bp_idx, y_idx] * B_grid[Bp_idx] + B_grid[B_idx]\n",
    "\n",
    "    # Set up v[i_B, i_y, i_Bp, i_yp] and P[i_B, i_y, i_Bp, i_yp]\n",
    "    v_d = jnp.reshape(v_d, (1, 1, 1, y_size))\n",
    "    v_c = jnp.reshape(v_c, (1, 1, B_size, y_size))\n",
    "    v = jnp.maximum(v_c, v_d)\n",
    "    P = jnp.reshape(P, (1, y_size, 1, y_size))\n",
    "    # Sum over i_yp\n",
    "    continuation_value = jnp.sum(v * P, axis=(3,))\n",
    "\n",
    "    # Return new_v_c[i_B, i_y, i_Bp]\n",
    "    val = jnp.where(c > 0, u(c, γ) + β * continuation_value, -jnp.inf)\n",
    "    return val"
   ]
  },
  {
   "cell_type": "code",
   "execution_count": 10,
   "id": "aae6ca7d",
   "metadata": {},
   "outputs": [],
   "source": [
    "@jax.jit\n",
    "def T_c(v_c, v_d, q, model):\n",
    "    vals = bellman(v_c, v_d, q, model)\n",
    "    return jnp.max(vals, axis=2)"
   ]
  },
  {
   "cell_type": "code",
   "execution_count": 11,
   "id": "27eafef8",
   "metadata": {},
   "outputs": [],
   "source": [
    "@jax.jit\n",
    "def get_greedy(v_c, v_d, q, model):\n",
    "    vals = bellman(v_c, v_d, q, model)\n",
    "    return jnp.argmax(vals, axis=2)"
   ]
  },
  {
   "cell_type": "markdown",
   "id": "d529433f",
   "metadata": {},
   "source": [
    "Here is a function that calls these operators in the right sequence."
   ]
  },
  {
   "cell_type": "code",
   "execution_count": 12,
   "id": "7324c74d",
   "metadata": {},
   "outputs": [],
   "source": [
    "def update_values_and_prices(v_c, v_d, model):\n",
    "\n",
    "    q = compute_q(v_c, v_d, model)\n",
    "    new_v_d = T_d(v_c, v_d, model)\n",
    "    new_v_c = T_c(v_c, v_d, q, model)\n",
    "\n",
    "    return new_v_c, new_v_d"
   ]
  },
  {
   "cell_type": "markdown",
   "id": "d914519d-5208-4b72-b181-866e6f7b3ace",
   "metadata": {},
   "source": [
    "Here's a function to solve the model."
   ]
  },
  {
   "cell_type": "code",
   "execution_count": 13,
   "id": "2ade8a61",
   "metadata": {},
   "outputs": [],
   "source": [
    "def solve(model, tol=1e-8, max_iter=10_000):\n",
    "\n",
    "    # Unpack\n",
    "    β, γ, r, ρ, η, θ, P, B_grid, y_grid, def_y = model\n",
    "    B_size, y_size = len(B_grid), len(y_grid)\n",
    "\n",
    "    # Initial conditions for v_c and v_d\n",
    "    v_c = jnp.zeros((B_size, y_size))\n",
    "    v_d = jnp.zeros((y_size,))\n",
    "\n",
    "    current_iter = 0\n",
    "    error = tol + 1\n",
    "    while (current_iter < max_iter) and (error > tol):\n",
    "        if current_iter % 100 == 0:\n",
    "            print(f\"Entering iteration {current_iter} with error {error}.\")\n",
    "        new_v_c, new_v_d = update_values_and_prices(v_c, v_d, model)\n",
    "        error = jnp.max(jnp.abs(new_v_c - v_c)) + jnp.max(jnp.abs(new_v_d - v_d))\n",
    "        v_c, v_d = new_v_c, new_v_d\n",
    "        current_iter += 1\n",
    "\n",
    "    print(f\"Terminating at iteration {current_iter}.\")\n",
    "\n",
    "    q = compute_q(v_c, v_d, model)\n",
    "    B_star = get_greedy(v_c, v_d, q, model)\n",
    "    return v_c, v_d, q, B_star"
   ]
  },
  {
   "cell_type": "markdown",
   "id": "83258df1",
   "metadata": {},
   "source": [
    "Let's try solving the model."
   ]
  },
  {
   "cell_type": "code",
   "execution_count": 14,
   "id": "71762023",
   "metadata": {},
   "outputs": [],
   "source": [
    "model = create_arellano_model()"
   ]
  },
  {
   "cell_type": "code",
   "execution_count": 15,
   "id": "fb5067bc",
   "metadata": {},
   "outputs": [
    {
     "name": "stdout",
     "output_type": "stream",
     "text": [
      "Entering iteration 0 with error 1.00000001.\n",
      "Entering iteration 100 with error 0.017499341639204857.\n",
      "Entering iteration 200 with error 0.00014189363558969603.\n",
      "Entering iteration 300 with error 1.151467966309383e-06.\n",
      "Terminating at iteration 399.\n"
     ]
    }
   ],
   "source": [
    "v_c, v_d, q, B_star = solve(model)"
   ]
  },
  {
   "cell_type": "code",
   "execution_count": 16,
   "id": "6d67b559",
   "metadata": {},
   "outputs": [
    {
     "name": "stdout",
     "output_type": "stream",
     "text": [
      "Entering iteration 0 with error 1.00000001.\n",
      "Entering iteration 100 with error 0.017499341639204857.\n",
      "Entering iteration 200 with error 0.00014189363558969603.\n",
      "Entering iteration 300 with error 1.151467966309383e-06.\n",
      "Terminating at iteration 399.\n",
      "CPU times: user 887 ms, sys: 202 ms, total: 1.09 s\n",
      "Wall time: 1.04 s\n"
     ]
    }
   ],
   "source": [
    "%%time\n",
    "v_c, v_d, q, B_star = solve(model)"
   ]
  },
  {
   "cell_type": "markdown",
   "id": "5e1c5ad8",
   "metadata": {},
   "source": [
    "## Results\n",
    "\n",
    "Let’s try to replicate the results obtained in Arellano (2008).\n",
    "\n",
    "In what follows, all results are computed using parameter values of `ArellanoEconomy` created by `create_arellano_model`.\n",
    "\n",
    "For example, `r=0.017` matches the average quarterly rate on a 5 year US treasury over the period 1983–2001.\n",
    "\n",
    "We compute the value function, policy and equilibrium prices:"
   ]
  },
  {
   "cell_type": "code",
   "execution_count": 17,
   "id": "26735c19",
   "metadata": {},
   "outputs": [],
   "source": [
    "model = create_arellano_model()\n",
    "\n",
    "β, γ, r, ρ, η, θ, P, B_grid, y_grid, def_y = model\n",
    "B_size, y_size = len(B_grid), len(y_grid)"
   ]
  },
  {
   "cell_type": "code",
   "execution_count": 18,
   "id": "72fb6bde",
   "metadata": {},
   "outputs": [
    {
     "name": "stdout",
     "output_type": "stream",
     "text": [
      "Entering iteration 0 with error 1.00000001.\n",
      "Entering iteration 100 with error 0.017499341639204857.\n",
      "Entering iteration 200 with error 0.00014189363558969603.\n",
      "Entering iteration 300 with error 1.151467966309383e-06.\n",
      "Terminating at iteration 399.\n"
     ]
    }
   ],
   "source": [
    "v_c, v_d, q, B_star = solve(model)"
   ]
  },
  {
   "cell_type": "markdown",
   "id": "6c6de83b",
   "metadata": {},
   "source": [
    "The following bond price schedule replicates Figure 3 of\n",
    "Arellano (2008), where $ y_L $ and $ Y_H $ are particular below average and above average\n",
    "values of output $ y $.\n",
    "\n",
    "- $ y_L $ is 5% below the mean of the $ y $ grid values\n",
    "- $ y_H $ is 5% above  the mean of the $ y $ grid values"
   ]
  },
  {
   "cell_type": "code",
   "execution_count": 19,
   "id": "69437703",
   "metadata": {},
   "outputs": [
    {
     "data": {
      "image/png": "[encoded data removed]",
      "text/plain": [
       "<Figure size 640x480 with 1 Axes>"
      ]
     },
     "metadata": {},
     "output_type": "display_data"
    }
   ],
   "source": [
    "high, low = jnp.mean(y_grid) * 1.05, jnp.mean(y_grid) * .95\n",
    "iy_high, iy_low = (jnp.searchsorted(y_grid, x) for x in (high, low))\n",
    "\n",
    "fig, ax = plt.subplots()\n",
    "ax.set_title(\"Bond price schedule $q(y, B')$\")\n",
    "# Extract a suitable plot grid\n",
    "x = []\n",
    "q_low = []\n",
    "q_high = []\n",
    "for i, B in enumerate(B_grid):\n",
    "    if -0.35 <= B <= 0:  # To match fig 3 of Arellano (2008)\n",
    "        x.append(B)\n",
    "        q_low.append(q[i, iy_low])\n",
    "        q_high.append(q[i, iy_high])\n",
    "ax.plot(x, q_high, label=\"$y_H$\", lw=2, alpha=0.7)\n",
    "ax.plot(x, q_low, label=\"$y_L$\", lw=2, alpha=0.7)\n",
    "ax.set_xlabel(\"$B'$\")\n",
    "ax.legend(loc='upper left', frameon=False)\n",
    "plt.show()\n",
    "# -"
   ]
  },
  {
   "cell_type": "markdown",
   "id": "2f6fb7ea",
   "metadata": {},
   "source": [
    "The grid used to compute this figure was relatively fine (`y_size, B_size = 51, 251`), \n",
    "which explains the minor differences between this and Arellano’s figure.\n",
    "\n",
    "The figure shows that\n",
    "\n",
    "- Higher levels of debt (larger $ -B' $) induce larger discounts on the face value, which\n",
    "  correspond to higher interest rates.\n",
    "- Lower income also causes more discounting, as foreign creditors anticipate greater likelihood\n",
    "  of default.\n",
    "\n",
    "\n",
    "The next figure plots value functions and replicates the right hand panel of Figure 4 of {cite}`Are08`."
   ]
  },
  {
   "cell_type": "code",
   "execution_count": 20,
   "id": "91aa44f5",
   "metadata": {},
   "outputs": [],
   "source": [
    "v = jnp.maximum(v_c, jnp.reshape(v_d, (1, y_size)))"
   ]
  },
  {
   "cell_type": "code",
   "execution_count": 21,
   "id": "a47c640a",
   "metadata": {},
   "outputs": [
    {
     "data": {
      "image/png": "[encoded data removed]",
      "text/plain": [
       "<Figure size 640x480 with 1 Axes>"
      ]
     },
     "metadata": {},
     "output_type": "display_data"
    }
   ],
   "source": [
    "fig, ax = plt.subplots()\n",
    "ax.set_title(\"Value Functions\")\n",
    "ax.plot(B_grid, v[:, iy_high], label=\"$y_H$\", lw=2, alpha=0.7)\n",
    "ax.plot(B_grid, v[:, iy_low], label=\"$y_L$\", lw=2, alpha=0.7)\n",
    "ax.legend(loc='upper left')\n",
    "ax.set(xlabel=\"$B$\", ylabel=\"$v(y, B)$\")\n",
    "ax.set_xlim(min(B_grid), max(B_grid))\n",
    "plt.show()\n",
    "# -"
   ]
  },
  {
   "cell_type": "markdown",
   "id": "c392deff",
   "metadata": {},
   "source": [
    "We can use the results of the computation to study the default probability $ \\delta(B', y) $\n",
    "\n",
    "The next plot shows these default probabilities over $ (B', y) $ as a heat map."
   ]
  },
  {
   "cell_type": "code",
   "execution_count": 22,
   "id": "d219a49a",
   "metadata": {},
   "outputs": [
    {
     "data": {
      "image/png": "[encoded data removed]",
      "text/plain": [
       "<Figure size 640x480 with 2 Axes>"
      ]
     },
     "metadata": {},
     "output_type": "display_data"
    }
   ],
   "source": [
    "# Set up arrays with indices [i_B, i_y, i_yp]\n",
    "shaped_v_d = jnp.reshape(v_d, (1, 1, y_size))\n",
    "shaped_v_c = jnp.reshape(v_c, (B_size, 1, y_size))\n",
    "shaped_P = jnp.reshape(P, (1, y_size, y_size))\n",
    "\n",
    "# Compute delta[i_B, i_y]\n",
    "default_states = 1.0 * (shaped_v_c < shaped_v_d)\n",
    "delta = jnp.sum(default_states * shaped_P, axis=(2,))\n",
    "\n",
    "# Create figure\n",
    "fig, ax = plt.subplots()\n",
    "hm = ax.pcolormesh(B_grid, y_grid, delta.T)\n",
    "cax = fig.add_axes([.92, .1, .02, .8])\n",
    "fig.colorbar(hm, cax=cax)\n",
    "ax.axis([B_grid.min(), 0.05, y_grid.min(), y_grid.max()])\n",
    "ax.set(xlabel=\"$B'$\", ylabel=\"$y$\", title=\"Probability of Default\")\n",
    "plt.show()\n",
    "# -"
   ]
  },
  {
   "cell_type": "markdown",
   "id": "9383d18d",
   "metadata": {},
   "source": [
    "As anticipated, the probability that the government chooses to default in the following period\n",
    "increases with indebtedness and falls with income.\n"
   ]
  },
  {
   "cell_type": "code",
   "execution_count": null,
   "id": "231e3221-3c40-4d6f-af58-7e16e52a10ec",
   "metadata": {},
   "outputs": [],
   "source": []
  }
 ],
 "metadata": {
  "kernelspec": {
   "display_name": "Python 3 (ipykernel)",
   "language": "python",
   "name": "python3"
  },
  "language_info": {
   "codemirror_mode": {
    "name": "ipython",
    "version": 3
   },
   "file_extension": ".py",
   "mimetype": "text/x-python",
   "name": "python",
   "nbconvert_exporter": "python",
   "pygments_lexer": "ipython3",
   "version": "3.11.7"
  }
 },
 "nbformat": 4,
 "nbformat_minor": 5
}
