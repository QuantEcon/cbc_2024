{
 "cells": [
  {
   "cell_type": "markdown",
   "id": "1b1959e6",
   "metadata": {},
   "source": [
    "# Fun with JAX\n",
    "\n",
    "-----\n",
    "\n",
    "#### [John Stachurski](https://johnstachurski.net/) \n",
    "\n",
    "### Prepared for the CBC Computational Workshop (May 2024)\n",
    "\n",
    "-----\n",
    "\n",
    "This notebook illustrates the power of [JAX](https://github.com/google/jax), a Python library built by Google Research.\n",
    "\n",
    "It should be run on a machine with a GPU --- for example, try Google Colab with the runtime environment set to include a GPU.\n",
    "\n",
    "The aim is just to give a small taste of high performance computing in Python -- details will be covered later in the course."
   ]
  },
  {
   "cell_type": "markdown",
   "id": "702b7792",
   "metadata": {},
   "source": [
    "We start with some imports"
   ]
  },
  {
   "cell_type": "code",
   "execution_count": null,
   "id": "239981b3",
   "metadata": {},
   "outputs": [],
   "source": [
    "import numpy as np\n",
    "import scipy\n",
    "import jax\n",
    "import jax.numpy as jnp\n",
    "import matplotlib.pyplot as plt"
   ]
  },
  {
   "cell_type": "markdown",
   "id": "00b3c338",
   "metadata": {},
   "source": [
    "Let's check our hardware:"
   ]
  },
  {
   "cell_type": "code",
   "execution_count": null,
   "id": "a156b448",
   "metadata": {},
   "outputs": [],
   "source": [
    "!nvidia-smi"
   ]
  },
  {
   "cell_type": "code",
   "execution_count": null,
   "id": "832f1015",
   "metadata": {},
   "outputs": [],
   "source": [
    "!lscpu -e"
   ]
  },
  {
   "cell_type": "markdown",
   "id": "aa4e4f57",
   "metadata": {},
   "source": [
    "## Transforming Data"
   ]
  },
  {
   "cell_type": "markdown",
   "id": "83498ed5",
   "metadata": {},
   "source": [
    "A very common numerical task is to apply a transformation to a set of data points.\n",
    "\n",
    "Our transformation will be the cosine function."
   ]
  },
  {
   "cell_type": "markdown",
   "id": "279c4140",
   "metadata": {},
   "source": [
    "Here we evaluate the cosine function at 50 points."
   ]
  },
  {
   "cell_type": "code",
   "execution_count": null,
   "id": "f4462977",
   "metadata": {},
   "outputs": [],
   "source": [
    "x = np.linspace(0, 10, 50)\n",
    "y = np.cos(x)"
   ]
  },
  {
   "cell_type": "markdown",
   "id": "db74a4d9",
   "metadata": {},
   "source": [
    "Let's plot."
   ]
  },
  {
   "cell_type": "code",
   "execution_count": null,
   "id": "d4576d41",
   "metadata": {},
   "outputs": [],
   "source": [
    "fig, ax = plt.subplots()\n",
    "ax.scatter(x, y)\n",
    "plt.show()"
   ]
  },
  {
   "cell_type": "markdown",
   "id": "d92e0345",
   "metadata": {},
   "source": [
    "Our aim is to evaluate the cosine function at many points."
   ]
  },
  {
   "cell_type": "code",
   "execution_count": null,
   "id": "d93e93a6",
   "metadata": {},
   "outputs": [],
   "source": [
    "n = 50_000_000\n",
    "x = np.linspace(0, 10, n)"
   ]
  },
  {
   "cell_type": "markdown",
   "id": "dbd9077e",
   "metadata": {},
   "source": [
    "### With NumPy"
   ]
  },
  {
   "cell_type": "code",
   "execution_count": null,
   "id": "d4e0d053",
   "metadata": {},
   "outputs": [],
   "source": [
    "%time np.cos(x)"
   ]
  },
  {
   "cell_type": "code",
   "execution_count": null,
   "id": "c674128b",
   "metadata": {},
   "outputs": [],
   "source": [
    "%time np.cos(x)"
   ]
  },
  {
   "cell_type": "markdown",
   "id": "923659dc",
   "metadata": {},
   "source": [
    "The next line of code frees some memory -- can you explain why?"
   ]
  },
  {
   "cell_type": "code",
   "execution_count": null,
   "id": "b5d27287",
   "metadata": {},
   "outputs": [],
   "source": [
    "x = None  "
   ]
  },
  {
   "cell_type": "markdown",
   "id": "7cce7c27",
   "metadata": {},
   "source": [
    "### With JAX"
   ]
  },
  {
   "cell_type": "code",
   "execution_count": null,
   "id": "c7cedd41",
   "metadata": {},
   "outputs": [],
   "source": [
    "x_jax = jnp.linspace(0, 10, n)"
   ]
  },
  {
   "cell_type": "markdown",
   "id": "5530e64c",
   "metadata": {},
   "source": [
    "Let's run the same operation on JAX\n",
    "\n",
    "(The `block_until_ready()` method is explained a bit later.)"
   ]
  },
  {
   "cell_type": "code",
   "execution_count": null,
   "id": "c45e5fec",
   "metadata": {},
   "outputs": [],
   "source": [
    "%time jnp.cos(x_jax).block_until_ready()"
   ]
  },
  {
   "cell_type": "code",
   "execution_count": null,
   "id": "538a4af4",
   "metadata": {},
   "outputs": [],
   "source": [
    "%time jnp.cos(x_jax).block_until_ready()"
   ]
  },
  {
   "cell_type": "markdown",
   "id": "cc872621",
   "metadata": {},
   "source": [
    "Can you explain why the timing changes after we change sizes?"
   ]
  },
  {
   "cell_type": "code",
   "execution_count": null,
   "id": "79cfc8f3",
   "metadata": {},
   "outputs": [],
   "source": [
    "x_jax = jnp.linspace(0, 10, n + 1)"
   ]
  },
  {
   "cell_type": "code",
   "execution_count": null,
   "id": "48aaf34a",
   "metadata": {},
   "outputs": [],
   "source": [
    "%time jnp.cos(x_jax).block_until_ready()"
   ]
  },
  {
   "cell_type": "code",
   "execution_count": null,
   "id": "f5e7af0c",
   "metadata": {},
   "outputs": [],
   "source": [
    "%time jnp.cos(x_jax).block_until_ready()"
   ]
  },
  {
   "cell_type": "code",
   "execution_count": null,
   "id": "1d88cfef",
   "metadata": {},
   "outputs": [],
   "source": [
    "x_jax = None  # Free memory"
   ]
  },
  {
   "cell_type": "markdown",
   "id": "c5b75295",
   "metadata": {},
   "source": [
    "## Evaluating a more complicated function"
   ]
  },
  {
   "cell_type": "code",
   "execution_count": null,
   "id": "aba47bf6",
   "metadata": {},
   "outputs": [],
   "source": [
    "def f(x):\n",
    "    y = np.cos(2 * x**2) + np.sqrt(np.abs(x)) + 2 * np.sin(x**4) - 0.1 * x**2\n",
    "    return y"
   ]
  },
  {
   "cell_type": "code",
   "execution_count": null,
   "id": "a29f851c",
   "metadata": {},
   "outputs": [],
   "source": [
    "fig, ax = plt.subplots()\n",
    "x = np.linspace(0, 10, 100)\n",
    "ax.plot(x, f(x))\n",
    "ax.scatter(x, f(x))\n",
    "plt.show()"
   ]
  },
  {
   "cell_type": "markdown",
   "id": "5694c296",
   "metadata": {},
   "source": [
    "Now let's try with a large array."
   ]
  },
  {
   "cell_type": "markdown",
   "id": "6a828f50",
   "metadata": {},
   "source": [
    "### With NumPy"
   ]
  },
  {
   "cell_type": "code",
   "execution_count": null,
   "id": "5f2a8455",
   "metadata": {},
   "outputs": [],
   "source": [
    "n = 50_000_000\n",
    "x = np.linspace(0, 10, n)"
   ]
  },
  {
   "cell_type": "code",
   "execution_count": null,
   "id": "21e536ac",
   "metadata": {},
   "outputs": [],
   "source": [
    "%time f(x)"
   ]
  },
  {
   "cell_type": "code",
   "execution_count": null,
   "id": "0b0145f3",
   "metadata": {},
   "outputs": [],
   "source": [
    "%time f(x)"
   ]
  },
  {
   "cell_type": "markdown",
   "id": "61c3acc9",
   "metadata": {},
   "source": [
    "### With JAX"
   ]
  },
  {
   "cell_type": "code",
   "execution_count": null,
   "id": "3d95a860",
   "metadata": {},
   "outputs": [],
   "source": [
    "def f(x):\n",
    "    y = jnp.cos(2 * x**2) + jnp.sqrt(jnp.abs(x)) + 2 * jnp.sin(x**4) - x**2\n",
    "    return y"
   ]
  },
  {
   "cell_type": "code",
   "execution_count": null,
   "id": "c7e6cf26",
   "metadata": {},
   "outputs": [],
   "source": [
    "x_jax = jnp.linspace(0, 10, n)"
   ]
  },
  {
   "cell_type": "code",
   "execution_count": null,
   "id": "5c5d50f9",
   "metadata": {},
   "outputs": [],
   "source": [
    "%time f(x_jax).block_until_ready()"
   ]
  },
  {
   "cell_type": "code",
   "execution_count": null,
   "id": "026a1b13",
   "metadata": {},
   "outputs": [],
   "source": [
    "%time f(x_jax).block_until_ready()"
   ]
  },
  {
   "cell_type": "markdown",
   "id": "c3834b3a",
   "metadata": {},
   "source": [
    "### Compiling the Whole Function"
   ]
  },
  {
   "cell_type": "code",
   "execution_count": null,
   "id": "f2b1b413",
   "metadata": {},
   "outputs": [],
   "source": [
    "f_jax = jax.jit(f)"
   ]
  },
  {
   "cell_type": "code",
   "execution_count": null,
   "id": "12add805",
   "metadata": {},
   "outputs": [],
   "source": [
    "%time f_jax(x_jax).block_until_ready()"
   ]
  },
  {
   "cell_type": "code",
   "execution_count": null,
   "id": "b5f19de9",
   "metadata": {},
   "outputs": [],
   "source": [
    "%time f_jax(x_jax).block_until_ready()"
   ]
  },
  {
   "cell_type": "markdown",
   "id": "535dd7b8",
   "metadata": {},
   "source": [
    "## Solving Linear Systems"
   ]
  },
  {
   "cell_type": "code",
   "execution_count": null,
   "id": "6ada423b",
   "metadata": {},
   "outputs": [],
   "source": [
    "np.random.seed(1234)\n",
    "n = 5_000\n",
    "A = np.random.randn(n, n)\n",
    "b = np.ones(n)"
   ]
  },
  {
   "cell_type": "code",
   "execution_count": null,
   "id": "b0791f24",
   "metadata": {},
   "outputs": [],
   "source": [
    "%time np.linalg.solve(A, b)"
   ]
  },
  {
   "cell_type": "code",
   "execution_count": null,
   "id": "c5bacdb4",
   "metadata": {},
   "outputs": [],
   "source": [
    "A, b = [jax.device_put(v) for v in (A, b)]"
   ]
  },
  {
   "cell_type": "code",
   "execution_count": null,
   "id": "3e793ab4",
   "metadata": {},
   "outputs": [],
   "source": [
    "%time jnp.linalg.solve(A, b).block_until_ready()"
   ]
  },
  {
   "cell_type": "code",
   "execution_count": null,
   "id": "df261733",
   "metadata": {},
   "outputs": [],
   "source": [
    "%time jnp.linalg.solve(A, b).block_until_ready()"
   ]
  },
  {
   "cell_type": "markdown",
   "id": "2186b7ec",
   "metadata": {},
   "source": [
    "## Nonlinear Equations"
   ]
  },
  {
   "cell_type": "markdown",
   "id": "608ee2cf",
   "metadata": {},
   "source": [
    "In many cases we want to solve a system of nonlinear equations.\n",
    "\n",
    "This section gives an example --- solving for an equilibrium price vector when supply and demand are nonlinear.\n",
    "\n",
    "We start with a simple two good market.\n",
    "\n",
    "Then we shift up to high dimensions.\n",
    "\n",
    "We will see that, in high dimensions, automatic differentiation and the GPU are very helpful."
   ]
  },
  {
   "cell_type": "markdown",
   "id": "1fc20e2e",
   "metadata": {},
   "source": [
    "### A Two Goods Market Equilibrium\n",
    "\n",
    "Let’s start by computing the market equilibrium of a two-good problem.\n",
    "\n",
    "Here's the excess demand function\n",
    "\n",
    "$$\n",
    "e(p) = \n",
    "    \\begin{pmatrix}\n",
    "    e_0(p_0, p_1) \\\\\n",
    "    e_1(p_0, p_1)\n",
    "    \\end{pmatrix}\n",
    "$$\n",
    "\n",
    "An equilibrium price vector is a $p=(p_0, p_1)$ such that\n",
    "\n",
    "$$\n",
    "e(p) = 0\n",
    "$$\n",
    "\n",
    "The function below calculates the excess demand for given parameters"
   ]
  },
  {
   "cell_type": "code",
   "execution_count": null,
   "id": "eaf478b6",
   "metadata": {
    "hide-output": false
   },
   "outputs": [],
   "source": [
    "def e(p, A, b, c):\n",
    "    \"Excess demand is demand - supply at price vector p\"\n",
    "    return np.exp(- A @ p) + c - b * np.sqrt(p)"
   ]
  },
  {
   "cell_type": "markdown",
   "id": "8f7ed732",
   "metadata": {},
   "source": [
    "Our default parameter values will be\n",
    "\n",
    "$$\n",
    "A = \\begin{pmatrix}\n",
    "            0.5 & 0.4 \\\\\n",
    "            0.8 & 0.2\n",
    "        \\end{pmatrix},\n",
    "            \\qquad \n",
    "    b = \\begin{pmatrix}\n",
    "            1 \\\\\n",
    "            1\n",
    "        \\end{pmatrix}\n",
    "    \\qquad \\text{and} \\qquad\n",
    "    c = \\begin{pmatrix}\n",
    "            1 \\\\\n",
    "            1\n",
    "        \\end{pmatrix}\n",
    "$$"
   ]
  },
  {
   "cell_type": "code",
   "execution_count": null,
   "id": "df214559",
   "metadata": {
    "hide-output": false
   },
   "outputs": [],
   "source": [
    "A = np.array(((0.5, 0.4),\n",
    "              (0.8, 0.2)))\n",
    "b = np.ones(2)\n",
    "c = np.ones(2)"
   ]
  },
  {
   "cell_type": "markdown",
   "id": "daff22ec",
   "metadata": {},
   "source": [
    "Next we plot the two functions $ e_0 $ and $ e_1 $ on a grid of $ (p_0, p_1) $ values, using contour surfaces and lines.\n",
    "\n",
    "We will use the following function to build the contour plots"
   ]
  },
  {
   "cell_type": "code",
   "execution_count": null,
   "id": "6ee41dff",
   "metadata": {
    "hide-output": false
   },
   "outputs": [],
   "source": [
    "def plot_excess_demand(ax, good=0, grid_size=100, grid_max=4, surface=True):\n",
    "    p_grid = np.linspace(0, grid_max, grid_size)\n",
    "    z = np.empty((100, 100))\n",
    "\n",
    "    for i, p_1 in enumerate(p_grid):\n",
    "        for j, p_2 in enumerate(p_grid):\n",
    "            z[i, j] = e((p_1, p_2), A, b, c)[good]\n",
    "\n",
    "    if surface:\n",
    "        cs1 = ax.contourf(p_grid, p_grid, z.T, alpha=0.5)\n",
    "        plt.colorbar(cs1, ax=ax, format=\"%.6f\")\n",
    "\n",
    "    ctr1 = ax.contour(p_grid, p_grid, z.T, levels=[0.0])\n",
    "    ax.set_xlabel(\"$p_0$\")\n",
    "    ax.set_ylabel(\"$p_1$\")\n",
    "    ax.set_title(f'Excess Demand for Good {good}')\n",
    "    plt.clabel(ctr1, inline=1, fontsize=13)"
   ]
  },
  {
   "cell_type": "markdown",
   "id": "68101f95",
   "metadata": {},
   "source": [
    "Here’s our plot of $ e_0 $:"
   ]
  },
  {
   "cell_type": "code",
   "execution_count": null,
   "id": "2c30a7e0",
   "metadata": {
    "hide-output": false
   },
   "outputs": [],
   "source": [
    "fig, ax = plt.subplots()\n",
    "plot_excess_demand(ax, good=0)\n",
    "plt.show()"
   ]
  },
  {
   "cell_type": "markdown",
   "id": "15de1335",
   "metadata": {},
   "source": [
    "Here’s our plot of $ e_1 $:"
   ]
  },
  {
   "cell_type": "code",
   "execution_count": null,
   "id": "c3eb767a",
   "metadata": {
    "hide-output": false
   },
   "outputs": [],
   "source": [
    "fig, ax = plt.subplots()\n",
    "plot_excess_demand(ax, good=1)\n",
    "plt.show()"
   ]
  },
  {
   "cell_type": "markdown",
   "id": "d459e635",
   "metadata": {},
   "source": [
    "We see the black contour line of zero, which tells us when $ e_i(p)=0 $.\n",
    "\n",
    "For a price vector $ p $ such that $ e_i(p)=0 $ we know that good $ i $ is in equilibrium (demand equals supply).\n",
    "\n",
    "If these two contour lines cross at some price vector $ p^* $, then $ p^* $ is an equilibrium price vector."
   ]
  },
  {
   "cell_type": "code",
   "execution_count": null,
   "id": "2dd325e5",
   "metadata": {
    "hide-output": false
   },
   "outputs": [],
   "source": [
    "fig, ax = plt.subplots()\n",
    "for good in (0, 1):\n",
    "    plot_excess_demand(ax, good=good, surface=False)\n",
    "plt.show()"
   ]
  },
  {
   "cell_type": "markdown",
   "id": "01d144f1",
   "metadata": {},
   "source": [
    "It seems there is an equilibrium close to $ p = (1.6, 1.5) $."
   ]
  },
  {
   "cell_type": "markdown",
   "id": "c9330d94",
   "metadata": {},
   "source": [
    "#### Using a Multidimensional Root Finder\n",
    "\n",
    "To solve for $ p^* $ more precisely, we use a zero-finding algorithm from `scipy.optimize`.\n",
    "\n",
    "We supply $ p = (1, 1) $ as our initial guess."
   ]
  },
  {
   "cell_type": "code",
   "execution_count": null,
   "id": "1e3435d5",
   "metadata": {
    "hide-output": false
   },
   "outputs": [],
   "source": [
    "init_p = np.ones(2)"
   ]
  },
  {
   "cell_type": "markdown",
   "id": "34bd0f81",
   "metadata": {},
   "source": [
    "Now we use a standard hybrid algorithm to find the zero"
   ]
  },
  {
   "cell_type": "code",
   "execution_count": null,
   "id": "7af85621",
   "metadata": {
    "hide-output": false
   },
   "outputs": [],
   "source": [
    "solution = scipy.optimize.root(lambda p: e(p, A, b, c), init_p, method='hybr')"
   ]
  },
  {
   "cell_type": "markdown",
   "id": "dad3842f",
   "metadata": {},
   "source": [
    "Here’s the resulting value:"
   ]
  },
  {
   "cell_type": "code",
   "execution_count": null,
   "id": "71269aed",
   "metadata": {
    "hide-output": false
   },
   "outputs": [],
   "source": [
    "p = solution.x\n",
    "p"
   ]
  },
  {
   "cell_type": "markdown",
   "id": "b03ecdfb",
   "metadata": {},
   "source": [
    "This looks close to our guess from observing the figure. We can plug it back into $ e $ to test that $ e(p) \\approx 0 $:"
   ]
  },
  {
   "cell_type": "code",
   "execution_count": null,
   "id": "26eb8c5f",
   "metadata": {
    "hide-output": false
   },
   "outputs": [],
   "source": [
    "np.max(np.abs(e(p, A, b, c)))"
   ]
  },
  {
   "cell_type": "markdown",
   "id": "95cd2768",
   "metadata": {},
   "source": [
    "This is indeed a very small error."
   ]
  },
  {
   "cell_type": "markdown",
   "id": "4b1eb9db",
   "metadata": {},
   "source": [
    "#### Adding Gradient Information\n",
    "\n",
    "In many cases, for zero-finding algorithms applied to smooth functions, supplying the [Jacobian](https://en.wikipedia.org/wiki/Jacobian_matrix_and_determinant) of the function leads to better convergence properties.\n",
    "\n",
    "Here we manually calculate the elements of the Jacobian\n",
    "\n",
    "$$\n",
    "J(p) = \n",
    "    \\begin{pmatrix}\n",
    "        \\frac{\\partial e_0}{\\partial p_0}(p) & \\frac{\\partial e_0}{\\partial p_1}(p) \\\\\n",
    "        \\frac{\\partial e_1}{\\partial p_0}(p) & \\frac{\\partial e_1}{\\partial p_1}(p)\n",
    "    \\end{pmatrix}\n",
    "$$"
   ]
  },
  {
   "cell_type": "code",
   "execution_count": null,
   "id": "365641d9",
   "metadata": {
    "hide-output": false
   },
   "outputs": [],
   "source": [
    "def jacobian_e(p, A, b, c):\n",
    "    p_0, p_1 = p\n",
    "    a_00, a_01 = A[0, :]\n",
    "    a_10, a_11 = A[1, :]\n",
    "    j_00 = -a_00 * np.exp(-a_00 * p_0) - (b[0]/2) * p_0**(-1/2)\n",
    "    j_01 = -a_01 * np.exp(-a_01 * p_1)\n",
    "    j_10 = -a_10 * np.exp(-a_10 * p_0)\n",
    "    j_11 = -a_11 * np.exp(-a_11 * p_1) - (b[1]/2) * p_1**(-1/2)\n",
    "    J = [[j_00, j_01],\n",
    "         [j_10, j_11]]\n",
    "    return np.array(J)"
   ]
  },
  {
   "cell_type": "code",
   "execution_count": null,
   "id": "66043bbf",
   "metadata": {
    "hide-output": false
   },
   "outputs": [],
   "source": [
    "solution = scipy.optimize.root(lambda p: e(p, A, b, c),\n",
    "                init_p, \n",
    "                jac=lambda p: jacobian_e(p, A, b, c), \n",
    "                method='hybr')"
   ]
  },
  {
   "cell_type": "markdown",
   "id": "56e92072",
   "metadata": {},
   "source": [
    "Now the solution is even more accurate (although, in this low-dimensional problem, the difference is quite small):"
   ]
  },
  {
   "cell_type": "code",
   "execution_count": null,
   "id": "f7840972",
   "metadata": {
    "hide-output": false
   },
   "outputs": [],
   "source": [
    "p = solution.x\n",
    "np.max(np.abs(e(p, A, b, c)))"
   ]
  },
  {
   "cell_type": "markdown",
   "id": "de3c5ee7",
   "metadata": {},
   "source": [
    "#### Newton’s Method via JAX\n",
    "\n",
    "We use a multivariate version of Newton’s method to compute the equilibrium price.\n",
    "\n",
    "The rule for updating a guess $ p_n $ of the equilibrium price vector is\n",
    "\n",
    "\n",
    "<a id='equation-multi-newton'></a>\n",
    "$$\n",
    "p_{n+1} = p_n - J_e(p_n)^{-1} e(p_n) \\tag{3.1}\n",
    "$$\n",
    "\n",
    "Here $ J_e(p_n) $ is the Jacobian of $ e $ evaluated at $ p_n $.\n",
    "\n",
    "Iteration starts from initial guess $ p_0 $.\n",
    "\n",
    "Instead of coding the Jacobian by hand, we use automatic differentiation via `jax.jacobian()`."
   ]
  },
  {
   "cell_type": "code",
   "execution_count": null,
   "id": "faeff92a",
   "metadata": {
    "hide-output": false
   },
   "outputs": [],
   "source": [
    "def newton(f, x_0, tol=1e-5, max_iter=15):\n",
    "    \"\"\"\n",
    "    A multivariate Newton root-finding routine.\n",
    "\n",
    "    \"\"\"\n",
    "    x = x_0\n",
    "    f_jac = jax.jacobian(f)\n",
    "    @jax.jit\n",
    "    def q(x):\n",
    "        \" Updates the current guess. \"\n",
    "        return x - jnp.linalg.solve(f_jac(x), f(x))\n",
    "    error = tol + 1\n",
    "    n = 0\n",
    "    while error > tol:\n",
    "        n += 1\n",
    "        if(n > max_iter):\n",
    "            raise Exception('Max iteration reached without convergence')\n",
    "        y = q(x)\n",
    "        error = jnp.linalg.norm(x - y)\n",
    "        x = y\n",
    "        print(f'iteration {n}, error = {error}')\n",
    "    return x"
   ]
  },
  {
   "cell_type": "code",
   "execution_count": null,
   "id": "b639ee86",
   "metadata": {
    "hide-output": false
   },
   "outputs": [],
   "source": [
    "@jax.jit\n",
    "def e(p, A, b, c):\n",
    "    return jnp.exp(- A @ p) + c - b * jnp.sqrt(p)"
   ]
  },
  {
   "cell_type": "code",
   "execution_count": null,
   "id": "fd9d5d09",
   "metadata": {
    "hide-output": false
   },
   "outputs": [],
   "source": [
    "p = newton(lambda p: e(p, A, b, c), init_p)\n",
    "p"
   ]
  },
  {
   "cell_type": "code",
   "execution_count": null,
   "id": "a970a540",
   "metadata": {
    "hide-output": false
   },
   "outputs": [],
   "source": [
    "jnp.max(jnp.abs(e(p, A, b, c)))"
   ]
  },
  {
   "cell_type": "markdown",
   "id": "3b790c71",
   "metadata": {},
   "source": [
    "### A High-Dimensional Problem\n",
    "\n",
    "Let’s now apply the method just described to investigate a large market with 5,000 goods.\n",
    "\n",
    "We randomly generate the matrix $ A $ and set the parameter vectors $ b, c $ to $ 1 $."
   ]
  },
  {
   "cell_type": "code",
   "execution_count": null,
   "id": "1069e615",
   "metadata": {
    "hide-output": false
   },
   "outputs": [],
   "source": [
    "dim = 5_000\n",
    "seed = 32\n",
    "\n",
    "# Create a random matrix A and normalize the rows to sum to one\n",
    "key = jax.random.PRNGKey(seed)\n",
    "A = jax.random.uniform(key, (dim, dim))\n",
    "s = jnp.sum(A, axis=0)\n",
    "A = A / s\n",
    "\n",
    "# Set up b and c\n",
    "b = jnp.ones(dim)\n",
    "c = jnp.ones(dim)"
   ]
  },
  {
   "cell_type": "markdown",
   "id": "4d3679dc",
   "metadata": {},
   "source": [
    "Here’s our initial condition $ p_0 $"
   ]
  },
  {
   "cell_type": "code",
   "execution_count": null,
   "id": "d93cbdbb",
   "metadata": {
    "hide-output": false
   },
   "outputs": [],
   "source": [
    "init_p = jnp.ones(dim)"
   ]
  },
  {
   "cell_type": "markdown",
   "id": "4f728e4b",
   "metadata": {},
   "source": [
    "By combining the power of Newton’s method, JAX accelerated linear algebra,\n",
    "automatic differentiation, and a GPU, we obtain a relatively small error for\n",
    "this high-dimensional problem in just a few seconds:"
   ]
  },
  {
   "cell_type": "code",
   "execution_count": null,
   "id": "94a02c43",
   "metadata": {
    "hide-output": false
   },
   "outputs": [],
   "source": [
    "%time p = newton(lambda p: e(p, A, b, c), init_p).block_until_ready()"
   ]
  },
  {
   "cell_type": "markdown",
   "id": "27582f17",
   "metadata": {},
   "source": [
    "Here’s the size of the error:"
   ]
  },
  {
   "cell_type": "code",
   "execution_count": null,
   "id": "7e110b4b",
   "metadata": {
    "hide-output": false
   },
   "outputs": [],
   "source": [
    "jnp.max(jnp.abs(e(p, A, b, c)))"
   ]
  },
  {
   "cell_type": "markdown",
   "id": "999a482e",
   "metadata": {},
   "source": [
    "With the same tolerance, SciPy’s `root` function takes much longer to run."
   ]
  },
  {
   "cell_type": "code",
   "execution_count": null,
   "id": "d05e53c7",
   "metadata": {
    "hide-output": false
   },
   "outputs": [],
   "source": [
    "%%time\n",
    "\n",
    "solution = scipy.optimize.root(lambda p: e(p, A, b, c),\n",
    "                init_p,\n",
    "                method='hybr',\n",
    "                tol=1e-5)"
   ]
  },
  {
   "cell_type": "code",
   "execution_count": null,
   "id": "c8b60bca",
   "metadata": {
    "hide-output": false
   },
   "outputs": [],
   "source": [
    "p = solution.x\n",
    "jnp.max(jnp.abs(e(p, A, b, c)))"
   ]
  },
  {
   "cell_type": "code",
   "execution_count": null,
   "id": "90bd231c",
   "metadata": {},
   "outputs": [],
   "source": []
  },
  {
   "cell_type": "code",
   "execution_count": null,
   "id": "234929ae",
   "metadata": {},
   "outputs": [],
   "source": []
  }
 ],
 "metadata": {
  "kernelspec": {
   "display_name": "Python 3 (ipykernel)",
   "language": "python",
   "name": "python3"
  }
 },
 "nbformat": 4,
 "nbformat_minor": 5
}
