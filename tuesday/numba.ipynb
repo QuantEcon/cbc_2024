{
 "cells": [
  {
   "cell_type": "markdown",
   "id": "4fb62538",
   "metadata": {},
   "source": [
    "# Accelerating Python Code with Numba\n",
    "\n",
    "### Written for the CBC Workshop (May 2024)\n",
    "\n",
    "#### John Stachurski"
   ]
  },
  {
   "cell_type": "markdown",
   "id": "a2c819a6",
   "metadata": {},
   "source": [
    "In the lecture on NumPy we saw that vectorization via NumPy can help accelerate our code.\n",
    "\n",
    "But\n",
    "\n",
    "* Vectorization can be very memory intensive.\n",
    "* NumPy-style vectorization cannot fully exploit parallel hardware (precompiled NumPy binaries cannot optimize on array size or over hardware accelerators).\n",
    "* Some problems cannot be vectorized --- they need to be written in loops.\n",
    "\n",
    "This notebook contains a very quick introduction to an alternative method for accelerating code, via \n",
    "[Numba](https://numba.pydata.org/).\n",
    "\n",
    "We use the following imports:"
   ]
  },
  {
   "cell_type": "code",
   "execution_count": null,
   "id": "ecf696b3",
   "metadata": {},
   "outputs": [],
   "source": [
    "import numpy as np\n",
    "from numba import vectorize, jit, float64   \n",
    "import matplotlib.pyplot as plt"
   ]
  },
  {
   "cell_type": "markdown",
   "id": "a030fa4c",
   "metadata": {},
   "source": [
    "## Example: Solow-Swan dynamics\n",
    "\n",
    "\n",
    "Here we look at one example of the last case and discuss how to accelerate it.\n",
    "\n",
    "### A loop in Python\n",
    "\n",
    "Let's suppose we are interested in the long-run behavior of capital stock in the stochasic\n",
    "Solow-Swan model\n",
    "\n",
    "$$\n",
    "    k_{t+1} = a_{t+1} s k_t^\\alpha + (1-\\delta)k_t \n",
    "$$\n",
    "\n",
    "where $(a_t)$ is IID and uniform.\n",
    "\n",
    "Here's some code to generate a short time series, plus a plot."
   ]
  },
  {
   "cell_type": "code",
   "execution_count": null,
   "id": "73986742",
   "metadata": {},
   "outputs": [],
   "source": [
    "α, s, δ, a = 0.4, 0.3, 0.1, 1.0\n",
    "n = 120\n",
    "k =  np.empty(n)\n",
    "k[0] = 0.2\n",
    "for t in range(n-1):\n",
    "    k[t+1] = np.random.rand() * s * k[t]**α + (1 - δ) * k[t]\n",
    "    \n",
    "fig, ax = plt.subplots()\n",
    "ax.plot(k, 'o-', ms=2, lw=1)\n",
    "ax.set_xlabel('time')\n",
    "ax.set_ylabel('capital')\n",
    "plt.show()"
   ]
  },
  {
   "cell_type": "markdown",
   "id": "d41360ab",
   "metadata": {},
   "source": [
    "Let's say that we want to compute long-run average capital stock."
   ]
  },
  {
   "cell_type": "code",
   "execution_count": null,
   "id": "96d2b556",
   "metadata": {},
   "outputs": [],
   "source": [
    "def solow(n=10_000_000, α=0.4, s=0.3, δ=0.1, k0=0.2):\n",
    "    k = k0\n",
    "    k_sum = k0\n",
    "    for t in range(n):\n",
    "        a = np.random.rand()\n",
    "        k = a * s * k**α + (1 - δ) * k\n",
    "        k_sum += k\n",
    "    return k_sum / n\n",
    "\n",
    "%time k = solow()\n",
    "print(f\"Steady-state capital = {k}.\")"
   ]
  },
  {
   "cell_type": "markdown",
   "id": "3e9f07c1",
   "metadata": {},
   "source": [
    "Steady-state capital:"
   ]
  },
  {
   "cell_type": "markdown",
   "id": "ca5ccec8",
   "metadata": {},
   "source": [
    "Notice that the run-time is pretty slow.\n",
    "\n",
    "Also, we can't use NumPy to accelerate it because there's no way to vectorize the loop.\n",
    "\n",
    "Let's look at some alternatives."
   ]
  },
  {
   "cell_type": "markdown",
   "id": "6efef31a",
   "metadata": {},
   "source": [
    "### A Fortran version\n",
    "\n",
    "We can make it fast if we rewrite it in Fortran.\n",
    "\n",
    "To execute the following Fortran code on your machine, you need \n",
    "\n",
    "* a Fortran compiler (such as the open source `gfortran` compiler) and also\n",
    "* the `fortranmagic` Jupyter extension, which can be installed by uncommenting"
   ]
  },
  {
   "cell_type": "code",
   "execution_count": null,
   "id": "d2e5e3a0",
   "metadata": {},
   "outputs": [],
   "source": [
    "#!pip install fortran-magic"
   ]
  },
  {
   "cell_type": "markdown",
   "id": "9999f273",
   "metadata": {},
   "source": [
    "Now we load the extension (skip executing this and the rest of the section if you don't have a Fortran compiler)."
   ]
  },
  {
   "cell_type": "code",
   "execution_count": null,
   "id": "113c41d1",
   "metadata": {},
   "outputs": [],
   "source": [
    "%load_ext fortranmagic"
   ]
  },
  {
   "cell_type": "markdown",
   "id": "75b79c19",
   "metadata": {},
   "source": [
    "In the following code, all parameters are the same as for the Python code above."
   ]
  },
  {
   "cell_type": "markdown",
   "id": "4525488f",
   "metadata": {},
   "source": [
    "Now we add the cell magic ``%%fortran`` to a cell that contains a Fortran subroutine for the Solow-Swan computation:"
   ]
  },
  {
   "cell_type": "code",
   "execution_count": null,
   "id": "ebd37275",
   "metadata": {},
   "outputs": [],
   "source": [
    "%%fortran\n",
    "\n",
    "subroutine solow_fortran(k0, s, delta, alpha, n, kt)\n",
    " implicit none\n",
    " integer, parameter :: dp=kind(0.d0) \n",
    " integer, intent(in) :: n\n",
    " real(dp), intent(in) :: k0, s, delta, alpha\n",
    " real(dp), intent(out) :: kt\n",
    " real(dp) :: k, k_sum, a\n",
    " integer :: i\n",
    " k = k0\n",
    " k_sum = k0\n",
    " call random_seed\n",
    " do i = 1, n - 1      \n",
    "  call random_number(a)\n",
    "  k = a * s * k**alpha + (1 - delta) * k\n",
    "  k_sum = k_sum + k\n",
    " end do\n",
    " kt = k_sum / real(n)\n",
    "end subroutine solow_fortran "
   ]
  },
  {
   "cell_type": "markdown",
   "id": "43efcb4f",
   "metadata": {},
   "source": [
    "Now we can call the function `solow_fortran` from Python.\n",
    "\n",
    "(`fortranmagic` uses a program called `F2Py` to create a Python \"wrapper\" for the Fortran subroutine so we can access it from within Python.)\n",
    "\n",
    "Let's make sure it gives the right answer."
   ]
  },
  {
   "cell_type": "code",
   "execution_count": null,
   "id": "53ea09ae",
   "metadata": {},
   "outputs": [],
   "source": [
    "n = 10_000_000\n",
    "solow_fortran(0.2, s, δ, α, n)"
   ]
  },
  {
   "cell_type": "markdown",
   "id": "40112242",
   "metadata": {},
   "source": [
    "Now let's time it:"
   ]
  },
  {
   "cell_type": "code",
   "execution_count": null,
   "id": "a30ccd7d",
   "metadata": {},
   "outputs": [],
   "source": [
    "%time solow_fortran(0.2, s, δ, α, n)"
   ]
  },
  {
   "cell_type": "markdown",
   "id": "55611a7d",
   "metadata": {},
   "source": [
    "Let's time it more carefully, over multiple runs:"
   ]
  },
  {
   "cell_type": "code",
   "execution_count": null,
   "id": "3bf24d44",
   "metadata": {},
   "outputs": [],
   "source": [
    "%timeit solow_fortran(0.2, s, δ, α, n)"
   ]
  },
  {
   "cell_type": "markdown",
   "id": "a1c03607",
   "metadata": {},
   "source": [
    "The speed gain is about 1 order of magnitude."
   ]
  },
  {
   "cell_type": "markdown",
   "id": "9957ab53",
   "metadata": {},
   "source": [
    "## Numba\n",
    "\n",
    "Now let's try the same thing in Python using Numba's JIT compilation.\n",
    "\n",
    "We recall the Python function from above."
   ]
  },
  {
   "cell_type": "code",
   "execution_count": null,
   "id": "6f820f49",
   "metadata": {},
   "outputs": [],
   "source": [
    "def solow(n=10_000_000, α=0.4, s=0.3, δ=0.1, k0=0.2):\n",
    "    k =  k_sum = k0\n",
    "    for t in range(n-1):\n",
    "        a = np.random.rand()\n",
    "        k = a * s * k**α + (1 - δ) * k\n",
    "        k_sum += k\n",
    "    return k"
   ]
  },
  {
   "cell_type": "markdown",
   "id": "e6604617",
   "metadata": {},
   "source": [
    "Now let's flag it for JIT-compilation:"
   ]
  },
  {
   "cell_type": "code",
   "execution_count": null,
   "id": "75aab17f",
   "metadata": {},
   "outputs": [],
   "source": [
    "solow_jitted = jit(solow)"
   ]
  },
  {
   "cell_type": "markdown",
   "id": "bab89eb5",
   "metadata": {},
   "source": [
    "And then run it:"
   ]
  },
  {
   "cell_type": "code",
   "execution_count": null,
   "id": "41962c20",
   "metadata": {},
   "outputs": [],
   "source": [
    "%time k = solow_jitted()"
   ]
  },
  {
   "cell_type": "code",
   "execution_count": null,
   "id": "866e67e6",
   "metadata": {},
   "outputs": [],
   "source": [
    "%time k = solow_jitted()"
   ]
  },
  {
   "cell_type": "code",
   "execution_count": null,
   "id": "ffb29245",
   "metadata": {},
   "outputs": [],
   "source": [
    "%timeit k = solow_jitted()"
   ]
  },
  {
   "cell_type": "markdown",
   "id": "a1088fd0",
   "metadata": {},
   "source": [
    "Hopefully we get the same value:"
   ]
  },
  {
   "cell_type": "code",
   "execution_count": null,
   "id": "cdbdd01d",
   "metadata": {},
   "outputs": [],
   "source": [
    "k"
   ]
  },
  {
   "cell_type": "markdown",
   "id": "1852af59",
   "metadata": {},
   "source": [
    "Here's the same thing using decorator notation."
   ]
  },
  {
   "cell_type": "code",
   "execution_count": null,
   "id": "a95b6973",
   "metadata": {},
   "outputs": [],
   "source": [
    "@jit\n",
    "def solow(n=10_000_000, α=0.4, s=0.3, δ=0.1, k0=0.2):\n",
    "    k = k_sum = k0\n",
    "    for t in range(n-1):\n",
    "        a = np.random.rand()\n",
    "        k = a * s * k**α + (1 - δ) * k\n",
    "        k_sum += k\n",
    "    return k_sum / n"
   ]
  },
  {
   "cell_type": "code",
   "execution_count": null,
   "id": "57623898",
   "metadata": {},
   "outputs": [],
   "source": [
    "%time k = solow()"
   ]
  },
  {
   "cell_type": "code",
   "execution_count": null,
   "id": "ca348f8d",
   "metadata": {},
   "outputs": [],
   "source": [
    "%time k = solow()"
   ]
  },
  {
   "cell_type": "markdown",
   "id": "a67fd8d9",
   "metadata": {},
   "source": [
    "After JIT compilation, function execution speed is about the same as Fortran."
   ]
  },
  {
   "cell_type": "markdown",
   "id": "65c6af5c",
   "metadata": {},
   "source": [
    "#### How does it work?"
   ]
  },
  {
   "cell_type": "markdown",
   "id": "427a890a",
   "metadata": {},
   "source": [
    "The secret sauce is type inference inside the function body.\n",
    "\n",
    "When we call `solow_jitted` with particular arguments, Numba's compiler works\n",
    "through the function body and infers the types of the variables inside the\n",
    "function.\n",
    "\n",
    "It then produces compiled code *specialized to that type signature*\n",
    "\n",
    "For example, we called `solow_jitted` with a `float, int` pair in the cell above and the compiler produced code specialized to those types.\n",
    "\n",
    "That code runs fast because the compiler can fully specialize all operations inside the function based on that information and hence write very efficient machine code."
   ]
  },
  {
   "cell_type": "markdown",
   "id": "c2be551d",
   "metadata": {},
   "source": [
    "#### Limitations of Numba\n",
    "\n",
    "Numba is great when it works but it can't compile functions that aren't\n",
    "themselves JIT compiled."
   ]
  },
  {
   "cell_type": "markdown",
   "id": "a4c47f36",
   "metadata": {},
   "source": [
    "In practice, this means we can't use most third party libraries:"
   ]
  },
  {
   "cell_type": "code",
   "execution_count": null,
   "id": "68676291",
   "metadata": {},
   "outputs": [],
   "source": [
    "from scipy.integrate import quad\n",
    "\n",
    "def compute_integral(n):\n",
    "    return quad(lambda x: x**(1/n), 0, 1)"
   ]
  },
  {
   "cell_type": "markdown",
   "id": "91780191",
   "metadata": {},
   "source": [
    "This works fine if we don't jit the function."
   ]
  },
  {
   "cell_type": "code",
   "execution_count": null,
   "id": "616a6666",
   "metadata": {},
   "outputs": [],
   "source": [
    "compute_integral(4)"
   ]
  },
  {
   "cell_type": "markdown",
   "id": "60e65cfe",
   "metadata": {},
   "source": [
    "But if we do..."
   ]
  },
  {
   "cell_type": "code",
   "execution_count": null,
   "id": "21ae8c6b",
   "metadata": {},
   "outputs": [],
   "source": [
    "@jit\n",
    "def compute_integral(n):\n",
    "    return quad(lambda x: x**(1/n), 0, 1)\n",
    "        "
   ]
  },
  {
   "cell_type": "code",
   "execution_count": null,
   "id": "274e6041",
   "metadata": {},
   "outputs": [],
   "source": [
    "compute_integral(4)"
   ]
  },
  {
   "cell_type": "markdown",
   "id": "7b5c2719",
   "metadata": {},
   "source": [
    "The reason is that the `quad` function is from SciPy and Numba doesn't know how\n",
    "to handle it.\n",
    "\n",
    "Key message: even though it might not be possible to JIT-compile your whole\n",
    "program, you might well be able to compile the hot loops that are eating up 99%\n",
    "of your computation time.\n",
    "\n",
    "If you can do this, you open up large speed gains, as the following sections\n",
    "make clear."
   ]
  },
  {
   "cell_type": "markdown",
   "id": "8cdaed8c",
   "metadata": {},
   "source": [
    "### Vectorization vs Numba"
   ]
  },
  {
   "cell_type": "markdown",
   "id": "cbc18386",
   "metadata": {},
   "source": [
    "We made the point above that some problems are hard or impossible to vectorize and, in these situations, that we can use Numba instead of NumPy to accelerate our code.\n",
    "\n",
    "However, there are also many situations where we *can* vectorize our code but Numba is still the better option.\n",
    "\n",
    "Let's look at an example."
   ]
  },
  {
   "cell_type": "markdown",
   "id": "10873b70",
   "metadata": {},
   "source": [
    "The problem is to maximize the function \n",
    "\n",
    "$$ f(x, y) = \\frac{\\cos \\left(x^2 + y^2 \\right)}{1 + x^2 + y^2} + 1$$\n",
    "\n",
    "using brute force --- searching over a grid of $(x, y)$ pairs."
   ]
  },
  {
   "cell_type": "code",
   "execution_count": null,
   "id": "ee12badb",
   "metadata": {},
   "outputs": [],
   "source": [
    "def f(x, y):\n",
    "    return np.cos(x**2 + y**2) / (1 + x**2 + y**2) + 1"
   ]
  },
  {
   "cell_type": "code",
   "execution_count": null,
   "id": "4d85dc0b",
   "metadata": {},
   "outputs": [],
   "source": [
    "from mpl_toolkits.mplot3d.axes3d import Axes3D\n",
    "from matplotlib import cm\n",
    "\n",
    "gridsize = 50\n",
    "gmin, gmax = -3, 3\n",
    "xgrid = np.linspace(gmin, gmax, gridsize)\n",
    "ygrid = xgrid\n",
    "x, y = np.meshgrid(xgrid, ygrid)\n",
    "\n",
    "# === plot value function === #\n",
    "fig = plt.figure(figsize=(10, 8))\n",
    "ax = fig.add_subplot(111, projection='3d')\n",
    "ax.plot_surface(x,\n",
    "                y,\n",
    "                f(x, y),\n",
    "                rstride=2, cstride=2,\n",
    "                cmap=cm.jet,\n",
    "                alpha=0.4,\n",
    "                linewidth=0.05)\n",
    "\n",
    "\n",
    "ax.scatter(x, y, c='k', s=0.6)\n",
    "\n",
    "ax.scatter(x, y, f(x, y), c='k', s=0.6)\n",
    "\n",
    "ax.view_init(25, -57)\n",
    "ax.set_zlim(-0, 2.0)\n",
    "ax.set_xlim(gmin, gmax)\n",
    "ax.set_ylim(gmin, gmax)\n",
    "\n",
    "plt.show()"
   ]
  },
  {
   "cell_type": "markdown",
   "id": "a29282fe",
   "metadata": {},
   "source": [
    "#### Vectorized code"
   ]
  },
  {
   "cell_type": "code",
   "execution_count": null,
   "id": "1bed39fc",
   "metadata": {},
   "outputs": [],
   "source": [
    "grid = np.linspace(-3, 3, 10_000)"
   ]
  },
  {
   "cell_type": "code",
   "execution_count": null,
   "id": "64b6bc96",
   "metadata": {},
   "outputs": [],
   "source": [
    "x, y = np.meshgrid(grid, grid)"
   ]
  },
  {
   "cell_type": "code",
   "execution_count": null,
   "id": "a1d7b801",
   "metadata": {
    "nbpresent": {
     "id": "1ba9f9f9-f737-4ee1-86e6-0a33c4752188"
    }
   },
   "outputs": [],
   "source": [
    "%%time\n",
    "np.max(f(x, y))"
   ]
  },
  {
   "cell_type": "markdown",
   "id": "6269f5cd",
   "metadata": {},
   "source": [
    "#### JITTed code"
   ]
  },
  {
   "cell_type": "markdown",
   "id": "d713a000",
   "metadata": {},
   "source": [
    "A jitted version -- note the speed gain."
   ]
  },
  {
   "cell_type": "code",
   "execution_count": null,
   "id": "a6385357",
   "metadata": {},
   "outputs": [],
   "source": [
    "@jit\n",
    "def compute_max():\n",
    "    m = -np.inf\n",
    "    for x in grid:\n",
    "        for y in grid:\n",
    "            z = np.cos(x**2 + y**2) / (1 + x**2 + y**2) + 1\n",
    "            if z > m:\n",
    "                m = z\n",
    "    return m"
   ]
  },
  {
   "cell_type": "code",
   "execution_count": null,
   "id": "6e7d6e7a",
   "metadata": {},
   "outputs": [],
   "source": [
    "%%time\n",
    "compute_max()"
   ]
  },
  {
   "cell_type": "code",
   "execution_count": null,
   "id": "6674c3ff",
   "metadata": {},
   "outputs": [],
   "source": [
    "%%time\n",
    "compute_max()"
   ]
  },
  {
   "cell_type": "markdown",
   "id": "77498e9c",
   "metadata": {},
   "source": [
    "#### JITTed, parallelized code: @vectorize\n",
    "\n",
    "\n",
    "Numba for vectorization with automatic parallization - even faster:"
   ]
  },
  {
   "cell_type": "code",
   "execution_count": null,
   "id": "2922a3d7",
   "metadata": {
    "nbpresent": {
     "id": "e443f7ad-f26e-4148-983e-83a5f6a2214e"
    }
   },
   "outputs": [],
   "source": [
    "signature = 'float64(float64, float64)'  # A function sending (float, float) into float\n",
    "\n",
    "@vectorize(signature, target='parallel')\n",
    "def f_par(x, y):\n",
    "    return np.cos(x**2 + y**2) / (1 + x**2 + y**2) + 1"
   ]
  },
  {
   "cell_type": "code",
   "execution_count": null,
   "id": "c0e3593b",
   "metadata": {},
   "outputs": [],
   "source": [
    "x, y = np.meshgrid(grid, grid)\n",
    "\n",
    "np.max(f_par(x, y))"
   ]
  },
  {
   "cell_type": "code",
   "execution_count": null,
   "id": "7c725c78",
   "metadata": {},
   "outputs": [],
   "source": [
    "%%time\n",
    "np.max(f_par(x, y))"
   ]
  },
  {
   "cell_type": "code",
   "execution_count": null,
   "id": "9ef0dda5",
   "metadata": {},
   "outputs": [],
   "source": [
    "%%time\n",
    "np.max(f_par(x, y))"
   ]
  },
  {
   "cell_type": "code",
   "execution_count": null,
   "id": "fe2c5d8e",
   "metadata": {},
   "outputs": [],
   "source": []
  },
  {
   "cell_type": "code",
   "execution_count": null,
   "id": "35545d61",
   "metadata": {},
   "outputs": [],
   "source": []
  }
 ],
 "metadata": {
  "kernelspec": {
   "display_name": "Python 3 (ipykernel)",
   "language": "python",
   "name": "python3"
  }
 },
 "nbformat": 4,
 "nbformat_minor": 5
}
