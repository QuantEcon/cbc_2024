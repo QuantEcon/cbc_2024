{
 "cells": [
  {
   "cell_type": "markdown",
   "id": "95e8201a",
   "metadata": {},
   "source": [
    "# Wealth Dynamics\n",
    "\n",
    "------\n",
    "\n",
    "#### John Stachurski\n",
    "\n",
    "#### Prepared for the CBC Workshop (May 2024)\n",
    "\n",
    "In this lecture we examine wealth dynamics in large cross-section of agents who\n",
    "are subject to both \n",
    "\n",
    "* idiosyncratic shocks, which affect labor income and returns, and \n",
    "* an aggregate shock, which also impacts on labor income and returns\n",
    "\n",
    "\n",
    "In most macroeconomic models savings and consumption are determined by optimization.\n",
    "\n",
    "Here savings and consumption behavior is taken as given -- you can plug in your\n",
    "favorite model to obtain savings behavior and then analyze distribution dynamics\n",
    "using the techniques described below.\n",
    "\n",
    "On of our interests will be how different aspects of wealth dynamics -- such\n",
    "as labor income and the rate of return on investments -- feed into measures of\n",
    "inequality, such as the Gini coefficent.\n",
    "\n",
    "Please uncomment the following if necessary"
   ]
  },
  {
   "cell_type": "code",
   "execution_count": null,
   "id": "f17a2cb5",
   "metadata": {},
   "outputs": [],
   "source": [
    "#!pip install quantecon "
   ]
  },
  {
   "cell_type": "markdown",
   "id": "db43526b",
   "metadata": {},
   "source": [
    "We use the following imports."
   ]
  },
  {
   "cell_type": "code",
   "execution_count": null,
   "id": "5f9ee6c4",
   "metadata": {},
   "outputs": [],
   "source": [
    "import numba\n",
    "import pandas as pd\n",
    "import numpy as np\n",
    "import matplotlib.pyplot as plt\n",
    "import quantecon as qe\n",
    "from time import time"
   ]
  },
  {
   "cell_type": "markdown",
   "id": "c84eea03",
   "metadata": {},
   "source": [
    "## Wealth dynamics\n",
    "\n",
    "\n",
    "Wealth evolves as follows:\n",
    "\n",
    "```{math}\n",
    "    w_{t+1} = (1 + r_{t+1}) s(w_t) + y_{t+1}\n",
    "```\n",
    "\n",
    "Here\n",
    "\n",
    "- $w_t$ is wealth at time $t$ for a given household,\n",
    "- $r_t$ is the rate of return of financial assets,\n",
    "- $y_t$ is labor income and\n",
    "- $s(w_t)$ is savings (current wealth minus current consumption)\n",
    "\n",
    "\n",
    "There is an aggregate state process \n",
    "\n",
    "$$\n",
    "    z_{t+1} = a z_t + b + \\sigma_z \\epsilon_{t+1}\n",
    "$$\n",
    "\n",
    "that affects the interest rate and labor income.\n",
    "\n",
    "In particular, the gross interest rates obeys\n",
    "\n",
    "$$\n",
    "    R_t := 1 + r_t = c_r \\exp(z_t) + \\exp(\\mu_r + \\sigma_r \\xi_t)\n",
    "$$\n",
    "\n",
    "while\n",
    "\n",
    "$$\n",
    "    y_t = c_y \\exp(z_t) + \\exp(\\mu_y + \\sigma_y \\zeta_t)\n",
    "$$\n",
    "\n",
    "The tuple $\\{ (\\epsilon_t, \\xi_t, \\zeta_t) \\}$ is IID and standard normal in $\\mathbb R^3$.\n",
    "\n",
    "(Each household receives their own idiosyncratic shocks.)\n",
    "\n",
    "Regarding the savings function $s$, our default model will be\n",
    "\n",
    "```{math}\n",
    ":label: sav_ah\n",
    "\n",
    "s(w) = s_0 w \\cdot \\mathbb 1\\{w \\geq \\hat w\\}\n",
    "```\n",
    "\n",
    "where $s_0$ is a positive constant.\n",
    "\n",
    "Thus, \n",
    "\n",
    "* for $w < \\hat w$, the household saves nothing, while\n",
    "* for $w \\geq \\bar w$, the household saves a fraction $s_0$ of their wealth.\n",
    "\n",
    "\n",
    "\n",
    "## Implementation (Numba version)\n",
    "\n",
    "\n",
    "Here's a function that collects parameters and useful constants"
   ]
  },
  {
   "cell_type": "code",
   "execution_count": null,
   "id": "c5a191f5",
   "metadata": {},
   "outputs": [],
   "source": [
    "def create_wealth_model(w_hat=1.0,   # Savings parameter\n",
    "                        s_0=0.75,    # Savings parameter\n",
    "                        c_y=1.0,     # Labor income parameter\n",
    "                        μ_y=1.0,     # Labor income parameter\n",
    "                        σ_y=0.2,     # Labor income parameter\n",
    "                        c_r=0.05,    # Rate of return parameter\n",
    "                        μ_r=0.1,     # Rate of return parameter\n",
    "                        σ_r=0.5,     # Rate of return parameter\n",
    "                        a=0.5,       # Aggregate shock parameter\n",
    "                        b=0.0,       # Aggregate shock parameter\n",
    "                        σ_z=0.1):    # Aggregate shock parameter\n",
    "    \"\"\"\n",
    "    Create a wealth model with given parameters. \n",
    "\n",
    "    Return a tuple model = (household_params, aggregate_params), where\n",
    "    household_params collects household information and aggregate_params\n",
    "    collects information relevant to the aggregate shock process.\n",
    "    \n",
    "    \"\"\"\n",
    "    # Mean and variance of z process\n",
    "    z_mean = b / (1 - a)\n",
    "    z_var = σ_z**2 / (1 - a**2)\n",
    "    exp_z_mean = np.exp(z_mean + z_var / 2)\n",
    "    # Mean of R and y processes\n",
    "    R_mean = c_r * exp_z_mean + np.exp(μ_r + σ_r**2 / 2)\n",
    "    y_mean = c_y * exp_z_mean + np.exp(μ_y + σ_y**2 / 2)\n",
    "    # Test stability condition ensuring wealth does not diverge\n",
    "    # to infinity.\n",
    "    α = R_mean * s_0\n",
    "    if α >= 1:\n",
    "        raise ValueError(\"Stability condition failed.\")\n",
    "    # Pack values into tuples and return them\n",
    "    household_params = (w_hat, s_0, c_y, μ_y, σ_y, c_r, μ_r, σ_r, y_mean)\n",
    "    aggregate_params = (a, b, σ_z, z_mean, z_var)\n",
    "    model = household_params, aggregate_params\n",
    "    return model"
   ]
  },
  {
   "cell_type": "markdown",
   "id": "3ac6a22f",
   "metadata": {},
   "source": [
    "Here's a function that generates the aggregate state process"
   ]
  },
  {
   "cell_type": "code",
   "execution_count": null,
   "id": "f820ccff",
   "metadata": {},
   "outputs": [],
   "source": [
    "@numba.jit\n",
    "def generate_aggregate_state_sequence(aggregate_params, length=100):\n",
    "    a, b, σ_z, z_mean, z_var = aggregate_params \n",
    "    z = np.empty(length+1)\n",
    "    z[0] = z_mean   # Initialize at z_mean\n",
    "    for t in range(length):\n",
    "        z[t+1] = a * z[t] + b + σ_z * np.random.randn()\n",
    "    return z"
   ]
  },
  {
   "cell_type": "markdown",
   "id": "d116c286",
   "metadata": {},
   "source": [
    "Here's a function that updates household wealth by one period, taking the\n",
    "current value of the aggregate shock."
   ]
  },
  {
   "cell_type": "code",
   "execution_count": null,
   "id": "cfec0d15",
   "metadata": {},
   "outputs": [],
   "source": [
    "@numba.jit\n",
    "def update_wealth(household_params, w, z):\n",
    "    \"\"\"\n",
    "    Generate w_{t+1} given w_t and z_{t+1}.\n",
    "    \"\"\"\n",
    "    # Unpack\n",
    "    w_hat, s_0, c_y, μ_y, σ_y, c_r, μ_r, σ_r, y_mean = household_params\n",
    "    # Update wealth\n",
    "    y = c_y * np.exp(z) + np.exp(μ_y + σ_y * np.random.randn())\n",
    "    wp = y\n",
    "    if w >= w_hat:\n",
    "        R = c_r * np.exp(z) + np.exp(μ_r + σ_r * np.random.randn())\n",
    "        wp += R * s_0 * w\n",
    "    return wp"
   ]
  },
  {
   "cell_type": "markdown",
   "id": "5feb1014",
   "metadata": {},
   "source": [
    "Here's function to simulate the time series of wealth for an individual household."
   ]
  },
  {
   "cell_type": "code",
   "execution_count": null,
   "id": "d59bf194",
   "metadata": {},
   "outputs": [],
   "source": [
    "@numba.jit\n",
    "def wealth_time_series(model, w_0, sim_length):\n",
    "    \"\"\"\n",
    "    Generate a single time series of length sim_length for wealth given initial\n",
    "    value w_0.  The function generates its own aggregate shock sequence.\n",
    "\n",
    "    \"\"\"\n",
    "    # Unpack\n",
    "    household_params, aggregate_params = model\n",
    "    a, b, σ_z, z_mean, z_var = aggregate_params \n",
    "    # Initialize and update\n",
    "    z = generate_aggregate_state_sequence(aggregate_params, \n",
    "                                          length=sim_length)\n",
    "    w = np.empty(sim_length)\n",
    "    w[0] = w_0\n",
    "    for t in range(sim_length-1):\n",
    "        w[t+1] = update_wealth(household_params, w[t], z[t+1])\n",
    "    return w"
   ]
  },
  {
   "cell_type": "markdown",
   "id": "10622cfe",
   "metadata": {},
   "source": [
    "Let's look at the wealth dynamics of an individual household."
   ]
  },
  {
   "cell_type": "code",
   "execution_count": null,
   "id": "85cdc242",
   "metadata": {},
   "outputs": [],
   "source": [
    "model = create_wealth_model()\n",
    "household_params, aggregate_params = model\n",
    "w_hat, s_0, c_y, μ_y, σ_y, c_r, μ_r, σ_r, y_mean = household_params\n",
    "a, b, σ_z, z_mean, z_var = aggregate_params \n",
    "ts_length = 200\n",
    "w = wealth_time_series(model, y_mean, ts_length)"
   ]
  },
  {
   "cell_type": "code",
   "execution_count": null,
   "id": "fd130295",
   "metadata": {},
   "outputs": [],
   "source": [
    "fig, ax = plt.subplots()\n",
    "ax.plot(w)\n",
    "plt.show()"
   ]
  },
  {
   "cell_type": "markdown",
   "id": "8faad41d",
   "metadata": {},
   "source": [
    "Notice the large spikes in wealth over time.\n",
    "\n",
    "Such spikes are related to heavy tails in the wealth distribution, which we\n",
    "discuss below."
   ]
  },
  {
   "cell_type": "markdown",
   "id": "1f747fe1",
   "metadata": {},
   "source": [
    "Here's function to simulate a cross section of households forward in time.\n",
    "\n",
    "Note the use of parallelization to speed up computation."
   ]
  },
  {
   "cell_type": "code",
   "execution_count": null,
   "id": "d2c94a31",
   "metadata": {},
   "outputs": [],
   "source": [
    "@numba.jit(parallel=True)\n",
    "def update_cross_section(model, w_distribution, z_sequence):\n",
    "    \"\"\"\n",
    "    Shifts a cross-section of household forward in time\n",
    "\n",
    "    Takes \n",
    "\n",
    "        * a current distribution of wealth values as w_distribution and\n",
    "        * an aggregate shock sequence z_sequence\n",
    "\n",
    "    and updates each w_t in w_distribution to w_{t+j}, where\n",
    "    j = len(z_sequence).\n",
    "\n",
    "    Returns the new distribution.\n",
    "\n",
    "    \"\"\"\n",
    "    # Unpack\n",
    "    household_params, aggregate_params = model\n",
    "\n",
    "    num_households = len(w_distribution)\n",
    "    new_distribution = np.empty_like(w_distribution)\n",
    "    z = z_sequence\n",
    "\n",
    "    # Update each household\n",
    "    for i in numba.prange(num_households):\n",
    "        w = w_distribution[i]\n",
    "        for t in range(sim_length):\n",
    "            w = update_wealth(household_params, w, z[t])\n",
    "        new_distribution[i] = w\n",
    "    return new_distribution"
   ]
  },
  {
   "cell_type": "markdown",
   "id": "de102a6e",
   "metadata": {},
   "source": [
    "Parallelization works in the function above because the time path of each\n",
    "household can be calculated independently once the path for the aggregate state\n",
    "is known."
   ]
  },
  {
   "cell_type": "markdown",
   "id": "68c2cf90",
   "metadata": {},
   "source": [
    "Let's see how long it takes to shift a large cross-section of households forward\n",
    "200 periods"
   ]
  },
  {
   "cell_type": "code",
   "execution_count": null,
   "id": "7c7ec181",
   "metadata": {},
   "outputs": [],
   "source": [
    "sim_length = 200\n",
    "num_households = 10_000_000\n",
    "ψ_0 = np.full(num_households, y_mean)  # Initial distribution\n",
    "z_sequence = generate_aggregate_state_sequence(aggregate_params,\n",
    "                                               length=sim_length)\n",
    "print(\"Generating cross-section using Numba\")\n",
    "start_time = time()\n",
    "ψ_star = update_cross_section(model, ψ_0, z_sequence)\n",
    "numba_time = time() - start_time\n",
    "print(f\"Generated cross-section in {numba_time} seconds.\\n\")"
   ]
  },
  {
   "cell_type": "code",
   "execution_count": null,
   "id": "ea4ed2f6",
   "metadata": {},
   "outputs": [],
   "source": []
  },
  {
   "cell_type": "markdown",
   "id": "40d5868f",
   "metadata": {},
   "source": [
    "### Pareto tails\n",
    "\n",
    "In most countries, the cross-sectional distribution of wealth exhibits a Pareto\n",
    "tail (power law).\n",
    "\n",
    "\n",
    "Let's see if our model can replicate this stylized fact by running a simulation\n",
    "that generates a cross-section of wealth and generating a suitable rank-size plot.\n",
    "\n",
    "We will use the function `rank_size` from `quantecon` library.\n",
    "\n",
    "In the limit, data that obeys a power law generates a straight line."
   ]
  },
  {
   "cell_type": "code",
   "execution_count": null,
   "id": "e1c4a512",
   "metadata": {},
   "outputs": [],
   "source": [
    "model = create_wealth_model()\n",
    "ψ_star = update_cross_section(model, ψ_0, num_households, z_sequence)\n",
    "fig, ax = plt.subplots()\n",
    "\n",
    "rank_data, size_data = qe.rank_size(ψ_star, c=0.001)\n",
    "ax.loglog(rank_data, size_data, 'o', markersize=3.0, alpha=0.5)\n",
    "ax.set_xlabel(\"log rank\")\n",
    "ax.set_ylabel(\"log size\")\n",
    "\n",
    "plt.show()"
   ]
  },
  {
   "cell_type": "markdown",
   "id": "261378dd",
   "metadata": {},
   "source": [
    "### Lorenz curves and Gini coefficents\n",
    "\n",
    "To study the impact of parameters on inequality, we examine Lorenz curves\n",
    "and the Gini coefficients at different parameters.\n",
    "\n",
    "QuantEcon provides functions to compute Lorenz curves and gini coefficients that are accelerated using Numba.\n",
    "\n",
    "Here we provide JAX-based functions that do the same job and are faster for large data sets on parallel hardware.\n",
    "\n",
    "\n",
    "#### Lorenz curve\n",
    "\n",
    "Recall that, for sorted data $w_1, \\ldots, w_n$, the Lorenz curve \n",
    "generates data points $(x_i, y_i)_{i=0}^n$  according to\n",
    "\n",
    "\\begin{equation*}\n",
    "    x_0 = y_0 = 0\n",
    "    \\qquad \\text{and, for $i \\geq 1$,} \\quad\n",
    "    x_i = \\frac{i}{n},\n",
    "    \\qquad\n",
    "    y_i =\n",
    "       \\frac{\\sum_{j \\leq i} w_j}{\\sum_{j \\leq n} w_j}  \n",
    "\\end{equation*}\n",
    "\n",
    "\n",
    "Exercise: write code for this\n",
    "\n",
    "Solution:"
   ]
  },
  {
   "cell_type": "code",
   "execution_count": null,
   "id": "8afe1775",
   "metadata": {},
   "outputs": [],
   "source": [
    "def _lorenz_curve_jax(w, w_size):\n",
    "    n = w.shape[0]\n",
    "    w = np.sort(w)\n",
    "    x = np.arange(n + 1) / n\n",
    "    s = np.concatenate((np.zeros(1), np.cumsum(w)))\n",
    "    y = s / s[n]\n",
    "    return x, y"
   ]
  },
  {
   "cell_type": "markdown",
   "id": "7abfaa5a",
   "metadata": {},
   "source": [
    "Let's test"
   ]
  },
  {
   "cell_type": "code",
   "execution_count": null,
   "id": "4c908327",
   "metadata": {},
   "outputs": [],
   "source": [
    "sim_length = 200\n",
    "num_households = 1_000_000\n",
    "ψ_0 = np.full(num_households, y_mean)  # Initial distribution\n",
    "z_sequence = generate_aggregate_state_sequence(aggregate_params,\n",
    "                                               length=sim_length)\n",
    "z_sequence = np.array(z_sequence)"
   ]
  },
  {
   "cell_type": "code",
   "execution_count": null,
   "id": "0d4e4a30",
   "metadata": {},
   "outputs": [],
   "source": [
    "ψ_star = update_cross_section_jax_compiled(\n",
    "        model, ψ_0, num_households, z_sequence\n",
    ")"
   ]
  },
  {
   "cell_type": "code",
   "execution_count": null,
   "id": "bc867d58",
   "metadata": {},
   "outputs": [],
   "source": [
    "x, y = lorenz_curve(ψ_star, num_households)"
   ]
  },
  {
   "cell_type": "code",
   "execution_count": null,
   "id": "9f7aae31",
   "metadata": {},
   "outputs": [],
   "source": [
    "fig, ax = plt.subplots()\n",
    "ax.plot(x, y, label=\"Lorenz curve at defaults\")\n",
    "ax.plot(x, x, 'k-', lw=1)\n",
    "ax.legend()\n",
    "plt.show()"
   ]
  },
  {
   "cell_type": "markdown",
   "id": "ef97b790",
   "metadata": {},
   "source": [
    "#### Gini Coefficient"
   ]
  },
  {
   "cell_type": "markdown",
   "id": "757173a1",
   "metadata": {},
   "source": [
    "Recall that, for sorted data $w_1, \\ldots, w_n$, the Gini coefficient takes the form\n",
    "\n",
    "\\begin{equation}\n",
    "    \\label{eq:gini}\n",
    "    G :=\n",
    "    \\frac\n",
    "        {\\sum_{i=1}^n \\sum_{j = 1}^n |w_j - w_i|}\n",
    "        {2n\\sum_{i=1}^n w_i}.\n",
    "\\end{equation}\n",
    "\n",
    "Exercise: Write a function that computes the Gini coefficient using vectorization."
   ]
  },
  {
   "cell_type": "code",
   "execution_count": null,
   "id": "c5208676",
   "metadata": {},
   "outputs": [],
   "source": [
    "def gini(w, w_size):\n",
    "    w_1 = np.reshape(w, (w_size, 1))\n",
    "    w_2 = np.reshape(w, (1, w_size))\n",
    "    g_sum = np.sum(np.abs(w_1 - w_2))\n",
    "    return g_sum / (2 * w_size * np.sum(w))"
   ]
  },
  {
   "cell_type": "code",
   "execution_count": null,
   "id": "1d5b3c55",
   "metadata": {},
   "outputs": [],
   "source": [
    "gini = gini(ψ_star, num_households)\n",
    "gini"
   ]
  }
 ],
 "metadata": {
  "kernelspec": {
   "display_name": "Python 3 (ipykernel)",
   "language": "python",
   "name": "python3"
  }
 },
 "nbformat": 4,
 "nbformat_minor": 5
}
