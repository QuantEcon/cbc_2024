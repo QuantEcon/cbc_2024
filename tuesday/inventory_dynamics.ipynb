{
 "cells": [
  {
   "cell_type": "markdown",
   "id": "85f2085b",
   "metadata": {},
   "source": [
    "# Inventory Dynamics\n",
    "\n",
    "------\n",
    "\n",
    "#### John Stachurski\n",
    "#### Prepared for the CBC Computational Workshop May 2024\n",
    "\n",
    "-----\n",
    "\n",
    "## Overview\n",
    "\n",
    "This lecture explores the inventory dynamics of a firm using so-called s-S inventory control.\n",
    "\n",
    "Loosely speaking, this means that the firm\n",
    "\n",
    "- waits until inventory falls below some value $ s $  \n",
    "- and then restocks with a bulk order of $ S $ units (or, in some models, restocks up to level $ S $).  \n",
    "\n",
    "\n",
    "We will be interested in the distribution of the associated Markov process,\n",
    "which can be thought of as cross-sectional distributions of inventory levels\n",
    "across a large number of firms, all of which\n",
    "\n",
    "1. evolve independently and  \n",
    "1. have the same dynamics.\n",
    "\n",
    "This lecture will help use become familiar with NumPy.\n",
    "\n",
    "(Later we will try similar operations with JAX)\n",
    "\n",
    "We will use the following imports:"
   ]
  },
  {
   "cell_type": "code",
   "execution_count": null,
   "id": "a593af73",
   "metadata": {},
   "outputs": [],
   "source": [
    "import matplotlib.pyplot as plt\n",
    "import numpy as np\n",
    "from collections import namedtuple"
   ]
  },
  {
   "cell_type": "markdown",
   "id": "9c2448e7",
   "metadata": {},
   "source": [
    "## Sample paths\n",
    "\n",
    "Consider a firm with inventory $ X_t $.\n",
    "\n",
    "The firm waits until $ X_t \\leq s $ and then restocks up to $ S $ units.\n",
    "\n",
    "It faces stochastic demand $ \\{ D_t \\} $, which we assume is IID across time and\n",
    "firms.\n",
    "\n",
    "With notation $ a^+ := \\max\\{a, 0\\} $, inventory dynamics can be written\n",
    "as\n",
    "\n",
    "$$\n",
    "X_{t+1} =\n",
    "    \\begin{cases}\n",
    "      ( S - D_{t+1})^+ & \\quad \\text{if } X_t \\leq s \\\\\n",
    "      ( X_t - D_{t+1} )^+ &  \\quad \\text{if } X_t > s\n",
    "    \\end{cases}\n",
    "$$\n",
    "\n",
    "In what follows, we will assume that each $ D_t $ is lognormal, so that\n",
    "\n",
    "$$\n",
    "    D_t = \\exp(\\mu + \\sigma Z_t)\n",
    "$$\n",
    "\n",
    "where $ \\mu $ and $ \\sigma $ are parameters and $ \\{Z_t\\} $ is IID\n",
    "and standard normal.\n",
    "\n",
    "Here’s a `namedtuple` that stores parameters."
   ]
  },
  {
   "cell_type": "code",
   "execution_count": null,
   "id": "27f3b6d3",
   "metadata": {},
   "outputs": [],
   "source": [
    "Parameters = namedtuple('Parameters', ['s', 'S', 'μ', 'σ'])\n",
    "\n",
    "# Create a default instance\n",
    "params = Parameters(s=10, S=100, μ=1.0, σ=0.5)"
   ]
  },
  {
   "cell_type": "code",
   "execution_count": null,
   "id": "115a960f",
   "metadata": {},
   "outputs": [],
   "source": [
    "\n",
    "def update(params, x):\n",
    "    \"Update the state from t to t+1 given current state x.\"\n",
    "    Z = np.random.randn()\n",
    "    D = np.exp(params.μ + params.σ * Z)\n",
    "    if x <= params.s:\n",
    "        return max(params.S - D, 0)\n",
    "    else:\n",
    "        return max(x - D, 0)\n",
    "\n",
    "def sim_inventory_path(x_init, sim_length):\n",
    "\n",
    "    X = np.empty(sim_length)\n",
    "    X[0] = x_init\n",
    "\n",
    "    for t in range(sim_length-1):\n",
    "        X[t+1] = update(params, X[t])\n",
    "    return X\n",
    "\n",
    "s, S = params.s, params.S\n",
    "sim_length = 100\n",
    "x_init = 50\n",
    "\n",
    "X = sim_inventory_path(x_init, sim_length)\n",
    "\n",
    "fig, ax = plt.subplots()\n",
    "bbox = (0., 1.02, 1., .102)\n",
    "legend_args = {'ncol': 3,\n",
    "               'bbox_to_anchor': bbox,\n",
    "               'loc': 3,\n",
    "               'mode': 'expand'}\n",
    "\n",
    "ax.plot(X, label=\"inventory\")\n",
    "ax.plot(np.full(sim_length, s), 'k--', label=\"$s$\")\n",
    "ax.plot(np.full(sim_length, S), 'k-', label=\"$S$\")\n",
    "ax.set_ylim(0, S+10)\n",
    "ax.set_xlabel(\"time\")\n",
    "ax.legend(**legend_args)\n",
    "\n",
    "plt.show()"
   ]
  },
  {
   "cell_type": "markdown",
   "id": "97f165d8",
   "metadata": {},
   "source": [
    "## Cross-sectional distributions\n",
    "\n",
    "Now let’s look at the marginal distribution $ \\psi_T $ of $ X_T $ for some fixed $ T $.\n",
    "\n",
    "The probability distribution $ \\psi_T $ is the time $ T $ distribution of firm\n",
    "inventory levels implied by the model.\n",
    "\n",
    "We will approximate this distribution by\n",
    "\n",
    "1. fixing $ n $ to be some large number, indicating the number of firms in the\n",
    "  simulation,  \n",
    "1. fixing $ T $, the time period we are interested in,  \n",
    "1. generating $ n $ independent draws from some fixed distribution $ \\psi_0 $ that gives the\n",
    "  initial cross-section of inventories for the $ n $ firms, and  \n",
    "1. shifting this distribution forward in time $ T $ periods, updating each firm\n",
    "  $ T $ times via the dynamics described above (independent of other firms).  \n",
    "\n",
    "\n",
    "We will then visualize $ \\psi_T $ by histogramming the cross-section.\n",
    "\n",
    "We will use the following code to update the cross-section of firms by one period."
   ]
  },
  {
   "cell_type": "code",
   "execution_count": null,
   "id": "7637ca90",
   "metadata": {},
   "outputs": [],
   "source": [
    "def update_cross_section(params, X_vec, D):\n",
    "    \"\"\"\n",
    "    Update by one period a cross-section of firms with inventory levels given by\n",
    "    X_vec, given the vector of demand shocks in D.\n",
    "\n",
    "       * D[i] is the demand shock for firm i with current inventory X_vec[i]\n",
    "\n",
    "    \"\"\"\n",
    "    # Unpack\n",
    "    s, S = params.s, params.S\n",
    "    # Restock if the inventory is below the threshold\n",
    "    X_new = np.where(\n",
    "        X_vec <= s, np.maximum(S - D, 0), np.maximum(X_vec - D, 0))\n",
    "    return X_new"
   ]
  },
  {
   "cell_type": "markdown",
   "id": "ca8b86c4",
   "metadata": {},
   "source": [
    "### Shifting the cross-section\n",
    "\n",
    "Now we provide code to compute the cross-sectional distribution $ \\psi_T $ given some\n",
    "initial distribution $ \\psi_0 $ and a positive integer $ T $.\n",
    "\n",
    "In the code below, the initial distribution $ \\psi_0 $ takes all firms to have\n",
    "initial inventory `x_init`."
   ]
  },
  {
   "cell_type": "code",
   "execution_count": null,
   "id": "d7aa770a",
   "metadata": {},
   "outputs": [],
   "source": [
    "def compute_cross_section(params, x_init, T, num_firms=50_000):\n",
    "    # Set up initial distribution\n",
    "    X_vec = np.full(num_firms, x_init)\n",
    "    # Loop\n",
    "    for i in range(T):\n",
    "        Z = np.random.randn(num_firms)\n",
    "        D = np.exp(params.μ + params.σ * Z)\n",
    "\n",
    "        X_vec = update_cross_section(params, X_vec, D)\n",
    "\n",
    "    return X_vec"
   ]
  },
  {
   "cell_type": "markdown",
   "id": "87a915b7",
   "metadata": {},
   "source": [
    "We’ll use the following specification"
   ]
  },
  {
   "cell_type": "code",
   "execution_count": null,
   "id": "89ee32fd",
   "metadata": {},
   "outputs": [],
   "source": [
    "x_init = 50\n",
    "T = 500"
   ]
  },
  {
   "cell_type": "markdown",
   "id": "70e78b8e",
   "metadata": {},
   "source": [
    "Let’s look at the timing."
   ]
  },
  {
   "cell_type": "code",
   "execution_count": null,
   "id": "68e71d7b",
   "metadata": {},
   "outputs": [],
   "source": [
    "X_vec = compute_cross_section(params, x_init, T)"
   ]
  },
  {
   "cell_type": "markdown",
   "id": "7decce89",
   "metadata": {},
   "source": [
    "Here’s a histogram of inventory levels at time $ T $."
   ]
  },
  {
   "cell_type": "code",
   "execution_count": null,
   "id": "708a8d23",
   "metadata": {},
   "outputs": [],
   "source": [
    "fig, ax = plt.subplots()\n",
    "ax.hist(X_vec, bins=50, \n",
    "        density=True, \n",
    "        histtype='step', \n",
    "        label=f'cross-section when $t = {T}$')\n",
    "ax.set_xlabel('inventory')\n",
    "ax.set_ylabel('probability')\n",
    "ax.legend()\n",
    "plt.show()"
   ]
  },
  {
   "cell_type": "markdown",
   "id": "b5b4a404",
   "metadata": {},
   "source": [
    "## Distribution dynamics\n",
    "\n",
    "Next let’s take a look at how the distribution sequence evolves over time.\n",
    "\n",
    "We will go back to using ordinary Python `for` loops.\n",
    "\n",
    "Here is code that repeatedly shifts the cross-section forward while\n",
    "recording the cross-section at the dates in `sample_dates`."
   ]
  },
  {
   "cell_type": "code",
   "execution_count": null,
   "id": "2e7b4ebc",
   "metadata": {},
   "outputs": [],
   "source": [
    "def shift_forward_and_sample(x_init, params, sample_dates,\n",
    "                             num_firms=50_000, sim_length=750):\n",
    "\n",
    "    X = np.full((num_firms, ), x_init)\n",
    "    X_samples = []\n",
    "    # Use for loop to update X and collect samples\n",
    "    for i in range(sim_length):\n",
    "        if i in sample_dates:\n",
    "            X_samples.append(X)\n",
    "        Z = np.random.randn(num_firms)\n",
    "        D = np.exp(params.μ + params.σ * Z)\n",
    "        X = update_cross_section(params, X, D)\n",
    "\n",
    "    return X_samples"
   ]
  },
  {
   "cell_type": "markdown",
   "id": "6ba92f0e",
   "metadata": {},
   "source": [
    "Let’s test it"
   ]
  },
  {
   "cell_type": "code",
   "execution_count": null,
   "id": "e5337e9a",
   "metadata": {},
   "outputs": [],
   "source": [
    "x_init = 50\n",
    "num_firms = 10_000\n",
    "sample_dates = 10, 50, 250, 500, 750\n",
    "\n",
    "X_samples = shift_forward_and_sample(x_init, params, sample_dates)"
   ]
  },
  {
   "cell_type": "markdown",
   "id": "017971a8",
   "metadata": {},
   "source": [
    "Let’s plot the output."
   ]
  },
  {
   "cell_type": "code",
   "execution_count": null,
   "id": "72612052",
   "metadata": {},
   "outputs": [],
   "source": [
    "fig, ax = plt.subplots()\n",
    "\n",
    "for i, date in enumerate(sample_dates):\n",
    "    ax.hist(X_samples, bins=50, \n",
    "            density=True, \n",
    "            histtype='step',\n",
    "            label=f'cross-section when $t = {date}$')\n",
    "\n",
    "ax.set_xlabel('inventory')\n",
    "ax.set_ylabel('probability')\n",
    "ax.legend()\n",
    "plt.show()"
   ]
  },
  {
   "cell_type": "markdown",
   "id": "178c9618",
   "metadata": {},
   "source": [
    "This model for inventory dynamics is asymptotically stationary, with a unique\n",
    "stationary distribution.\n",
    "\n",
    "In particular, the sequence of marginal distributions $ \\{\\psi_t\\} $\n",
    "converges to a unique limiting distribution that does not depend on\n",
    "initial conditions.\n",
    "\n",
    "Although we will not prove this here, we can see it in the simulation above.\n",
    "\n",
    "By $ t=500 $ or $ t=750 $ the distributions are barely changing.\n",
    "\n",
    "If you test a few different initial conditions, you will see that they do not affect long-run outcomes."
   ]
  },
  {
   "cell_type": "markdown",
   "id": "9446cd0f",
   "metadata": {},
   "source": [
    "## Restock frequency\n",
    "\n",
    "As an exercise, let’s study the probability that firms need to restock over a given time period.\n",
    "\n",
    "In the exercise, we will\n",
    "\n",
    "- set the starting stock level to $ X_0 = 70 $ and  \n",
    "- calculate the proportion of firms that need to order twice or more in the first 50 periods.  \n",
    "\n",
    "\n",
    "This proportion approximates the probability of the event when the sample size\n",
    "is large."
   ]
  },
  {
   "cell_type": "code",
   "execution_count": null,
   "id": "499f3d52",
   "metadata": {},
   "outputs": [],
   "source": [
    "def update_stock(n_restock, X, params, D):\n",
    "    n_restock = np.where(X <= params.s,\n",
    "                          n_restock + 1,\n",
    "                          n_restock)\n",
    "    X = np.where(X <= params.s,\n",
    "                  np.maximum(params.S - D, 0),\n",
    "                  np.maximum(X - D, 0))\n",
    "    return n_restock, X\n",
    "\n",
    "def compute_freq(params,\n",
    "                 x_init=70,\n",
    "                 sim_length=50,\n",
    "                 num_firms=1_000_000):\n",
    "\n",
    "    # Prepare initial arrays\n",
    "    X = np.full((num_firms, ), x_init)\n",
    "\n",
    "    # Stack the restock counter on top of the inventory\n",
    "    n_restock = np.zeros((num_firms, ))\n",
    "\n",
    "    # Use a for loop to perform the calculations on all states\n",
    "    for i in range(sim_length):\n",
    "        Z = np.random.randn(num_firms)\n",
    "        D = np.exp(params.μ + params.σ * Z)\n",
    "        n_restock, X = update_stock(\n",
    "            n_restock, X, params, D)\n",
    "\n",
    "    return np.mean(n_restock > 1, axis=0)"
   ]
  },
  {
   "cell_type": "code",
   "execution_count": null,
   "id": "b2b94d0c",
   "metadata": {},
   "outputs": [],
   "source": [
    "freq = compute_freq(params)\n",
    "print(f\"Frequency of at least two stock outs = {freq}\")"
   ]
  },
  {
   "cell_type": "code",
   "execution_count": null,
   "id": "71f48bb6",
   "metadata": {},
   "outputs": [],
   "source": []
  }
 ],
 "metadata": {
  "kernelspec": {
   "display_name": "Python 3 (ipykernel)",
   "language": "python",
   "name": "python3"
  }
 },
 "nbformat": 4,
 "nbformat_minor": 5
}
