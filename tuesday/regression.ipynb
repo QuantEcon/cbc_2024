{
 "cells": [
  {
   "cell_type": "markdown",
   "id": "d5c6ae7b",
   "metadata": {},
   "source": [
    "# Linear Regression with Python\n",
    "\n",
    "----\n",
    "\n",
    "#### John Stachurski\n",
    "#### Prepared for the CBC Computational Workshop (May 2024)\n",
    "\n",
    "----"
   ]
  },
  {
   "cell_type": "markdown",
   "id": "c551e0c8",
   "metadata": {},
   "source": [
    "Let's have a very quick look at linear regression in Python.\n",
    "\n",
    "We'll also show how to download some data from [FRED](https://fred.stlouisfed.org/)."
   ]
  },
  {
   "cell_type": "markdown",
   "id": "15a8637a",
   "metadata": {},
   "source": [
    "Uncomment the next line if you don't have this library installed:"
   ]
  },
  {
   "cell_type": "code",
   "execution_count": null,
   "id": "05291030",
   "metadata": {},
   "outputs": [],
   "source": [
    "#!pip install pandas_datareader"
   ]
  },
  {
   "cell_type": "markdown",
   "id": "db38fc85",
   "metadata": {},
   "source": [
    "Let's do some imports."
   ]
  },
  {
   "cell_type": "code",
   "execution_count": null,
   "id": "7cce1535",
   "metadata": {},
   "outputs": [],
   "source": [
    "import pandas_datareader.data as web\n",
    "import datetime\n",
    "import matplotlib.pyplot as plt\n",
    "import plotly.express as px\n",
    "import statsmodels.api as sm\n",
    "import statsmodels.formula.api as smf"
   ]
  },
  {
   "cell_type": "markdown",
   "id": "7f2b4320",
   "metadata": {},
   "source": [
    "We use the `datetime` module from the standard library to pick start dates and end dates."
   ]
  },
  {
   "cell_type": "code",
   "execution_count": null,
   "id": "9bc25e73",
   "metadata": {},
   "outputs": [],
   "source": [
    "start = datetime.datetime(1947, 1, 1)\n",
    "end = datetime.datetime(2019, 12, 1)"
   ]
  },
  {
   "cell_type": "markdown",
   "id": "9d25208e",
   "metadata": {},
   "source": [
    "Now let's read in data on GDP and unemployment from FRED."
   ]
  },
  {
   "cell_type": "code",
   "execution_count": null,
   "id": "f912e678",
   "metadata": {},
   "outputs": [],
   "source": [
    "data = web.DataReader(('GDP', 'UNRATE'), 'fred', start, end)"
   ]
  },
  {
   "cell_type": "markdown",
   "id": "d726a124",
   "metadata": {},
   "source": [
    "Data is read in as a `pandas` dataframe."
   ]
  },
  {
   "cell_type": "code",
   "execution_count": null,
   "id": "a99871bd",
   "metadata": {},
   "outputs": [],
   "source": [
    "type(data)"
   ]
  },
  {
   "cell_type": "code",
   "execution_count": null,
   "id": "a553b600",
   "metadata": {},
   "outputs": [],
   "source": [
    "data = data.dropna()\n",
    "data"
   ]
  },
  {
   "cell_type": "markdown",
   "id": "b5e9b8b8",
   "metadata": {},
   "source": [
    "We'll convert both series into rates of change."
   ]
  },
  {
   "cell_type": "code",
   "execution_count": null,
   "id": "61cdf1f0",
   "metadata": {},
   "outputs": [],
   "source": [
    "data = data.pct_change() * 100\n",
    "data = data.reset_index().dropna()\n",
    "data"
   ]
  },
  {
   "cell_type": "markdown",
   "id": "96a29917",
   "metadata": {},
   "source": [
    "Let's have a look at our data.\n",
    "\n",
    "Notice in the code below that Matplotlib plays well with pandas."
   ]
  },
  {
   "cell_type": "code",
   "execution_count": null,
   "id": "560e395c",
   "metadata": {},
   "outputs": [],
   "source": [
    "fig, ax = plt.subplots()\n",
    "ax.scatter(x='UNRATE', y='GDP', data=data, color='k', alpha=0.5)\n",
    "ax.set_xlabel('% change in unemployment rate')\n",
    "ax.set_ylabel('% change in GDP')\n",
    "plt.show()"
   ]
  },
  {
   "cell_type": "markdown",
   "id": "36df39cf",
   "metadata": {},
   "source": [
    "If you want an interactive graph, you can use Plotly instead:"
   ]
  },
  {
   "cell_type": "code",
   "execution_count": null,
   "id": "97b9ccc1",
   "metadata": {},
   "outputs": [],
   "source": [
    "fig = px.scatter(data, x='UNRATE', y='GDP')\n",
    "fig.update_layout(\n",
    "    showlegend=False,\n",
    "    autosize=False,\n",
    "    width=600,\n",
    "    height=400,\n",
    ")\n",
    "\n",
    "fig.show()"
   ]
  },
  {
   "cell_type": "markdown",
   "id": "8c4e27c2",
   "metadata": {},
   "source": [
    "Let's fit a regression line, which can be used to measure [Okun's law](https://en.wikipedia.org/wiki/Okun%27s_law).\n",
    "\n",
    "To do so we'll use [Statsmodels](https://www.statsmodels.org/stable/index.html)."
   ]
  },
  {
   "cell_type": "code",
   "execution_count": null,
   "id": "f173f5bd",
   "metadata": {},
   "outputs": [],
   "source": [
    "model = smf.ols(formula='GDP ~ UNRATE', data=data)\n",
    "ols = model.fit()"
   ]
  },
  {
   "cell_type": "code",
   "execution_count": null,
   "id": "39f6121f",
   "metadata": {},
   "outputs": [],
   "source": [
    "ols.summary()"
   ]
  },
  {
   "cell_type": "code",
   "execution_count": null,
   "id": "7457a945",
   "metadata": {},
   "outputs": [],
   "source": [
    "ols.params"
   ]
  },
  {
   "cell_type": "code",
   "execution_count": null,
   "id": "2686d8d8",
   "metadata": {},
   "outputs": [],
   "source": [
    "X = data['UNRATE']\n",
    "fig, ax = plt.subplots()\n",
    "plt.scatter(x='UNRATE', y='GDP', data=data, color='k', alpha=0.5)\n",
    "plt.plot(X, ols.fittedvalues, label='OLS')\n",
    "ax.set_xlabel('% change in unemployment rate')\n",
    "ax.set_ylabel('% change in GDP')\n",
    "plt.legend()\n",
    "plt.show()"
   ]
  },
  {
   "cell_type": "markdown",
   "id": "e99c2d9e",
   "metadata": {},
   "source": [
    "Next let's try using least absolute deviations, which means that we minimize\n",
    "\n",
    "$$\n",
    "\\ell(\\alpha, \\beta) = \\sum_{i=1}^n |y_i - (\\alpha x_i + \\beta_i)|\n",
    "$$\n",
    "\n",
    "over parameters $\\alpha, \\beta$.\n",
    "\n",
    "This is a special case of quantile regression when the quantile is the median (0.5)."
   ]
  },
  {
   "cell_type": "code",
   "execution_count": null,
   "id": "1226fd0c",
   "metadata": {},
   "outputs": [],
   "source": [
    "mod = smf.quantreg(formula=\"GDP ~ UNRATE\", data=data)\n",
    "lad = mod.fit(q=0.5)   # LAD model is a special case of quantile regression when q = 0.5"
   ]
  },
  {
   "cell_type": "code",
   "execution_count": null,
   "id": "163e6754",
   "metadata": {},
   "outputs": [],
   "source": [
    "lad.summary()"
   ]
  },
  {
   "cell_type": "code",
   "execution_count": null,
   "id": "ec35f91d",
   "metadata": {},
   "outputs": [],
   "source": [
    "lad.params"
   ]
  },
  {
   "cell_type": "markdown",
   "id": "e9578c5a",
   "metadata": {},
   "source": [
    "Let's compare the LAD regression line to the least squares regression line."
   ]
  },
  {
   "cell_type": "code",
   "execution_count": null,
   "id": "0ef466da",
   "metadata": {},
   "outputs": [],
   "source": [
    "fig, ax = plt.subplots()\n",
    "plt.scatter(x='UNRATE', y='GDP', data=data, color='k', alpha=0.5)\n",
    "plt.plot(X, ols.fittedvalues, label='OLS')\n",
    "plt.plot(X, lad.fittedvalues, label='LAD')\n",
    "ax.set_xlabel('% change in unemployment rate')\n",
    "ax.set_ylabel('% change in GDP')\n",
    "plt.legend()\n",
    "plt.show()"
   ]
  },
  {
   "cell_type": "code",
   "execution_count": null,
   "id": "006a51fd",
   "metadata": {},
   "outputs": [],
   "source": []
  },
  {
   "cell_type": "code",
   "execution_count": null,
   "id": "35af9c7d",
   "metadata": {},
   "outputs": [],
   "source": []
  }
 ],
 "metadata": {
  "kernelspec": {
   "display_name": "Python 3 (ipykernel)",
   "language": "python",
   "name": "python3"
  }
 },
 "nbformat": 4,
 "nbformat_minor": 5
}
