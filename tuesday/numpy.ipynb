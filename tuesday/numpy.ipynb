{
 "cells": [
  {
   "cell_type": "markdown",
   "id": "ef6a0a1e",
   "metadata": {},
   "source": [
    "# Vectorization and Array Operations with NumPy\n",
    "\n",
    "### Written for the CBC Workshop (May 2024)\n",
    "\n",
    "#### John Stachurski"
   ]
  },
  {
   "cell_type": "markdown",
   "id": "8886a5d7",
   "metadata": {},
   "source": [
    "This notebook contains a very quick introduction to NumPy.\n",
    "\n",
    "We use the following imports"
   ]
  },
  {
   "cell_type": "code",
   "execution_count": null,
   "id": "7aafb7fb",
   "metadata": {},
   "outputs": [],
   "source": [
    "import numpy as np\n",
    "import matplotlib.pyplot as plt"
   ]
  },
  {
   "cell_type": "markdown",
   "id": "f8ac3ab0",
   "metadata": {},
   "source": [
    "## NumPy arrays\n",
    "\n",
    "Let's review the basics of NumPy arrays.\n",
    "\n",
    "### Creating arrays\n",
    "\n",
    "Here are a few ways to create arrays:"
   ]
  },
  {
   "cell_type": "code",
   "execution_count": null,
   "id": "d15d6dd1",
   "metadata": {},
   "outputs": [],
   "source": [
    "a = np.array((10.0, 20.0))\n",
    "a"
   ]
  },
  {
   "cell_type": "code",
   "execution_count": null,
   "id": "def78534",
   "metadata": {},
   "outputs": [],
   "source": [
    "a = np.array((10, 20), dtype='float64')\n",
    "a"
   ]
  },
  {
   "cell_type": "code",
   "execution_count": null,
   "id": "b42e0b6d",
   "metadata": {},
   "outputs": [],
   "source": [
    "a = np.linspace(0, 10, 5)\n",
    "a"
   ]
  },
  {
   "cell_type": "code",
   "execution_count": null,
   "id": "b12079fa",
   "metadata": {},
   "outputs": [],
   "source": [
    "a = np.ones(3)\n",
    "a"
   ]
  },
  {
   "cell_type": "code",
   "execution_count": null,
   "id": "39919b63",
   "metadata": {},
   "outputs": [],
   "source": [
    "a = np.zeros(3)"
   ]
  },
  {
   "cell_type": "code",
   "execution_count": null,
   "id": "4a300d5f",
   "metadata": {},
   "outputs": [],
   "source": [
    "a = np.random.randn(4)\n",
    "a"
   ]
  },
  {
   "cell_type": "code",
   "execution_count": null,
   "id": "cdcb3e86",
   "metadata": {},
   "outputs": [],
   "source": [
    "a = np.random.randn(2, 2)\n",
    "a"
   ]
  },
  {
   "cell_type": "code",
   "execution_count": null,
   "id": "1ec984b6",
   "metadata": {},
   "outputs": [],
   "source": [
    "b = np.zeros_like(a)\n",
    "b"
   ]
  },
  {
   "cell_type": "markdown",
   "id": "7223ebda",
   "metadata": {},
   "source": [
    "### Reshaping"
   ]
  },
  {
   "cell_type": "code",
   "execution_count": null,
   "id": "52f68589",
   "metadata": {},
   "outputs": [],
   "source": [
    "a = np.random.randn(2, 2)\n",
    "a"
   ]
  },
  {
   "cell_type": "code",
   "execution_count": null,
   "id": "630e134a",
   "metadata": {},
   "outputs": [],
   "source": [
    "a.shape"
   ]
  },
  {
   "cell_type": "code",
   "execution_count": null,
   "id": "4bf81eae",
   "metadata": {},
   "outputs": [],
   "source": [
    "np.reshape(a, (1, 4))"
   ]
  },
  {
   "cell_type": "code",
   "execution_count": null,
   "id": "fc7a4fad",
   "metadata": {},
   "outputs": [],
   "source": [
    "np.reshape(a, (4, 1))"
   ]
  },
  {
   "cell_type": "markdown",
   "id": "1ea85e6c",
   "metadata": {},
   "source": [
    "### Array operations"
   ]
  },
  {
   "cell_type": "markdown",
   "id": "4d238eb2",
   "metadata": {},
   "source": [
    "Standard arithmetic operators are pointwise:"
   ]
  },
  {
   "cell_type": "code",
   "execution_count": null,
   "id": "168c168f",
   "metadata": {},
   "outputs": [],
   "source": [
    "a + b"
   ]
  },
  {
   "cell_type": "code",
   "execution_count": null,
   "id": "93e4caee",
   "metadata": {},
   "outputs": [],
   "source": [
    "a * b  # pointwise multiplication"
   ]
  },
  {
   "cell_type": "markdown",
   "id": "346c1afd",
   "metadata": {},
   "source": [
    "To do matrix multiplication we use `@`, as in"
   ]
  },
  {
   "cell_type": "code",
   "execution_count": null,
   "id": "4c7c8572",
   "metadata": {},
   "outputs": [],
   "source": [
    "a @ b"
   ]
  },
  {
   "cell_type": "markdown",
   "id": "fc963ad2",
   "metadata": {},
   "source": [
    "There are various functions for acting on arrays, such as"
   ]
  },
  {
   "cell_type": "code",
   "execution_count": null,
   "id": "674a5d71",
   "metadata": {},
   "outputs": [],
   "source": [
    "np.mean(a)"
   ]
  },
  {
   "cell_type": "markdown",
   "id": "f8fc6fe0",
   "metadata": {},
   "source": [
    "These operations have an equivalent OOP syntax, as in"
   ]
  },
  {
   "cell_type": "code",
   "execution_count": null,
   "id": "ebfcce87",
   "metadata": {},
   "outputs": [],
   "source": [
    "a.mean()"
   ]
  },
  {
   "cell_type": "markdown",
   "id": "87759c6a",
   "metadata": {},
   "source": [
    "### Broadcasting"
   ]
  },
  {
   "cell_type": "markdown",
   "id": "17b03ce2",
   "metadata": {},
   "source": [
    "When possible, arrays are \"streched\" across missing dimensions to perform array operations.\n",
    "\n",
    "For example,"
   ]
  },
  {
   "cell_type": "code",
   "execution_count": null,
   "id": "c818b855",
   "metadata": {},
   "outputs": [],
   "source": [
    "a = np.zeros((3, 3))\n",
    "a"
   ]
  },
  {
   "cell_type": "code",
   "execution_count": null,
   "id": "94b3b31a",
   "metadata": {},
   "outputs": [],
   "source": [
    "b = np.array((1.0, 2.0, 3.0))\n",
    "b = np.reshape(b, (1, 3))\n",
    "b"
   ]
  },
  {
   "cell_type": "code",
   "execution_count": null,
   "id": "cdbe633a",
   "metadata": {},
   "outputs": [],
   "source": [
    "a + b"
   ]
  },
  {
   "cell_type": "code",
   "execution_count": null,
   "id": "a7e48cb7",
   "metadata": {},
   "outputs": [],
   "source": [
    "b = np.reshape(b, (3, 1))\n",
    "b"
   ]
  },
  {
   "cell_type": "code",
   "execution_count": null,
   "id": "bf911ded",
   "metadata": {},
   "outputs": [],
   "source": [
    "a + b"
   ]
  },
  {
   "cell_type": "markdown",
   "id": "4fb5cc3f",
   "metadata": {},
   "source": [
    "For more on broadcasting see [this tutorial](https://jakevdp.github.io/PythonDataScienceHandbook/02.05-computation-on-arrays-broadcasting.html)."
   ]
  },
  {
   "cell_type": "markdown",
   "id": "91a206ce",
   "metadata": {},
   "source": [
    "### Ufuncs"
   ]
  },
  {
   "cell_type": "markdown",
   "id": "2a47c62d",
   "metadata": {},
   "source": [
    "Many NumPy functions can act on either scalars or arrays.\n",
    "\n",
    "When they act on arrays, they act pointwise.\n",
    "\n",
    "These kinds of functions are called `universal functions` or `ufuncs`."
   ]
  },
  {
   "cell_type": "code",
   "execution_count": null,
   "id": "115f03c8",
   "metadata": {},
   "outputs": [],
   "source": [
    "np.cos(1.0)"
   ]
  },
  {
   "cell_type": "code",
   "execution_count": null,
   "id": "35418329",
   "metadata": {},
   "outputs": [],
   "source": [
    "np.cos(np.pi)"
   ]
  },
  {
   "cell_type": "code",
   "execution_count": null,
   "id": "9ea4df18",
   "metadata": {},
   "outputs": [],
   "source": [
    "a = np.random.randn(3, 3)"
   ]
  },
  {
   "cell_type": "code",
   "execution_count": null,
   "id": "0d7e6799",
   "metadata": {},
   "outputs": [],
   "source": [
    "np.cos(a)"
   ]
  },
  {
   "cell_type": "markdown",
   "id": "50fe8348",
   "metadata": {},
   "source": [
    "Some user-defined functions will be ufuncs, such as"
   ]
  },
  {
   "cell_type": "code",
   "execution_count": null,
   "id": "fb351dc7",
   "metadata": {},
   "outputs": [],
   "source": [
    "def f(x):\n",
    "    return np.cos(np.sin(x))"
   ]
  },
  {
   "cell_type": "code",
   "execution_count": null,
   "id": "ae1241e8",
   "metadata": {},
   "outputs": [],
   "source": [
    "f(a)"
   ]
  },
  {
   "cell_type": "markdown",
   "id": "83aa06a0",
   "metadata": {},
   "source": [
    "But some are not:"
   ]
  },
  {
   "cell_type": "code",
   "execution_count": null,
   "id": "6a5f9ba6",
   "metadata": {},
   "outputs": [],
   "source": [
    "def f(x):\n",
    "    if x < 0:\n",
    "        return np.cos(x)\n",
    "    else:\n",
    "        return np.sin(x)"
   ]
  },
  {
   "cell_type": "code",
   "execution_count": null,
   "id": "39832faf",
   "metadata": {},
   "outputs": [],
   "source": [
    "f(a)"
   ]
  },
  {
   "cell_type": "markdown",
   "id": "3488098c",
   "metadata": {},
   "source": [
    "If we want to turn this into a vectorized function we can use `np.vectorize`"
   ]
  },
  {
   "cell_type": "code",
   "execution_count": null,
   "id": "9e208293",
   "metadata": {},
   "outputs": [],
   "source": [
    "f_vec = np.vectorize(f)"
   ]
  },
  {
   "cell_type": "markdown",
   "id": "84ea31b3",
   "metadata": {},
   "source": [
    "Let's test it, and also time it."
   ]
  },
  {
   "cell_type": "code",
   "execution_count": null,
   "id": "361ae569",
   "metadata": {},
   "outputs": [],
   "source": [
    "a = np.linspace(0, 1, 10_000_000)\n",
    "%time f_vec(a)"
   ]
  },
  {
   "cell_type": "markdown",
   "id": "bd825d90",
   "metadata": {},
   "source": [
    "This is pretty slow.\n",
    "\n",
    "Here's a version of `f` that uses NumPy functions to create a more efficient ufunc."
   ]
  },
  {
   "cell_type": "code",
   "execution_count": null,
   "id": "0b6c1a3c",
   "metadata": {},
   "outputs": [],
   "source": [
    "def f(x):\n",
    "    return np.where(x < 0, np.cos(x), np.sin(x))"
   ]
  },
  {
   "cell_type": "code",
   "execution_count": null,
   "id": "b325efdd",
   "metadata": {},
   "outputs": [],
   "source": [
    "%time f(a)"
   ]
  },
  {
   "cell_type": "markdown",
   "id": "4bd3bed8",
   "metadata": {},
   "source": [
    "### Mutability"
   ]
  },
  {
   "cell_type": "markdown",
   "id": "8cb29507",
   "metadata": {},
   "source": [
    "NumPy arrays are mutable (can be altered in memory by any name bound to them)."
   ]
  },
  {
   "cell_type": "code",
   "execution_count": null,
   "id": "d82b8d4b",
   "metadata": {},
   "outputs": [],
   "source": [
    "a = np.array((10.0, 20.0))\n",
    "a"
   ]
  },
  {
   "cell_type": "code",
   "execution_count": null,
   "id": "90d1a0fe",
   "metadata": {},
   "outputs": [],
   "source": [
    "a[0] = 1"
   ]
  },
  {
   "cell_type": "code",
   "execution_count": null,
   "id": "e6af0dea",
   "metadata": {},
   "outputs": [],
   "source": [
    "a"
   ]
  },
  {
   "cell_type": "code",
   "execution_count": null,
   "id": "f207ac36",
   "metadata": {},
   "outputs": [],
   "source": [
    "a[:] = 42"
   ]
  },
  {
   "cell_type": "code",
   "execution_count": null,
   "id": "b6026b90",
   "metadata": {},
   "outputs": [],
   "source": [
    "a"
   ]
  },
  {
   "cell_type": "markdown",
   "id": "6c8c7a1a",
   "metadata": {},
   "source": [
    "Note that any name bound to an array can be used to mutate it."
   ]
  },
  {
   "cell_type": "code",
   "execution_count": null,
   "id": "3d19c1e9",
   "metadata": {},
   "outputs": [],
   "source": [
    "a"
   ]
  },
  {
   "cell_type": "code",
   "execution_count": null,
   "id": "148a2817",
   "metadata": {},
   "outputs": [],
   "source": [
    "b = a  # bind the name b to the same array object"
   ]
  },
  {
   "cell_type": "code",
   "execution_count": null,
   "id": "0a6fca25",
   "metadata": {},
   "outputs": [],
   "source": [
    "id(a)"
   ]
  },
  {
   "cell_type": "code",
   "execution_count": null,
   "id": "75ee2e63",
   "metadata": {},
   "outputs": [],
   "source": [
    "id(b)"
   ]
  },
  {
   "cell_type": "code",
   "execution_count": null,
   "id": "0dfd522c",
   "metadata": {},
   "outputs": [],
   "source": [
    "b[0] = 1_000"
   ]
  },
  {
   "cell_type": "code",
   "execution_count": null,
   "id": "29442fe5",
   "metadata": {},
   "outputs": [],
   "source": [
    "b"
   ]
  },
  {
   "cell_type": "code",
   "execution_count": null,
   "id": "9c9368bf",
   "metadata": {},
   "outputs": [],
   "source": [
    "a"
   ]
  },
  {
   "cell_type": "markdown",
   "id": "7bc775f5",
   "metadata": {},
   "source": [
    "## Vectorizing loops"
   ]
  },
  {
   "cell_type": "markdown",
   "id": "3b07417d",
   "metadata": {},
   "source": [
    "### Accelerating slow loops\n",
    "\n",
    "In scripting languages, native loops are slow:"
   ]
  },
  {
   "cell_type": "code",
   "execution_count": null,
   "id": "0cc018d2",
   "metadata": {},
   "outputs": [],
   "source": [
    "n = 10_000_000\n",
    "x_vec = np.linspace(0.1, 1.1, n)"
   ]
  },
  {
   "cell_type": "markdown",
   "id": "c6c69cc9",
   "metadata": {},
   "source": [
    "Let's say we want to compute the sum of of $\\cos(2\\pi / x)$ over $x$ in"
   ]
  },
  {
   "cell_type": "code",
   "execution_count": null,
   "id": "6596f741",
   "metadata": {},
   "outputs": [],
   "source": [
    "%%time\n",
    "current_sum = 0.0\n",
    "for x in x_vec:\n",
    "    current_sum += np.cos(2 * np.pi / x)"
   ]
  },
  {
   "cell_type": "markdown",
   "id": "cec8b0c3",
   "metadata": {},
   "source": [
    "The reason is that Python, like most high level languages is dynamically typed.\n",
    "\n",
    "This means that the type of a variable can freely change.\n",
    "\n",
    "Moreover, the interpreter doesn't compile the whole program at once, so it doesn't know when types will change.\n",
    "\n",
    "So the interpreter has to check the type of variables before any operation like addition, comparison, etc.\n",
    "\n",
    "Hence there's a lot of fixed cost for each such operation"
   ]
  },
  {
   "cell_type": "markdown",
   "id": "2586f532",
   "metadata": {},
   "source": [
    "The code runs much faster if we use **vectorized** expressions to avoid explicit loops."
   ]
  },
  {
   "cell_type": "code",
   "execution_count": null,
   "id": "4f0995d7",
   "metadata": {},
   "outputs": [],
   "source": [
    "%%time\n",
    "np.sum(np.cos(2 * np.pi / x_vec))"
   ]
  },
  {
   "cell_type": "markdown",
   "id": "f81f4e46",
   "metadata": {},
   "source": [
    "Now high level overheads are paid per *array* rather than per float or integer."
   ]
  },
  {
   "cell_type": "markdown",
   "id": "68ae54d5",
   "metadata": {},
   "source": [
    "### Implict Multithreading\n",
    "\n",
    "\n",
    "Recent versions of Anaconda are compiled with Intel MKL support, which accelerates NumPy operations.\n",
    "\n",
    "Watch system resources when you run this code.  \n",
    "\n",
    "(For example, install `htop` (Linux / Mac), `perfmon` (Windows) or another system load monitor and set it running in another window.)"
   ]
  },
  {
   "cell_type": "code",
   "execution_count": null,
   "id": "f96f7ba9",
   "metadata": {},
   "outputs": [],
   "source": [
    "n = 20\n",
    "m = 1000\n",
    "for i in range(n):\n",
    "    X = np.random.randn(m, m)\n",
    "    λ = np.linalg.eigvals(X)"
   ]
  },
  {
   "cell_type": "markdown",
   "id": "04377335",
   "metadata": {},
   "source": [
    "You should see all your cores light up.  With MKL, many matrix operations are automatically parallelized."
   ]
  }
 ],
 "metadata": {
  "kernelspec": {
   "display_name": "Python 3 (ipykernel)",
   "language": "python",
   "name": "python3"
  }
 },
 "nbformat": 4,
 "nbformat_minor": 5
}
